{
 "cells": [
  {
   "cell_type": "code",
   "execution_count": 1,
   "metadata": {
    "ExecuteTime": {
     "end_time": "2021-03-26T13:58:16.866224Z",
     "start_time": "2021-03-26T13:58:16.847176Z"
    }
   },
   "outputs": [],
   "source": [
    "%load_ext autoreload\n",
    "%autoreload 2"
   ]
  },
  {
   "cell_type": "code",
   "execution_count": 2,
   "metadata": {
    "ExecuteTime": {
     "end_time": "2021-03-26T13:58:17.260135Z",
     "start_time": "2021-03-26T13:58:17.240315Z"
    }
   },
   "outputs": [],
   "source": [
    "import os\n",
    "import os.path as osp\n",
    "import sys\n",
    "\n",
    "if \"../src\" not in sys.path:\n",
    "    sys.path.insert(0, \"../src\")"
   ]
  },
  {
   "cell_type": "code",
   "execution_count": 3,
   "metadata": {
    "ExecuteTime": {
     "end_time": "2021-03-26T13:58:18.850702Z",
     "start_time": "2021-03-26T13:58:17.709137Z"
    }
   },
   "outputs": [],
   "source": [
    "import numpy as onp\n",
    "\n",
    "import jax\n",
    "from jax import numpy as jnp, random\n",
    "from jax.random import split, PRNGKey\n",
    "\n",
    "import haiku as hk\n",
    "from haiku.data_structures import merge\n",
    "import optax as ox\n",
    "\n",
    "from utils.losses import mean_xe_and_acc_dict\n",
    "from datasets import get_dataset\n",
    "from utils import shuffle_along_axis, use_self_as_default, split_rng_or_none\n",
    "from utils.data.datasets import SimpleDataset, ImageDataset, MetaDataset, MetaDatasetArray"
   ]
  },
  {
   "cell_type": "code",
   "execution_count": 4,
   "metadata": {
    "ExecuteTime": {
     "end_time": "2021-03-26T13:58:22.848682Z",
     "start_time": "2021-03-26T13:58:20.353995Z"
    }
   },
   "outputs": [
    {
     "data": {
      "text/plain": [
       "(array([[[0., 0., 0., 0.],\n",
       "         [4., 4., 4., 4.],\n",
       "         [3., 3., 3., 3.]],\n",
       " \n",
       "        [[3., 3., 3., 3.],\n",
       "         [1., 1., 1., 1.],\n",
       "         [0., 0., 0., 0.]]], dtype=float32),\n",
       " array([[[0, 0, 0, 0],\n",
       "         [4, 4, 4, 4],\n",
       "         [3, 3, 3, 3]],\n",
       " \n",
       "        [[3, 3, 3, 3],\n",
       "         [1, 1, 1, 1],\n",
       "         [0, 0, 0, 0]]]),\n",
       " array([[[0., 0., 0., 0., 0.],\n",
       "         [4., 4., 4., 4., 4.],\n",
       "         [3., 3., 3., 3., 3.]],\n",
       " \n",
       "        [[3., 3., 3., 3., 3.],\n",
       "         [1., 1., 1., 1., 1.],\n",
       "         [0., 0., 0., 0., 0.]]], dtype=float32),\n",
       " array([[[0, 0, 0, 0, 0],\n",
       "         [4, 4, 4, 4, 4],\n",
       "         [3, 3, 3, 3, 3]],\n",
       " \n",
       "        [[3, 3, 3, 3, 3],\n",
       "         [1, 1, 1, 1, 1],\n",
       "         [0, 0, 0, 0, 0]]]),\n",
       " array([[2., 0., 2., 1., 1., 0., 2., 1., 2., 2., 5., 3., 2., 0., 4., 3.,\n",
       "         1., 4., 2., 5., 2., 5., 1., 0., 3.],\n",
       "        [4., 2., 2., 1., 4., 1., 2., 3., 1., 0., 4., 4., 3., 3., 5., 0.,\n",
       "         1., 0., 2., 0., 1., 5., 0., 1., 2.]], dtype=float32),\n",
       " array([[2, 0, 2, 1, 1, 0, 2, 1, 2, 2, 5, 3, 2, 0, 4, 3, 1, 4, 2, 5, 2, 5,\n",
       "         1, 0, 3],\n",
       "        [4, 2, 2, 1, 4, 1, 2, 3, 1, 0, 4, 4, 3, 3, 5, 0, 1, 0, 2, 0, 1, 5,\n",
       "         0, 1, 2]]))"
      ]
     },
     "execution_count": 4,
     "metadata": {},
     "output_type": "execute_result"
    }
   ],
   "source": [
    "did = ImageDataset(onp.arange(6).repeat(20).astype(jnp.float32), onp.arange(6).repeat(20), 1, 0.1)\n",
    "md = MetaDatasetArray(\n",
    "    did,\n",
    "    2, 3, 4, 5, 25, False, False,\n",
    ")\n",
    "sampler = md.get_sampler(PRNGKey(1))\n",
    "next(sampler)"
   ]
  },
  {
   "cell_type": "code",
   "execution_count": 5,
   "metadata": {
    "ExecuteTime": {
     "end_time": "2021-03-26T13:58:28.383891Z",
     "start_time": "2021-03-26T13:58:28.155094Z"
    }
   },
   "outputs": [],
   "source": [
    "trainset = get_dataset(\"omniglot\", \"train\", all=True, train=True, image_size=28)"
   ]
  },
  {
   "cell_type": "code",
   "execution_count": 6,
   "metadata": {
    "ExecuteTime": {
     "end_time": "2021-03-26T13:58:30.153377Z",
     "start_time": "2021-03-26T13:58:28.756629Z"
    }
   },
   "outputs": [],
   "source": [
    "meta_trainset = MetaDatasetArray(trainset, 2, 5, 5, 15, 64)\n",
    "meta_trainset_sampler = meta_trainset.get_sampler(PRNGKey(0))"
   ]
  },
  {
   "cell_type": "code",
   "execution_count": null,
   "metadata": {},
   "outputs": [],
   "source": [
    "class BaseContinualLearner:\n",
    "    def __init__(\n",
    "        apply,\n",
    "        model_class,\n",
    "        params=None,\n",
    "        state=None,\n",
    "        lr=None,\n",
    "        training=True,\n",
    "        init_train_inner_opt_state=ox.sgd(0).init,\n",
    "        init_test_inner_opt_state=ox.adam(0).init,\n",
    "        loss_fn=mean_xe_and_acc_dict,\n",
    "        bmap=True,  # Use hk.BatchApply instead of jax.vmap\n",
    "    ):\n",
    "        # super().__init__(*args, **kwargs)\n",
    "        self.apply = apply\n",
    "        self.model_class = model_class\n",
    "        self.params = params\n",
    "        self.state = state\n",
    "        self.lr = lr\n",
    "        self.training = training\n",
    "        self.init_train_inner_opt_state = init_train_inner_opt_state\n",
    "        self.init_test_inner_opt_state = init_test_inner_opt_state\n",
    "        self.bmap = bmap\n",
    "\n",
    "        self.train_slow_phase = self.model_class.train_slow_phase\n",
    "        self.train_fast_phase = self.model_class.train_fast_phase\n",
    "        self.test_slow_phase = self.model_class.test_slow_phase\n",
    "        self.test_fast_phase = self.model_class.test_fast_phase\n",
    "\n",
    "        self.get_train_sp = self.model_class.get_train_slow_params\n",
    "        self.get_train_fp = self.model_class.get_train_fast_params\n",
    "        self.get_test_sp = self.model_class.get_test_slow_params\n",
    "        self.get_test_sp = self.model_class.get_test_slow_params\n",
    "\n",
    "        self.get_train_ss = self.model_class.get_train_slow_state\n",
    "        self.get_train_fs = self.model_class.get_train_fast_state\n",
    "        self.get_test_ss = self.model_class.get_test_slow_state\n",
    "        self.get_test_ss = self.model_class.get_test_slow_state\n",
    "\n",
    "    def init_inner_opt_state(self, training):\n",
    "        if training:\n",
    "            return self.init_train_inner_opt_state\n",
    "        return self.init_test_inner_opt_state\n",
    "\n",
    "    @use_self_as_default(\"training\")\n",
    "    def get_phases(self, training=None):\n",
    "        if training:\n",
    "            return self.train_slow_phase, self.train_fast_phase\n",
    "        return self.test_slow_phase, self.test_fast_phase\n",
    "    \n",
    "    @use_self_as_default(\"params\", \"state\", \"rng\", \"training\", \"loss_fn\")\n",
    "    def fast_apply_and_loss(\n",
    "        self,\n",
    "        x,\n",
    "        y,\n",
    "        params=None,\n",
    "        state=None,\n",
    "        rng=None,\n",
    "        training=None,\n",
    "        loss_fn=None,\n",
    "    ):\n",
    "        phase = self.get_phases(training)[1]\n",
    "        output, new_state = self.apply(\n",
    "            params, state, rng, x, phase=phase, training=training,\n",
    "        )\n",
    "        loss, loss_aux = loss_fn(outputs, y)\n",
    "        return loss, (new_state, loss_aux, output)\n",
    "    \n",
    "    @use_self_as_default(\"params\", \"init_inner_opt_state\")\n",
    "    def single_fast_step(\n",
    "        self,\n",
    "        x,\n",
    "        y,\n",
    "        params=None,\n",
    "        state=None,\n",
    "        rng=None,\n",
    "        training=None,\n",
    "        loss_fn=None,\n",
    "        init_inner_opt_state=None,\n",
    "        opt_state=None,\n",
    "    ):\n",
    "        if opt_state is None:\n",
    "            opt_state = init_inner_opt_state(params)\n",
    "            \n",
    "        (loss, (new_state, loss_aux, output)) = jax.value_and_grad(\n",
    "            self.slow_apply_and_loss, argnums=2\n",
    "        )(x, y, params, state, rng, training, loss_fn)\n",
    "        \n",
    "        \n",
    "    \n",
    "    @use_self_as_default(\n",
    "        \"params\", \"state\", \"training\", \"lr\", \"init_inner_opt_state\", \"loss_fn\"\n",
    "    )\n",
    "    def inner_loop(\n",
    "        self,\n",
    "        x_spt,\n",
    "        y_spt,\n",
    "        params=None,\n",
    "        state=None,\n",
    "        rng=None,\n",
    "        # inp_kwargs=None,\n",
    "        training=None,\n",
    "        opt_state=None,\n",
    "        lr=None,\n",
    "        init_inner_opt_state=None,\n",
    "        loss_fn=None,\n",
    "    ):\n",
    "        slow_params, fast_params = self.split_params(params, training)\n",
    "        slow_state, fast_state = self.split_state(state, training)\n",
    "        slow_phase, fast_phase = self.get_phases(training)\n",
    "        rng, *rngs = split_rng_or_none(rng, 1 + len(x_spt))\n",
    "        # if opt_state is None:\n",
    "        #     opt_state = init_inner_opt_state(fast_params)\n",
    "        # if inp_kwargs is None:\n",
    "        #     inp_kwargs = {}\n",
    "\n",
    "        def fast_apply_and_loss(fast_params, fast_state, rng, x):\n",
    "            pred, state = self.apply(\n",
    "                rng,\n",
    "                merge(slow_params, fast_params),\n",
    "                merge(slow_state, fast_state),\n",
    "                rng,\n",
    "                x,\n",
    "                phase=fast_phase,\n",
    "                training=training,\n",
    "                # **inp_kwargs,\n",
    "            )\n",
    "\n",
    "        def scan_fun(carry, xs):\n",
    "            _fast_params, _fast_state, _opt_state = carry\n",
    "            _x, _y, _rng = xs\n",
    "            (loss, (_fast_state, aux)), grads = jax.value_and_grad(lambda x, y: None)\n",
    "\n",
    "    def split_params_train(self, params):\n",
    "        return (\n",
    "            self.model_class.get_train_slow_params(params),\n",
    "            self.model_class.get_train_fast_params(params),\n",
    "        )\n",
    "\n",
    "    def split_params_test(self, params):\n",
    "        return (\n",
    "            self.model_class.get_test_slow_params(params),\n",
    "            self.model_class.get_test_fast_params(params),\n",
    "        )\n",
    "\n",
    "    def split_state_train(self, state):\n",
    "        return (\n",
    "            self.model_class.get_train_slow_state(state),\n",
    "            self.model_class.get_train_fast_state(state),\n",
    "        )\n",
    "\n",
    "    def split_state_test(self, state):\n",
    "        return (\n",
    "            self.model_class.get_test_slow_state(state),\n",
    "            self.model_class.get_test_fast_state(state),\n",
    "        )\n",
    "\n",
    "    def split_params(self, params, training):\n",
    "        if training:\n",
    "            return self.split_params_train(params)\n",
    "        else:\n",
    "            return self.split_params_test(params)\n",
    "\n",
    "    def split_state(self, state, training):\n",
    "        if training:\n",
    "            return self.split_state_train(state)\n",
    "        else:\n",
    "            return self.split_params_test(state)\n",
    "\n",
    "\n",
    "#     def __call__(self):\n",
    "#         raise NotImplementedError\n",
    "\n",
    "#     def get_train_slow_params(self):\n",
    "#         raise NotImplementedError\n",
    "\n",
    "#     def get_train_fast_params(self):\n",
    "#         raise NotImplementedError\n",
    "\n",
    "#     def get_train_slow_state(self):\n",
    "#         raise NotImplementedError\n",
    "\n",
    "#     def get_train_fast_state(self):\n",
    "#         raise NotImplementedError\n",
    "\n",
    "#     def get_test_slow_params(self):\n",
    "#         raise NotImplementedError\n",
    "\n",
    "#     def get_test_fast_params(self):\n",
    "#         raise NotImplementedError\n",
    "\n",
    "#     def get_test_slow_state(self):\n",
    "#         raise NotImplementedError\n",
    "\n",
    "#     def get_test_fast_state(self):\n",
    "#         raise NotImplementedError"
   ]
  },
  {
   "cell_type": "code",
   "execution_count": 10,
   "metadata": {
    "ExecuteTime": {
     "end_time": "2021-03-25T22:59:23.569033Z",
     "start_time": "2021-03-25T22:59:23.534126Z"
    }
   },
   "outputs": [
    {
     "data": {
      "text/plain": [
       "array([  0,   0,   0, ..., 663, 663, 663])"
      ]
     },
     "execution_count": 10,
     "metadata": {},
     "output_type": "execute_result"
    }
   ],
   "source": []
  },
  {
   "cell_type": "code",
   "execution_count": null,
   "metadata": {},
   "outputs": [],
   "source": []
  }
 ],
 "metadata": {
  "kernelspec": {
   "display_name": "378",
   "language": "python",
   "name": "378"
  },
  "language_info": {
   "codemirror_mode": {
    "name": "ipython",
    "version": 3
   },
   "file_extension": ".py",
   "mimetype": "text/x-python",
   "name": "python",
   "nbconvert_exporter": "python",
   "pygments_lexer": "ipython3",
   "version": "3.7.8"
  },
  "toc": {
   "base_numbering": 1,
   "nav_menu": {},
   "number_sections": true,
   "sideBar": true,
   "skip_h1_title": false,
   "title_cell": "Table of Contents",
   "title_sidebar": "Contents",
   "toc_cell": false,
   "toc_position": {},
   "toc_section_display": true,
   "toc_window_display": false
  }
 },
 "nbformat": 4,
 "nbformat_minor": 2
}
