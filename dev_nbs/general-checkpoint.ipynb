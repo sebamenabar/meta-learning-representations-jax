{
 "cells": [
  {
   "cell_type": "code",
   "execution_count": 1,
   "metadata": {
    "ExecuteTime": {
     "end_time": "2021-04-01T19:43:00.302155Z",
     "start_time": "2021-04-01T19:43:00.282619Z"
    },
    "init_cell": true
   },
   "outputs": [],
   "source": [
    "%load_ext autoreload\n",
    "%autoreload 2"
   ]
  },
  {
   "cell_type": "code",
   "execution_count": 2,
   "metadata": {
    "ExecuteTime": {
     "end_time": "2021-04-01T19:43:00.852360Z",
     "start_time": "2021-04-01T19:43:00.829356Z"
    },
    "init_cell": true
   },
   "outputs": [],
   "source": [
    "import os\n",
    "import os.path as osp\n",
    "import sys\n",
    "\n",
    "if \"../src\" not in sys.path:\n",
    "    sys.path.insert(0, \"../src\")"
   ]
  },
  {
   "cell_type": "code",
   "execution_count": 3,
   "metadata": {
    "ExecuteTime": {
     "end_time": "2021-04-01T19:43:04.123315Z",
     "start_time": "2021-04-01T19:43:02.973840Z"
    },
    "init_cell": true
   },
   "outputs": [
    {
     "name": "stderr",
     "output_type": "stream",
     "text": [
      "/home/samenabar/storage/.pyenv/versions/3.7.8/envs/378/lib/python3.7/site-packages/ipykernel_launcher.py:41: TqdmExperimentalWarning: Using `tqdm.autonotebook.tqdm` in notebook mode. Use `tqdm.tqdm` instead to force console mode (e.g. in jupyter console)\n"
     ]
    }
   ],
   "source": [
    "import numpy as onp\n",
    "\n",
    "import jax\n",
    "from jax import numpy as jnp, random\n",
    "from jax.random import split, PRNGKey\n",
    "\n",
    "import haiku as hk\n",
    "from haiku.data_structures import merge\n",
    "import optax as ox\n",
    "\n",
    "from acme.jax.utils import prefetch\n",
    "\n",
    "from helpers import SimpleModel\n",
    "from utils.losses import mean_xe_and_acc_dict\n",
    "from datasets import get_dataset\n",
    "from utils import (\n",
    "    shuffle_along_axis,\n",
    "    use_self_as_default,\n",
    "    split_rng_or_none,\n",
    "    call_self_as_default,\n",
    "    expand,\n",
    "    tree_shape,\n",
    "    first_leaf_shape,\n",
    "    tree_flatten_array,\n",
    "    mean_of_f,\n",
    "    pmap_init,\n",
    ")\n",
    "from utils.data.datasets import (\n",
    "    SimpleDataset,\n",
    "    ImageDataset,\n",
    "    MetaDataset,\n",
    "    MetaDatasetArray,\n",
    ")\n",
    "\n",
    "from meta.trainers import MetaTrainerB\n",
    "from meta.base import MetaBase\n",
    "from meta.wrappers import MetaLearnerBaseB, ContinualLearnerB\n",
    "\n",
    "from models.oml import OMLConvnet\n",
    "\n",
    "from tqdm.autonotebook import tqdm\n",
    "from easydict import EasyDict as edict"
   ]
  },
  {
   "cell_type": "code",
   "execution_count": 4,
   "metadata": {
    "ExecuteTime": {
     "end_time": "2021-04-01T19:43:05.634076Z",
     "start_time": "2021-04-01T19:43:05.135609Z"
    },
    "init_cell": true
   },
   "outputs": [
    {
     "data": {
      "text/plain": [
       "[GpuDevice(id=0), GpuDevice(id=1)]"
      ]
     },
     "execution_count": 4,
     "metadata": {},
     "output_type": "execute_result"
    }
   ],
   "source": [
    "jax.local_devices()"
   ]
  },
  {
   "cell_type": "code",
   "execution_count": 5,
   "metadata": {
    "ExecuteTime": {
     "end_time": "2021-04-01T19:43:24.733377Z",
     "start_time": "2021-04-01T19:43:22.577835Z"
    },
    "init_cell": true
   },
   "outputs": [],
   "source": [
    "args = edict(\n",
    "    image_size=84,\n",
    "    cross_replica_axis=\"i\" if jax.local_device_count() else None,\n",
    "    batch_size=8,\n",
    "    way=10,\n",
    "    shot=5,\n",
    "    qry_shot=5,\n",
    "    cl_qry_shot=16,\n",
    "    include_spt=False,\n",
    ")\n",
    "\n",
    "trainset = get_dataset(\"omniglot\", \"train\", all=True, train=True, image_size=args.image_size)\n",
    "meta_trainset = MetaDatasetArray(trainset, args.batch_size, args.way, args.shot,args.qry_shot, args.cl_qry_shot, disjoint=True)\n",
    "meta_trainset_sampler = meta_trainset.get_sampler(PRNGKey(0))"
   ]
  },
  {
   "cell_type": "code",
   "execution_count": 6,
   "metadata": {
    "ExecuteTime": {
     "end_time": "2021-04-01T19:43:28.609658Z",
     "start_time": "2021-04-01T19:43:24.735928Z"
    },
    "init_cell": true,
    "scrolled": false
   },
   "outputs": [],
   "source": [
    "model = hk.transform_with_state(\n",
    "    lambda x, phase, training: OMLConvnet(\n",
    "        cross_replica_axis=args.cross_replica_axis,\n",
    "    )(x, phase, training)\n",
    ")\n",
    "\n",
    "dummy_input = tree_flatten_array(meta_trainset.get_sampler(PRNGKey(0)).__next__()[-2] / 255)\n",
    "\n",
    "if args.cross_replica_axis is not None:\n",
    "    _dummy_input = ((dummy_input))\n",
    "    params, state = pmap_init(model, (PRNGKey(0),), dict(phase=\"all\", training=True), jax.device_put_replicated(_dummy_input, jax.local_devices()))\n",
    "else:\n",
    "    _dummy_input = (dummy_input)\n",
    "    params, state = model.init(PRNGKey(0), _dummy_input, \"all\", True)"
   ]
  },
  {
   "cell_type": "code",
   "execution_count": 17,
   "metadata": {
    "ExecuteTime": {
     "end_time": "2021-04-01T19:48:32.805180Z",
     "start_time": "2021-04-01T19:48:32.179071Z"
    },
    "init_cell": true,
    "scrolled": true
   },
   "outputs": [
    {
     "data": {
      "text/plain": [
       "<meta.trainers.MetaTrainerB at 0x7fd68c212810>"
      ]
     },
     "execution_count": 17,
     "metadata": {},
     "output_type": "execute_result"
    }
   ],
   "source": [
    "continual_learner = ContinualLearnerB(\n",
    "    model.apply,\n",
    "    params=None,\n",
    "    state=None,\n",
    "    slow_phase=\"encoder\",\n",
    "    fast_phase=\"adaptation\",\n",
    "    get_slow_params=OMLConvnet.get_train_slow_params,\n",
    "    get_fast_params=OMLConvnet.get_train_fast_params,\n",
    "    get_slow_state=OMLConvnet.get_state,\n",
    "    get_fast_state=OMLConvnet.get_state,\n",
    ")\n",
    "\n",
    "meta_trainer = MetaTrainerB(\n",
    "    continual_learner,\n",
    "    model.apply,\n",
    "    params,\n",
    "    state,\n",
    "    \"encoder\",\n",
    "    \"adaptation\",\n",
    "    OMLConvnet.get_train_slow_params,\n",
    "    OMLConvnet.get_train_fast_params,\n",
    "    OMLConvnet.get_state,\n",
    "    OMLConvnet.get_state,\n",
    "    inner_lr=1e-2,\n",
    "    train_lr=False,\n",
    "    optimizer=ox.adam(1e-4),\n",
    "    cross_replica_axis=args.cross_replica_axis,\n",
    ")\n",
    "\n",
    "meta_trainer.replicate_state().initialize_opt_state()"
   ]
  },
  {
   "cell_type": "code",
   "execution_count": 8,
   "metadata": {
    "ExecuteTime": {
     "end_time": "2021-04-01T19:43:28.986455Z",
     "start_time": "2021-04-01T19:43:28.959640Z"
    },
    "init_cell": true
   },
   "outputs": [],
   "source": [
    "def _resize_batch_dim(array, num_devices=jax.local_device_count()):\n",
    "    bsz = array.shape[0]\n",
    "    assert (\n",
    "        bsz % num_devices\n",
    "    ) == 0, f\"Batch size must be divisible but number of available devices, received batch size: {bsz} and num devices: {num_devices}\"\n",
    "    return array.reshape(num_devices, bsz // num_devices, *array.shape[1:])\n",
    "\n",
    "\n",
    "def resize_batch_dim(struct, num_devices=jax.local_device_count()):\n",
    "    return jax.tree_map(_resize_batch_dim, struct)\n",
    "\n",
    "def flatten_dims(struct, dims=(1, 3)):\n",
    "    return jax.tree_map(lambda t: t.reshape(*t.shape[:dims[0]], onp.prod(t.shape[dims[0]:dims[1]]), *t.shape[dims[1]:]), struct)"
   ]
  },
  {
   "cell_type": "code",
   "execution_count": 19,
   "metadata": {
    "ExecuteTime": {
     "end_time": "2021-04-01T21:06:39.915983Z",
     "start_time": "2021-04-01T20:00:50.319097Z"
    },
    "scrolled": false
   },
   "outputs": [
    {
     "data": {
      "application/vnd.jupyter.widget-view+json": {
       "model_id": "2b7ef82a9b3a4f9fb92da80e2ceb319d",
       "version_major": 2,
       "version_minor": 0
      },
      "text/plain": [
       "HBox(children=(FloatProgress(value=0.0, max=10000.0), HTML(value='')))"
      ]
     },
     "metadata": {},
     "output_type": "display_data"
    },
    {
     "name": "stdout",
     "output_type": "stream",
     "text": [
      "\n"
     ]
    }
   ],
   "source": [
    "rng = PRNGKey(0)\n",
    "prefetch_loader = prefetch(meta_trainset.get_sampler(PRNGKey(0)))\n",
    "\n",
    "pbar = tqdm(range(10000))\n",
    "for i in pbar:\n",
    "    rng, rng_step = split(rng)\n",
    "    x_spt, y_spt, x_qry, y_qry, x_qry_cl, y_qry_cl = next(prefetch_loader)\n",
    "    x_spt, y_spt, x_qry, y_qry = resize_batch_dim((flatten_dims((x_spt, y_spt, x_qry, y_qry))))\n",
    "    x_qry_cl, y_qry_cl = resize_batch_dim((x_qry_cl, y_qry_cl))\n",
    "\n",
    "    out = meta_trainer.step(\n",
    "        rng_step, i, x_spt, y_spt, x_qry, y_qry, x_qry_cl, y_qry_cl, \n",
    "    )\n",
    "    \n",
    "    if ((i % 50) == 0):\n",
    "        pbar.set_postfix(\n",
    "            loss=out[0].mean().item(),\n",
    "            lr=meta_trainer.inner_lr.tolist(),\n",
    "            ioa=out[1][\"initial_outer_out\"][\"loss_aux\"][\"acc\"].mean().item(),\n",
    "            foa=out[1][\"outer_out\"][\"loss_aux\"][\"acc\"].mean().item(),\n",
    "        )\n",
    "    \n",
    "    # print(i)"
   ]
  },
  {
   "cell_type": "code",
   "execution_count": null,
   "metadata": {},
   "outputs": [],
   "source": []
  }
 ],
 "metadata": {
  "celltoolbar": "Initialization Cell",
  "kernelspec": {
   "display_name": "378",
   "language": "python",
   "name": "378"
  },
  "language_info": {
   "codemirror_mode": {
    "name": "ipython",
    "version": 3
   },
   "file_extension": ".py",
   "mimetype": "text/x-python",
   "name": "python",
   "nbconvert_exporter": "python",
   "pygments_lexer": "ipython3",
   "version": "3.7.8"
  },
  "toc": {
   "base_numbering": 1,
   "nav_menu": {},
   "number_sections": true,
   "sideBar": true,
   "skip_h1_title": false,
   "title_cell": "Table of Contents",
   "title_sidebar": "Contents",
   "toc_cell": false,
   "toc_position": {},
   "toc_section_display": true,
   "toc_window_display": false
  }
 },
 "nbformat": 4,
 "nbformat_minor": 2
}
