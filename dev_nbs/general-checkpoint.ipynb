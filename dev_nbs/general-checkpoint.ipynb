{
 "cells": [
  {
   "cell_type": "code",
   "execution_count": 1,
   "metadata": {
    "ExecuteTime": {
     "end_time": "2021-03-30T16:00:42.330744Z",
     "start_time": "2021-03-30T16:00:42.312675Z"
    }
   },
   "outputs": [],
   "source": [
    "%load_ext autoreload\n",
    "%autoreload 2"
   ]
  },
  {
   "cell_type": "code",
   "execution_count": 2,
   "metadata": {
    "ExecuteTime": {
     "end_time": "2021-03-30T16:00:42.343677Z",
     "start_time": "2021-03-30T16:00:42.332628Z"
    }
   },
   "outputs": [],
   "source": [
    "import os\n",
    "import os.path as osp\n",
    "import sys\n",
    "\n",
    "if \"../src\" not in sys.path:\n",
    "    sys.path.insert(0, \"../src\")"
   ]
  },
  {
   "cell_type": "code",
   "execution_count": 96,
   "metadata": {
    "ExecuteTime": {
     "end_time": "2021-03-30T18:20:29.706864Z",
     "start_time": "2021-03-30T18:20:29.441687Z"
    }
   },
   "outputs": [],
   "source": [
    "import numpy as onp\n",
    "\n",
    "import jax\n",
    "from jax import numpy as jnp, random\n",
    "from jax.random import split, PRNGKey\n",
    "\n",
    "import haiku as hk\n",
    "from haiku.data_structures import merge\n",
    "import optax as ox\n",
    "\n",
    "from helpers import SimpleModel\n",
    "from utils.losses import mean_xe_and_acc_dict\n",
    "from datasets import get_dataset\n",
    "from utils import shuffle_along_axis, use_self_as_default, split_rng_or_none, call_self_as_default, expand, tree_shape, first_leaf_shape\n",
    "from utils.data.datasets import SimpleDataset, ImageDataset, MetaDataset, MetaDatasetArray\n",
    "\n",
    "# from trainers.continual_learning import ContinualLearningTrainer\n",
    "# from wrappers.continual_learner import ContinualLearnerB\n",
    "from meta.base import MetaBase\n",
    "\n",
    "from easydict import EasyDict as edict"
   ]
  },
  {
   "cell_type": "code",
   "execution_count": 4,
   "metadata": {
    "ExecuteTime": {
     "end_time": "2021-03-30T16:00:43.392775Z",
     "start_time": "2021-03-30T16:00:43.370987Z"
    }
   },
   "outputs": [],
   "source": [
    "did = ImageDataset(onp.arange(6).repeat(20).astype(jnp.float32), onp.arange(6).repeat(20), 1, 0.1)\n",
    "md = MetaDatasetArray(\n",
    "    did,\n",
    "    2, 3, 4, 5, 25, False, False,\n",
    ")"
   ]
  },
  {
   "cell_type": "code",
   "execution_count": 5,
   "metadata": {
    "ExecuteTime": {
     "end_time": "2021-03-30T16:00:43.440854Z",
     "start_time": "2021-03-30T16:00:43.396833Z"
    }
   },
   "outputs": [],
   "source": [
    "trainset = get_dataset(\"omniglot\", \"train\", all=True, train=True, image_size=28)"
   ]
  },
  {
   "cell_type": "code",
   "execution_count": 6,
   "metadata": {
    "ExecuteTime": {
     "end_time": "2021-03-30T16:00:45.537123Z",
     "start_time": "2021-03-30T16:00:43.443360Z"
    }
   },
   "outputs": [],
   "source": [
    "meta_trainset = MetaDatasetArray(trainset, 2, 5, 5, 15, 64)\n",
    "meta_trainset_sampler = meta_trainset.get_sampler(PRNGKey(0))"
   ]
  },
  {
   "cell_type": "code",
   "execution_count": 117,
   "metadata": {
    "ExecuteTime": {
     "end_time": "2021-03-30T19:26:48.098734Z",
     "start_time": "2021-03-30T19:26:48.066257Z"
    }
   },
   "outputs": [],
   "source": [
    "from meta.wrappers import MetaLearnerBaseB, ContinualLearnerB"
   ]
  },
  {
   "cell_type": "code",
   "execution_count": 118,
   "metadata": {
    "ExecuteTime": {
     "end_time": "2021-03-30T19:26:49.364478Z",
     "start_time": "2021-03-30T19:26:48.503178Z"
    },
    "scrolled": true
   },
   "outputs": [],
   "source": [
    "model = hk.transform_with_state(lambda x, phase, training: SimpleModel()(x, phase, training))\n",
    "params, state = model.init(PRNGKey(0), random.normal(PRNGKey(1), (2, 2)), \"all\", True)\n",
    "continual_learner = ContinualLearnerB(\n",
    "    model.apply,\n",
    "    params,\n",
    "    state,\n",
    "    SimpleModel.train_slow_phase,\n",
    "    SimpleModel.train_fast_phase,\n",
    "    SimpleModel.get_train_slow_params,\n",
    "    SimpleModel.get_train_fast_params,\n",
    "    SimpleModel.get_train_slow_state,\n",
    "    SimpleModel.get_train_fast_state,\n",
    "    3e-2,\n",
    ")\n",
    "out = continual_learner.inner_loop(\n",
    "    random.normal(PRNGKey(1), (4, 2, 2)), jnp.arange(2)[:, None].repeat(2, 0).repeat(2, 1),\n",
    ")"
   ]
  },
  {
   "cell_type": "code",
   "execution_count": 119,
   "metadata": {
    "ExecuteTime": {
     "end_time": "2021-03-30T19:26:49.756485Z",
     "start_time": "2021-03-30T19:26:49.725391Z"
    },
    "scrolled": false
   },
   "outputs": [
    {
     "data": {
      "text/plain": [
       "{'fast_params': FlatMapping({\n",
       "   'simple_model/fast/batch_norm': FlatMapping({'offset': (4, 1, 8), 'scale': (4, 1, 8)}),\n",
       "   'simple_model/fast/linear': FlatMapping({'b': (4, 8), 'w': (4, 8, 8)}),\n",
       "   'simple_model/fast_1/batch_norm': FlatMapping({'offset': (4, 1, 4), 'scale': (4, 1, 4)}),\n",
       "   'simple_model/fast_1/linear': FlatMapping({'b': (4, 4), 'w': (4, 8, 4)}),\n",
       "   'simple_model/fast_1/linear_1': FlatMapping({'b': (4, 2), 'w': (4, 4, 2)}),\n",
       " }),\n",
       " 'fast_state': FlatMapping({\n",
       "   'simple_model/fast/batch_norm/~/mean_ema': FlatMapping({'average': (4, 1, 8), 'counter': (4,), 'hidden': (4, 1, 8)}),\n",
       "   'simple_model/fast/batch_norm/~/var_ema': FlatMapping({'average': (4, 1, 8), 'counter': (4,), 'hidden': (4, 1, 8)}),\n",
       "   'simple_model/fast_1/batch_norm/~/mean_ema': FlatMapping({'average': (4, 1, 4), 'counter': (4,), 'hidden': (4, 1, 4)}),\n",
       "   'simple_model/fast_1/batch_norm/~/var_ema': FlatMapping({'average': (4, 1, 4), 'counter': (4,), 'hidden': (4, 1, 4)}),\n",
       " }),\n",
       " 'loss': (4, 2),\n",
       " 'loss_aux': {'acc': (4, 2)},\n",
       " 'opt_state': [IdentityState(), ScaleState()],\n",
       " 'outputs': (4, 2, 2),\n",
       " 'slow_state': FlatMapping({\n",
       "   'simple_model/fast/batch_norm/~/mean_ema': FlatMapping({'average': (1, 8), 'counter': (), 'hidden': (1, 8)}),\n",
       "   'simple_model/fast/batch_norm/~/var_ema': FlatMapping({'average': (1, 8), 'counter': (), 'hidden': (1, 8)}),\n",
       "   'simple_model/fast_1/batch_norm/~/mean_ema': FlatMapping({'average': (1, 4), 'counter': (), 'hidden': (1, 4)}),\n",
       "   'simple_model/fast_1/batch_norm/~/var_ema': FlatMapping({'average': (1, 4), 'counter': (), 'hidden': (1, 4)}),\n",
       "   'simple_model/slow1/batch_norm/~/mean_ema': FlatMapping({'average': (1, 8), 'counter': (), 'hidden': (1, 8)}),\n",
       "   'simple_model/slow1/batch_norm/~/var_ema': FlatMapping({'average': (1, 8), 'counter': (), 'hidden': (1, 8)}),\n",
       "   'simple_model/slow2/batch_norm/~/mean_ema': FlatMapping({'average': (1, 8), 'counter': (), 'hidden': (1, 8)}),\n",
       "   'simple_model/slow2/batch_norm/~/var_ema': FlatMapping({'average': (1, 8), 'counter': (), 'hidden': (1, 8)}),\n",
       " })}"
      ]
     },
     "execution_count": 119,
     "metadata": {},
     "output_type": "execute_result"
    }
   ],
   "source": [
    "tree_shape(out)"
   ]
  },
  {
   "cell_type": "code",
   "execution_count": 142,
   "metadata": {
    "ExecuteTime": {
     "end_time": "2021-03-30T20:06:19.126310Z",
     "start_time": "2021-03-30T20:06:18.832987Z"
    }
   },
   "outputs": [],
   "source": [
    "class MetaTrainerB(MetaLearnerBaseB):\n",
    "    def __init__(\n",
    "        self,\n",
    "        learner,\n",
    "        *args,\n",
    "        **kwargs,\n",
    "    ):\n",
    "        super().__init__(*args, **kwargs)\n",
    "        self.learner = learner\n",
    "\n",
    "    def batch_fast_apply_and_loss(\n",
    "        self,\n",
    "        x,\n",
    "        y,\n",
    "        rng=None,\n",
    "        params=None,\n",
    "        state=None,\n",
    "        fast_params=None,\n",
    "        fast_state=None,\n",
    "        training=None,\n",
    "        loss_fn=None, \n",
    "    ):\n",
    "        def f(_x, _y, _fast_params=None, _fast_state=None, _rng=None):\n",
    "            return self.fast_apply_and_loss(\n",
    "                _x,\n",
    "                _y,\n",
    "                _rng,\n",
    "                params,\n",
    "                state, \n",
    "                training,\n",
    "                _fast_params,\n",
    "                _fast_state,\n",
    "                loss_fn,\n",
    "            )\n",
    "        \n",
    "        inputs = {}\n",
    "        if rng is not None:\n",
    "            inputs[\"_rng\"] = split(rng, first_leaf_shape(y)[0])\n",
    "        if fast_params is not None:\n",
    "            inputs[\"_fast_params\"] = fast_params\n",
    "        if fast_state is not None:\n",
    "            inputs[\"_fast_state\"] = fast_state\n",
    "        \n",
    "        loss, (outer_fast_state, loss_aux, outputs) = jax.vmap(f)(x, y, **inputs)\n",
    "        return dict(loss=loss, fast_state=outer_fast_state, loss_aux=loss_aux, outputs=outputs)\n",
    "        \n",
    "    def outer_loss(\n",
    "        self,\n",
    "        x_spt,\n",
    "        y_spt,\n",
    "        x_qry,\n",
    "        y_qry,\n",
    "        rng=None,\n",
    "        params=None,\n",
    "        state=None,\n",
    "        training=None,\n",
    "        loss_fn=None,\n",
    "        opt_state=None,\n",
    "        lr=None,\n",
    "        init_opt_state=None,\n",
    "        opt_update=None,\n",
    "    ):\n",
    "        rng_inner, rng_outer_slow, rng_outer_fast = split_rng_or_none(rng, 3)\n",
    "        \n",
    "        slow_outputs, slow_state = self.slow_apply(\n",
    "            x_qry, rng_outer_slow, params, state, training,\n",
    "        )\n",
    "        \n",
    "        initial_outer_out = self.batch_fast_apply_and_loss(\n",
    "            slow_outputs,\n",
    "            y_qry,\n",
    "            rng_outer_fast,\n",
    "            params,\n",
    "            slow_state,\n",
    "            training=training,\n",
    "            loss_fn=loss_fn, \n",
    "        )\n",
    "        \n",
    "        inner_out = self.learner.inner_loop(\n",
    "            x_spt,\n",
    "            y_spt,\n",
    "            params,\n",
    "            slow_state,\n",
    "            rng_inner,\n",
    "            training=training,\n",
    "            opt_state=opt_state,\n",
    "            lr=lr,\n",
    "            loss_fn=loss_fn,\n",
    "            init_opt_state=init_opt_state,\n",
    "            opt_update=opt_update,\n",
    "        )\n",
    "        \n",
    "        outer_out = self.batch_fast_apply_and_loss(\n",
    "            slow_outputs,\n",
    "            y_qry,\n",
    "            rng_outer_fast,\n",
    "            params,\n",
    "            slow_state,\n",
    "            inner_out[\"fast_params\"],\n",
    "            inner_out[\"fast_state\"],\n",
    "            training,\n",
    "            loss_fn, \n",
    "        )\n",
    "        \n",
    "        return jnp.mean(outer_out[\"loss\"]), dict(inner_out=inner_out, outer_out=outer_out, initial_outer_out=initial_outer_out)\n",
    "    \n",
    "    "
   ]
  },
  {
   "cell_type": "code",
   "execution_count": 144,
   "metadata": {
    "ExecuteTime": {
     "end_time": "2021-03-30T20:06:31.032873Z",
     "start_time": "2021-03-30T20:06:29.981680Z"
    },
    "scrolled": false
   },
   "outputs": [],
   "source": [
    "meta_trainer = MetaTrainerB(\n",
    "    continual_learner,\n",
    "    model.apply,\n",
    "    params,\n",
    "    state,\n",
    "    SimpleModel.train_slow_phase,\n",
    "    SimpleModel.train_fast_phase,\n",
    "    SimpleModel.get_train_slow_params,\n",
    "    SimpleModel.get_train_fast_params,\n",
    "    SimpleModel.get_train_slow_state,\n",
    "    SimpleModel.get_train_fast_state,\n",
    ")\n",
    "out = meta_trainer.outer_loss(\n",
    "    random.normal(PRNGKey(1), (4, 2, 2)),\n",
    "    jnp.arange(2)[:, None].repeat(2, 0).repeat(2, 1),\n",
    "    random.normal(PRNGKey(1), (4, 2, 2)),\n",
    "    jnp.arange(2)[:, None].repeat(2, 0).repeat(2, 1),\n",
    ")"
   ]
  },
  {
   "cell_type": "code",
   "execution_count": 147,
   "metadata": {
    "ExecuteTime": {
     "end_time": "2021-03-30T20:06:41.561832Z",
     "start_time": "2021-03-30T20:06:41.528359Z"
    }
   },
   "outputs": [
    {
     "data": {
      "text/plain": [
       "dict_keys(['inner_out', 'outer_out', 'initial_outer_out'])"
      ]
     },
     "execution_count": 147,
     "metadata": {},
     "output_type": "execute_result"
    }
   ],
   "source": [
    "out[1].keys()"
   ]
  },
  {
   "cell_type": "code",
   "execution_count": 153,
   "metadata": {
    "ExecuteTime": {
     "end_time": "2021-03-30T20:07:29.650232Z",
     "start_time": "2021-03-30T20:07:29.617053Z"
    }
   },
   "outputs": [
    {
     "data": {
      "text/plain": [
       "({'acc': DeviceArray([1., 1., 0., 0.], dtype=float32)},\n",
       " DeviceArray([0.6931472, 0.6931472, 0.6931472, 0.6931472], dtype=float32))"
      ]
     },
     "execution_count": 153,
     "metadata": {},
     "output_type": "execute_result"
    }
   ],
   "source": [
    "out[1][\"initial_outer_out\"][\"loss_aux\"], out[1][\"initial_outer_out\"][\"loss\"]"
   ]
  },
  {
   "cell_type": "code",
   "execution_count": 151,
   "metadata": {
    "ExecuteTime": {
     "end_time": "2021-03-30T20:07:19.449071Z",
     "start_time": "2021-03-30T20:07:19.174786Z"
    }
   },
   "outputs": [
    {
     "data": {
      "text/plain": [
       "({'acc': DeviceArray([1., 1., 1., 1.], dtype=float32)},\n",
       " DeviceArray([0.6638154, 0.6638154, 0.6638154, 0.6638154], dtype=float32))"
      ]
     },
     "execution_count": 151,
     "metadata": {},
     "output_type": "execute_result"
    }
   ],
   "source": [
    "out[1][\"outer_out\"][\"loss_aux\"], out[1][\"outer_out\"][\"loss\"]"
   ]
  },
  {
   "cell_type": "code",
   "execution_count": null,
   "metadata": {},
   "outputs": [],
   "source": []
  }
 ],
 "metadata": {
  "kernelspec": {
   "display_name": "378",
   "language": "python",
   "name": "378"
  },
  "language_info": {
   "codemirror_mode": {
    "name": "ipython",
    "version": 3
   },
   "file_extension": ".py",
   "mimetype": "text/x-python",
   "name": "python",
   "nbconvert_exporter": "python",
   "pygments_lexer": "ipython3",
   "version": "3.7.8"
  },
  "toc": {
   "base_numbering": 1,
   "nav_menu": {},
   "number_sections": true,
   "sideBar": true,
   "skip_h1_title": false,
   "title_cell": "Table of Contents",
   "title_sidebar": "Contents",
   "toc_cell": false,
   "toc_position": {},
   "toc_section_display": true,
   "toc_window_display": false
  }
 },
 "nbformat": 4,
 "nbformat_minor": 2
}
