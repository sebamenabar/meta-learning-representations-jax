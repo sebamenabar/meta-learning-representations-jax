{
 "cells": [
  {
   "cell_type": "code",
   "execution_count": 1,
   "metadata": {
    "ExecuteTime": {
     "end_time": "2021-03-30T16:00:42.330744Z",
     "start_time": "2021-03-30T16:00:42.312675Z"
    }
   },
   "outputs": [],
   "source": [
    "%load_ext autoreload\n",
    "%autoreload 2"
   ]
  },
  {
   "cell_type": "code",
   "execution_count": 2,
   "metadata": {
    "ExecuteTime": {
     "end_time": "2021-03-30T16:00:42.343677Z",
     "start_time": "2021-03-30T16:00:42.332628Z"
    }
   },
   "outputs": [],
   "source": [
    "import os\n",
    "import os.path as osp\n",
    "import sys\n",
    "\n",
    "if \"../src\" not in sys.path:\n",
    "    sys.path.insert(0, \"../src\")"
   ]
  },
  {
   "cell_type": "code",
   "execution_count": 3,
   "metadata": {
    "ExecuteTime": {
     "end_time": "2021-03-30T16:00:43.368865Z",
     "start_time": "2021-03-30T16:00:42.346336Z"
    }
   },
   "outputs": [],
   "source": [
    "import numpy as onp\n",
    "\n",
    "import jax\n",
    "from jax import numpy as jnp, random\n",
    "from jax.random import split, PRNGKey\n",
    "\n",
    "import haiku as hk\n",
    "from haiku.data_structures import merge\n",
    "import optax as ox\n",
    "\n",
    "from helpers import SimpleModel\n",
    "from utils.losses import mean_xe_and_acc_dict\n",
    "from datasets import get_dataset\n",
    "from utils import shuffle_along_axis, use_self_as_default, split_rng_or_none, call_self_as_default, expand, tree_shape, first_leaf_shape\n",
    "from utils.data.datasets import SimpleDataset, ImageDataset, MetaDataset, MetaDatasetArray\n",
    "\n",
    "from trainers.continual_learning import ContinualLearningTrainer\n",
    "from wrappers.continual_learner import ContinualLearningWrapperBase"
   ]
  },
  {
   "cell_type": "code",
   "execution_count": 4,
   "metadata": {
    "ExecuteTime": {
     "end_time": "2021-03-30T16:00:43.392775Z",
     "start_time": "2021-03-30T16:00:43.370987Z"
    }
   },
   "outputs": [],
   "source": [
    "did = ImageDataset(onp.arange(6).repeat(20).astype(jnp.float32), onp.arange(6).repeat(20), 1, 0.1)\n",
    "md = MetaDatasetArray(\n",
    "    did,\n",
    "    2, 3, 4, 5, 25, False, False,\n",
    ")"
   ]
  },
  {
   "cell_type": "code",
   "execution_count": 5,
   "metadata": {
    "ExecuteTime": {
     "end_time": "2021-03-30T16:00:43.440854Z",
     "start_time": "2021-03-30T16:00:43.396833Z"
    }
   },
   "outputs": [],
   "source": [
    "trainset = get_dataset(\"omniglot\", \"train\", all=True, train=True, image_size=28)"
   ]
  },
  {
   "cell_type": "code",
   "execution_count": 6,
   "metadata": {
    "ExecuteTime": {
     "end_time": "2021-03-30T16:00:45.537123Z",
     "start_time": "2021-03-30T16:00:43.443360Z"
    }
   },
   "outputs": [],
   "source": [
    "meta_trainset = MetaDatasetArray(trainset, 2, 5, 5, 15, 64)\n",
    "meta_trainset_sampler = meta_trainset.get_sampler(PRNGKey(0))"
   ]
  },
  {
   "cell_type": "code",
   "execution_count": 7,
   "metadata": {
    "ExecuteTime": {
     "end_time": "2021-03-30T16:00:45.590490Z",
     "start_time": "2021-03-30T16:00:45.571628Z"
    },
    "scrolled": true
   },
   "outputs": [],
   "source": [
    "# model = hk.transform_with_state(lambda x, phase, training: SimpleModel()(x, phase, training))\n",
    "# params, state = model.init(PRNGKey(0), random.normal(PRNGKey(1), (2, 2)), \"all\", True)\n",
    "\n",
    "# meta_learner = BaseMetaLearner(model.apply, SimpleModel, state=state, bmap=True)\n",
    "# algo = meta_learner.inner_loop(\n",
    "#     random.normal(PRNGKey(0), (2, 2, 2)),\n",
    "#     random.randint(PRNGKey(0), (2, 2), 0, 2),\n",
    "#     params,\n",
    "#     # state,\n",
    "#     # expand(state, 2),\n",
    "#     rng=None,\n",
    "#     lr=-3e-2,\n",
    "#     # training=False,\n",
    "# )"
   ]
  },
  {
   "cell_type": "code",
   "execution_count": 69,
   "metadata": {
    "ExecuteTime": {
     "end_time": "2021-03-30T16:26:52.620831Z",
     "start_time": "2021-03-30T16:26:52.575431Z"
    }
   },
   "outputs": [],
   "source": [
    "class MyContinualLearnerWrapper(ContinualLearningWrapperBase):\n",
    "    @use_self_as_default(\"init_opt_state\")\n",
    "    def inner_loop(\n",
    "        self,\n",
    "        x_spt,\n",
    "        y_spt,\n",
    "        params=None,\n",
    "        state=None,\n",
    "        rng=None,\n",
    "        fast_params=None,\n",
    "        fast_state=None,\n",
    "        training=None,\n",
    "        opt_state=None,\n",
    "        lr=None,\n",
    "        loss_fn=None,\n",
    "        init_opt_state=None,\n",
    "        opt_update=None,\n",
    "        counter=None,\n",
    "    ):\n",
    "        bsz, traj_length = first_leaf_shape(x_spt)[:2]\n",
    "        rng_slow, rng_fast = split_rng_or_none(rng)\n",
    "        slow_outputs, slow_state = self.bmap_slow_apply(\n",
    "            x_spt,\n",
    "            rng=rng_slow,\n",
    "            params=params,\n",
    "            state=state,\n",
    "            training=training,\n",
    "        )\n",
    "\n",
    "        if fast_params is None:\n",
    "            fast_params = expand(self.get_fp(params or self.params), bsz)\n",
    "        if fast_state is None:\n",
    "            fast_state = expand(self.get_fs(merge(state or self.state, slow_state)), bsz)\n",
    "        if opt_state is None:\n",
    "            opt_state = (init_opt_state(fast_params))\n",
    "        \n",
    "        def scan_fun(carry, xs):\n",
    "            nonlocal rng_fast\n",
    "            (fast_params, fast_state, opt_state) = carry\n",
    "                      \n",
    "            if rng_fast is None:\n",
    "                _rng = None\n",
    "                x, y = xs\n",
    "            else:\n",
    "                x, y, _rng = xs            \n",
    "            (\n",
    "                fast_params,\n",
    "                new_state,\n",
    "                opt_state,\n",
    "                (loss, loss_aux, outputs),\n",
    "            ) = self.single_fast_step(\n",
    "                x,\n",
    "                y,\n",
    "                rng=_rng,\n",
    "                params=params,\n",
    "                state=state,\n",
    "                fast_params=fast_params,\n",
    "                fast_state=fast_state,\n",
    "                lr=lr,\n",
    "                training=training,\n",
    "                loss_fn=loss_fn,\n",
    "                opt_update=opt_update,\n",
    "                init_opt_state=init_opt_state,\n",
    "                opt_state=opt_state,\n",
    "            )\n",
    "            out_carry = (fast_params, self.get_fs(new_state), opt_state)\n",
    "            \n",
    "            return out_carry, (loss, loss_aux, outputs)\n",
    "        \n",
    "        # Tranpose inputs to perform scan over trajectory\n",
    "        scan_inputs = [slow_outputs, y_spt]\n",
    "        scan_inputs = jax.tree_map(lambda x: jnp.transpose(x, (1, 0, *jnp.arange(2, len(x.shape)))), scan_inputs)\n",
    "        scan_inputs = expand(scan_inputs, 1, 2)\n",
    "        if rng_fast is not None:\n",
    "            scan_inputs.append(split(rng, traj_length))\n",
    "\n",
    "            \n",
    "        final_carry, ys = jax.lax.scan(scan_fun, (fast_params, fast_state, opt_state), scan_inputs)\n",
    "        return final_carry, jax.tree_map(lambda x: jnp.transpose(x, (1, 0, *jnp.arange(2, len(x.shape)))), ys)"
   ]
  },
  {
   "cell_type": "code",
   "execution_count": 78,
   "metadata": {
    "ExecuteTime": {
     "end_time": "2021-03-30T16:28:59.070517Z",
     "start_time": "2021-03-30T16:28:57.951504Z"
    },
    "scrolled": true
   },
   "outputs": [
    {
     "name": "stdout",
     "output_type": "stream",
     "text": [
      "[((2, 4, 1, 8),), (2, 4, 1)]\n",
      "((2, 4), {'acc': (2, 4)}, (2, 4, 1, 2))\n"
     ]
    }
   ],
   "source": [
    "model = hk.transform_with_state(lambda x, phase, training: SimpleModel()(x, phase, training))\n",
    "params, state = model.init(PRNGKey(0), random.normal(PRNGKey(1), (2, 2)), \"all\", True)\n",
    "continual_learner = MyContinualLearnerWrapper(\n",
    "    model.apply,\n",
    "    params,\n",
    "    state,\n",
    "    SimpleModel.train_slow_phase,\n",
    "    SimpleModel.train_fast_phase,\n",
    "    SimpleModel.get_train_slow_params,\n",
    "    SimpleModel.get_train_fast_params,\n",
    "    SimpleModel.get_train_slow_state,\n",
    "    SimpleModel.get_train_fast_state,\n",
    "    3e-2,\n",
    ")\n",
    "final_carry, ys = continual_learner.inner_loop(\n",
    "    random.normal(PRNGKey(1), (4, 2, 2)), jnp.arange(2)[:, None].repeat(2, 0).repeat(2, 1),\n",
    ")"
   ]
  },
  {
   "cell_type": "code",
   "execution_count": 74,
   "metadata": {
    "ExecuteTime": {
     "end_time": "2021-03-30T16:28:26.222387Z",
     "start_time": "2021-03-30T16:28:26.148932Z"
    }
   },
   "outputs": [
    {
     "data": {
      "text/plain": [
       "FlatMapping({\n",
       "  'simple_model/fast/batch_norm': FlatMapping({\n",
       "                                    'offset': DeviceArray([[[0., 0., 0., 0., 0., 0., 0., 0.]],\n",
       "                                              \n",
       "                                                           [[0., 0., 0., 0., 0., 0., 0., 0.]],\n",
       "                                              \n",
       "                                                           [[0., 0., 0., 0., 0., 0., 0., 0.]],\n",
       "                                              \n",
       "                                                           [[0., 0., 0., 0., 0., 0., 0., 0.]]], dtype=float32),\n",
       "                                    'scale': DeviceArray([[[1., 1., 1., 1., 1., 1., 1., 1.]],\n",
       "                                             \n",
       "                                                          [[1., 1., 1., 1., 1., 1., 1., 1.]],\n",
       "                                             \n",
       "                                                          [[1., 1., 1., 1., 1., 1., 1., 1.]],\n",
       "                                             \n",
       "                                                          [[1., 1., 1., 1., 1., 1., 1., 1.]]], dtype=float32),\n",
       "                                  }),\n",
       "  'simple_model/fast/linear': FlatMapping({\n",
       "                                'b': DeviceArray([[0., 0., 0., 0., 0., 0., 0., 0.],\n",
       "                                                  [0., 0., 0., 0., 0., 0., 0., 0.],\n",
       "                                                  [0., 0., 0., 0., 0., 0., 0., 0.],\n",
       "                                                  [0., 0., 0., 0., 0., 0., 0., 0.]], dtype=float32),\n",
       "                                'w': DeviceArray([[[ 0.56481254,  0.4087437 , -0.27194715, -0.25672388,\n",
       "                                                    -0.38092098, -0.4826909 ,  0.16808963, -0.57461166],\n",
       "                                                   [-0.40230548, -0.26165518, -0.53626937,  0.39940098,\n",
       "                                                    -0.1916317 , -0.55951667,  0.42288318, -0.23821734],\n",
       "                                                   [-0.4236103 , -0.13842031, -0.07720812,  0.48098868,\n",
       "                                                     0.14752264, -0.03270558,  0.6548743 ,  0.35937083],\n",
       "                                                   [ 0.01955337, -0.19226424, -0.33223543, -0.31091237,\n",
       "                                                     0.32287815,  0.38521934,  0.42453897, -0.03329048],\n",
       "                                                   [-0.3160148 ,  0.14990215, -0.24311236,  0.28246638,\n",
       "                                                    -0.37652925,  0.27210882, -0.08659652,  0.04775562],\n",
       "                                                   [ 0.20008236, -0.40557688, -0.4922996 , -0.27620432,\n",
       "                                                    -0.3515082 , -0.37672627, -0.6772311 , -0.09442803],\n",
       "                                                   [-0.45681423,  0.023794  ,  0.53196263, -0.34203455,\n",
       "                                                     0.39034793, -0.39303938, -0.31174153, -0.03653575],\n",
       "                                                   [ 0.14236845,  0.15959312, -0.04153605, -0.2459589 ,\n",
       "                                                    -0.30993962,  0.5617558 , -0.422843  , -0.25562543]],\n",
       "                                     \n",
       "                                                  [[ 0.56481254,  0.4087437 , -0.27194715, -0.25672388,\n",
       "                                                    -0.38092098, -0.4826909 ,  0.16808963, -0.57461166],\n",
       "                                                   [-0.40230548, -0.26165518, -0.53626937,  0.39940098,\n",
       "                                                    -0.1916317 , -0.55951667,  0.42288318, -0.23821734],\n",
       "                                                   [-0.4236103 , -0.13842031, -0.07720812,  0.48098868,\n",
       "                                                     0.14752264, -0.03270558,  0.6548743 ,  0.35937083],\n",
       "                                                   [ 0.01955337, -0.19226424, -0.33223543, -0.31091237,\n",
       "                                                     0.32287815,  0.38521934,  0.42453897, -0.03329048],\n",
       "                                                   [-0.3160148 ,  0.14990215, -0.24311236,  0.28246638,\n",
       "                                                    -0.37652925,  0.27210882, -0.08659652,  0.04775562],\n",
       "                                                   [ 0.20008236, -0.40557688, -0.4922996 , -0.27620432,\n",
       "                                                    -0.3515082 , -0.37672627, -0.6772311 , -0.09442803],\n",
       "                                                   [-0.45681423,  0.023794  ,  0.53196263, -0.34203455,\n",
       "                                                     0.39034793, -0.39303938, -0.31174153, -0.03653575],\n",
       "                                                   [ 0.14236845,  0.15959312, -0.04153605, -0.2459589 ,\n",
       "                                                    -0.30993962,  0.5617558 , -0.422843  , -0.25562543]],\n",
       "                                     \n",
       "                                                  [[ 0.56481254,  0.4087437 , -0.27194715, -0.25672388,\n",
       "                                                    -0.38092098, -0.4826909 ,  0.16808963, -0.57461166],\n",
       "                                                   [-0.40230548, -0.26165518, -0.53626937,  0.39940098,\n",
       "                                                    -0.1916317 , -0.55951667,  0.42288318, -0.23821734],\n",
       "                                                   [-0.4236103 , -0.13842031, -0.07720812,  0.48098868,\n",
       "                                                     0.14752264, -0.03270558,  0.6548743 ,  0.35937083],\n",
       "                                                   [ 0.01955337, -0.19226424, -0.33223543, -0.31091237,\n",
       "                                                     0.32287815,  0.38521934,  0.42453897, -0.03329048],\n",
       "                                                   [-0.3160148 ,  0.14990215, -0.24311236,  0.28246638,\n",
       "                                                    -0.37652925,  0.27210882, -0.08659652,  0.04775562],\n",
       "                                                   [ 0.20008236, -0.40557688, -0.4922996 , -0.27620432,\n",
       "                                                    -0.3515082 , -0.37672627, -0.6772311 , -0.09442803],\n",
       "                                                   [-0.45681423,  0.023794  ,  0.53196263, -0.34203455,\n",
       "                                                     0.39034793, -0.39303938, -0.31174153, -0.03653575],\n",
       "                                                   [ 0.14236845,  0.15959312, -0.04153605, -0.2459589 ,\n",
       "                                                    -0.30993962,  0.5617558 , -0.422843  , -0.25562543]],\n",
       "                                     \n",
       "                                                  [[ 0.56481254,  0.4087437 , -0.27194715, -0.25672388,\n",
       "                                                    -0.38092098, -0.4826909 ,  0.16808963, -0.57461166],\n",
       "                                                   [-0.40230548, -0.26165518, -0.53626937,  0.39940098,\n",
       "                                                    -0.1916317 , -0.55951667,  0.42288318, -0.23821734],\n",
       "                                                   [-0.4236103 , -0.13842031, -0.07720812,  0.48098868,\n",
       "                                                     0.14752264, -0.03270558,  0.6548743 ,  0.35937083],\n",
       "                                                   [ 0.01955337, -0.19226424, -0.33223543, -0.31091237,\n",
       "                                                     0.32287815,  0.38521934,  0.42453897, -0.03329048],\n",
       "                                                   [-0.3160148 ,  0.14990215, -0.24311236,  0.28246638,\n",
       "                                                    -0.37652925,  0.27210882, -0.08659652,  0.04775562],\n",
       "                                                   [ 0.20008236, -0.40557688, -0.4922996 , -0.27620432,\n",
       "                                                    -0.3515082 , -0.37672627, -0.6772311 , -0.09442803],\n",
       "                                                   [-0.45681423,  0.023794  ,  0.53196263, -0.34203455,\n",
       "                                                     0.39034793, -0.39303938, -0.31174153, -0.03653575],\n",
       "                                                   [ 0.14236845,  0.15959312, -0.04153605, -0.2459589 ,\n",
       "                                                    -0.30993962,  0.5617558 , -0.422843  , -0.25562543]]],            dtype=float32),\n",
       "                              }),\n",
       "  'simple_model/fast_1/batch_norm': FlatMapping({\n",
       "                                      'offset': DeviceArray([[[0., 0., 0., 0.]],\n",
       "                                                \n",
       "                                                             [[0., 0., 0., 0.]],\n",
       "                                                \n",
       "                                                             [[0., 0., 0., 0.]],\n",
       "                                                \n",
       "                                                             [[0., 0., 0., 0.]]], dtype=float32),\n",
       "                                      'scale': DeviceArray([[[1., 1., 1., 1.]],\n",
       "                                               \n",
       "                                                            [[1., 1., 1., 1.]],\n",
       "                                               \n",
       "                                                            [[1., 1., 1., 1.]],\n",
       "                                               \n",
       "                                                            [[1., 1., 1., 1.]]], dtype=float32),\n",
       "                                    }),\n",
       "  'simple_model/fast_1/linear': FlatMapping({\n",
       "                                  'b': DeviceArray([[0., 0., 0., 0.],\n",
       "                                                    [0., 0., 0., 0.],\n",
       "                                                    [0., 0., 0., 0.],\n",
       "                                                    [0., 0., 0., 0.]], dtype=float32),\n",
       "                                  'w': DeviceArray([[[ 0.09858231,  0.33270195,  0.15403977, -0.31954694],\n",
       "                                                     [-0.15951595, -0.41314682,  0.70669657, -0.51311815],\n",
       "                                                     [ 0.08036894, -0.47877237, -0.35257038, -0.03163519],\n",
       "                                                     [-0.64473534,  0.08956706,  0.6257588 ,  0.5935663 ],\n",
       "                                                     [-0.46955988, -0.16992082,  0.13547543,  0.2769482 ],\n",
       "                                                     [ 0.03962936, -0.46749672, -0.46341252,  0.31654203],\n",
       "                                                     [ 0.26003087,  0.03884403,  0.13733324, -0.21858785],\n",
       "                                                     [-0.09390742, -0.43672514,  0.12192864,  0.44014013]],\n",
       "                                       \n",
       "                                                    [[ 0.09858231,  0.33270195,  0.15403977, -0.31954694],\n",
       "                                                     [-0.15951595, -0.41314682,  0.70669657, -0.51311815],\n",
       "                                                     [ 0.08036894, -0.47877237, -0.35257038, -0.03163519],\n",
       "                                                     [-0.64473534,  0.08956706,  0.6257588 ,  0.5935663 ],\n",
       "                                                     [-0.46955988, -0.16992082,  0.13547543,  0.2769482 ],\n",
       "                                                     [ 0.03962936, -0.46749672, -0.46341252,  0.31654203],\n",
       "                                                     [ 0.26003087,  0.03884403,  0.13733324, -0.21858785],\n",
       "                                                     [-0.09390742, -0.43672514,  0.12192864,  0.44014013]],\n",
       "                                       \n",
       "                                                    [[ 0.09858231,  0.33270195,  0.15403977, -0.31954694],\n",
       "                                                     [-0.15951595, -0.41314682,  0.70669657, -0.51311815],\n",
       "                                                     [ 0.08036894, -0.47877237, -0.35257038, -0.03163519],\n",
       "                                                     [-0.64473534,  0.08956706,  0.6257588 ,  0.5935663 ],\n",
       "                                                     [-0.46955988, -0.16992082,  0.13547543,  0.2769482 ],\n",
       "                                                     [ 0.03962936, -0.46749672, -0.46341252,  0.31654203],\n",
       "                                                     [ 0.26003087,  0.03884403,  0.13733324, -0.21858785],\n",
       "                                                     [-0.09390742, -0.43672514,  0.12192864,  0.44014013]],\n",
       "                                       \n",
       "                                                    [[ 0.09858231,  0.33270195,  0.15403977, -0.31954694],\n",
       "                                                     [-0.15951595, -0.41314682,  0.70669657, -0.51311815],\n",
       "                                                     [ 0.08036894, -0.47877237, -0.35257038, -0.03163519],\n",
       "                                                     [-0.64473534,  0.08956706,  0.6257588 ,  0.5935663 ],\n",
       "                                                     [-0.46955988, -0.16992082,  0.13547543,  0.2769482 ],\n",
       "                                                     [ 0.03962936, -0.46749672, -0.46341252,  0.31654203],\n",
       "                                                     [ 0.26003087,  0.03884403,  0.13733324, -0.21858785],\n",
       "                                                     [-0.09390742, -0.43672514,  0.12192864,  0.44014013]]],            dtype=float32),\n",
       "                                }),\n",
       "  'simple_model/fast_1/linear_1': FlatMapping({\n",
       "                                    'b': DeviceArray([[-0.010025,  0.010025],\n",
       "                                                      [-0.010025,  0.010025],\n",
       "                                                      [ 0.010025, -0.010025],\n",
       "                                                      [ 0.010025, -0.010025]], dtype=float32),\n",
       "                                    'w': DeviceArray([[[0., 0.],\n",
       "                                                       [0., 0.],\n",
       "                                                       [0., 0.],\n",
       "                                                       [0., 0.]],\n",
       "                                         \n",
       "                                                      [[0., 0.],\n",
       "                                                       [0., 0.],\n",
       "                                                       [0., 0.],\n",
       "                                                       [0., 0.]],\n",
       "                                         \n",
       "                                                      [[0., 0.],\n",
       "                                                       [0., 0.],\n",
       "                                                       [0., 0.],\n",
       "                                                       [0., 0.]],\n",
       "                                         \n",
       "                                                      [[0., 0.],\n",
       "                                                       [0., 0.],\n",
       "                                                       [0., 0.],\n",
       "                                                       [0., 0.]]], dtype=float32),\n",
       "                                  }),\n",
       "})"
      ]
     },
     "execution_count": 74,
     "metadata": {},
     "output_type": "execute_result"
    }
   ],
   "source": [
    "final_carry[0]"
   ]
  },
  {
   "cell_type": "code",
   "execution_count": 44,
   "metadata": {
    "ExecuteTime": {
     "end_time": "2021-03-30T16:15:52.057541Z",
     "start_time": "2021-03-30T16:15:51.895738Z"
    }
   },
   "outputs": [
    {
     "data": {
      "text/plain": [
       "DeviceArray([[0, 0],\n",
       "             [0, 0],\n",
       "             [1, 1],\n",
       "             [1, 1]], dtype=int32)"
      ]
     },
     "execution_count": 44,
     "metadata": {},
     "output_type": "execute_result"
    }
   ],
   "source": [
    "jnp.arange(2)[:, None].repeat(2, 0).repeat(2, 1)"
   ]
  },
  {
   "cell_type": "code",
   "execution_count": 30,
   "metadata": {
    "ExecuteTime": {
     "end_time": "2021-03-30T16:09:46.201280Z",
     "start_time": "2021-03-30T16:09:46.164575Z"
    }
   },
   "outputs": [
    {
     "data": {
      "text/plain": [
       "((FlatMapping({\n",
       "    'simple_model/fast/batch_norm': FlatMapping({'offset': (4, 1, 8), 'scale': (4, 1, 8)}),\n",
       "    'simple_model/fast/linear': FlatMapping({'b': (4, 8), 'w': (4, 8, 8)}),\n",
       "    'simple_model/fast_1/batch_norm': FlatMapping({'offset': (4, 1, 4), 'scale': (4, 1, 4)}),\n",
       "    'simple_model/fast_1/linear': FlatMapping({'b': (4, 4), 'w': (4, 8, 4)}),\n",
       "    'simple_model/fast_1/linear_1': FlatMapping({'b': (4, 2), 'w': (4, 4, 2)}),\n",
       "  }),\n",
       "  FlatMapping({\n",
       "    'simple_model/fast/batch_norm/~/mean_ema': FlatMapping({'average': (4, 1, 8), 'counter': (4,), 'hidden': (4, 1, 8)}),\n",
       "    'simple_model/fast/batch_norm/~/var_ema': FlatMapping({'average': (4, 1, 8), 'counter': (4,), 'hidden': (4, 1, 8)}),\n",
       "    'simple_model/fast_1/batch_norm/~/mean_ema': FlatMapping({'average': (4, 1, 4), 'counter': (4,), 'hidden': (4, 1, 4)}),\n",
       "    'simple_model/fast_1/batch_norm/~/var_ema': FlatMapping({'average': (4, 1, 4), 'counter': (4,), 'hidden': (4, 1, 4)}),\n",
       "  }),\n",
       "  [IdentityState(), ScaleState()]),)"
      ]
     },
     "execution_count": 30,
     "metadata": {},
     "output_type": "execute_result"
    }
   ],
   "source": [
    "tree_shape(final_carry)"
   ]
  },
  {
   "cell_type": "code",
   "execution_count": 79,
   "metadata": {
    "ExecuteTime": {
     "end_time": "2021-03-30T16:29:05.368072Z",
     "start_time": "2021-03-30T16:29:05.325466Z"
    }
   },
   "outputs": [
    {
     "data": {
      "text/plain": [
       "(DeviceArray([[0.6931472, 0.6782596],\n",
       "              [0.6931472, 0.6782596],\n",
       "              [0.6931472, 0.6782596],\n",
       "              [0.6931472, 0.6782596]], dtype=float32),\n",
       " {'acc': DeviceArray([[1., 1.],\n",
       "               [1., 1.],\n",
       "               [0., 1.],\n",
       "               [0., 1.]], dtype=float32)},\n",
       " DeviceArray([[[[ 0.   ,  0.   ]],\n",
       " \n",
       "               [[ 0.015, -0.015]]],\n",
       " \n",
       " \n",
       "              [[[ 0.   ,  0.   ]],\n",
       " \n",
       "               [[ 0.015, -0.015]]],\n",
       " \n",
       " \n",
       "              [[[ 0.   ,  0.   ]],\n",
       " \n",
       "               [[-0.015,  0.015]]],\n",
       " \n",
       " \n",
       "              [[[ 0.   ,  0.   ]],\n",
       " \n",
       "               [[-0.015,  0.015]]]], dtype=float32))"
      ]
     },
     "execution_count": 79,
     "metadata": {},
     "output_type": "execute_result"
    }
   ],
   "source": [
    "ys"
   ]
  },
  {
   "cell_type": "code",
   "execution_count": 72,
   "metadata": {
    "ExecuteTime": {
     "end_time": "2021-03-30T16:27:19.616490Z",
     "start_time": "2021-03-30T16:27:19.580256Z"
    }
   },
   "outputs": [
    {
     "data": {
      "text/plain": [
       "((4, 2), {'acc': (4, 2)}, (4, 2, 1, 2))"
      ]
     },
     "execution_count": 72,
     "metadata": {},
     "output_type": "execute_result"
    }
   ],
   "source": [
    "tree_shape(ys)"
   ]
  },
  {
   "cell_type": "code",
   "execution_count": 16,
   "metadata": {
    "ExecuteTime": {
     "end_time": "2021-03-30T14:31:32.020065Z",
     "start_time": "2021-03-30T14:31:31.983096Z"
    }
   },
   "outputs": [
    {
     "data": {
      "text/plain": [
       "(2, 2)"
      ]
     },
     "execution_count": 16,
     "metadata": {},
     "output_type": "execute_result"
    }
   ],
   "source": [
    "jax.tree_flatten(random.normal(PRNGKey(1), (2, 2)))[0][0].shape"
   ]
  },
  {
   "cell_type": "code",
   "execution_count": 13,
   "metadata": {
    "ExecuteTime": {
     "end_time": "2021-03-30T14:31:02.405170Z",
     "start_time": "2021-03-30T14:31:02.344437Z"
    }
   },
   "outputs": [
    {
     "data": {
      "text/plain": [
       "(2, 2)"
      ]
     },
     "execution_count": 13,
     "metadata": {},
     "output_type": "execute_result"
    }
   ],
   "source": [
    "tree_shape(random.normal(PRNGKey(1), (2, 2)))"
   ]
  },
  {
   "cell_type": "code",
   "execution_count": 95,
   "metadata": {
    "ExecuteTime": {
     "end_time": "2021-03-29T19:24:31.223905Z",
     "start_time": "2021-03-29T19:24:29.733877Z"
    }
   },
   "outputs": [
    {
     "data": {
      "text/plain": [
       "({'counter': DeviceArray([2., 2.], dtype=float32),\n",
       "  'fast_params': FlatMapping({\n",
       "    'simple_model/fast/batch_norm': FlatMapping({\n",
       "                                      'offset': DeviceArray([[[0., 0., 0., 0., 0., 0., 0., 0.]],\n",
       "                                                \n",
       "                                                             [[0., 0., 0., 0., 0., 0., 0., 0.]]], dtype=float32),\n",
       "                                      'scale': DeviceArray([[[1., 1., 1., 1., 1., 1., 1., 1.]],\n",
       "                                               \n",
       "                                                            [[1., 1., 1., 1., 1., 1., 1., 1.]]], dtype=float32),\n",
       "                                    }),\n",
       "    'simple_model/fast/linear': FlatMapping({\n",
       "                                  'b': DeviceArray([[0., 0., 0., 0., 0., 0., 0., 0.],\n",
       "                                                    [0., 0., 0., 0., 0., 0., 0., 0.]], dtype=float32),\n",
       "                                  'w': DeviceArray([[[ 0.56481254,  0.4087437 , -0.27194715, -0.25672388,\n",
       "                                                      -0.38092098, -0.4826909 ,  0.16808963, -0.57461166],\n",
       "                                                     [-0.40230548, -0.26165518, -0.53626937,  0.39940098,\n",
       "                                                      -0.1916317 , -0.55951667,  0.42288318, -0.23821734],\n",
       "                                                     [-0.4236103 , -0.13842031, -0.07720812,  0.48098868,\n",
       "                                                       0.14752264, -0.03270558,  0.6548743 ,  0.35937083],\n",
       "                                                     [ 0.01955337, -0.19226424, -0.33223543, -0.31091237,\n",
       "                                                       0.32287815,  0.38521934,  0.42453897, -0.03329048],\n",
       "                                                     [-0.3160148 ,  0.14990215, -0.24311236,  0.28246638,\n",
       "                                                      -0.37652925,  0.27210882, -0.08659652,  0.04775562],\n",
       "                                                     [ 0.20008236, -0.40557688, -0.4922996 , -0.27620432,\n",
       "                                                      -0.3515082 , -0.37672627, -0.6772311 , -0.09442803],\n",
       "                                                     [-0.45681423,  0.023794  ,  0.53196263, -0.34203455,\n",
       "                                                       0.39034793, -0.39303938, -0.31174153, -0.03653575],\n",
       "                                                     [ 0.14236845,  0.15959312, -0.04153605, -0.2459589 ,\n",
       "                                                      -0.30993962,  0.5617558 , -0.422843  , -0.25562543]],\n",
       "                                       \n",
       "                                                    [[ 0.56481254,  0.4087437 , -0.27194715, -0.25672388,\n",
       "                                                      -0.38092098, -0.4826909 ,  0.16808963, -0.57461166],\n",
       "                                                     [-0.40230548, -0.26165518, -0.53626937,  0.39940098,\n",
       "                                                      -0.1916317 , -0.55951667,  0.42288318, -0.23821734],\n",
       "                                                     [-0.4236103 , -0.13842031, -0.07720812,  0.48098868,\n",
       "                                                       0.14752264, -0.03270558,  0.6548743 ,  0.35937083],\n",
       "                                                     [ 0.01955337, -0.19226424, -0.33223543, -0.31091237,\n",
       "                                                       0.32287815,  0.38521934,  0.42453897, -0.03329048],\n",
       "                                                     [-0.3160148 ,  0.14990215, -0.24311236,  0.28246638,\n",
       "                                                      -0.37652925,  0.27210882, -0.08659652,  0.04775562],\n",
       "                                                     [ 0.20008236, -0.40557688, -0.4922996 , -0.27620432,\n",
       "                                                      -0.3515082 , -0.37672627, -0.6772311 , -0.09442803],\n",
       "                                                     [-0.45681423,  0.023794  ,  0.53196263, -0.34203455,\n",
       "                                                       0.39034793, -0.39303938, -0.31174153, -0.03653575],\n",
       "                                                     [ 0.14236845,  0.15959312, -0.04153605, -0.2459589 ,\n",
       "                                                      -0.30993962,  0.5617558 , -0.422843  , -0.25562543]]],            dtype=float32),\n",
       "                                }),\n",
       "    'simple_model/fast_1/batch_norm': FlatMapping({\n",
       "                                        'offset': DeviceArray([[[-0.00046633, -0.00017049, -0.00028972, -0.00047498]],\n",
       "                                                  \n",
       "                                                               [[ 0.00046633,  0.00017049,  0.00028972,  0.00047498]]],            dtype=float32),\n",
       "                                        'scale': DeviceArray([[[1., 1., 1., 1.]],\n",
       "                                                 \n",
       "                                                              [[1., 1., 1., 1.]]], dtype=float32),\n",
       "                                      }),\n",
       "    'simple_model/fast_1/linear': FlatMapping({\n",
       "                                    'b': DeviceArray([[0., 0., 0., 0.],\n",
       "                                                      [0., 0., 0., 0.]], dtype=float32),\n",
       "                                    'w': DeviceArray([[[ 0.09858231,  0.33270195,  0.15403977, -0.31954694],\n",
       "                                                       [-0.15951595, -0.41314682,  0.70669657, -0.51311815],\n",
       "                                                       [ 0.08036894, -0.47877237, -0.35257038, -0.03163519],\n",
       "                                                       [-0.64473534,  0.08956706,  0.6257588 ,  0.5935663 ],\n",
       "                                                       [-0.46955988, -0.16992082,  0.13547543,  0.2769482 ],\n",
       "                                                       [ 0.03962936, -0.46749672, -0.46341252,  0.31654203],\n",
       "                                                       [ 0.26003087,  0.03884403,  0.13733324, -0.21858785],\n",
       "                                                       [-0.09390742, -0.43672514,  0.12192864,  0.44014013]],\n",
       "                                         \n",
       "                                                      [[ 0.09858231,  0.33270195,  0.15403977, -0.31954694],\n",
       "                                                       [-0.15951595, -0.41314682,  0.70669657, -0.51311815],\n",
       "                                                       [ 0.08036894, -0.47877237, -0.35257038, -0.03163519],\n",
       "                                                       [-0.64473534,  0.08956706,  0.6257588 ,  0.5935663 ],\n",
       "                                                       [-0.46955988, -0.16992082,  0.13547543,  0.2769482 ],\n",
       "                                                       [ 0.03962936, -0.46749672, -0.46341252,  0.31654203],\n",
       "                                                       [ 0.26003087,  0.03884403,  0.13733324, -0.21858785],\n",
       "                                                       [-0.09390742, -0.43672514,  0.12192864,  0.44014013]]],            dtype=float32),\n",
       "                                  }),\n",
       "    'simple_model/fast_1/linear_1': FlatMapping({\n",
       "                                      'b': DeviceArray([[-0.00048777,  0.00048777],\n",
       "                                                        [ 0.00048777, -0.00048777]], dtype=float32),\n",
       "                                      'w': DeviceArray([[[ 0.21059778, -0.74500227],\n",
       "                                                         [ 0.8779291 ,  0.528567  ],\n",
       "                                                         [ 0.26974913, -0.3239478 ],\n",
       "                                                         [ 0.507361  , -0.46597758]],\n",
       "                                           \n",
       "                                                        [[ 0.21059778, -0.74500227],\n",
       "                                                         [ 0.8779291 ,  0.528567  ],\n",
       "                                                         [ 0.26974913, -0.3239478 ],\n",
       "                                                         [ 0.507361  , -0.46597758]]], dtype=float32),\n",
       "                                    }),\n",
       "  }),\n",
       "  'fast_state': FlatMapping({\n",
       "    'simple_model/fast/batch_norm/~/mean_ema': FlatMapping({\n",
       "                                                 'average': DeviceArray([[[ 1.4292687 ,  0.7019575 ,  0.13817507, -0.8130932 ,\n",
       "                                                                           -0.16066137,  1.0625274 , -0.13147171, -0.52437854]],\n",
       "                                                            \n",
       "                                                                         [[-1.4313486 , -0.7025051 , -0.13557078,  0.8141878 ,\n",
       "                                                                            0.16081378, -1.0624918 ,  0.12763658,  0.52793187]]],            dtype=float32),\n",
       "                                                 'counter': DeviceArray([2, 2], dtype=int32),\n",
       "                                                 'hidden': DeviceArray([[[ 0.02844248,  0.01396897,  0.00274969, -0.01618057,\n",
       "                                                                          -0.00319716,  0.02114432, -0.00261629, -0.01043515]],\n",
       "                                                           \n",
       "                                                                        [[-0.02848387, -0.01397987, -0.00269786,  0.01620236,\n",
       "                                                                           0.0032002 , -0.02114361,  0.00253997,  0.01050586]]],            dtype=float32),\n",
       "                                               }),\n",
       "    'simple_model/fast/batch_norm/~/var_ema': FlatMapping({\n",
       "                                                'average': DeviceArray([[[0., 0., 0., 0., 0., 0., 0., 0.]],\n",
       "                                                           \n",
       "                                                                        [[0., 0., 0., 0., 0., 0., 0., 0.]]], dtype=float32),\n",
       "                                                'counter': DeviceArray([2, 2], dtype=int32),\n",
       "                                                'hidden': DeviceArray([[[0., 0., 0., 0., 0., 0., 0., 0.]],\n",
       "                                                          \n",
       "                                                                       [[0., 0., 0., 0., 0., 0., 0., 0.]]], dtype=float32),\n",
       "                                              }),\n",
       "    'simple_model/fast_1/batch_norm/~/mean_ema': FlatMapping({\n",
       "                                                   'average': DeviceArray([[[0., 0., 0., 0.]],\n",
       "                                                              \n",
       "                                                                           [[0., 0., 0., 0.]]], dtype=float32),\n",
       "                                                   'counter': DeviceArray([2, 2], dtype=int32),\n",
       "                                                   'hidden': DeviceArray([[[0., 0., 0., 0.]],\n",
       "                                                             \n",
       "                                                                          [[0., 0., 0., 0.]]], dtype=float32),\n",
       "                                                 }),\n",
       "    'simple_model/fast_1/batch_norm/~/var_ema': FlatMapping({\n",
       "                                                  'average': DeviceArray([[[0., 0., 0., 0.]],\n",
       "                                                             \n",
       "                                                                          [[0., 0., 0., 0.]]], dtype=float32),\n",
       "                                                  'counter': DeviceArray([2, 2], dtype=int32),\n",
       "                                                  'hidden': DeviceArray([[[0., 0., 0., 0.]],\n",
       "                                                            \n",
       "                                                                         [[0., 0., 0., 0.]]], dtype=float32),\n",
       "                                                }),\n",
       "  }),\n",
       "  'opt_state': [IdentityState(), ScaleState()]},\n",
       " (DeviceArray([[0.6931472, 0.7262056],\n",
       "               [0.6931472, 0.7262056]], dtype=float32),\n",
       "  {'acc': DeviceArray([[1., 0.],\n",
       "                [0., 0.]], dtype=float32)},\n",
       "  DeviceArray([[[[ 0.        ,  0.        ]],\n",
       "  \n",
       "                [[ 0.03244543, -0.03261348]]],\n",
       "  \n",
       "  \n",
       "               [[[ 0.        ,  0.        ]],\n",
       "  \n",
       "                [[-0.03244543,  0.03261348]]]], dtype=float32)))"
      ]
     },
     "execution_count": 95,
     "metadata": {},
     "output_type": "execute_result"
    }
   ],
   "source": [
    "trainer  = ContinualLearningTrainer(params, state, meta_learner)\n",
    "trainer.inner_loop(\n",
    "   random.normal(PRNGKey(0), (2, 2, 2)), random.randint(PRNGKey(0), (2, 2), 0, 2), params, state, None, 3e-2,\n",
    ")"
   ]
  },
  {
   "cell_type": "code",
   "execution_count": null,
   "metadata": {},
   "outputs": [],
   "source": []
  }
 ],
 "metadata": {
  "kernelspec": {
   "display_name": "378",
   "language": "python",
   "name": "378"
  },
  "language_info": {
   "codemirror_mode": {
    "name": "ipython",
    "version": 3
   },
   "file_extension": ".py",
   "mimetype": "text/x-python",
   "name": "python",
   "nbconvert_exporter": "python",
   "pygments_lexer": "ipython3",
   "version": "3.7.8"
  },
  "toc": {
   "base_numbering": 1,
   "nav_menu": {},
   "number_sections": true,
   "sideBar": true,
   "skip_h1_title": false,
   "title_cell": "Table of Contents",
   "title_sidebar": "Contents",
   "toc_cell": false,
   "toc_position": {},
   "toc_section_display": true,
   "toc_window_display": false
  }
 },
 "nbformat": 4,
 "nbformat_minor": 2
}
