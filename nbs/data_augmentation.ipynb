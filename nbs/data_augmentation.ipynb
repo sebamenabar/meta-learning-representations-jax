{
 "cells": [
  {
   "cell_type": "code",
   "execution_count": 1,
   "metadata": {
    "ExecuteTime": {
     "end_time": "2020-09-03T14:24:59.348136Z",
     "start_time": "2020-09-03T14:24:59.316938Z"
    }
   },
   "outputs": [],
   "source": [
    "%load_ext autoreload\n",
    "%autoreload 2"
   ]
  },
  {
   "cell_type": "code",
   "execution_count": 2,
   "metadata": {
    "ExecuteTime": {
     "end_time": "2020-09-03T14:25:03.057008Z",
     "start_time": "2020-09-03T14:25:03.029413Z"
    }
   },
   "outputs": [],
   "source": [
    "import os\n",
    "import sys\n",
    "\n",
    "sys.path.insert(0, \"../src\")"
   ]
  },
  {
   "cell_type": "code",
   "execution_count": 6,
   "metadata": {
    "ExecuteTime": {
     "end_time": "2020-09-03T14:28:25.625049Z",
     "start_time": "2020-09-03T14:28:24.030510Z"
    }
   },
   "outputs": [],
   "source": [
    "import os\n",
    "import sys\n",
    "import os.path as osp\n",
    "\n",
    "import dill\n",
    "import time\n",
    "from tqdm.notebook import tqdm as tqdmn\n",
    "from argparse import ArgumentParser\n",
    "from easydict import EasyDict as edict\n",
    "\n",
    "import numpy as onp\n",
    "\n",
    "import jax\n",
    "from jax.random import split\n",
    "from jax import (\n",
    "    jit,\n",
    "    vmap,\n",
    "    random,\n",
    "    partial,\n",
    "    tree_map,\n",
    "    numpy as jnp,\n",
    "    value_and_grad,\n",
    ")\n",
    "\n",
    "import optax as ox\n",
    "import haiku as hk\n",
    "\n",
    "from lib import (\n",
    "    apply_and_loss_fn,\n",
    "    \n",
    "    flatten,\n",
    "    outer_loop,\n",
    "    setup_device,\n",
    "    fsl_inner_loop,\n",
    "    batched_outer_loop,\n",
    "    parse_and_build_cfg,\n",
    "    mean_xe_and_acc_dict,\n",
    "    # outer_loop_reset_per_task,\n",
    ")\n",
    "from data import prepare_data\n",
    "from experiment import Experiment, Logger\n",
    "from data.sampling import fsl_sample_transfer_build, BatchSampler\n",
    "from models.maml_conv import miniimagenet_cnn_argparse, prepare_model, make_params\n",
    "\n",
    "from test_sup import test_sup_cosine\n",
    "from test_utils import test_fsl_embeddings\n",
    "\n",
    "TRAIN_SIZE = 500"
   ]
  },
  {
   "cell_type": "code",
   "execution_count": 7,
   "metadata": {
    "ExecuteTime": {
     "end_time": "2020-09-03T14:28:33.484186Z",
     "start_time": "2020-09-03T14:28:33.402809Z"
    }
   },
   "outputs": [],
   "source": [
    "cfg = edict()"
   ]
  },
  {
   "cell_type": "code",
   "execution_count": 9,
   "metadata": {
    "ExecuteTime": {
     "end_time": "2020-09-03T14:29:09.015741Z",
     "start_time": "2020-09-03T14:29:08.954805Z"
    }
   },
   "outputs": [],
   "source": [
    "cfg.dataset = \"miniimagenet\"\n",
    "cfg.data_dir = \"/Users/sebamenabar/Documents/datasets/mini-imagenet/\""
   ]
  },
  {
   "cell_type": "code",
   "execution_count": 20,
   "metadata": {
    "ExecuteTime": {
     "end_time": "2020-09-03T14:54:49.747989Z",
     "start_time": "2020-09-03T14:54:49.628715Z"
    }
   },
   "outputs": [],
   "source": [
    "cpu, device = setup_device(0)\n",
    "rng = random.PRNGKey(0)"
   ]
  },
  {
   "cell_type": "code",
   "execution_count": 10,
   "metadata": {
    "ExecuteTime": {
     "end_time": "2020-09-03T14:29:26.094966Z",
     "start_time": "2020-09-03T14:29:12.919881Z"
    }
   },
   "outputs": [
    {
     "name": "stdout",
     "output_type": "stream",
     "text": [
      "Supervised train data: (64, 500, 84, 84, 3) (64, 500)\n",
      "Supervised validation data: (6400, 84, 84, 3) (6400,)\n",
      "FSL and Transfer learning data: (16, 600, 84, 84, 3) (16, 600)\n",
      "Transfer (8000, 84, 84, 3) (8000,) (1600, 84, 84, 3) (1600,)\n"
     ]
    }
   ],
   "source": [
    "train_images, train_labels, val_images, val_labels, preprocess_fn = prepare_data(\n",
    "    cfg.dataset, cfg.data_dir, device,\n",
    ")\n",
    "fsl_train_images = train_images[:, :TRAIN_SIZE]\n",
    "fsl_train_labels = train_labels[:, :TRAIN_SIZE]\n",
    "# These are for supervised learning validation\n",
    "sup_val_images = flatten(train_images[:, TRAIN_SIZE:], 1)\n",
    "sup_val_labels = flatten(train_labels[:, TRAIN_SIZE:], 1)\n",
    "\n",
    "transfer_spt_images = flatten(val_images[:, :TRAIN_SIZE], (0, 1))\n",
    "transfer_spt_labels = flatten(val_labels[:, :TRAIN_SIZE], (0, 1))\n",
    "transfer_qry_images = flatten(val_images[:, TRAIN_SIZE:], (0, 1))\n",
    "transfer_qry_labels = flatten(val_labels[:, TRAIN_SIZE:], (0, 1))\n",
    "\n",
    "print(\"Supervised train data:\", fsl_train_images.shape, fsl_train_labels.shape)\n",
    "print(\n",
    "    \"Supervised validation data:\", sup_val_images.shape, sup_val_labels.shape,\n",
    ")\n",
    "print(\n",
    "    \"FSL and Transfer learning data:\", val_images.shape, val_labels.shape,\n",
    ")\n",
    "print(\"Transfer\", transfer_spt_images.shape, transfer_spt_labels.shape, transfer_qry_images.shape, transfer_qry_labels.shape)"
   ]
  },
  {
   "cell_type": "code",
   "execution_count": 12,
   "metadata": {
    "ExecuteTime": {
     "end_time": "2020-09-03T14:45:15.255136Z",
     "start_time": "2020-09-03T14:45:14.460935Z"
    }
   },
   "outputs": [],
   "source": [
    "import matplotlib.pyplot as plt"
   ]
  },
  {
   "cell_type": "code",
   "execution_count": null,
   "metadata": {},
   "outputs": [],
   "source": [
    "def _random_crop_single_image(rng, img, out=84, padding=None):\n",
    "    \"\"\"\n",
    "        args:\n",
    "        imgs: np.array shape (B,C,H,W)\n",
    "        out: output size (e.g. 84)\n",
    "        returns np.array\n",
    "    \"\"\"\n",
    "    rng_w, rng_h = split(rng)\n",
    "    h, w, c = img.shape\n",
    "    crop_max = h - out + 1\n",
    "    w1 = np.random.randint(0, crop_max, n)\n",
    "    h1 = np.random.randint(0, crop_max, n)\n",
    "    cropped = np.empty((n, out, out, c), dtype=imgs.dtype)\n",
    "    for i, (img, w11, h11) in enumerate(zip(imgs, w1, h1)):\n",
    "        \n",
    "        cropped[i] = img[:, h11:h11 + out, w11:w11 + out]\n",
    "    return cropped"
   ]
  },
  {
   "cell_type": "code",
   "execution_count": 22,
   "metadata": {
    "ExecuteTime": {
     "end_time": "2020-09-03T15:19:35.122239Z",
     "start_time": "2020-09-03T15:19:34.960507Z"
    }
   },
   "outputs": [
    {
     "ename": "TypeError",
     "evalue": "randint() missing 1 required positional argument: 'maxval'",
     "output_type": "error",
     "traceback": [
      "\u001b[0;31m---------------------------------------------------------------------------\u001b[0m",
      "\u001b[0;31mTypeError\u001b[0m                                 Traceback (most recent call last)",
      "\u001b[0;32m<ipython-input-22-568849bcc93e>\u001b[0m in \u001b[0;36m<module>\u001b[0;34m\u001b[0m\n\u001b[0;32m----> 1\u001b[0;31m \u001b[0mrandom\u001b[0m\u001b[0;34m.\u001b[0m\u001b[0mrandint\u001b[0m\u001b[0;34m(\u001b[0m\u001b[0mrng\u001b[0m\u001b[0;34m,\u001b[0m \u001b[0;36m0\u001b[0m\u001b[0;34m,\u001b[0m \u001b[0;36m84\u001b[0m\u001b[0;34m)\u001b[0m\u001b[0;34m\u001b[0m\u001b[0;34m\u001b[0m\u001b[0m\n\u001b[0m",
      "\u001b[0;31mTypeError\u001b[0m: randint() missing 1 required positional argument: 'maxval'"
     ]
    }
   ],
   "source": [
    "random.randint(rng, 0, 84)"
   ]
  },
  {
   "cell_type": "code",
   "execution_count": null,
   "metadata": {},
   "outputs": [],
   "source": [
    "def random_crop(rng, img, out=84, padding=None):\n",
    "    if padding:\n",
    "        img = jnp.pad(img, padding)\n",
    "    h, w, c = imgs.shape\n",
    "    crop_max = h - out + 1\n",
    "    w1 = random.randint(0, crop_max, n)\n",
    "    h1 = np.random.randint(0, crop_max, n)\n",
    "    cropped = np.empty((n, out, out, c), dtype=imgs.dtype)"
   ]
  },
  {
   "cell_type": "code",
   "execution_count": 17,
   "metadata": {
    "ExecuteTime": {
     "end_time": "2020-09-03T14:47:59.311292Z",
     "start_time": "2020-09-03T14:47:58.714916Z"
    }
   },
   "outputs": [
    {
     "data": {
      "text/plain": [
       "<matplotlib.image.AxesImage at 0x131ccce10>"
      ]
     },
     "execution_count": 17,
     "metadata": {},
     "output_type": "execute_result"
    },
    {
     "data": {
      "image/png": "[encoded data removed]",
      "text/plain": [
       "<Figure size 432x288 with 1 Axes>"
      ]
     },
     "metadata": {
      "needs_background": "light"
     },
     "output_type": "display_data"
    }
   ],
   "source": [
    "plt.imshow(jnp.pad(fsl_train_images[0, 0], ((10, 10), (10, 10), (0, 0))))"
   ]
  },
  {
   "cell_type": "code",
   "execution_count": null,
   "metadata": {},
   "outputs": [],
   "source": []
  }
 ],
 "metadata": {
  "kernelspec": {
   "display_name": "Python 3",
   "language": "python",
   "name": "python3"
  },
  "language_info": {
   "codemirror_mode": {
    "name": "ipython",
    "version": 3
   },
   "file_extension": ".py",
   "mimetype": "text/x-python",
   "name": "python",
   "nbconvert_exporter": "python",
   "pygments_lexer": "ipython3",
   "version": "3.7.7"
  },
  "toc": {
   "base_numbering": 1,
   "nav_menu": {},
   "number_sections": true,
   "sideBar": true,
   "skip_h1_title": false,
   "title_cell": "Table of Contents",
   "title_sidebar": "Contents",
   "toc_cell": false,
   "toc_position": {},
   "toc_section_display": true,
   "toc_window_display": false
  }
 },
 "nbformat": 4,
 "nbformat_minor": 2
}
