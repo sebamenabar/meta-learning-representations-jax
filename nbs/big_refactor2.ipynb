{
 "cells": [
  {
   "cell_type": "code",
   "execution_count": 1,
   "metadata": {
    "ExecuteTime": {
     "end_time": "2020-09-29T13:39:45.788208Z",
     "start_time": "2020-09-29T13:39:45.749601Z"
    }
   },
   "outputs": [],
   "source": [
    "%load_ext autoreload\n",
    "%autoreload 2"
   ]
  },
  {
   "cell_type": "code",
   "execution_count": 2,
   "metadata": {
    "ExecuteTime": {
     "end_time": "2020-09-29T13:39:48.414061Z",
     "start_time": "2020-09-29T13:39:45.798937Z"
    }
   },
   "outputs": [],
   "source": [
    "import os\n",
    "import sys\n",
    "import os.path as osp\n",
    "\n",
    "\n",
    "sys.path.insert(0, \"../src\")\n",
    "\n",
    "import dill\n",
    "import time\n",
    "from tqdm import tqdm\n",
    "from argparse import ArgumentParser\n",
    "from easydict import EasyDict as edict\n",
    "\n",
    "import numpy as onp\n",
    "\n",
    "import jax\n",
    "from jax.random import split\n",
    "from jax import (\n",
    "    jit,\n",
    "    pmap,\n",
    "    vmap,\n",
    "    random,\n",
    "    partial,\n",
    "    tree_map,\n",
    "    numpy as jnp,\n",
    "    value_and_grad,\n",
    ")\n",
    "\n",
    "import optax as ox\n",
    "import haiku as hk\n",
    "\n",
    "from config import rsetattr\n",
    "from lib import (\n",
    "    flatten,\n",
    "    outer_loop,\n",
    "    setup_device,\n",
    "    fsl_inner_loop,\n",
    "    batched_outer_loop,\n",
    "    parse_and_build_cfg,\n",
    "    mean_xe_and_acc_dict,\n",
    "    meta_step,\n",
    "    reset_by_idxs,\n",
    "    reset_all,\n",
    "    delayed_cosine_decay_schedule,\n",
    "    # outer_loop_reset_per_task,\n",
    ")\n",
    "from data import prepare_data, augment as augment_fn, preprocess_images\n",
    "from experiment import Experiment, Logger\n",
    "from data.sampling import fsl_sample, fsl_build, BatchSampler\n",
    "\n",
    "# from models.maml_conv import miniimagenet_cnn_argparse, prepare_model, make_params\n",
    "from models import make_params, prepare_model\n",
    "from test_utils import test_fsl_maml, test_fsl_embeddings\n",
    "from test_sup import test_sup_cosine"
   ]
  },
  {
   "cell_type": "code",
   "execution_count": 3,
   "metadata": {
    "ExecuteTime": {
     "end_time": "2020-09-29T13:39:48.477627Z",
     "start_time": "2020-09-29T13:39:48.417050Z"
    }
   },
   "outputs": [],
   "source": [
    "from mrcl_experiment import MetaLearner, replicate_array"
   ]
  },
  {
   "cell_type": "code",
   "execution_count": 4,
   "metadata": {
    "ExecuteTime": {
     "end_time": "2020-09-29T13:39:48.541121Z",
     "start_time": "2020-09-29T13:39:48.481704Z"
    }
   },
   "outputs": [],
   "source": [
    "import chex"
   ]
  },
  {
   "cell_type": "code",
   "execution_count": 5,
   "metadata": {
    "ExecuteTime": {
     "end_time": "2020-09-29T13:39:48.601421Z",
     "start_time": "2020-09-29T13:39:48.544653Z"
    }
   },
   "outputs": [],
   "source": [
    "cfg = edict()\n",
    "\n",
    "cfg.random_seed = 0\n",
    "cfg.dataset = \"miniimagenet\"\n",
    "\n",
    "cfg.model = model_cfg = edict()\n",
    "cfg.train = train_cfg = edict()\n",
    "\n",
    "model_cfg.model_name = \"convnet4\"\n",
    "model_cfg.output_size = 64\n",
    "model_cfg.avg_pool = True\n",
    "model_cfg.activation = \"relu\"\n",
    "model_cfg.initializer = \"kaiming_normal\"\n",
    "model_cfg.hidden_size = 4"
   ]
  },
  {
   "cell_type": "code",
   "execution_count": 6,
   "metadata": {
    "ExecuteTime": {
     "end_time": "2020-09-29T13:39:48.679503Z",
     "start_time": "2020-09-29T13:39:48.607037Z"
    }
   },
   "outputs": [],
   "source": [
    "cfg.train = train_cfg = edict()\n",
    "\n",
    "train_cfg.prefetch = 0\n",
    "train_cfg.batch_size = 2\n",
    "train_cfg.way = 5\n",
    "train_cfg.shot = 5\n",
    "train_cfg.qry_shot = 15\n",
    "train_cfg.data_root = \"/Users/sebamenabar/Downloads/miniImageNet\"\n",
    "train_cfg.method = \"maml\"\n",
    "train_cfg.sub_batch_size = None\n",
    "\n",
    "train_cfg.outer_lr = 1e-3\n",
    "train_cfg.inner_lr = 1e-2\n",
    "train_cfg.learn_inner_lr = False\n",
    "\n",
    "train_cfg.scheduler = \"cosine\"\n",
    "train_cfg.cosine_alpha = 0.05\n",
    "train_cfg.cosine_decay_steps = 10000\n",
    "train_cfg.cosine_transition_begin = 10000\n",
    "\n",
    "train_cfg.augment = \"all\"\n",
    "train_cfg.num_inner_steps = 5\n",
    "\n",
    "# train_cfg.num_inner_steps = 2\n",
    "train_cfg.reset_head = \"all-kaiming\""
   ]
  },
  {
   "cell_type": "code",
   "execution_count": 75,
   "metadata": {
    "ExecuteTime": {
     "end_time": "2020-09-29T13:16:20.739653Z",
     "start_time": "2020-09-29T13:16:20.683602Z"
    }
   },
   "outputs": [],
   "source": [
    "import chex"
   ]
  },
  {
   "cell_type": "code",
   "execution_count": 10,
   "metadata": {
    "ExecuteTime": {
     "end_time": "2020-09-29T13:45:46.951643Z",
     "start_time": "2020-09-29T13:45:46.885773Z"
    }
   },
   "outputs": [],
   "source": [
    "rng = jax.random.PRNGKey(0)"
   ]
  },
  {
   "cell_type": "code",
   "execution_count": 14,
   "metadata": {
    "ExecuteTime": {
     "end_time": "2020-09-29T13:51:12.946684Z",
     "start_time": "2020-09-29T13:46:10.106049Z"
    }
   },
   "outputs": [
    {
     "name": "stdout",
     "output_type": "stream",
     "text": [
      "False\n",
      "Applying gradient every 2 sub steps with sub batch size 2\n",
      "Reset classifier to kaiming\n",
      "Reset all classifier\n",
      "Initializing parameters rather than restoring from checkpoint.\n",
      "start of preprocess images\n",
      "\n",
      "Augmenting support and query\n",
      "end of preprocess images\n",
      "Before grad\n",
      "in batch outer loop\n",
      "in outer loop\n",
      "Not resetting bias\n",
      "Resetting all classifier\n",
      "before slow outputs\n",
      "after slow outputs\n",
      "inner loop\n",
      "after slow outputs\n",
      "begin inner loop 0\n",
      "end inner loop 0\n",
      "begin inner loop 1\n",
      "end inner loop 1\n",
      "begin inner loop 2\n",
      "end inner loop 2\n",
      "begin inner loop 3\n",
      "end inner loop 3\n",
      "begin inner loop 4\n",
      "end inner loop 4\n",
      "end of inner loop\n",
      "after inner loop\n",
      "outer loop end\n",
      "batch outer loop end\n",
      "After grad\n",
      "start of preprocess images\n",
      "\n",
      "Augmenting support and query\n",
      "end of preprocess images\n",
      "Before grad\n",
      "in batch outer loop\n",
      "in outer loop\n",
      "Not resetting bias\n",
      "Resetting all classifier\n",
      "before slow outputs\n",
      "after slow outputs\n",
      "inner loop\n",
      "after slow outputs\n",
      "begin inner loop 0\n",
      "end inner loop 0\n",
      "begin inner loop 1\n",
      "end inner loop 1\n",
      "begin inner loop 2\n",
      "end inner loop 2\n",
      "begin inner loop 3\n",
      "end inner loop 3\n",
      "begin inner loop 4\n",
      "end inner loop 4\n",
      "end of inner loop\n",
      "after inner loop\n",
      "outer loop end\n",
      "batch outer loop end\n",
      "After grad\n"
     ]
    }
   ],
   "source": [
    "# train_cfg.batch_size = 2\n",
    "train_cfg.way = 5\n",
    "train_cfg.shot = 5\n",
    "train_cfg.qry_shot = 15\n",
    "\n",
    "model_cfg.track_stats = \"none\"\n",
    "model_cfg.normalize = \"bn\"\n",
    "train_cfg.batch_size = 4\n",
    "train_cfg.sub_batch_size = 2\n",
    "\n",
    "model_cfg.model_name = \"convnet4\"\n",
    "model_cfg.output_size = 5\n",
    "model_cfg.avg_pool = True\n",
    "model_cfg.activation = \"relu\"\n",
    "model_cfg.initializer = \"glorot_uniform\"\n",
    "model_cfg.hidden_size = 64\n",
    "\n",
    "\n",
    "meta_learner = MetaLearner(\n",
    "    cfg.random_seed, cfg.dataset, train_cfg.data_root, model_cfg, train_cfg, None,\n",
    ")\n",
    "out = meta_learner.step(global_step=0, rng=rng)"
   ]
  },
  {
   "cell_type": "code",
   "execution_count": 88,
   "metadata": {
    "ExecuteTime": {
     "end_time": "2020-09-29T13:39:11.262137Z",
     "start_time": "2020-09-29T13:39:11.179421Z"
    }
   },
   "outputs": [
    {
     "data": {
      "text/plain": [
       "<function mrcl_experiment.MetaLearner._update_fn(global_step, rng, inputs, spt_classes, normalize_fn, augment, augment_fn, num_inner_steps, slow_apply, fast_apply, opt_update_fn, reset_fast_params_fn, learn_inner_lr, optimizer)>"
      ]
     },
     "execution_count": 88,
     "metadata": {},
     "output_type": "execute_result"
    }
   ],
   "source": [
    "meta_learner.update_pmap"
   ]
  },
  {
   "cell_type": "code",
   "execution_count": 16,
   "metadata": {
    "ExecuteTime": {
     "end_time": "2020-09-29T14:05:57.930374Z",
     "start_time": "2020-09-29T14:05:30.804475Z"
    }
   },
   "outputs": [],
   "source": [
    "out = meta_learner.step(global_step=0, rng=out[0])"
   ]
  },
  {
   "cell_type": "code",
   "execution_count": 93,
   "metadata": {
    "ExecuteTime": {
     "end_time": "2020-09-28T19:00:20.654369Z",
     "start_time": "2020-09-28T19:00:20.589078Z"
    }
   },
   "outputs": [
    {
     "data": {
      "text/plain": [
       "(array([1845241823, 3895899934], dtype=uint32),\n",
       " {'inner': {'auxs': [{'acc': ShardedDeviceArray([[[0., 0., 0.],\n",
       "                          [0., 0., 0.]]], dtype=float32)}],\n",
       "   'losses': ShardedDeviceArray([[[4.2050285, 4.1799536, 4.1549315],\n",
       "                        [4.3527384, 4.3320217, 4.3113647]]], dtype=float32)},\n",
       "  'outer': {'final': {'aux': [{'acc': ShardedDeviceArray([[0., 0.]], dtype=float32)}],\n",
       "    'loss': ShardedDeviceArray([[4.0473223, 5.0362635]], dtype=float32)},\n",
       "   'initial': {'aux': [{'acc': ShardedDeviceArray([[0., 0.]], dtype=float32)}],\n",
       "    'loss': ShardedDeviceArray([[4.0826473, 5.06845  ]], dtype=float32)}}})"
      ]
     },
     "execution_count": 93,
     "metadata": {},
     "output_type": "execute_result"
    }
   ],
   "source": [
    "out"
   ]
  },
  {
   "cell_type": "code",
   "execution_count": 102,
   "metadata": {
    "ExecuteTime": {
     "end_time": "2020-09-28T19:10:26.383283Z",
     "start_time": "2020-09-28T19:08:40.410667Z"
    }
   },
   "outputs": [
    {
     "name": "stdout",
     "output_type": "stream",
     "text": [
      "\n",
      "Augmenting support and query\n",
      "Not resetting bias\n",
      "Resetting all classifier\n"
     ]
    }
   ],
   "source": [
    "out = meta_learner.step(global_step=0, rng=rng)"
   ]
  },
  {
   "cell_type": "code",
   "execution_count": 104,
   "metadata": {
    "ExecuteTime": {
     "end_time": "2020-09-28T21:00:40.347130Z",
     "start_time": "2020-09-28T21:00:40.240560Z"
    }
   },
   "outputs": [],
   "source": [
    "inner_scalars = jax.tree_map(lambda x: jnp.mean(x, (0, 1)), out[1][\"inner\"]) "
   ]
  },
  {
   "cell_type": "code",
   "execution_count": 105,
   "metadata": {
    "ExecuteTime": {
     "end_time": "2020-09-28T21:00:43.424689Z",
     "start_time": "2020-09-28T21:00:43.353426Z"
    }
   },
   "outputs": [
    {
     "data": {
      "text/plain": [
       "{'auxs': [{'acc': DeviceArray([0., 0., 0.], dtype=float32)}],\n",
       " 'losses': DeviceArray([4.6677713, 4.6443605, 4.6209974], dtype=float32)}"
      ]
     },
     "execution_count": 105,
     "metadata": {},
     "output_type": "execute_result"
    }
   ],
   "source": [
    "inner_scalars"
   ]
  },
  {
   "cell_type": "code",
   "execution_count": 108,
   "metadata": {
    "ExecuteTime": {
     "end_time": "2020-09-28T21:09:31.566257Z",
     "start_time": "2020-09-28T21:09:31.490817Z"
    }
   },
   "outputs": [
    {
     "data": {
      "text/plain": [
       "2"
      ]
     },
     "execution_count": 108,
     "metadata": {},
     "output_type": "execute_result"
    }
   ],
   "source": [
    "meta_learner._apply_every"
   ]
  },
  {
   "cell_type": "code",
   "execution_count": 107,
   "metadata": {
    "ExecuteTime": {
     "end_time": "2020-09-28T21:08:44.398830Z",
     "start_time": "2020-09-28T21:08:42.172254Z"
    }
   },
   "outputs": [
    {
     "data": {
      "text/plain": [
       "[ClipState(),\n",
       " ScaleState(),\n",
       " ApplyEvery(count=ShardedDeviceArray([0], dtype=int32), grad_acc=(frozendict({\n",
       "   'mini_imagenet_cnn_body/conv_base/conv_block/batch_norm': frozendict({\n",
       "                                                               'offset': ShardedDeviceArray([[[[[-0.02147533, -0.06235676, -0.03157339,\n",
       "                                                                                                 -0.04902368]]]]], dtype=float32),\n",
       "                                                               'scale': ShardedDeviceArray([[[[[ 0.086115  , -0.10844006,  0.07221012,\n",
       "                                                                                                -0.04862137]]]]], dtype=float32),\n",
       "                                                             }),\n",
       "   'mini_imagenet_cnn_body/conv_base/conv_block/conv2_d': frozendict({\n",
       "                                                            'b': ShardedDeviceArray([[-0.07355435, -0.0680431 , -0.08339171,  0.00129735]], dtype=float32),\n",
       "                                                            'w': ShardedDeviceArray([[[[[ 0.01453719,  0.00308039,  0.05394259,\n",
       "                                                                                          0.08784435],\n",
       "                                                                                        [ 0.02580347, -0.02784628,  0.07664464,\n",
       "                                                                                          0.02579673],\n",
       "                                                                                        [ 0.01561563,  0.08851784,  0.05206705,\n",
       "                                                                                         -0.06246649]],\n",
       "                                                                 \n",
       "                                                                                       [[ 0.07178113, -0.00381622,  0.0495083 ,\n",
       "                                                                                          0.0256667 ],\n",
       "                                                                                        [ 0.09094401, -0.02810999,  0.07891941,\n",
       "                                                                                         -0.04029102],\n",
       "                                                                                        [ 0.05317646,  0.10068447,  0.06340346,\n",
       "                                                                                         -0.09589443]],\n",
       "                                                                 \n",
       "                                                                                       [[ 0.04137098,  0.05014396,  0.03394061,\n",
       "                                                                                          0.00523777],\n",
       "                                                                                        [ 0.07019515, -0.01050302,  0.11482546,\n",
       "                                                                                         -0.06399398],\n",
       "                                                                                        [ 0.06126748,  0.10452496,  0.11910103,\n",
       "                                                                                         -0.11407816]]],\n",
       "                                                                 \n",
       "                                                                 \n",
       "                                                                                      [[[-0.01175264,  0.06705462, -0.0420087 ,\n",
       "                                                                                          0.11368783],\n",
       "                                                                                        [-0.00796245,  0.01533064, -0.03081277,\n",
       "                                                                                          0.05933651],\n",
       "                                                                                        [ 0.02016199,  0.11306134, -0.01980984,\n",
       "                                                                                         -0.02545034]],\n",
       "                                                                 \n",
       "                                                                                       [[ 0.01771163,  0.08101229,  0.02197764,\n",
       "                                                                                          0.04568364],\n",
       "                                                                                        [ 0.0466079 ,  0.04258866,  0.05280922,\n",
       "                                                                                         -0.01436758],\n",
       "                                                                                        [ 0.05203731,  0.14236483,  0.03880432,\n",
       "                                                                                         -0.06620677]],\n",
       "                                                                 \n",
       "                                                                                       [[ 0.03752466,  0.08871602,  0.05968789,\n",
       "                                                                                          0.02942897],\n",
       "                                                                                        [ 0.05905561,  0.033814  ,  0.12892589,\n",
       "                                                                                         -0.033624  ],\n",
       "                                                                                        [ 0.05537741,  0.13798389,  0.11625633,\n",
       "                                                                                         -0.07973676]]],\n",
       "                                                                 \n",
       "                                                                 \n",
       "                                                                                      [[[-0.0207845 ,  0.13346246, -0.04866494,\n",
       "                                                                                          0.10685182],\n",
       "                                                                                        [-0.00619144,  0.08030185, -0.00979257,\n",
       "                                                                                          0.06489949],\n",
       "                                                                                        [ 0.01990326,  0.16631666,  0.01647096,\n",
       "                                                                                         -0.01564031]],\n",
       "                                                                 \n",
       "                                                                                       [[-0.00383815,  0.09762307,  0.04529167,\n",
       "                                                                                          0.06499794],\n",
       "                                                                                        [ 0.02598671,  0.04832007,  0.089622  ,\n",
       "                                                                                          0.01557442],\n",
       "                                                                                        [ 0.05077147,  0.1345716 ,  0.07642421,\n",
       "                                                                                         -0.03436981]],\n",
       "                                                                 \n",
       "                                                                                       [[ 0.07894262,  0.12030067,  0.0965288 ,\n",
       "                                                                                          0.05345524],\n",
       "                                                                                        [ 0.09743166,  0.0717957 ,  0.14007793,\n",
       "                                                                                          0.00091045],\n",
       "                                                                                        [ 0.07664716,  0.13009949,  0.10381642,\n",
       "                                                                                         -0.0468682 ]]]]], dtype=float32),\n",
       "                                                          }),\n",
       "   'mini_imagenet_cnn_body/conv_base/conv_block_1/batch_norm': frozendict({\n",
       "                                                                 'offset': ShardedDeviceArray([[[[[-0.03940248,  0.03503583,  0.07280879,\n",
       "                                                                                                    0.09571846]]]]], dtype=float32),\n",
       "                                                                 'scale': ShardedDeviceArray([[[[[-0.03712186,  0.08123879, -0.11882634,\n",
       "                                                                                                   0.07546048]]]]], dtype=float32),\n",
       "                                                               }),\n",
       "   'mini_imagenet_cnn_body/conv_base/conv_block_1/conv2_d': frozendict({\n",
       "                                                              'b': ShardedDeviceArray([[-0.01886191, -0.03403616,  0.00428688,  0.04618445]], dtype=float32),\n",
       "                                                              'w': ShardedDeviceArray([[[[[ 0.04923858,  0.10286585, -0.00507935,\n",
       "                                                                                            0.1352967 ],\n",
       "                                                                                          [ 0.00854743, -0.16732332,  0.07041139,\n",
       "                                                                                            0.04016576],\n",
       "                                                                                          [ 0.05592877,  0.11832637,  0.00496249,\n",
       "                                                                                            0.14217547],\n",
       "                                                                                          [ 0.03199171,  0.1057345 , -0.00914836,\n",
       "                                                                                            0.00194316]],\n",
       "                                                                   \n",
       "                                                                                         [[ 0.03146357,  0.11454877, -0.01186739,\n",
       "                                                                                            0.12926039],\n",
       "                                                                                          [ 0.01151135, -0.11000847,  0.08387127,\n",
       "                                                                                            0.066962  ],\n",
       "                                                                                          [ 0.02514477,  0.10322037, -0.01496333,\n",
       "                                                                                            0.08316159],\n",
       "                                                                                          [ 0.02900047,  0.06903838, -0.02629288,\n",
       "                                                                                            0.05848244]],\n",
       "                                                                   \n",
       "                                                                                         [[ 0.03998438,  0.04374636, -0.0332006 ,\n",
       "                                                                                            0.19782095],\n",
       "                                                                                          [-0.02743262, -0.09848419,  0.12324629,\n",
       "                                                                                            0.01035082],\n",
       "                                                                                          [ 0.04410905,  0.04427585, -0.04950393,\n",
       "                                                                                            0.22529382],\n",
       "                                                                                          [ 0.0401537 ,  0.00128575, -0.04354516,\n",
       "                                                                                            0.1085967 ]]],\n",
       "                                                                   \n",
       "                                                                   \n",
       "                                                                                        [[[ 0.02144541,  0.10550913,  0.02802622,\n",
       "                                                                                            0.03876948],\n",
       "                                                                                          [ 0.00312813, -0.13721368, -0.00294454,\n",
       "                                                                                            0.04710764],\n",
       "                                                                                          [ 0.02352023,  0.10353343,  0.03881301,\n",
       "                                                                                            0.04734925],\n",
       "                                                                                          [-0.00104754,  0.09050125,  0.0119996 ,\n",
       "                                                                                           -0.01272604]],\n",
       "                                                                   \n",
       "                                                                                         [[ 0.01032803,  0.08624253,  0.05182717,\n",
       "                                                                                            0.09896665],\n",
       "                                                                                          [-0.01653454, -0.07531854,  0.02932962,\n",
       "                                                                                            0.07794719],\n",
       "                                                                                          [-0.00625508,  0.09580829,  0.05242421,\n",
       "                                                                                            0.06390196],\n",
       "                                                                                          [ 0.01742049,  0.04149404,  0.02973286,\n",
       "                                                                                            0.09069005]],\n",
       "                                                                   \n",
       "                                                                                         [[ 0.01676194,  0.0225141 ,  0.02557427,\n",
       "                                                                                            0.13913886],\n",
       "                                                                                          [-0.03999215, -0.08160408,  0.06304239,\n",
       "                                                                                            0.10113265],\n",
       "                                                                                          [ 0.00419017,  0.017634  ,  0.01622996,\n",
       "                                                                                            0.21193714],\n",
       "                                                                                          [ 0.02291652,  0.01780955,  0.00049832,\n",
       "                                                                                            0.05142486]]],\n",
       "                                                                   \n",
       "                                                                   \n",
       "                                                                                        [[[-0.06106561,  0.08811168,  0.0202614 ,\n",
       "                                                                                            0.13616149],\n",
       "                                                                                          [ 0.01386145, -0.12110901, -0.01915426,\n",
       "                                                                                            0.02894747],\n",
       "                                                                                          [-0.04532614,  0.0866138 ,  0.01089172,\n",
       "                                                                                            0.13625215],\n",
       "                                                                                          [-0.04597777,  0.03639875,  0.0257079 ,\n",
       "                                                                                            0.10259905]],\n",
       "                                                                   \n",
       "                                                                                         [[-0.04246885,  0.0472844 ,  0.0432832 ,\n",
       "                                                                                            0.26040742],\n",
       "                                                                                          [-0.00521341, -0.09319074, -0.00750002,\n",
       "                                                                                           -0.00922364],\n",
       "                                                                                          [-0.04323674,  0.04606792,  0.05159412,\n",
       "                                                                                            0.17329866],\n",
       "                                                                                          [-0.0172136 ,  0.01290854,  0.010791  ,\n",
       "                                                                                            0.21641904]],\n",
       "                                                                   \n",
       "                                                                                         [[-0.03174226,  0.02893055,  0.02269228,\n",
       "                                                                                            0.33545917],\n",
       "                                                                                          [-0.04952383, -0.0935308 ,  0.02194462,\n",
       "                                                                                           -0.0230558 ],\n",
       "                                                                                          [-0.0241874 ,  0.0085488 ,  0.02201738,\n",
       "                                                                                            0.3308615 ],\n",
       "                                                                                          [-0.00065659,  0.03702801,  0.00137078,\n",
       "                                                                                            0.15126647]]]]], dtype=float32),\n",
       "                                                            }),\n",
       "   'mini_imagenet_cnn_body/conv_base/conv_block_2/batch_norm': frozendict({\n",
       "                                                                 'offset': ShardedDeviceArray([[[[[-0.09428599, -0.04145732,  0.07891821,\n",
       "                                                                                                   -0.02472315]]]]], dtype=float32),\n",
       "                                                                 'scale': ShardedDeviceArray([[[[[-0.16321407,  0.18909249,  0.0691463 ,\n",
       "                                                                                                  -0.09258605]]]]], dtype=float32),\n",
       "                                                               }),\n",
       "   'mini_imagenet_cnn_body/conv_base/conv_block_2/conv2_d': frozendict({\n",
       "                                                              'b': ShardedDeviceArray([[-0.00810954, -0.05893037, -0.05454247,  0.01109361]], dtype=float32),\n",
       "                                                              'w': ShardedDeviceArray([[[[[ 0.01972967, -0.00787782, -0.0356831 ,\n",
       "                                                                                            0.01219766],\n",
       "                                                                                          [ 0.02244417, -0.09247051,  0.19899483,\n",
       "                                                                                            0.02816289],\n",
       "                                                                                          [ 0.09890462,  0.04543342,  0.06608997,\n",
       "                                                                                            0.00627666],\n",
       "                                                                                          [-0.00787557, -0.02528975,  0.02441189,\n",
       "                                                                                           -0.01107746]],\n",
       "                                                                   \n",
       "                                                                                         [[ 0.04506639,  0.02519545, -0.0308598 ,\n",
       "                                                                                            0.00983972],\n",
       "                                                                                          [ 0.03517654, -0.028892  ,  0.12387291,\n",
       "                                                                                            0.01913983],\n",
       "                                                                                          [ 0.03898996,  0.04635803,  0.08820257,\n",
       "                                                                                            0.02139667],\n",
       "                                                                                          [-0.02777083, -0.03959556,  0.01415008,\n",
       "                                                                                            0.00223284]],\n",
       "                                                                   \n",
       "                                                                                         [[ 0.05482874,  0.01159639,  0.0085697 ,\n",
       "                                                                                            0.01378693],\n",
       "                                                                                          [ 0.10087997, -0.01451511,  0.03434656,\n",
       "                                                                                            0.01256516],\n",
       "                                                                                          [ 0.00350206, -0.02688781,  0.06880312,\n",
       "                                                                                            0.01567448],\n",
       "                                                                                          [-0.05264552,  0.00780671,  0.00582174,\n",
       "                                                                                           -0.00883159]]],\n",
       "                                                                   \n",
       "                                                                   \n",
       "                                                                                        [[[ 0.0524925 ,  0.01509979, -0.01789835,\n",
       "                                                                                            0.02164807],\n",
       "                                                                                          [ 0.05261908,  0.02199415,  0.16023257,\n",
       "                                                                                            0.03317953],\n",
       "                                                                                          [ 0.04498634,  0.08698922,  0.0244668 ,\n",
       "                                                                                            0.01438987],\n",
       "                                                                                          [-0.02164276, -0.12964077,  0.04863486,\n",
       "                                                                                           -0.01028811]],\n",
       "                                                                   \n",
       "                                                                                         [[ 0.08700064,  0.04116475, -0.01424834,\n",
       "                                                                                            0.0240655 ],\n",
       "                                                                                          [ 0.09174953,  0.01993806,  0.13312863,\n",
       "                                                                                           -0.00143629],\n",
       "                                                                                          [ 0.00698094,  0.04536358,  0.10912752,\n",
       "                                                                                            0.0133326 ],\n",
       "                                                                                          [ 0.00023462, -0.1036757 , -0.04759839,\n",
       "                                                                                           -0.02350548]],\n",
       "                                                                   \n",
       "                                                                                         [[ 0.07159314,  0.01127658,  0.05307173,\n",
       "                                                                                            0.02855652],\n",
       "                                                                                          [ 0.0978505 , -0.01131662,  0.02805935,\n",
       "                                                                                            0.02038151],\n",
       "                                                                                          [-0.01087965,  0.01908869,  0.05768179,\n",
       "                                                                                           -0.00657364],\n",
       "                                                                                          [-0.08285899, -0.10812353, -0.04745442,\n",
       "                                                                                           -0.00706837]]],\n",
       "                                                                   \n",
       "                                                                   \n",
       "                                                                                        [[[ 0.11408339,  0.05337474, -0.03591482,\n",
       "                                                                                            0.02833658],\n",
       "                                                                                          [ 0.0122127 ,  0.04907028,  0.12636563,\n",
       "                                                                                            0.02091088],\n",
       "                                                                                          [ 0.02154868,  0.07505427,  0.0793558 ,\n",
       "                                                                                           -0.00855341],\n",
       "                                                                                          [-0.11816319, -0.10117011,  0.02570472,\n",
       "                                                                                           -0.00928763]],\n",
       "                                                                   \n",
       "                                                                                         [[ 0.12089057,  0.06529561,  0.0055632 ,\n",
       "                                                                                            0.02793996],\n",
       "                                                                                          [ 0.01532555,  0.068423  ,  0.12435115,\n",
       "                                                                                            0.00397611],\n",
       "                                                                                          [-0.02591228, -0.01743666,  0.11668192,\n",
       "                                                                                            0.00745753],\n",
       "                                                                                          [-0.12041827, -0.17618886, -0.01217523,\n",
       "                                                                                            0.00475017]],\n",
       "                                                                   \n",
       "                                                                                         [[ 0.10450272,  0.03437982,  0.04192112,\n",
       "                                                                                            0.04098588],\n",
       "                                                                                          [ 0.04609139,  0.00493382, -0.0186912 ,\n",
       "                                                                                            0.00928645],\n",
       "                                                                                          [-0.01641292, -0.02189121,  0.0662706 ,\n",
       "                                                                                           -0.01162995],\n",
       "                                                                                          [-0.11697732, -0.12719479,  0.02793247,\n",
       "                                                                                            0.01983086]]]]], dtype=float32),\n",
       "                                                            }),\n",
       "   'mini_imagenet_cnn_body/conv_base/conv_block_3/batch_norm': frozendict({\n",
       "                                                                 'offset': ShardedDeviceArray([[[[[ 0.16975978, -0.25988972,  0.7424685 ,\n",
       "                                                                                                   -0.06058075]]]]], dtype=float32),\n",
       "                                                                 'scale': ShardedDeviceArray([[[[[0.15768385, 0.18012296, 0.71403897,\n",
       "                                                                                                  0.12084704]]]]], dtype=float32),\n",
       "                                                               }),\n",
       "   'mini_imagenet_cnn_body/conv_base/conv_block_3/conv2_d': frozendict({\n",
       "                                                              'b': ShardedDeviceArray([[-0.03242499, -0.07097581, -0.05332411, -0.03646543]], dtype=float32),\n",
       "                                                              'w': ShardedDeviceArray([[[[[-0.01913561, -0.08906242, -0.04411835,\n",
       "                                                                                           -0.0154681 ],\n",
       "                                                                                          [ 0.1120642 ,  0.16275394, -0.09628595,\n",
       "                                                                                            0.12853563],\n",
       "                                                                                          [ 0.082436  ,  0.16665855,  0.02632976,\n",
       "                                                                                            0.12037047],\n",
       "                                                                                          [-0.03574491, -0.09965214, -0.14382792,\n",
       "                                                                                           -0.11315074]],\n",
       "                                                                   \n",
       "                                                                                         [[-0.04897505, -0.16543731, -0.13878015,\n",
       "                                                                                           -0.05519351],\n",
       "                                                                                          [ 0.11490113,  0.11655043,  0.03934285,\n",
       "                                                                                            0.13866434],\n",
       "                                                                                          [ 0.10340004,  0.16389537,  0.04597945,\n",
       "                                                                                            0.18471068],\n",
       "                                                                                          [-0.04208744, -0.07288625, -0.12131935,\n",
       "                                                                                           -0.09685188]],\n",
       "                                                                   \n",
       "                                                                                         [[-0.043781  , -0.06614551, -0.0261116 ,\n",
       "                                                                                           -0.04654253],\n",
       "                                                                                          [ 0.09722271,  0.10048749, -0.07272676,\n",
       "                                                                                            0.15329888],\n",
       "                                                                                          [ 0.07009974,  0.10943656, -0.00368109,\n",
       "                                                                                            0.13852128],\n",
       "                                                                                          [-0.00643717,  0.01984185, -0.05243513,\n",
       "                                                                                           -0.07395673]]],\n",
       "                                                                   \n",
       "                                                                   \n",
       "                                                                                        [[[-0.08143863, -0.12205373, -0.10867415,\n",
       "                                                                                           -0.05277536],\n",
       "                                                                                          [ 0.15503459,  0.15330645,  0.00318526,\n",
       "                                                                                            0.19253688],\n",
       "                                                                                          [ 0.17061256,  0.13387588,  0.07877445,\n",
       "                                                                                            0.13792853],\n",
       "                                                                                          [-0.05139425, -0.13227484, -0.10406177,\n",
       "                                                                                           -0.13400668]],\n",
       "                                                                   \n",
       "                                                                                         [[-0.08662695, -0.19175038, -0.11846422,\n",
       "                                                                                           -0.07551926],\n",
       "                                                                                          [ 0.10292041,  0.13413881, -0.02940768,\n",
       "                                                                                            0.16593255],\n",
       "                                                                                          [ 0.15190057,  0.125102  ,  0.14972238,\n",
       "                                                                                            0.1732361 ],\n",
       "                                                                                          [-0.04158654, -0.10044876, -0.06090236,\n",
       "                                                                                           -0.12349076]],\n",
       "                                                                   \n",
       "                                                                                         [[-0.05779081, -0.0757743 ,  0.07096715,\n",
       "                                                                                           -0.07019595],\n",
       "                                                                                          [ 0.06486326,  0.08162042, -0.04589449,\n",
       "                                                                                            0.1695233 ],\n",
       "                                                                                          [ 0.1403326 ,  0.12508893,  0.04290092,\n",
       "                                                                                            0.13622807],\n",
       "                                                                                          [-0.02433937, -0.01936024, -0.05647998,\n",
       "                                                                                           -0.10703744]]],\n",
       "                                                                   \n",
       "                                                                   \n",
       "                                                                                        [[[-0.13187417, -0.07169496, -0.10447268,\n",
       "                                                                                           -0.09536621],\n",
       "                                                                                          [ 0.16755196,  0.10688733,  0.08899439,\n",
       "                                                                                            0.12427776],\n",
       "                                                                                          [ 0.19124159,  0.11001097,  0.10468821,\n",
       "                                                                                            0.15654257],\n",
       "                                                                                          [-0.07927438, -0.07452735, -0.14528702,\n",
       "                                                                                           -0.10976813]],\n",
       "                                                                   \n",
       "                                                                                         [[-0.12051941, -0.11766309, -0.1683119 ,\n",
       "                                                                                           -0.12278666],\n",
       "                                                                                          [ 0.10088019,  0.10802235,  0.10145859,\n",
       "                                                                                            0.16797155],\n",
       "                                                                                          [ 0.16908033,  0.10246734,  0.21053194,\n",
       "                                                                                            0.2081739 ],\n",
       "                                                                                          [-0.06347053, -0.11171234, -0.15046123,\n",
       "                                                                                           -0.12826842]],\n",
       "                                                                   \n",
       "                                                                                         [[-0.1062502 , -0.08187655, -0.1123323 ,\n",
       "                                                                                           -0.06655639],\n",
       "                                                                                          [ 0.11983415,  0.12011534,  0.05847996,\n",
       "                                                                                            0.1673547 ],\n",
       "                                                                                          [ 0.15895596,  0.11244835,  0.04419932,\n",
       "                                                                                            0.13658682],\n",
       "                                                                                          [-0.05228232, -0.02141837, -0.08875217,\n",
       "                                                                                           -0.10084526]]]]], dtype=float32),\n",
       "                                                            }),\n",
       " }), frozendict({\n",
       "   'mini_imagenet_cnn_head/linear': frozendict({\n",
       "                                      'b': ShardedDeviceArray([[-0.48734993, -0.46762925,  0.01342067,  0.0378961 ,\n",
       "                                                                 0.02865496,  0.00629689,  0.01488162,  0.01806799,\n",
       "                                                                 0.00802356,  0.00365258,  0.01043283,  0.06066682,\n",
       "                                                                 0.01877607,  0.00854331,  0.00624865,  0.017678  ,\n",
       "                                                                 0.01669519,  0.00968813,  0.00480908,  0.00942253,\n",
       "                                                                 0.01272748,  0.02115029,  0.01874971,  0.01399854,\n",
       "                                                                 0.00814302,  0.00972415,  0.02203665,  0.00975944,\n",
       "                                                                 0.0147703 ,  0.01241919,  0.01038073,  0.01807895,\n",
       "                                                                 0.00914898,  0.02604184,  0.01695039,  0.0177463 ,\n",
       "                                                                 0.0263676 ,  0.0097096 ,  0.00581638,  0.01496018,\n",
       "                                                                 0.00775853,  0.0343068 ,  0.0114159 ,  0.02716003,\n",
       "                                                                 0.02283382,  0.00776464,  0.01275728,  0.02128028,\n",
       "                                                                 0.00707769,  0.01547759,  0.00738734,  0.01353936,\n",
       "                                                                 0.01473732,  0.01192693,  0.01390589,  0.0159527 ,\n",
       "                                                                 0.00606447,  0.00749173,  0.01304448,  0.00934051,\n",
       "                                                                 0.02155878,  0.04724543,  0.00764102,  0.00477594]],                   dtype=float32),\n",
       "                                      'w': ShardedDeviceArray([[[0., 0., 0., 0., 0., 0., 0., 0., 0., 0., 0., 0.,\n",
       "                                                                 0., 0., 0., 0., 0., 0., 0., 0., 0., 0., 0., 0.,\n",
       "                                                                 0., 0., 0., 0., 0., 0., 0., 0., 0., 0., 0., 0.,\n",
       "                                                                 0., 0., 0., 0., 0., 0., 0., 0., 0., 0., 0., 0.,\n",
       "                                                                 0., 0., 0., 0., 0., 0., 0., 0., 0., 0., 0., 0.,\n",
       "                                                                 0., 0., 0., 0.],\n",
       "                                                                [0., 0., 0., 0., 0., 0., 0., 0., 0., 0., 0., 0.,\n",
       "                                                                 0., 0., 0., 0., 0., 0., 0., 0., 0., 0., 0., 0.,\n",
       "                                                                 0., 0., 0., 0., 0., 0., 0., 0., 0., 0., 0., 0.,\n",
       "                                                                 0., 0., 0., 0., 0., 0., 0., 0., 0., 0., 0., 0.,\n",
       "                                                                 0., 0., 0., 0., 0., 0., 0., 0., 0., 0., 0., 0.,\n",
       "                                                                 0., 0., 0., 0.],\n",
       "                                                                [0., 0., 0., 0., 0., 0., 0., 0., 0., 0., 0., 0.,\n",
       "                                                                 0., 0., 0., 0., 0., 0., 0., 0., 0., 0., 0., 0.,\n",
       "                                                                 0., 0., 0., 0., 0., 0., 0., 0., 0., 0., 0., 0.,\n",
       "                                                                 0., 0., 0., 0., 0., 0., 0., 0., 0., 0., 0., 0.,\n",
       "                                                                 0., 0., 0., 0., 0., 0., 0., 0., 0., 0., 0., 0.,\n",
       "                                                                 0., 0., 0., 0.],\n",
       "                                                                [0., 0., 0., 0., 0., 0., 0., 0., 0., 0., 0., 0.,\n",
       "                                                                 0., 0., 0., 0., 0., 0., 0., 0., 0., 0., 0., 0.,\n",
       "                                                                 0., 0., 0., 0., 0., 0., 0., 0., 0., 0., 0., 0.,\n",
       "                                                                 0., 0., 0., 0., 0., 0., 0., 0., 0., 0., 0., 0.,\n",
       "                                                                 0., 0., 0., 0., 0., 0., 0., 0., 0., 0., 0., 0.,\n",
       "                                                                 0., 0., 0., 0.]]], dtype=float32),\n",
       "                                    }),\n",
       " }))),\n",
       " ScaleByAdamState(count=ShardedDeviceArray([8], dtype=int32), mu=(frozendict({\n",
       "   'mini_imagenet_cnn_body/conv_base/conv_block/batch_norm': frozendict({\n",
       "                                                               'offset': ShardedDeviceArray([[[[[-0.00510381, -0.02188976, -0.00667943,\n",
       "                                                                                                 -0.0044767 ]]]]], dtype=float32),\n",
       "                                                               'scale': ShardedDeviceArray([[[[[ 0.02452463, -0.02243702,  0.00895394,\n",
       "                                                                                                -0.01084773]]]]], dtype=float32),\n",
       "                                                             }),\n",
       "   'mini_imagenet_cnn_body/conv_base/conv_block/conv2_d': frozendict({\n",
       "                                                            'b': ShardedDeviceArray([[ 0.00058022, -0.00354556, -0.00283065, -0.00216635]], dtype=float32),\n",
       "                                                            'w': ShardedDeviceArray([[[[[ 0.00475135, -0.0132944 ,  0.0056391 ,\n",
       "                                                                                          0.0116231 ],\n",
       "                                                                                        [ 0.0156243 ,  0.00938006,  0.01216845,\n",
       "                                                                                          0.00422053],\n",
       "                                                                                        [ 0.01768932,  0.0251719 ,  0.01423125,\n",
       "                                                                                         -0.00667325]],\n",
       "                                                                 \n",
       "                                                                                       [[ 0.01117601, -0.01231962, -0.00640747,\n",
       "                                                                                          0.00368985],\n",
       "                                                                                        [ 0.02052279,  0.01199092,  0.00217979,\n",
       "                                                                                         -0.00407936],\n",
       "                                                                                        [ 0.0188583 ,  0.03039898,  0.00802414,\n",
       "                                                                                         -0.01157736]],\n",
       "                                                                 \n",
       "                                                                                       [[ 0.00813922, -0.00545725,  0.00789979,\n",
       "                                                                                         -0.00308825],\n",
       "                                                                                        [ 0.01864246,  0.01519439,  0.02405935,\n",
       "                                                                                         -0.01146166],\n",
       "                                                                                        [ 0.0228835 ,  0.03339468,  0.02890297,\n",
       "                                                                                         -0.01823333]]],\n",
       "                                                                 \n",
       "                                                                 \n",
       "                                                                                      [[[-0.00159887, -0.01169177, -0.00246004,\n",
       "                                                                                          0.0134074 ],\n",
       "                                                                                        [ 0.00307817,  0.00766314, -0.00046745,\n",
       "                                                                                          0.00734303],\n",
       "                                                                                        [ 0.00937189,  0.02277941,  0.00831869,\n",
       "                                                                                         -0.0022398 ]],\n",
       "                                                                 \n",
       "                                                                                       [[-0.00048835, -0.01040102, -0.0089525 ,\n",
       "                                                                                          0.00716893],\n",
       "                                                                                        [ 0.00488245,  0.01116537, -0.00340942,\n",
       "                                                                                          0.00055875],\n",
       "                                                                                        [ 0.00926104,  0.02897277,  0.00041979,\n",
       "                                                                                         -0.00661525]],\n",
       "                                                                 \n",
       "                                                                                       [[-0.00130469, -0.00542786,  0.01192572,\n",
       "                                                                                          0.00242474],\n",
       "                                                                                        [ 0.00309132,  0.01415454,  0.02305787,\n",
       "                                                                                         -0.00540759],\n",
       "                                                                                        [ 0.00784235,  0.03049609,  0.02507298,\n",
       "                                                                                         -0.01151249]]],\n",
       "                                                                 \n",
       "                                                                 \n",
       "                                                                                      [[[ 0.00278141, -0.00382873,  0.00343229,\n",
       "                                                                                          0.01279119],\n",
       "                                                                                        [ 0.00778207,  0.0160696 ,  0.01083351,\n",
       "                                                                                          0.00924219],\n",
       "                                                                                        [ 0.01316731,  0.02909951,  0.02060095,\n",
       "                                                                                         -0.00088039]],\n",
       "                                                                 \n",
       "                                                                                       [[ 0.0057467 , -0.00642287,  0.00087146,\n",
       "                                                                                          0.0107009 ],\n",
       "                                                                                        [ 0.01202412,  0.0136518 ,  0.00890935,\n",
       "                                                                                          0.00637679],\n",
       "                                                                                        [ 0.01789643,  0.0290612 ,  0.01517362,\n",
       "                                                                                         -0.00197579]],\n",
       "                                                                 \n",
       "                                                                                       [[ 0.01915285, -0.00571571,  0.00703707,\n",
       "                                                                                          0.0074534 ],\n",
       "                                                                                        [ 0.0271776 ,  0.01322527,  0.01791875,\n",
       "                                                                                          0.00237777],\n",
       "                                                                                        [ 0.02651048,  0.02428646,  0.01976677,\n",
       "                                                                                         -0.00559761]]]]], dtype=float32),\n",
       "                                                          }),\n",
       "   'mini_imagenet_cnn_body/conv_base/conv_block_1/batch_norm': frozendict({\n",
       "                                                                 'offset': ShardedDeviceArray([[[[[-0.0086896 ,  0.01096212,  0.00912133,\n",
       "                                                                                                    0.01762715]]]]], dtype=float32),\n",
       "                                                                 'scale': ShardedDeviceArray([[[[[-0.00256428,  0.02694049, -0.00700009,\n",
       "                                                                                                  -0.01720351]]]]], dtype=float32),\n",
       "                                                               }),\n",
       "   'mini_imagenet_cnn_body/conv_base/conv_block_1/conv2_d': frozendict({\n",
       "                                                              'b': ShardedDeviceArray([[-0.00267151, -0.01751036, -0.0055736 ,  0.01082197]], dtype=float32),\n",
       "                                                              'w': ShardedDeviceArray([[[[[ 5.94241079e-04,  1.23399366e-02,\n",
       "                                                                                           -1.21284579e-03,  1.57662164e-02],\n",
       "                                                                                          [ 3.00257187e-03, -1.99419409e-02,\n",
       "                                                                                            4.58249357e-03,  6.31448813e-03],\n",
       "                                                                                          [ 3.92636890e-03,  1.19710304e-02,\n",
       "                                                                                            4.69326135e-03,  1.83977708e-02],\n",
       "                                                                                          [-9.11231386e-04,  9.22854524e-03,\n",
       "                                                                                            2.30488065e-03,  3.66554968e-03]],\n",
       "                                                                   \n",
       "                                                                                         [[ 4.07215534e-03,  7.98745267e-03,\n",
       "                                                                                            2.12767161e-03,  1.83879063e-02],\n",
       "                                                                                          [-5.41317160e-04, -1.44547708e-02,\n",
       "                                                                                            4.55021998e-03,  1.05384886e-02],\n",
       "                                                                                          [ 1.51576474e-03,  9.77697782e-03,\n",
       "                                                                                            3.71770421e-03,  8.79223086e-03],\n",
       "                                                                                          [ 1.55005290e-03,  3.95369995e-03,\n",
       "                                                                                            3.81079433e-03,  1.74225811e-02]],\n",
       "                                                                   \n",
       "                                                                                         [[ 5.90017810e-03,  6.17945474e-03,\n",
       "                                                                                            1.48808835e-02,  2.63329595e-02],\n",
       "                                                                                          [-3.53318010e-03, -9.98465717e-03,\n",
       "                                                                                            3.25575471e-03,  2.68100528e-03],\n",
       "                                                                                          [ 7.20130838e-03,  7.38009810e-03,\n",
       "                                                                                            1.07958447e-02,  2.77936086e-02],\n",
       "                                                                                          [ 6.10814989e-03, -1.24853675e-03,\n",
       "                                                                                            7.42201647e-03,  1.56662259e-02]]],\n",
       "                                                                   \n",
       "                                                                   \n",
       "                                                                                        [[[ 2.65902141e-03,  1.07284281e-02,\n",
       "                                                                                            6.61123078e-03, -1.71240955e-03],\n",
       "                                                                                          [ 9.12032090e-04, -1.78489164e-02,\n",
       "                                                                                           -9.47050378e-03,  1.93851292e-02],\n",
       "                                                                                          [ 4.89770155e-03,  1.07329125e-02,\n",
       "                                                                                            9.48381983e-03,  3.29711079e-03],\n",
       "                                                                                          [-2.17773044e-03,  6.82536326e-03,\n",
       "                                                                                            4.77266964e-03, -1.05992844e-03]],\n",
       "                                                                   \n",
       "                                                                                         [[ 5.06519992e-03,  1.54230185e-03,\n",
       "                                                                                            1.08987736e-02,  4.48838994e-03],\n",
       "                                                                                          [-2.92302808e-03, -5.82928676e-03,\n",
       "                                                                                           -4.81879245e-03,  2.33961828e-02],\n",
       "                                                                                          [ 3.03785549e-03,  7.51701649e-03,\n",
       "                                                                                            1.12804063e-02, -8.57121311e-04],\n",
       "                                                                                          [ 5.38788736e-03, -3.06951441e-03,\n",
       "                                                                                            5.57525735e-03,  1.81425996e-02]],\n",
       "                                                                   \n",
       "                                                                                         [[ 9.26229171e-03, -1.38229853e-03,\n",
       "                                                                                            1.49142062e-02,  1.37034319e-02],\n",
       "                                                                                          [-8.95834062e-03, -4.56441194e-04,\n",
       "                                                                                           -3.80676612e-03,  2.70412937e-02],\n",
       "                                                                                          [ 8.40808451e-03,  3.44906002e-05,\n",
       "                                                                                            1.13461986e-02,  1.90450307e-02],\n",
       "                                                                                          [ 9.53132287e-03, -1.03076315e-03,\n",
       "                                                                                            2.26173969e-03,  6.80224970e-04]]],\n",
       "                                                                   \n",
       "                                                                   \n",
       "                                                                                        [[[-8.32367782e-03,  1.35183167e-02,\n",
       "                                                                                            7.70688057e-03,  1.61257610e-02],\n",
       "                                                                                          [ 3.91955022e-03, -1.50578227e-02,\n",
       "                                                                                           -7.64687080e-03,  1.19459219e-02],\n",
       "                                                                                          [-7.24741677e-03,  1.15161641e-02,\n",
       "                                                                                            5.97143546e-03,  1.90034714e-02],\n",
       "                                                                                          [-1.09650604e-02,  7.03439582e-03,\n",
       "                                                                                            4.79902141e-03,  2.02423669e-02]],\n",
       "                                                                   \n",
       "                                                                                         [[-4.61260509e-03,  1.88312284e-03,\n",
       "                                                                                            1.09336386e-02,  2.96071749e-02],\n",
       "                                                                                          [ 9.86859086e-05, -7.84956943e-03,\n",
       "                                                                                           -7.89736491e-03,  1.04541071e-02],\n",
       "                                                                                          [-7.19793513e-03,  5.75781800e-03,\n",
       "                                                                                            1.13618672e-02,  1.76885538e-02],\n",
       "                                                                                          [-4.77029476e-03, -1.47951103e-03,\n",
       "                                                                                            1.68359606e-03,  3.78848240e-02]],\n",
       "                                                                   \n",
       "                                                                                         [[ 1.24939834e-03,  7.05190003e-04,\n",
       "                                                                                            9.19372402e-03,  4.52544875e-02],\n",
       "                                                                                          [-8.35146755e-03, -4.20993567e-03,\n",
       "                                                                                           -2.19510193e-03,  9.40331351e-03],\n",
       "                                                                                          [-1.55206281e-03,  2.11869134e-03,\n",
       "                                                                                            9.16964561e-03,  4.25220132e-02],\n",
       "                                                                                          [-3.71496542e-04,  4.33061877e-03,\n",
       "                                                                                           -3.13785975e-03,  2.38424651e-02]]]]],                   dtype=float32),\n",
       "                                                            }),\n",
       "   'mini_imagenet_cnn_body/conv_base/conv_block_2/batch_norm': frozendict({\n",
       "                                                                 'offset': ShardedDeviceArray([[[[[-0.0200486 , -0.00580605,  0.01387123,\n",
       "                                                                                                   -0.00696793]]]]], dtype=float32),\n",
       "                                                                 'scale': ShardedDeviceArray([[[[[-0.02574198,  0.0529881 , -0.00982369,\n",
       "                                                                                                  -0.01705368]]]]], dtype=float32),\n",
       "                                                               }),\n",
       "   'mini_imagenet_cnn_body/conv_base/conv_block_2/conv2_d': frozendict({\n",
       "                                                              'b': ShardedDeviceArray([[ 0.00174457, -0.01496467, -0.00547747,  0.00134774]], dtype=float32),\n",
       "                                                              'w': ShardedDeviceArray([[[[[ 9.6227573e-03,  8.4970187e-04,\n",
       "                                                                                           -9.0117436e-03,  2.1279149e-04],\n",
       "                                                                                          [ 1.6477264e-02, -2.0671796e-02,\n",
       "                                                                                            4.2133287e-02,  1.4956320e-02],\n",
       "                                                                                          [ 1.6244899e-02,  1.0563429e-02,\n",
       "                                                                                            1.8894497e-02,  6.0424940e-03],\n",
       "                                                                                          [-7.5696418e-03,  7.8200735e-03,\n",
       "                                                                                            1.0347653e-02, -7.8512970e-03]],\n",
       "                                                                   \n",
       "                                                                                         [[ 1.3535956e-02,  3.2048037e-03,\n",
       "                                                                                           -1.3488019e-02, -1.5331261e-03],\n",
       "                                                                                          [ 8.4336177e-03, -1.7290196e-03,\n",
       "                                                                                            2.9246092e-02,  9.8172808e-03],\n",
       "                                                                                          [ 1.6172934e-02,  4.5127766e-03,\n",
       "                                                                                            2.7496129e-02,  1.2206856e-02],\n",
       "                                                                                          [-9.2121195e-03,  6.2390449e-03,\n",
       "                                                                                            6.4680683e-03, -6.1095473e-03]],\n",
       "                                                                   \n",
       "                                                                                         [[ 1.6592301e-02, -5.3636730e-04,\n",
       "                                                                                           -5.3822054e-03,  6.6739123e-04],\n",
       "                                                                                          [ 2.1480568e-02, -1.9095722e-04,\n",
       "                                                                                            8.8555925e-03,  8.7947752e-03],\n",
       "                                                                                          [ 7.8520747e-03,  2.4559787e-03,\n",
       "                                                                                            2.7154787e-02,  6.7174709e-03],\n",
       "                                                                                          [-1.6454586e-03,  1.1181491e-02,\n",
       "                                                                                            4.2649438e-03, -1.0553022e-03]]],\n",
       "                                                                   \n",
       "                                                                   \n",
       "                                                                                        [[[ 1.1562016e-02, -3.5897817e-03,\n",
       "                                                                                           -2.5504532e-03,  3.5845600e-03],\n",
       "                                                                                          [ 1.6668033e-02,  2.8761735e-03,\n",
       "                                                                                            4.2757489e-02,  1.7349662e-02],\n",
       "                                                                                          [ 8.7819276e-03,  1.6899375e-02,\n",
       "                                                                                            9.7744176e-03,  3.7087887e-03],\n",
       "                                                                                          [-1.8180484e-02, -6.9396077e-03,\n",
       "                                                                                            1.2498330e-02, -7.6581412e-03]],\n",
       "                                                                   \n",
       "                                                                                         [[ 1.3878983e-02,  1.5008398e-03,\n",
       "                                                                                           -5.5610528e-03,  2.4617673e-03],\n",
       "                                                                                          [ 2.0726874e-02,  1.0344565e-02,\n",
       "                                                                                            2.8917760e-02,  7.2746826e-03],\n",
       "                                                                                          [ 8.5867466e-03,  1.4310593e-02,\n",
       "                                                                                            2.4748400e-02,  9.1964751e-03],\n",
       "                                                                                          [-6.0124779e-03,  5.9715640e-03,\n",
       "                                                                                           -1.6447173e-03, -8.6719869e-03]],\n",
       "                                                                   \n",
       "                                                                                         [[ 6.6160718e-03, -1.7974316e-03,\n",
       "                                                                                            6.1304527e-03,  5.6681545e-03],\n",
       "                                                                                          [ 3.7855059e-02,  3.4147315e-03,\n",
       "                                                                                            1.7971668e-02,  7.1048546e-03],\n",
       "                                                                                          [ 1.4266470e-02,  1.5432799e-02,\n",
       "                                                                                            1.7585779e-02,  4.7912849e-03],\n",
       "                                                                                          [-6.0325130e-03,  7.2534010e-03,\n",
       "                                                                                           -6.7889178e-03, -6.0804733e-03]]],\n",
       "                                                                   \n",
       "                                                                   \n",
       "                                                                                        [[[ 2.3685846e-02, -1.5671831e-05,\n",
       "                                                                                            5.1246099e-03,  5.5844137e-03],\n",
       "                                                                                          [ 1.3387037e-02,  1.0453431e-02,\n",
       "                                                                                            3.6574207e-02,  1.3106894e-02],\n",
       "                                                                                          [ 1.0242413e-02,  1.0791729e-02,\n",
       "                                                                                            9.2581753e-03,  4.0720697e-03],\n",
       "                                                                                          [-2.9566307e-02, -1.8029818e-02,\n",
       "                                                                                            7.8916794e-04, -1.7831244e-03]],\n",
       "                                                                   \n",
       "                                                                                         [[ 2.6003376e-02,  4.1196216e-03,\n",
       "                                                                                            7.4308882e-03,  4.3762513e-03],\n",
       "                                                                                          [ 1.7333286e-02,  2.8707527e-02,\n",
       "                                                                                            3.1247742e-02,  6.1546569e-03],\n",
       "                                                                                          [ 4.0565664e-03,  1.3535279e-02,\n",
       "                                                                                            1.6745754e-02,  9.3591847e-03],\n",
       "                                                                                          [-1.7843574e-02, -1.7749256e-02,\n",
       "                                                                                           -2.8891210e-03, -4.2796452e-03]],\n",
       "                                                                   \n",
       "                                                                                         [[ 1.5221203e-02, -4.2924122e-04,\n",
       "                                                                                            1.5685100e-02,  8.3889132e-03],\n",
       "                                                                                          [ 3.3580743e-02,  3.4506163e-03,\n",
       "                                                                                            2.1065220e-02,  6.3177524e-03],\n",
       "                                                                                          [ 4.7320798e-03,  1.2397690e-02,\n",
       "                                                                                            7.6394994e-03,  5.2692401e-03],\n",
       "                                                                                          [-1.4296725e-02, -5.7604844e-03,\n",
       "                                                                                           -1.9607365e-03,  1.0369024e-03]]]]],                   dtype=float32),\n",
       "                                                            }),\n",
       "   'mini_imagenet_cnn_body/conv_base/conv_block_3/batch_norm': frozendict({\n",
       "                                                                 'offset': ShardedDeviceArray([[[[[ 0.05083781, -0.07353971,  0.22116813,\n",
       "                                                                                                   -0.01796165]]]]], dtype=float32),\n",
       "                                                                 'scale': ShardedDeviceArray([[[[[0.06401965, 0.01808336, 0.20366687,\n",
       "                                                                                                  0.03233835]]]]], dtype=float32),\n",
       "                                                               }),\n",
       "   'mini_imagenet_cnn_body/conv_base/conv_block_3/conv2_d': frozendict({\n",
       "                                                              'b': ShardedDeviceArray([[-0.00730319, -0.01222465, -0.00894285, -0.00896411]], dtype=float32),\n",
       "                                                              'w': ShardedDeviceArray([[[[[-8.02275352e-03, -1.55630028e-02,\n",
       "                                                                                           -3.03991828e-02,  1.30986972e-02],\n",
       "                                                                                          [ 2.52386890e-02,  2.88206227e-02,\n",
       "                                                                                           -1.60507020e-03,  1.57993585e-02],\n",
       "                                                                                          [ 1.12233646e-02,  3.33918184e-02,\n",
       "                                                                                            3.51309590e-02,  2.88283639e-03],\n",
       "                                                                                          [-2.40394790e-02, -1.82054453e-02,\n",
       "                                                                                           -2.72557884e-02, -1.38394078e-02]],\n",
       "                                                                   \n",
       "                                                                                         [[-4.90523595e-03, -3.03486045e-02,\n",
       "                                                                                           -5.39960414e-02,  5.17704571e-03],\n",
       "                                                                                          [ 2.74204165e-02,  2.84836255e-02,\n",
       "                                                                                            3.45650017e-02,  1.86251570e-02],\n",
       "                                                                                          [ 1.46540776e-02,  3.41272056e-02,\n",
       "                                                                                            4.36816514e-02,  1.08496603e-02],\n",
       "                                                                                          [-2.52470691e-02, -1.57813095e-02,\n",
       "                                                                                           -1.75813343e-02, -9.31084622e-03]],\n",
       "                                                                   \n",
       "                                                                                         [[-1.49872173e-02, -1.48204956e-02,\n",
       "                                                                                           -2.18256153e-02,  1.09600816e-02],\n",
       "                                                                                          [ 2.43310146e-02,  2.35967971e-02,\n",
       "                                                                                            1.58686321e-02,  1.30166989e-02],\n",
       "                                                                                          [ 1.28489602e-02,  2.44751237e-02,\n",
       "                                                                                            2.77239978e-02, -8.91666859e-04],\n",
       "                                                                                          [-1.85641311e-02,  7.47908372e-04,\n",
       "                                                                                           -2.86736386e-03, -6.47457130e-03]]],\n",
       "                                                                   \n",
       "                                                                   \n",
       "                                                                                        [[[ 5.89331612e-05, -1.69511456e-02,\n",
       "                                                                                           -4.98474389e-02,  4.86538606e-03],\n",
       "                                                                                          [ 2.48895958e-02,  3.17190289e-02,\n",
       "                                                                                            3.42852287e-02,  1.92674287e-02],\n",
       "                                                                                          [ 1.67239662e-02,  2.78628506e-02,\n",
       "                                                                                            2.55033113e-02,  7.41954334e-03],\n",
       "                                                                                          [-1.89419016e-02, -2.84648817e-02,\n",
       "                                                                                           -2.63445415e-02, -2.19923630e-02]],\n",
       "                                                                   \n",
       "                                                                                         [[-9.47201345e-03, -3.92710231e-02,\n",
       "                                                                                           -5.16876392e-02,  2.94629019e-04],\n",
       "                                                                                          [ 2.04260051e-02,  2.51712687e-02,\n",
       "                                                                                            2.58653648e-02,  1.55386105e-02],\n",
       "                                                                                          [ 1.75359976e-02,  2.68366244e-02,\n",
       "                                                                                            4.48026583e-02,  7.31114484e-03],\n",
       "                                                                                          [-1.72477849e-02, -2.29693688e-02,\n",
       "                                                                                           -1.48950517e-02, -1.16437916e-02]],\n",
       "                                                                   \n",
       "                                                                                         [[-1.09207220e-02, -1.17112920e-02,\n",
       "                                                                                           -5.08515909e-03,  7.72200152e-03],\n",
       "                                                                                          [ 1.29879359e-02,  2.21213475e-02,\n",
       "                                                                                            1.41852554e-02,  1.61509048e-02],\n",
       "                                                                                          [ 1.55465771e-02,  2.61919908e-02,\n",
       "                                                                                            2.35416740e-02, -3.83026898e-03],\n",
       "                                                                                          [-1.39644975e-02, -5.83274662e-03,\n",
       "                                                                                           -1.71123724e-02, -7.24967150e-03]]],\n",
       "                                                                   \n",
       "                                                                   \n",
       "                                                                                        [[[-6.39248220e-03, -1.20298769e-02,\n",
       "                                                                                           -3.22003961e-02, -6.18515164e-03],\n",
       "                                                                                          [ 2.78742388e-02,  2.44706366e-02,\n",
       "                                                                                            2.00591348e-02,  1.78915840e-02],\n",
       "                                                                                          [ 1.25090992e-02,  2.91110612e-02,\n",
       "                                                                                            4.23254259e-02,  1.07893515e-02],\n",
       "                                                                                          [-1.97705720e-02, -2.12026592e-02,\n",
       "                                                                                           -2.86373198e-02, -2.43438222e-02]],\n",
       "                                                                   \n",
       "                                                                                         [[-1.56797394e-02, -2.94752866e-02,\n",
       "                                                                                           -5.58969267e-02, -7.17727467e-03],\n",
       "                                                                                          [ 2.65264064e-02,  2.60857977e-02,\n",
       "                                                                                            3.64434533e-02,  2.03694217e-02],\n",
       "                                                                                          [ 1.06414016e-02,  2.68263817e-02,\n",
       "                                                                                            6.65442720e-02,  1.80548504e-02],\n",
       "                                                                                          [-1.25743831e-02, -2.63832062e-02,\n",
       "                                                                                           -2.30218545e-02, -1.88274235e-02]],\n",
       "                                                                   \n",
       "                                                                                         [[-6.86663203e-03, -1.38778910e-02,\n",
       "                                                                                           -3.57150957e-02,  7.35613098e-03],\n",
       "                                                                                          [ 1.84940137e-02,  2.27012336e-02,\n",
       "                                                                                            1.96908228e-02,  1.44060543e-02],\n",
       "                                                                                          [ 1.28438305e-02,  2.84756683e-02,\n",
       "                                                                                            3.21532972e-02,  3.50120384e-03],\n",
       "                                                                                          [-1.53045394e-02, -1.04551632e-02,\n",
       "                                                                                           -1.58118512e-02, -1.22106820e-02]]]]],                   dtype=float32),\n",
       "                                                            }),\n",
       " }), frozendict({\n",
       "   'mini_imagenet_cnn_head/linear': frozendict({\n",
       "                                      'b': ShardedDeviceArray([[-0.14627913, -0.14006469,  0.00411757,  0.0112117 ,\n",
       "                                                                 0.0087022 ,  0.00177042,  0.00429152,  0.00489175,\n",
       "                                                                 0.00221827,  0.00109712,  0.00315522,  0.02009501,\n",
       "                                                                 0.00597109,  0.00246094,  0.00183886,  0.00516455,\n",
       "                                                                 0.0045707 ,  0.00294269,  0.00134459,  0.00290671,\n",
       "                                                                 0.00368934,  0.00609018,  0.00545386,  0.00436205,\n",
       "                                                                 0.00230577,  0.00303077,  0.00663939,  0.00291585,\n",
       "                                                                 0.00496059,  0.00361749,  0.00302123,  0.00552748,\n",
       "                                                                 0.0028418 ,  0.00782289,  0.00492705,  0.00557848,\n",
       "                                                                 0.00789271,  0.00305879,  0.00159156,  0.00455955,\n",
       "                                                                 0.00223447,  0.01023443,  0.00362728,  0.00788569,\n",
       "                                                                 0.00635068,  0.00246756,  0.00394296,  0.00628705,\n",
       "                                                                 0.00229847,  0.00439932,  0.00207979,  0.00393095,\n",
       "                                                                 0.00436003,  0.0035577 ,  0.00437946,  0.00466136,\n",
       "                                                                 0.00207439,  0.00225875,  0.00414357,  0.00290777,\n",
       "                                                                 0.00678571,  0.01346831,  0.00203639,  0.00133399]],                   dtype=float32),\n",
       "                                      'w': ShardedDeviceArray([[[0., 0., 0., 0., 0., 0., 0., 0., 0., 0., 0., 0.,\n",
       "                                                                 0., 0., 0., 0., 0., 0., 0., 0., 0., 0., 0., 0.,\n",
       "                                                                 0., 0., 0., 0., 0., 0., 0., 0., 0., 0., 0., 0.,\n",
       "                                                                 0., 0., 0., 0., 0., 0., 0., 0., 0., 0., 0., 0.,\n",
       "                                                                 0., 0., 0., 0., 0., 0., 0., 0., 0., 0., 0., 0.,\n",
       "                                                                 0., 0., 0., 0.],\n",
       "                                                                [0., 0., 0., 0., 0., 0., 0., 0., 0., 0., 0., 0.,\n",
       "                                                                 0., 0., 0., 0., 0., 0., 0., 0., 0., 0., 0., 0.,\n",
       "                                                                 0., 0., 0., 0., 0., 0., 0., 0., 0., 0., 0., 0.,\n",
       "                                                                 0., 0., 0., 0., 0., 0., 0., 0., 0., 0., 0., 0.,\n",
       "                                                                 0., 0., 0., 0., 0., 0., 0., 0., 0., 0., 0., 0.,\n",
       "                                                                 0., 0., 0., 0.],\n",
       "                                                                [0., 0., 0., 0., 0., 0., 0., 0., 0., 0., 0., 0.,\n",
       "                                                                 0., 0., 0., 0., 0., 0., 0., 0., 0., 0., 0., 0.,\n",
       "                                                                 0., 0., 0., 0., 0., 0., 0., 0., 0., 0., 0., 0.,\n",
       "                                                                 0., 0., 0., 0., 0., 0., 0., 0., 0., 0., 0., 0.,\n",
       "                                                                 0., 0., 0., 0., 0., 0., 0., 0., 0., 0., 0., 0.,\n",
       "                                                                 0., 0., 0., 0.],\n",
       "                                                                [0., 0., 0., 0., 0., 0., 0., 0., 0., 0., 0., 0.,\n",
       "                                                                 0., 0., 0., 0., 0., 0., 0., 0., 0., 0., 0., 0.,\n",
       "                                                                 0., 0., 0., 0., 0., 0., 0., 0., 0., 0., 0., 0.,\n",
       "                                                                 0., 0., 0., 0., 0., 0., 0., 0., 0., 0., 0., 0.,\n",
       "                                                                 0., 0., 0., 0., 0., 0., 0., 0., 0., 0., 0., 0.,\n",
       "                                                                 0., 0., 0., 0.]]], dtype=float32),\n",
       "                                    }),\n",
       " })), nu=(frozendict({\n",
       "   'mini_imagenet_cnn_body/conv_base/conv_block/batch_norm': frozendict({\n",
       "                                                               'offset': ShardedDeviceArray([[[[[1.5977464e-06, 3.7549002e-05, 3.3991123e-06,\n",
       "                                                                                                 2.4721885e-06]]]]], dtype=float32),\n",
       "                                                               'scale': ShardedDeviceArray([[[[[3.3609893e-05, 7.1278657e-05, 1.3526316e-05,\n",
       "                                                                                                1.3845357e-05]]]]], dtype=float32),\n",
       "                                                             }),\n",
       "   'mini_imagenet_cnn_body/conv_base/conv_block/conv2_d': frozendict({\n",
       "                                                            'b': ShardedDeviceArray([[1.0795531e-05, 5.4833795e-06, 1.7628576e-05,\n",
       "                                                                                      7.1647599e-07]], dtype=float32),\n",
       "                                                            'w': ShardedDeviceArray([[[[[1.62750507e-06, 1.88045924e-05,\n",
       "                                                                                         3.54412550e-05, 1.06624620e-05],\n",
       "                                                                                        [3.81070568e-05, 1.50007882e-05,\n",
       "                                                                                         1.01298629e-05, 9.30908391e-06],\n",
       "                                                                                        [6.51948794e-05, 2.95272603e-05,\n",
       "                                                                                         3.06958173e-05, 7.49423634e-06]],\n",
       "                                                                 \n",
       "                                                                                       [[8.29603596e-06, 1.39085478e-05,\n",
       "                                                                                         3.62812643e-05, 1.01626324e-06],\n",
       "                                                                                        [3.56010787e-05, 2.13914645e-05,\n",
       "                                                                                         2.02424653e-05, 4.72308602e-06],\n",
       "                                                                                        [4.68636717e-05, 4.36575392e-05,\n",
       "                                                                                         3.41956838e-05, 1.01586093e-05]],\n",
       "                                                                 \n",
       "                                                                                       [[3.49484071e-06, 1.22570873e-05,\n",
       "                                                                                         6.89125682e-06, 1.23567486e-06],\n",
       "                                                                                        [5.39627908e-05, 2.86826617e-05,\n",
       "                                                                                         5.34336068e-05, 7.56824284e-06],\n",
       "                                                                                        [7.28855666e-05, 5.48012249e-05,\n",
       "                                                                                         7.95318265e-05, 1.68406277e-05]]],\n",
       "                                                                 \n",
       "                                                                 \n",
       "                                                                                      [[[1.88709009e-06, 4.63740289e-05,\n",
       "                                                                                         1.72545424e-05, 1.33618487e-05],\n",
       "                                                                                        [2.08882229e-05, 3.21956168e-06,\n",
       "                                                                                         1.19295473e-05, 6.71063026e-06],\n",
       "                                                                                        [3.70450580e-05, 2.67210526e-05,\n",
       "                                                                                         3.00171851e-05, 1.34797267e-06]],\n",
       "                                                                 \n",
       "                                                                                       [[2.74034119e-06, 3.78887125e-05,\n",
       "                                                                                         2.12596970e-05, 3.13162127e-06],\n",
       "                                                                                        [2.17176403e-05, 9.32758394e-06,\n",
       "                                                                                         3.92639195e-05, 1.17352988e-06],\n",
       "                                                                                        [2.97978113e-05, 4.13372909e-05,\n",
       "                                                                                         4.87132020e-05, 4.58322393e-06]],\n",
       "                                                                 \n",
       "                                                                                       [[3.94642166e-06, 2.64987284e-05,\n",
       "                                                                                         2.12928862e-05, 2.84274711e-06],\n",
       "                                                                                        [4.22829107e-05, 1.52141993e-05,\n",
       "                                                                                         8.27271506e-05, 1.86138254e-06],\n",
       "                                                                                        [4.56320631e-05, 4.32626111e-05,\n",
       "                                                                                         1.10470202e-04, 7.39695861e-06]]],\n",
       "                                                                 \n",
       "                                                                 \n",
       "                                                                                      [[[4.75632487e-06, 6.84927363e-05,\n",
       "                                                                                         2.11910192e-05, 1.20219775e-05],\n",
       "                                                                                        [3.10683790e-05, 1.16082538e-05,\n",
       "                                                                                         1.16071005e-05, 7.84241092e-06],\n",
       "                                                                                        [4.35875263e-05, 4.57655333e-05,\n",
       "                                                                                         3.52835486e-05, 5.53586688e-07]],\n",
       "                                                                 \n",
       "                                                                                       [[4.94416918e-06, 3.60344529e-05,\n",
       "                                                                                         1.33907915e-05, 5.55625411e-06],\n",
       "                                                                                        [3.02452918e-05, 1.30447606e-05,\n",
       "                                                                                         3.23773056e-05, 3.34373340e-06],\n",
       "                                                                                        [4.22961057e-05, 3.59070145e-05,\n",
       "                                                                                         4.09534914e-05, 1.49684365e-06]],\n",
       "                                                                 \n",
       "                                                                                       [[2.11561801e-05, 4.58311151e-05,\n",
       "                                                                                         2.16724875e-05, 5.49187644e-06],\n",
       "                                                                                        [7.02991601e-05, 9.74800059e-06,\n",
       "                                                                                         6.50573202e-05, 4.71481030e-07],\n",
       "                                                                                        [8.06468597e-05, 2.79299402e-05,\n",
       "                                                                                         7.99104237e-05, 2.95497080e-06]]]]],                   dtype=float32),\n",
       "                                                          }),\n",
       "   'mini_imagenet_cnn_body/conv_base/conv_block_1/batch_norm': frozendict({\n",
       "                                                                 'offset': ShardedDeviceArray([[[[[6.8689687e-06, 6.6233852e-06, 7.6767355e-06,\n",
       "                                                                                                   1.9066407e-05]]]]], dtype=float32),\n",
       "                                                                 'scale': ShardedDeviceArray([[[[[7.9421152e-06, 3.4476496e-05, 1.7139500e-05,\n",
       "                                                                                                  5.0334653e-05]]]]], dtype=float32),\n",
       "                                                               }),\n",
       "   'mini_imagenet_cnn_body/conv_base/conv_block_1/conv2_d': frozendict({\n",
       "                                                              'b': ShardedDeviceArray([[2.2711572e-06, 1.8322573e-05, 4.4681528e-06,\n",
       "                                                                                        7.5664939e-06]], dtype=float32),\n",
       "                                                              'w': ShardedDeviceArray([[[[[7.26957842e-06, 3.95445786e-05,\n",
       "                                                                                           2.06353548e-07, 2.87765179e-05],\n",
       "                                                                                          [8.78335243e-07, 6.31260045e-05,\n",
       "                                                                                           1.75686673e-05, 8.69967607e-06],\n",
       "                                                                                          [5.60022681e-06, 4.26371807e-05,\n",
       "                                                                                           2.92393611e-06, 2.71735535e-05],\n",
       "                                                                                          [4.45797923e-06, 2.94507827e-05,\n",
       "                                                                                           2.21060418e-06, 6.04122579e-06]],\n",
       "                                                                   \n",
       "                                                                                         [[2.95313771e-06, 5.73799807e-05,\n",
       "                                                                                           2.18540254e-06, 3.54441509e-05],\n",
       "                                                                                          [3.66575904e-07, 3.13559867e-05,\n",
       "                                                                                           1.33421036e-05, 9.97665120e-06],\n",
       "                                                                                          [1.68466318e-06, 4.36495211e-05,\n",
       "                                                                                           6.03167473e-06, 2.70819473e-05],\n",
       "                                                                                          [3.09995607e-06, 2.68924814e-05,\n",
       "                                                                                           6.41599627e-06, 2.70276487e-05]],\n",
       "                                                                   \n",
       "                                                                                         [[1.87038199e-06, 1.79355993e-05,\n",
       "                                                                                           3.50384107e-05, 5.37514097e-05],\n",
       "                                                                                          [8.98935298e-07, 2.92803015e-05,\n",
       "                                                                                           2.44001330e-05, 2.16879798e-05],\n",
       "                                                                                          [2.79534038e-06, 2.11315746e-05,\n",
       "                                                                                           2.58940490e-05, 6.44317333e-05],\n",
       "                                                                                          [5.16947284e-06, 9.82623078e-06,\n",
       "                                                                                           1.40164384e-05, 3.17607919e-05]]],\n",
       "                                                                   \n",
       "                                                                   \n",
       "                                                                                        [[[5.28138401e-07, 3.29302202e-05,\n",
       "                                                                                           3.21124776e-06, 1.65327310e-05],\n",
       "                                                                                          [6.72654551e-07, 3.03695015e-05,\n",
       "                                                                                           1.70722597e-05, 2.92505301e-05],\n",
       "                                                                                          [1.36472624e-06, 3.80368547e-05,\n",
       "                                                                                           5.02776220e-06, 1.37630814e-05],\n",
       "                                                                                          [1.30575847e-06, 2.38434095e-05,\n",
       "                                                                                           1.39133408e-06, 2.71685781e-06]],\n",
       "                                                                   \n",
       "                                                                                         [[5.30902889e-06, 5.20877838e-05,\n",
       "                                                                                           1.07004535e-05, 3.89834277e-05],\n",
       "                                                                                          [1.04203218e-06, 2.65128438e-05,\n",
       "                                                                                           2.14987886e-05, 4.76814457e-05],\n",
       "                                                                                          [4.04179673e-06, 4.65506128e-05,\n",
       "                                                                                           8.21667709e-06, 3.13120945e-05],\n",
       "                                                                                          [1.28341276e-06, 2.89372583e-05,\n",
       "                                                                                           7.20988373e-06, 2.98978121e-05]],\n",
       "                                                                   \n",
       "                                                                                         [[5.97782901e-06, 1.19538727e-05,\n",
       "                                                                                           1.90410428e-05, 4.26897532e-05],\n",
       "                                                                                          [3.48448975e-06, 2.39474593e-05,\n",
       "                                                                                           1.91819672e-05, 6.97013311e-05],\n",
       "                                                                                          [6.99114889e-06, 2.05512843e-05,\n",
       "                                                                                           1.31638799e-05, 6.79339355e-05],\n",
       "                                                                                          [5.44668319e-06, 9.60564557e-06,\n",
       "                                                                                           2.28221666e-06, 1.77709480e-05]]],\n",
       "                                                                   \n",
       "                                                                   \n",
       "                                                                                        [[[4.12598501e-06, 2.26243083e-05,\n",
       "                                                                                           2.89471495e-06, 2.51515921e-05],\n",
       "                                                                                          [1.30120577e-06, 2.25412059e-05,\n",
       "                                                                                           7.35733374e-06, 2.07998655e-05],\n",
       "                                                                                          [3.22584287e-06, 3.16010191e-05,\n",
       "                                                                                           3.07486312e-06, 2.68274653e-05],\n",
       "                                                                                          [6.26607289e-06, 9.86254872e-06,\n",
       "                                                                                           1.66498410e-06, 2.08535785e-05]],\n",
       "                                                                   \n",
       "                                                                                         [[6.23525966e-06, 2.91501401e-05,\n",
       "                                                                                           8.11200971e-06, 7.34946298e-05],\n",
       "                                                                                          [6.16373200e-07, 2.24747000e-05,\n",
       "                                                                                           7.84116492e-06, 1.93144988e-05],\n",
       "                                                                                          [3.97749773e-06, 2.95254231e-05,\n",
       "                                                                                           1.03085204e-05, 3.63734071e-05],\n",
       "                                                                                          [1.57906175e-06, 1.31524357e-05,\n",
       "                                                                                           2.91367519e-06, 7.30270403e-05]],\n",
       "                                                                   \n",
       "                                                                                         [[2.50335711e-06, 5.46477077e-06,\n",
       "                                                                                           1.22567972e-05, 1.40215488e-04],\n",
       "                                                                                          [3.32871241e-06, 1.76296489e-05,\n",
       "                                                                                           6.83864118e-06, 2.18244841e-05],\n",
       "                                                                                          [1.47300079e-06, 6.70577901e-06,\n",
       "                                                                                           1.38981568e-05, 1.29343331e-04],\n",
       "                                                                                          [6.89390208e-06, 5.11227154e-06,\n",
       "                                                                                           2.25768895e-06, 4.22267767e-05]]]]],                   dtype=float32),\n",
       "                                                            }),\n",
       "   'mini_imagenet_cnn_body/conv_base/conv_block_2/batch_norm': frozendict({\n",
       "                                                                 'offset': ShardedDeviceArray([[[[[1.8115195e-05, 2.6494265e-06, 8.9331861e-06,\n",
       "                                                                                                   2.2115337e-06]]]]], dtype=float32),\n",
       "                                                                 'scale': ShardedDeviceArray([[[[[5.8578262e-05, 1.3916151e-04, 3.0605210e-05,\n",
       "                                                                                                  1.4102494e-05]]]]], dtype=float32),\n",
       "                                                               }),\n",
       "   'mini_imagenet_cnn_body/conv_base/conv_block_2/conv2_d': frozendict({\n",
       "                                                              'b': ShardedDeviceArray([[1.1386271e-06, 9.8095898e-06, 5.8473001e-06,\n",
       "                                                                                        3.4537800e-07]], dtype=float32),\n",
       "                                                              'w': ShardedDeviceArray([[[[[6.16103898e-06, 6.29842225e-06,\n",
       "                                                                                           7.03825845e-06, 2.51730143e-07],\n",
       "                                                                                          [1.72971741e-05, 2.08311849e-05,\n",
       "                                                                                           7.60995244e-05, 1.18804037e-05],\n",
       "                                                                                          [2.46469281e-05, 4.70276518e-06,\n",
       "                                                                                           1.55997768e-05, 2.34825461e-06],\n",
       "                                                                                          [3.43423130e-06, 2.91173201e-05,\n",
       "                                                                                           8.20435525e-06, 5.35106665e-06]],\n",
       "                                                                   \n",
       "                                                                                         [[8.18370063e-06, 7.53052836e-06,\n",
       "                                                                                           1.41986375e-05, 8.50495326e-07],\n",
       "                                                                                          [8.09604171e-06, 5.00036776e-06,\n",
       "                                                                                           3.61528873e-05, 5.13726764e-06],\n",
       "                                                                                          [2.18629484e-05, 2.59342414e-06,\n",
       "                                                                                           4.03616104e-05, 8.06796561e-06],\n",
       "                                                                                          [1.01145324e-05, 1.37204197e-05,\n",
       "                                                                                           5.95621214e-06, 4.59114608e-06]],\n",
       "                                                                   \n",
       "                                                                                         [[1.28166139e-05, 1.03228149e-05,\n",
       "                                                                                           1.94499353e-05, 1.06697689e-06],\n",
       "                                                                                          [2.57061365e-05, 1.96765286e-05,\n",
       "                                                                                           8.67294057e-06, 4.56568660e-06],\n",
       "                                                                                          [1.19653296e-05, 4.31134913e-06,\n",
       "                                                                                           3.91425383e-05, 2.88032766e-06],\n",
       "                                                                                          [1.56331407e-05, 1.06642865e-05,\n",
       "                                                                                           3.91140884e-06, 5.76565185e-07]]],\n",
       "                                                                   \n",
       "                                                                   \n",
       "                                                                                        [[[7.02994521e-06, 9.26553275e-06,\n",
       "                                                                                           2.95538848e-06, 6.58176873e-07],\n",
       "                                                                                          [1.23815698e-05, 1.27215735e-05,\n",
       "                                                                                           8.29755227e-05, 1.56183887e-05],\n",
       "                                                                                          [1.09922530e-05, 1.79653234e-05,\n",
       "                                                                                           5.77969331e-06, 7.50472111e-07],\n",
       "                                                                                          [2.15350428e-05, 2.17369434e-05,\n",
       "                                                                                           8.29005148e-06, 4.23030224e-06]],\n",
       "                                                                   \n",
       "                                                                                         [[9.66787138e-06, 5.47398395e-06,\n",
       "                                                                                           3.07064420e-06, 5.84863983e-07],\n",
       "                                                                                          [1.85678437e-05, 9.33525735e-06,\n",
       "                                                                                           3.54739350e-05, 4.59258990e-06],\n",
       "                                                                                          [1.33936119e-05, 1.18727276e-05,\n",
       "                                                                                           2.84818434e-05, 5.38109316e-06],\n",
       "                                                                                          [5.72185172e-06, 4.64516997e-05,\n",
       "                                                                                           6.86782641e-06, 4.49015215e-06]],\n",
       "                                                                   \n",
       "                                                                                         [[7.12427845e-06, 8.31332454e-06,\n",
       "                                                                                           8.97866539e-06, 1.44743967e-06],\n",
       "                                                                                          [7.03772093e-05, 6.82351583e-06,\n",
       "                                                                                           2.17587531e-05, 2.30120168e-06],\n",
       "                                                                                          [2.04562184e-05, 1.41560440e-05,\n",
       "                                                                                           2.00742688e-05, 2.53192798e-06],\n",
       "                                                                                          [1.32557070e-05, 3.70527632e-05,\n",
       "                                                                                           7.34073365e-06, 2.54349061e-06]]],\n",
       "                                                                   \n",
       "                                                                   \n",
       "                                                                                        [[[2.61657151e-05, 5.94781932e-06,\n",
       "                                                                                           1.09680550e-05, 1.37690847e-06],\n",
       "                                                                                          [1.37941142e-05, 1.46465827e-05,\n",
       "                                                                                           6.88160653e-05, 9.66344669e-06],\n",
       "                                                                                          [1.05849886e-05, 1.18324788e-05,\n",
       "                                                                                           8.61416265e-06, 1.84976648e-06],\n",
       "                                                                                          [3.75055170e-05, 2.22883318e-05,\n",
       "                                                                                           1.24063229e-06, 7.85965142e-07]],\n",
       "                                                                   \n",
       "                                                                                         [[2.94988749e-05, 4.95128370e-06,\n",
       "                                                                                           7.80527716e-06, 9.97017310e-07],\n",
       "                                                                                          [2.09771897e-05, 4.97576693e-05,\n",
       "                                                                                           4.44721518e-05, 3.38464952e-06],\n",
       "                                                                                          [1.07938058e-05, 1.90655919e-05,\n",
       "                                                                                           1.63487784e-05, 5.78694289e-06],\n",
       "                                                                                          [1.72478158e-05, 3.95729694e-05,\n",
       "                                                                                           7.90351464e-07, 1.77684831e-06]],\n",
       "                                                                   \n",
       "                                                                                         [[1.29643877e-05, 4.09184304e-06,\n",
       "                                                                                           1.72795008e-05, 3.11825897e-06],\n",
       "                                                                                          [7.19073723e-05, 2.42911574e-06,\n",
       "                                                                                           5.55625120e-05, 2.38230427e-06],\n",
       "                                                                                          [8.20973582e-06, 1.88690010e-05,\n",
       "                                                                                           4.67024984e-06, 3.31155366e-06],\n",
       "                                                                                          [1.60408672e-05, 2.01072762e-05,\n",
       "                                                                                           2.97558063e-06, 6.24065592e-07]]]]],                   dtype=float32),\n",
       "                                                            }),\n",
       "   'mini_imagenet_cnn_body/conv_base/conv_block_3/batch_norm': frozendict({\n",
       "                                                                 'offset': ShardedDeviceArray([[[[[1.1524973e-04, 2.3588462e-04, 2.1721320e-03,\n",
       "                                                                                                   1.5252907e-05]]]]], dtype=float32),\n",
       "                                                                 'scale': ShardedDeviceArray([[[[[1.9465812e-04, 3.4605971e-05, 1.7970451e-03,\n",
       "                                                                                                  5.1601131e-05]]]]], dtype=float32),\n",
       "                                                               }),\n",
       "   'mini_imagenet_cnn_body/conv_base/conv_block_3/conv2_d': frozendict({\n",
       "                                                              'b': ShardedDeviceArray([[2.3484981e-06, 7.4977343e-06, 4.5116017e-06,\n",
       "                                                                                        4.5319362e-06]], dtype=float32),\n",
       "                                                              'w': ShardedDeviceArray([[[[[8.24775907e-06, 1.21294461e-05,\n",
       "                                                                                           5.77741739e-05, 1.79704475e-05],\n",
       "                                                                                          [2.82458714e-05, 3.85432941e-05,\n",
       "                                                                                           2.54244951e-05, 1.94954937e-05],\n",
       "                                                                                          [1.20196128e-05, 5.05426178e-05,\n",
       "                                                                                           8.39006534e-05, 2.27751007e-05],\n",
       "                                                                                          [4.29054999e-05, 2.13695566e-05,\n",
       "                                                                                           3.99005003e-05, 1.44128808e-05]],\n",
       "                                                                   \n",
       "                                                                                         [[9.97142706e-06, 4.83058684e-05,\n",
       "                                                                                           1.51372587e-04, 1.42809895e-05],\n",
       "                                                                                          [3.30354233e-05, 3.42804997e-05,\n",
       "                                                                                           7.33229463e-05, 2.48214747e-05],\n",
       "                                                                                          [1.29249229e-05, 5.21904185e-05,\n",
       "                                                                                           1.30782821e-04, 4.38134521e-05],\n",
       "                                                                                          [3.89516354e-05, 1.55404487e-05,\n",
       "                                                                                           3.00966094e-05, 9.47904391e-06]],\n",
       "                                                                   \n",
       "                                                                                         [[1.33204067e-05, 1.24082508e-05,\n",
       "                                                                                           3.02732115e-05, 2.02297742e-05],\n",
       "                                                                                          [2.78638472e-05, 2.41753587e-05,\n",
       "                                                                                           6.10322895e-05, 3.92422407e-05],\n",
       "                                                                                          [9.78319622e-06, 2.61822152e-05,\n",
       "                                                                                           6.37827907e-05, 3.94780836e-05],\n",
       "                                                                                          [3.26523113e-05, 1.03171226e-06,\n",
       "                                                                                           1.52583825e-05, 7.06073206e-06]]],\n",
       "                                                                   \n",
       "                                                                   \n",
       "                                                                                        [[[2.46689051e-05, 1.67953749e-05,\n",
       "                                                                                           1.22870624e-04, 1.57180548e-05],\n",
       "                                                                                          [4.74253429e-05, 5.05984426e-05,\n",
       "                                                                                           8.72557721e-05, 3.81623468e-05],\n",
       "                                                                                          [3.26680201e-05, 3.70529015e-05,\n",
       "                                                                                           3.05095218e-05, 2.29740654e-05],\n",
       "                                                                                          [3.12074844e-05, 3.82480357e-05,\n",
       "                                                                                           3.62196915e-05, 2.41451089e-05]],\n",
       "                                                                   \n",
       "                                                                                         [[2.30068690e-05, 8.24804010e-05,\n",
       "                                                                                           1.37971452e-04, 1.29083746e-05],\n",
       "                                                                                          [1.85646277e-05, 2.85390743e-05,\n",
       "                                                                                           6.28984562e-05, 3.02551180e-05],\n",
       "                                                                                          [3.49347501e-05, 3.41022896e-05,\n",
       "                                                                                           9.29232046e-05, 3.85888052e-05],\n",
       "                                                                                          [1.72686323e-05, 2.37381773e-05,\n",
       "                                                                                           1.66851823e-05, 1.55789712e-05]],\n",
       "                                                                   \n",
       "                                                                                         [[2.08641304e-05, 7.98596284e-06,\n",
       "                                                                                           1.75400346e-05, 2.09675836e-05],\n",
       "                                                                                          [1.23519885e-05, 2.10395356e-05,\n",
       "                                                                                           3.30726980e-05, 3.57952158e-05],\n",
       "                                                                                          [2.74423328e-05, 3.45187364e-05,\n",
       "                                                                                           3.36983176e-05, 4.80860981e-05],\n",
       "                                                                                          [1.73165299e-05, 1.54628401e-06,\n",
       "                                                                                           1.96507954e-05, 1.46603552e-05]]],\n",
       "                                                                   \n",
       "                                                                   \n",
       "                                                                                        [[[3.97179792e-05, 8.55029430e-06,\n",
       "                                                                                           4.62702374e-05, 1.09996463e-05],\n",
       "                                                                                          [4.72258653e-05, 2.86242212e-05,\n",
       "                                                                                           2.12370869e-05, 1.84593155e-05],\n",
       "                                                                                          [5.58260508e-05, 4.49725558e-05,\n",
       "                                                                                           8.69712967e-05, 2.71755525e-05],\n",
       "                                                                                          [2.65162344e-05, 2.13993117e-05,\n",
       "                                                                                           4.14481401e-05, 2.52938953e-05]],\n",
       "                                                                   \n",
       "                                                                                         [[2.06399673e-05, 4.69939368e-05,\n",
       "                                                                                           1.55298869e-04, 1.70278690e-05],\n",
       "                                                                                          [3.49920701e-05, 3.25824003e-05,\n",
       "                                                                                           7.55322835e-05, 3.04296773e-05],\n",
       "                                                                                          [4.72738793e-05, 3.99061573e-05,\n",
       "                                                                                           2.12660743e-04, 5.05547614e-05],\n",
       "                                                                                          [1.73009394e-05, 3.17553895e-05,\n",
       "                                                                                           3.82936742e-05, 2.28267563e-05]],\n",
       "                                                                   \n",
       "                                                                                         [[3.65559135e-05, 1.04620749e-05,\n",
       "                                                                                           5.92962097e-05, 1.93283449e-05],\n",
       "                                                                                          [2.11225197e-05, 2.44971707e-05,\n",
       "                                                                                           2.47296557e-05, 3.49453003e-05],\n",
       "                                                                                          [4.24737082e-05, 4.01039433e-05,\n",
       "                                                                                           6.36196273e-05, 3.27464440e-05],\n",
       "                                                                                          [1.98839516e-05, 7.03688784e-06,\n",
       "                                                                                           2.14845604e-05, 1.29614500e-05]]]]],                   dtype=float32),\n",
       "                                                            }),\n",
       " }), frozendict({\n",
       "   'mini_imagenet_cnn_head/linear': frozendict({\n",
       "                                      'b': ShardedDeviceArray([[9.4995991e-04, 8.7022386e-04, 7.5543630e-07,\n",
       "                                                                5.6936456e-06, 3.4010650e-06, 1.3539777e-07,\n",
       "                                                                8.1685749e-07, 1.0219508e-06, 2.1148713e-07,\n",
       "                                                                5.3671933e-08, 4.4055321e-07, 1.8473916e-05,\n",
       "                                                                1.5975731e-06, 2.6654868e-07, 1.4877466e-07,\n",
       "                                                                1.1905478e-06, 9.2814179e-07, 3.8299999e-07,\n",
       "                                                                7.8991000e-08, 3.7273028e-07, 5.9098852e-07,\n",
       "                                                                1.6432388e-06, 1.3193988e-06, 8.6068172e-07,\n",
       "                                                                2.3280606e-07, 4.1496139e-07, 1.9624681e-06,\n",
       "                                                                3.7315431e-07, 1.1090060e-06, 5.8499182e-07,\n",
       "                                                                4.0513274e-07, 1.3770975e-06, 3.7053212e-07,\n",
       "                                                                2.7439951e-06, 1.0933769e-06, 1.3964726e-06,\n",
       "                                                                2.7806395e-06, 4.1485836e-07, 1.0966545e-07,\n",
       "                                                                9.1656113e-07, 2.1899633e-07, 4.6395594e-06,\n",
       "                                                                5.9082481e-07, 2.8164950e-06, 1.7783721e-06,\n",
       "                                                                2.7065227e-07, 7.0925944e-07, 1.7763296e-06,\n",
       "                                                                2.3542462e-07, 8.5539341e-07, 1.8861905e-07,\n",
       "                                                                6.8596239e-07, 8.4814337e-07, 5.5639259e-07,\n",
       "                                                                8.4927586e-07, 9.6688177e-07, 1.9405029e-07,\n",
       "                                                                2.2761029e-07, 7.7404201e-07, 3.7655030e-07,\n",
       "                                                                2.0747125e-06, 7.9771489e-06, 1.7673335e-07,\n",
       "                                                                7.7552620e-08]], dtype=float32),\n",
       "                                      'w': ShardedDeviceArray([[[0., 0., 0., 0., 0., 0., 0., 0., 0., 0., 0., 0.,\n",
       "                                                                 0., 0., 0., 0., 0., 0., 0., 0., 0., 0., 0., 0.,\n",
       "                                                                 0., 0., 0., 0., 0., 0., 0., 0., 0., 0., 0., 0.,\n",
       "                                                                 0., 0., 0., 0., 0., 0., 0., 0., 0., 0., 0., 0.,\n",
       "                                                                 0., 0., 0., 0., 0., 0., 0., 0., 0., 0., 0., 0.,\n",
       "                                                                 0., 0., 0., 0.],\n",
       "                                                                [0., 0., 0., 0., 0., 0., 0., 0., 0., 0., 0., 0.,\n",
       "                                                                 0., 0., 0., 0., 0., 0., 0., 0., 0., 0., 0., 0.,\n",
       "                                                                 0., 0., 0., 0., 0., 0., 0., 0., 0., 0., 0., 0.,\n",
       "                                                                 0., 0., 0., 0., 0., 0., 0., 0., 0., 0., 0., 0.,\n",
       "                                                                 0., 0., 0., 0., 0., 0., 0., 0., 0., 0., 0., 0.,\n",
       "                                                                 0., 0., 0., 0.],\n",
       "                                                                [0., 0., 0., 0., 0., 0., 0., 0., 0., 0., 0., 0.,\n",
       "                                                                 0., 0., 0., 0., 0., 0., 0., 0., 0., 0., 0., 0.,\n",
       "                                                                 0., 0., 0., 0., 0., 0., 0., 0., 0., 0., 0., 0.,\n",
       "                                                                 0., 0., 0., 0., 0., 0., 0., 0., 0., 0., 0., 0.,\n",
       "                                                                 0., 0., 0., 0., 0., 0., 0., 0., 0., 0., 0., 0.,\n",
       "                                                                 0., 0., 0., 0.],\n",
       "                                                                [0., 0., 0., 0., 0., 0., 0., 0., 0., 0., 0., 0.,\n",
       "                                                                 0., 0., 0., 0., 0., 0., 0., 0., 0., 0., 0., 0.,\n",
       "                                                                 0., 0., 0., 0., 0., 0., 0., 0., 0., 0., 0., 0.,\n",
       "                                                                 0., 0., 0., 0., 0., 0., 0., 0., 0., 0., 0., 0.,\n",
       "                                                                 0., 0., 0., 0., 0., 0., 0., 0., 0., 0., 0., 0.,\n",
       "                                                                 0., 0., 0., 0.]]], dtype=float32),\n",
       "                                    }),\n",
       " }))),\n",
       " ScaleByScheduleState(count=ShardedDeviceArray([1], dtype=int32))]"
      ]
     },
     "execution_count": 107,
     "metadata": {},
     "output_type": "execute_result"
    }
   ],
   "source": [
    "meta_learner._learner_state.opt_state"
   ]
  },
  {
   "cell_type": "code",
   "execution_count": 106,
   "metadata": {
    "ExecuteTime": {
     "end_time": "2020-09-28T21:01:46.140187Z",
     "start_time": "2020-09-28T21:01:45.950130Z"
    }
   },
   "outputs": [
    {
     "data": {
      "text/plain": [
       "DeviceArray(-0.001, dtype=float32)"
      ]
     },
     "execution_count": 106,
     "metadata": {},
     "output_type": "execute_result"
    }
   ],
   "source": [
    "meta_learner._scheduler(0)"
   ]
  },
  {
   "cell_type": "code",
   "execution_count": 101,
   "metadata": {
    "ExecuteTime": {
     "end_time": "2020-09-28T19:07:38.388071Z",
     "start_time": "2020-09-28T19:07:38.277222Z"
    }
   },
   "outputs": [
    {
     "data": {
      "text/plain": [
       "{'inner': {'auxs': [{'acc': DeviceArray([[[0., 0., 0.],\n",
       "                  [0., 0., 0.],\n",
       "                  [0., 0., 0.],\n",
       "                  [0., 0., 0.]]], dtype=float32)}],\n",
       "  'losses': DeviceArray([[[3.95506  , 3.937397 , 3.9197636],\n",
       "                [4.1650476, 4.1399183, 4.1149   ],\n",
       "                [4.3137956, 4.289889 , 4.2660275],\n",
       "                [3.8309817, 3.8110113, 3.7911274]]], dtype=float32)},\n",
       " 'outer': {'final': {'aux': [{'acc': DeviceArray([[0., 0., 0., 0.]], dtype=float32)}],\n",
       "   'loss': DeviceArray([[3.7534647, 5.578721 , 3.5377736, 5.697146 ]], dtype=float32)},\n",
       "  'initial': {'aux': [{'acc': DeviceArray([[0., 0., 0., 0.]], dtype=float32)}],\n",
       "   'loss': DeviceArray([[3.787255 , 5.6071205, 3.5723367, 5.722905 ]], dtype=float32)}}}"
      ]
     },
     "execution_count": 101,
     "metadata": {},
     "output_type": "execute_result"
    }
   ],
   "source": [
    "jax.tree_multimap(lambda x, *xs: jnp.concatenate(xs, 1), out[1][0], *out[1])"
   ]
  },
  {
   "cell_type": "code",
   "execution_count": 44,
   "metadata": {
    "ExecuteTime": {
     "end_time": "2020-09-28T23:33:19.720401Z",
     "start_time": "2020-09-28T23:33:19.640540Z"
    }
   },
   "outputs": [],
   "source": [
    "# class MetaMiniImageNet:\n",
    "#     def __init__(\n",
    "#         self, rng, split, data_root, batch_size, way, shot, qry_shot, shuffled_labels=True,\n",
    "#     ):\n",
    "#         self._rng = rng\n",
    "#         self._batch_size = batch_size\n",
    "#         self._way = way\n",
    "#         self._shot = shot\n",
    "#         self._qry_shot = qry_shot\n",
    "#         self._shuffled_labels = shuffled_labels\n",
    "        \n",
    "#         if split == \"train\":\n",
    "#             self._fp = osp.join(data_root, \"miniImageNet_category_split_train_phase_train_ordered.pickle\")\n",
    "#         self._images, self._labels, self._normalize = prepare_data(\"miniimagenet\", self._fp)\n",
    "        \n",
    "#         if split == \"val\":\n",
    "#             self._labels = self._labels - 64\n",
    "            \n",
    "#         self.fsl_sample = partial(fsl_sample, images=self._images, labels=self._labels, num_tasks=batch_size, way=way, spt_shot=shot, qry_shot=qry_shot, disjoint=False, shuffled_labels=shuffled_labels)\n",
    "#         self.fsl_build = partial(fsl_build, batch_size=batch_size, way=way, shot=shot, qry_shot=qry_shot)\n",
    "        \n",
    "#     def __next__(self):\n",
    "#         self._rng, rng = split(self._rng)\n",
    "#         return self.fsl_build(*self.fsl_sample(rng))"
   ]
  },
  {
   "cell_type": "code",
   "execution_count": 48,
   "metadata": {
    "ExecuteTime": {
     "end_time": "2020-09-28T23:33:27.049652Z",
     "start_time": "2020-09-28T23:33:26.934744Z"
    }
   },
   "outputs": [
    {
     "ename": "AttributeError",
     "evalue": "'MetaMiniImageNet' object has no attribute '_fp'",
     "output_type": "error",
     "traceback": [
      "\u001b[0;31m---------------------------------------------------------------------------\u001b[0m",
      "\u001b[0;31mAttributeError\u001b[0m                            Traceback (most recent call last)",
      "\u001b[0;32m<ipython-input-48-db63d4324723>\u001b[0m in \u001b[0;36m<module>\u001b[0;34m\u001b[0m\n\u001b[1;32m      3\u001b[0m     \u001b[0;34m\"val\"\u001b[0m\u001b[0;34m,\u001b[0m\u001b[0;34m\u001b[0m\u001b[0;34m\u001b[0m\u001b[0m\n\u001b[1;32m      4\u001b[0m     \u001b[0;34m\"/Users/sebamenabar/Downloads/miniImageNet/\"\u001b[0m\u001b[0;34m,\u001b[0m\u001b[0;34m\u001b[0m\u001b[0;34m\u001b[0m\u001b[0m\n\u001b[0;32m----> 5\u001b[0;31m     \u001b[0;36m2\u001b[0m\u001b[0;34m,\u001b[0m \u001b[0;36m5\u001b[0m\u001b[0;34m,\u001b[0m \u001b[0;36m5\u001b[0m\u001b[0;34m,\u001b[0m \u001b[0;36m15\u001b[0m\u001b[0;34m,\u001b[0m \u001b[0mshuffled_labels\u001b[0m\u001b[0;34m=\u001b[0m\u001b[0;32mTrue\u001b[0m\u001b[0;34m,\u001b[0m\u001b[0;34m\u001b[0m\u001b[0;34m\u001b[0m\u001b[0m\n\u001b[0m\u001b[1;32m      6\u001b[0m )\n",
      "\u001b[0;32m<ipython-input-44-6df31802441d>\u001b[0m in \u001b[0;36m__init__\u001b[0;34m(self, rng, split, data_root, batch_size, way, shot, qry_shot, shuffled_labels)\u001b[0m\n\u001b[1;32m     12\u001b[0m         \u001b[0;32mif\u001b[0m \u001b[0msplit\u001b[0m \u001b[0;34m==\u001b[0m \u001b[0;34m\"train\"\u001b[0m\u001b[0;34m:\u001b[0m\u001b[0;34m\u001b[0m\u001b[0;34m\u001b[0m\u001b[0m\n\u001b[1;32m     13\u001b[0m             \u001b[0mself\u001b[0m\u001b[0;34m.\u001b[0m\u001b[0m_fp\u001b[0m \u001b[0;34m=\u001b[0m \u001b[0mosp\u001b[0m\u001b[0;34m.\u001b[0m\u001b[0mjoin\u001b[0m\u001b[0;34m(\u001b[0m\u001b[0mdata_root\u001b[0m\u001b[0;34m,\u001b[0m \u001b[0;34m\"miniImageNet_category_split_train_phase_train_ordered.pickle\"\u001b[0m\u001b[0;34m)\u001b[0m\u001b[0;34m\u001b[0m\u001b[0;34m\u001b[0m\u001b[0m\n\u001b[0;32m---> 14\u001b[0;31m         \u001b[0mself\u001b[0m\u001b[0;34m.\u001b[0m\u001b[0m_images\u001b[0m\u001b[0;34m,\u001b[0m \u001b[0mself\u001b[0m\u001b[0;34m.\u001b[0m\u001b[0m_labels\u001b[0m\u001b[0;34m,\u001b[0m \u001b[0mself\u001b[0m\u001b[0;34m.\u001b[0m\u001b[0m_normalize\u001b[0m \u001b[0;34m=\u001b[0m \u001b[0mprepare_data\u001b[0m\u001b[0;34m(\u001b[0m\u001b[0;34m\"miniimagenet\"\u001b[0m\u001b[0;34m,\u001b[0m \u001b[0mself\u001b[0m\u001b[0;34m.\u001b[0m\u001b[0m_fp\u001b[0m\u001b[0;34m)\u001b[0m\u001b[0;34m\u001b[0m\u001b[0;34m\u001b[0m\u001b[0m\n\u001b[0m\u001b[1;32m     15\u001b[0m \u001b[0;34m\u001b[0m\u001b[0m\n\u001b[1;32m     16\u001b[0m         \u001b[0;32mif\u001b[0m \u001b[0msplit\u001b[0m \u001b[0;34m==\u001b[0m \u001b[0;34m\"val\"\u001b[0m\u001b[0;34m:\u001b[0m\u001b[0;34m\u001b[0m\u001b[0;34m\u001b[0m\u001b[0m\n",
      "\u001b[0;31mAttributeError\u001b[0m: 'MetaMiniImageNet' object has no attribute '_fp'"
     ]
    }
   ],
   "source": [
    "# val_dataset = MetaMiniImageNet(\n",
    "#     random.PRNGKey(0),\n",
    "#     \"val\",\n",
    "#     \"/Users/sebamenabar/Downloads/miniImageNet/\",\n",
    "#     2, 5, 5, 15, shuffled_labels=True,\n",
    "# )"
   ]
  },
  {
   "cell_type": "code",
   "execution_count": 49,
   "metadata": {
    "ExecuteTime": {
     "end_time": "2020-09-28T23:33:56.478300Z",
     "start_time": "2020-09-28T23:33:56.360599Z"
    }
   },
   "outputs": [],
   "source": [
    "from mrcl_experiment import MetaMiniImageNet\n",
    "from eval_experiment import MAMLTester, LRTester"
   ]
  },
  {
   "cell_type": "code",
   "execution_count": 50,
   "metadata": {
    "ExecuteTime": {
     "end_time": "2020-09-28T23:34:59.378043Z",
     "start_time": "2020-09-28T23:34:58.006628Z"
    }
   },
   "outputs": [],
   "source": [
    "val_dataset = MetaMiniImageNet(\n",
    "    random.PRNGKey(0),\n",
    "    \"val\",\n",
    "    \"/Users/sebamenabar/Downloads/miniImageNet/\",\n",
    "    2, 5, 5, 15, shuffled_labels=True,\n",
    ")"
   ]
  },
  {
   "cell_type": "code",
   "execution_count": 51,
   "metadata": {
    "ExecuteTime": {
     "end_time": "2020-09-28T23:35:07.851986Z",
     "start_time": "2020-09-28T23:35:07.796207Z"
    }
   },
   "outputs": [],
   "source": [
    "lr_tester = LRTester(meta_learner._encoder.apply, 4, 2, val_dataset, 5, dataset._normalize)"
   ]
  },
  {
   "cell_type": "code",
   "execution_count": 52,
   "metadata": {
    "ExecuteTime": {
     "end_time": "2020-09-28T23:35:09.800346Z",
     "start_time": "2020-09-28T23:35:09.384142Z"
    }
   },
   "outputs": [],
   "source": [
    "_learner_state = meta_learner.get_first_state()"
   ]
  },
  {
   "cell_type": "code",
   "execution_count": 66,
   "metadata": {
    "ExecuteTime": {
     "end_time": "2020-09-28T23:45:13.337359Z",
     "start_time": "2020-09-28T23:44:45.161593Z"
    }
   },
   "outputs": [
    {
     "name": "stdout",
     "output_type": "stream",
     "text": [
      "Augmenting testing samples\n",
      "Augmenting testing samples\n"
     ]
    }
   ],
   "source": [
    "lr_acc, lr_std = lr_tester.eval(_learner_state.slow_params, _learner_state.slow_state)"
   ]
  },
  {
   "cell_type": "code",
   "execution_count": 67,
   "metadata": {
    "ExecuteTime": {
     "end_time": "2020-09-28T23:45:42.870832Z",
     "start_time": "2020-09-28T23:45:42.780562Z"
    }
   },
   "outputs": [
    {
     "data": {
      "text/plain": [
       "(0.29333333333333333, 0.05416025603090639)"
      ]
     },
     "execution_count": 67,
     "metadata": {},
     "output_type": "execute_result"
    }
   ],
   "source": [
    "lr_acc, lr_std"
   ]
  },
  {
   "cell_type": "code",
   "execution_count": 54,
   "metadata": {
    "ExecuteTime": {
     "end_time": "2020-09-28T23:39:44.520923Z",
     "start_time": "2020-09-28T23:39:44.445952Z"
    }
   },
   "outputs": [],
   "source": [
    "maml_tester = MAMLTester(\n",
    "    meta_learner._encoder.apply,\n",
    "    meta_learner._classifier.apply,\n",
    "    4,\n",
    "    2,\n",
    "    val_dataset,\n",
    "    3,\n",
    "    1,\n",
    "    dataset._normalize,\n",
    ")"
   ]
  },
  {
   "cell_type": "code",
   "execution_count": 72,
   "metadata": {
    "ExecuteTime": {
     "end_time": "2020-09-28T23:49:22.964835Z",
     "start_time": "2020-09-28T23:48:46.957907Z"
    }
   },
   "outputs": [
    {
     "name": "stdout",
     "output_type": "stream",
     "text": [
      "Augmenting testing samples\n",
      "Augmenting testing samples\n"
     ]
    }
   ],
   "source": [
    "maml_acc, maml_std = maml_tester.eval(_learner_state.slow_params,\n",
    "    _learner_state.fast_params,\n",
    "    jax.tree_map(partial(replicate_array, num_devices=2),_learner_state.slow_state),\n",
    "    jax.tree_map(partial(replicate_array, num_devices=2),_learner_state.fast_state),\n",
    "    _learner_state.inner_lr,)"
   ]
  },
  {
   "cell_type": "code",
   "execution_count": 73,
   "metadata": {
    "ExecuteTime": {
     "end_time": "2020-09-28T23:49:24.917220Z",
     "start_time": "2020-09-28T23:49:24.840744Z"
    }
   },
   "outputs": [
    {
     "data": {
      "text/plain": [
       "(DeviceArray(0., dtype=float32), DeviceArray(0., dtype=float32))"
      ]
     },
     "execution_count": 73,
     "metadata": {},
     "output_type": "execute_result"
    }
   ],
   "source": [
    "maml_acc, maml_std"
   ]
  },
  {
   "cell_type": "code",
   "execution_count": 70,
   "metadata": {
    "ExecuteTime": {
     "end_time": "2020-09-28T23:46:15.529659Z",
     "start_time": "2020-09-28T23:46:15.440028Z"
    }
   },
   "outputs": [
    {
     "data": {
      "text/plain": [
       "{'inner': {'auxs': [{'acc': DeviceArray([[0., 0., 0., 0.],\n",
       "                 [0., 0., 0., 0.],\n",
       "                 [0., 0., 0., 0.],\n",
       "                 [0., 0., 0., 0.]], dtype=float32)}],\n",
       "  'losses': DeviceArray([[4.246692 , 4.240478 , 4.2342696, 4.228069 ],\n",
       "               [4.2454734, 4.2392335, 4.233    , 4.2267723],\n",
       "               [4.2725606, 4.266361 , 4.2601705, 4.253983 ],\n",
       "               [4.193775 , 4.1875887, 4.181411 , 4.175238 ]], dtype=float32)},\n",
       " 'outer': {'final': {'aux': [{'acc': DeviceArray([0.        , 0.01333333, 0.02666667, 0.01333333], dtype=float32)}],\n",
       "   'loss': DeviceArray([4.195467 , 4.211032 , 4.229458 , 4.2169127], dtype=float32)},\n",
       "  'initial': {'aux': [{'acc': DeviceArray([0.        , 0.01333333, 0.01333333, 0.01333333], dtype=float32)}],\n",
       "   'loss': DeviceArray([4.2137237, 4.229183 , 4.2471437, 4.235965 ], dtype=float32)}}}"
      ]
     },
     "execution_count": 70,
     "metadata": {},
     "output_type": "execute_result"
    }
   ],
   "source": [
    "jax.tree_multimap(\n",
    "    lambda x, *xs: jnp.concatenate(xs),\n",
    "    test_results[0],\n",
    "    *test_results,\n",
    ")"
   ]
  },
  {
   "cell_type": "code",
   "execution_count": 97,
   "metadata": {
    "ExecuteTime": {
     "end_time": "2020-09-25T20:39:03.871921Z",
     "start_time": "2020-09-25T20:39:03.752628Z"
    }
   },
   "outputs": [
    {
     "data": {
      "text/plain": [
       "{'inner': {'auxs': [{'acc': DeviceArray([[0.02, 0.04, 0.06, 0.06],\n",
       "                 [0.  , 0.  , 0.  , 0.  ],\n",
       "                 [0.  , 0.  , 0.  , 0.  ],\n",
       "                 [0.  , 0.  , 0.  , 0.  ]], dtype=float32)}],\n",
       "  'losses': DeviceArray([[4.150457 , 4.1422462, 4.1340485, 4.125866 ],\n",
       "               [4.2803736, 4.273617 , 4.2668643, 4.2601204],\n",
       "               [4.2764935, 4.2698545, 4.2632217, 4.256597 ],\n",
       "               [4.301257 , 4.2938795, 4.286512 , 4.2791514]], dtype=float32)},\n",
       " 'outer': {'final': {'aux': [{'acc': DeviceArray([0.06666667, 0.        , 0.        , 0.        ], dtype=float32)}],\n",
       "   'loss': DeviceArray([4.159359, 4.256447, 4.287693, 4.30843 ], dtype=float32)},\n",
       "  'initial': {'aux': [{'acc': DeviceArray([0.01333333, 0.        , 0.        , 0.        ], dtype=float32)}],\n",
       "   'loss': DeviceArray([4.182653 , 4.27624  , 4.3077197, 4.3309455], dtype=float32)}}}"
      ]
     },
     "execution_count": 97,
     "metadata": {},
     "output_type": "execute_result"
    }
   ],
   "source": [
    "jax.tree_multimap(lambda x, *xs: jnp.concatenate(xs), test_results[0], *test_results)"
   ]
  },
  {
   "cell_type": "code",
   "execution_count": 103,
   "metadata": {
    "ExecuteTime": {
     "end_time": "2020-09-25T22:19:26.356544Z",
     "start_time": "2020-09-25T22:19:26.221674Z"
    }
   },
   "outputs": [
    {
     "data": {
      "text/plain": [
       "(25, 64)"
      ]
     },
     "execution_count": 103,
     "metadata": {},
     "output_type": "execute_result"
    }
   ],
   "source": [
    "meta_learner.predict(x_spt[0] / 255)"
   ]
  },
  {
   "cell_type": "code",
   "execution_count": 46,
   "metadata": {
    "ExecuteTime": {
     "end_time": "2020-09-25T20:22:25.555868Z",
     "start_time": "2020-09-25T20:21:52.946589Z"
    }
   },
   "outputs": [
    {
     "name": "stdout",
     "output_type": "stream",
     "text": [
      "Augmenting testing samples\n"
     ]
    },
    {
     "data": {
      "text/plain": [
       "{'inner': {'auxs': [{'acc': DeviceArray([[0.  , 0.  , 0.  , 0.  , 0.  , 0.  ],\n",
       "                 [0.  , 0.  , 0.02, 0.04, 0.08, 0.08]], dtype=float32)}],\n",
       "  'losses': DeviceArray([[4.1769824, 4.1704135, 4.163852 , 4.157297 , 4.150749 ,\n",
       "                4.1442113],\n",
       "               [4.0993667, 4.093079 , 4.0867996, 4.080528 , 4.074263 ,\n",
       "                4.0680065]], dtype=float32)},\n",
       " 'outer': {'final': {'aux': [{'acc': DeviceArray([0.        , 0.06666667], dtype=float32)}],\n",
       "   'loss': DeviceArray([4.1432977, 4.0433207], dtype=float32)},\n",
       "  'initial': {'aux': [{'acc': DeviceArray([0., 0.], dtype=float32)}],\n",
       "   'loss': DeviceArray([4.177068 , 4.0740485], dtype=float32)}}}"
      ]
     },
     "execution_count": 46,
     "metadata": {},
     "output_type": "execute_result"
    }
   ],
   "source": [
    "_learner_state = meta_learner.get_first_state()\n",
    "\n",
    "tester.batch_adapt_jit(\n",
    "    random.PRNGKey(0),\n",
    "    _learner_state.slow_params,\n",
    "    _learner_state.fast_params,\n",
    "    _learner_state.slow_state,\n",
    "    _learner_state.fast_state,\n",
    "    _learner_state.inner_lr,\n",
    "    x_spt, y_spt, x_qry, y_qry,\n",
    ")"
   ]
  },
  {
   "cell_type": "code",
   "execution_count": 105,
   "metadata": {
    "ExecuteTime": {
     "end_time": "2020-09-25T22:23:01.088347Z",
     "start_time": "2020-09-25T22:23:01.009813Z"
    }
   },
   "outputs": [],
   "source": [
    "from test_utils import SupervisedStandardTester, "
   ]
  },
  {
   "cell_type": "code",
   "execution_count": 110,
   "metadata": {
    "ExecuteTime": {
     "end_time": "2020-09-25T22:41:23.494056Z",
     "start_time": "2020-09-25T22:41:23.050749Z"
    }
   },
   "outputs": [],
   "source": [
    "from refactor.eval_experiment import LRTester"
   ]
  },
  {
   "cell_type": "code",
   "execution_count": null,
   "metadata": {},
   "outputs": [],
   "source": []
  },
  {
   "cell_type": "code",
   "execution_count": 107,
   "metadata": {
    "ExecuteTime": {
     "end_time": "2020-09-25T22:23:41.500476Z",
     "start_time": "2020-09-25T22:23:41.429695Z"
    }
   },
   "outputs": [
    {
     "data": {
      "text/plain": [
       "(64, 600, 84, 84, 3)"
      ]
     },
     "execution_count": 107,
     "metadata": {},
     "output_type": "execute_result"
    }
   ],
   "source": [
    "dataset._images.shape"
   ]
  },
  {
   "cell_type": "code",
   "execution_count": 109,
   "metadata": {
    "ExecuteTime": {
     "end_time": "2020-09-25T22:26:39.180560Z",
     "start_time": "2020-09-25T22:26:01.084091Z"
    }
   },
   "outputs": [
    {
     "data": {
      "text/plain": [
       "(DeviceArray(4.6710153, dtype=float32), 0.020416666)"
      ]
     },
     "execution_count": 109,
     "metadata": {},
     "output_type": "execute_result"
    }
   ],
   "source": [
    "std_tester = SupervisedStandardTester(random.PRNGKey(0), flatten(dataset._images, (0, 1)), flatten(dataset._labels, (0, 1)), 64, meta_learner._normalize_fn)\n",
    "\n",
    "@jit\n",
    "def fun(inputs):\n",
    "    inputs = inputs / 255\n",
    "    inputs = meta_learner._normalize_fn(inputs)\n",
    "    return meta_learner.predict(inputs)\n",
    "\n",
    "std_tester(fun)"
   ]
  },
  {
   "cell_type": "code",
   "execution_count": 13,
   "metadata": {
    "ExecuteTime": {
     "end_time": "2020-09-25T19:54:35.757154Z",
     "start_time": "2020-09-25T19:53:19.813123Z"
    }
   },
   "outputs": [],
   "source": [
    "x_spt, y_spt, x_qry, y_qry = next(dataset)"
   ]
  },
  {
   "cell_type": "code",
   "execution_count": 18,
   "metadata": {
    "ExecuteTime": {
     "end_time": "2020-09-25T19:55:09.387247Z",
     "start_time": "2020-09-25T19:55:09.307860Z"
    }
   },
   "outputs": [
    {
     "data": {
      "text/plain": [
       "(2, 100, 84, 84, 3)"
      ]
     },
     "execution_count": 18,
     "metadata": {},
     "output_type": "execute_result"
    }
   ],
   "source": [
    "x_spt.repeat(4, 1).shape"
   ]
  },
  {
   "cell_type": "code",
   "execution_count": 19,
   "metadata": {
    "ExecuteTime": {
     "end_time": "2020-09-25T19:56:57.722408Z",
     "start_time": "2020-09-25T19:56:57.637999Z"
    }
   },
   "outputs": [
    {
     "data": {
      "text/plain": [
       "(2, 25)"
      ]
     },
     "execution_count": 19,
     "metadata": {},
     "output_type": "execute_result"
    }
   ],
   "source": [
    "y_spt.shape"
   ]
  },
  {
   "cell_type": "code",
   "execution_count": null,
   "metadata": {},
   "outputs": [],
   "source": []
  }
 ],
 "metadata": {
  "kernelspec": {
   "display_name": "Python 3",
   "language": "python",
   "name": "python3"
  },
  "language_info": {
   "codemirror_mode": {
    "name": "ipython",
    "version": 3
   },
   "file_extension": ".py",
   "mimetype": "text/x-python",
   "name": "python",
   "nbconvert_exporter": "python",
   "pygments_lexer": "ipython3",
   "version": "3.7.8"
  },
  "toc": {
   "base_numbering": 1,
   "nav_menu": {},
   "number_sections": true,
   "sideBar": true,
   "skip_h1_title": false,
   "title_cell": "Table of Contents",
   "title_sidebar": "Contents",
   "toc_cell": false,
   "toc_position": {},
   "toc_section_display": true,
   "toc_window_display": false
  }
 },
 "nbformat": 4,
 "nbformat_minor": 4
}
