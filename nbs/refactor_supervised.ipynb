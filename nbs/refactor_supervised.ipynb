{
 "cells": [
  {
   "cell_type": "code",
   "execution_count": 1,
   "metadata": {
    "ExecuteTime": {
     "end_time": "2020-09-02T01:57:59.475832Z",
     "start_time": "2020-09-02T01:57:59.454598Z"
    },
    "cell_style": "center"
   },
   "outputs": [],
   "source": [
    "%load_ext autoreload\n",
    "%autoreload 2"
   ]
  },
  {
   "cell_type": "code",
   "execution_count": 2,
   "metadata": {
    "ExecuteTime": {
     "end_time": "2020-09-02T01:57:59.495008Z",
     "start_time": "2020-09-02T01:57:59.478335Z"
    }
   },
   "outputs": [],
   "source": [
    "import os\n",
    "import sys\n",
    "\n",
    "sys.path.insert(0, \"../src\")"
   ]
  },
  {
   "cell_type": "code",
   "execution_count": 3,
   "metadata": {
    "ExecuteTime": {
     "end_time": "2020-09-02T01:58:01.598262Z",
     "start_time": "2020-09-02T01:57:59.498730Z"
    }
   },
   "outputs": [],
   "source": [
    "import os\n",
    "import sys\n",
    "import os.path as osp\n",
    "\n",
    "import dill\n",
    "import time\n",
    "from tqdm.notebook import tqdm as tqdmn\n",
    "from argparse import ArgumentParser\n",
    "\n",
    "import jax\n",
    "from jax.random import split\n",
    "from jax import (\n",
    "    jit,\n",
    "    vmap,\n",
    "    random,\n",
    "    partial,\n",
    "    tree_map,\n",
    "    numpy as jnp,\n",
    "    value_and_grad,\n",
    ")\n",
    "\n",
    "import optax as ox\n",
    "import haiku as hk\n",
    "\n",
    "from lib import (\n",
    "    apply_and_loss_fn,\n",
    "    \n",
    "    flatten,\n",
    "    outer_loop,\n",
    "    setup_device,\n",
    "    fsl_inner_loop,\n",
    "    batched_outer_loop,\n",
    "    parse_and_build_cfg,\n",
    "    mean_xe_and_acc_dict,\n",
    "    # outer_loop_reset_per_task,\n",
    ")\n",
    "from data import prepare_data\n",
    "from experiment import Experiment, Logger\n",
    "from data.sampling import fsl_sample_transfer_build, BatchSampler\n",
    "from models.maml_conv import miniimagenet_cnn_argparse, prepare_model, make_params\n",
    "\n",
    "from test_sup import test_sup_cosine\n",
    "from test_utils import test_fsl_embeddings\n",
    "\n",
    "TRAIN_SIZE = 500"
   ]
  },
  {
   "cell_type": "code",
   "execution_count": 4,
   "metadata": {
    "ExecuteTime": {
     "end_time": "2020-09-02T01:58:01.640610Z",
     "start_time": "2020-09-02T01:58:01.606061Z"
    }
   },
   "outputs": [],
   "source": [
    "from easydict import EasyDict as edict"
   ]
  },
  {
   "cell_type": "code",
   "execution_count": 5,
   "metadata": {
    "ExecuteTime": {
     "end_time": "2020-09-02T01:58:01.689981Z",
     "start_time": "2020-09-02T01:58:01.644427Z"
    }
   },
   "outputs": [],
   "source": [
    "cfg = edict()"
   ]
  },
  {
   "cell_type": "code",
   "execution_count": 6,
   "metadata": {
    "ExecuteTime": {
     "end_time": "2020-09-02T01:58:01.734725Z",
     "start_time": "2020-09-02T01:58:01.693488Z"
    }
   },
   "outputs": [],
   "source": [
    "cfg.seed = 0\n",
    "cfg.gpus = 1\n",
    "cfg.data_dir = \"/home/samenabar/storage/data/FSL/mini-imagenet/\"\n",
    "cfg.dataset = \"miniimagenet\"\n",
    "\n",
    "cfg.epochs = 10\n",
    "cfg.batch_size = 256\n",
    "cfg.lr = 1e-1\n",
    "cfg.lr_schedule = [50, 80]\n",
    "cfg.momentum = 0.9\n",
    "cfg.weight_decay = 5e-4\n",
    "cfg.val_interval = 10\n",
    "\n",
    "cfg.model = edict()\n",
    "\n",
    "cfg.model.no_track_bn_stats = False\n",
    "cfg.model.hidden_size = 32\n",
    "cfg.model.activation = \"relu\"\n",
    "\n",
    "cfg.val = edict(fsl=edict(), sup=edict())\n",
    "cfg.val.pool = 0\n",
    "\n",
    "cfg.val.fsl.way = 5\n",
    "cfg.val.fsl.spt_shot = 5\n",
    "cfg.val.fsl.qry_shot = 15\n",
    "cfg.val.fsl.batch_size = 16\n",
    "cfg.val.fsl.total_num_tasks = 500\n",
    "\n",
    "cfg.val.sup.batch_size = 256"
   ]
  },
  {
   "cell_type": "code",
   "execution_count": 7,
   "metadata": {
    "ExecuteTime": {
     "end_time": "2020-09-02T01:58:02.214990Z",
     "start_time": "2020-09-02T01:58:01.737369Z"
    }
   },
   "outputs": [
    {
     "name": "stdout",
     "output_type": "stream",
     "text": [
      "Running on gpu:0 with seed: 0\n"
     ]
    }
   ],
   "source": [
    "cpu, device = setup_device(cfg.gpus, default_platform=\"cpu\")\n",
    "rng = random.PRNGKey(cfg.seed)  # Default seed is 0\n",
    "print(f\"Running on {device} with seed: {cfg.seed}\")"
   ]
  },
  {
   "cell_type": "code",
   "execution_count": 8,
   "metadata": {
    "ExecuteTime": {
     "end_time": "2020-09-02T01:58:06.652205Z",
     "start_time": "2020-09-02T01:58:02.217340Z"
    }
   },
   "outputs": [
    {
     "name": "stdout",
     "output_type": "stream",
     "text": [
      "Supervised train data: (32000, 84, 84, 3) (32000,)\n",
      "Supervised validation data: (6400, 84, 84, 3) (6400,)\n",
      "FSL and Transfer learning data: (16, 600, 84, 84, 3) (16, 600)\n"
     ]
    }
   ],
   "source": [
    "train_images, train_labels, val_images, val_labels, preprocess_fn = prepare_data(\n",
    "    cfg.dataset, cfg.data_dir, device,\n",
    ")\n",
    "sup_train_images = flatten(train_images[:, :TRAIN_SIZE], 1)\n",
    "sup_train_labels = flatten(train_labels[:, :TRAIN_SIZE], 1)\n",
    "# These are for supervised learning validation\n",
    "sup_val_images = flatten(train_images[:, TRAIN_SIZE:], 1)\n",
    "sup_val_labels = flatten(train_labels[:, TRAIN_SIZE:], 1)\n",
    "\n",
    "transfer_spt_images = val_images[:, :TRAIN_SIZE]\n",
    "transfer_spt_labels = val_labels[:, :TRAIN_SIZE]\n",
    "transfer_qry_images = val_images[:, TRAIN_SIZE:]\n",
    "transfer_qry_labels = val_labels[:, TRAIN_SIZE:]\n",
    "\n",
    "print(\"Supervised train data:\", sup_train_images.shape, sup_train_labels.shape)\n",
    "print(\n",
    "    \"Supervised validation data:\", sup_val_images.shape, sup_val_labels.shape,\n",
    ")\n",
    "print(\n",
    "    \"FSL and Transfer learning data:\", val_images.shape, val_labels.shape,\n",
    ")"
   ]
  },
  {
   "cell_type": "code",
   "execution_count": 9,
   "metadata": {
    "ExecuteTime": {
     "end_time": "2020-09-02T01:58:12.762764Z",
     "start_time": "2020-09-02T01:58:06.695074Z"
    }
   },
   "outputs": [],
   "source": [
    "output_size = sup_train_images.shape[0]\n",
    "body, head = prepare_model(\n",
    "    cfg.dataset,\n",
    "    output_size,\n",
    "    cfg.model.hidden_size,\n",
    "    cfg.model.activation,\n",
    "    track_stats=not cfg.model.no_track_bn_stats,\n",
    ")\n",
    "rng, rng_params = split(rng)\n",
    "(slow_params, fast_params, slow_state, fast_state,) = make_params(\n",
    "    rng, cfg.dataset, body.init, body.apply, head.init, device,\n",
    ")\n",
    "params = (slow_params, fast_params)\n",
    "state = (slow_state, fast_state)"
   ]
  },
  {
   "cell_type": "code",
   "execution_count": 10,
   "metadata": {
    "ExecuteTime": {
     "end_time": "2020-09-02T01:58:13.654008Z",
     "start_time": "2020-09-02T01:58:12.767064Z"
    }
   },
   "outputs": [],
   "source": [
    "def step(rng, params, state, inputs, targets, opt_state, loss_fn, opt_update_fn):\n",
    "    rng, rng_step = split(rng)\n",
    "    (loss, (state, aux)), grads = value_and_grad(loss_fn, (0, 1), has_aux=True)(\n",
    "        *params, *state, rng_step, inputs, targets,\n",
    "    )\n",
    "    # print(grads)\n",
    "    updates, opt_state = opt_update_fn(grads, opt_state, params)\n",
    "    params = ox.apply_updates(params, updates)\n",
    "\n",
    "    return params, state, opt_state, loss, aux"
   ]
  },
  {
   "cell_type": "code",
   "execution_count": 11,
   "metadata": {
    "ExecuteTime": {
     "end_time": "2020-09-02T01:58:14.322176Z",
     "start_time": "2020-09-02T01:58:13.656725Z"
    }
   },
   "outputs": [],
   "source": [
    "cfg.epochs = 5\n",
    "\n",
    "train_apply_fn_kwargs = {\n",
    "    \"slow_apply\": body.apply,\n",
    "    \"fast_apply\": head.apply,\n",
    "    \"loss_fn\": mean_xe_and_acc_dict,\n",
    "    \"is_training\": True,\n",
    "}\n",
    "train_apply_and_loss_fn = partial(apply_and_loss_fn, **train_apply_fn_kwargs)\n",
    "rng, rng_sampler = split(rng)\n",
    "train_sampler = BatchSampler(\n",
    "    rng_sampler, sup_train_images, sup_train_labels, cfg.batch_size,\n",
    ")\n",
    "\n",
    "cfg.lr_schedule = [20, 40]\n",
    "schedule = ox.piecewise_constant_schedule(\n",
    "    -cfg.lr, {e: 0.1 for e in cfg.lr_schedule}\n",
    ")\n",
    "opt = ox.chain(\n",
    "    ox.trace(decay=cfg.momentum, nesterov=False),\n",
    "    ox.additive_weight_decay(cfg.weight_decay),\n",
    "    ox.scale_by_schedule(schedule),\n",
    ")\n",
    "\n",
    "(slow_params, fast_params, slow_state, fast_state,) = make_params(\n",
    "    rng, cfg.dataset, body.init, body.apply, head.init, device,\n",
    ")\n",
    "params = (slow_params, fast_params)\n",
    "state = (slow_state, fast_state)\n",
    "\n",
    "opt_state = opt.init(params)\n",
    "schedule_state = opt_state[-1]"
   ]
  },
  {
   "cell_type": "code",
   "execution_count": 12,
   "metadata": {
    "ExecuteTime": {
     "end_time": "2020-09-02T01:58:14.364963Z",
     "start_time": "2020-09-02T01:58:14.325060Z"
    }
   },
   "outputs": [],
   "source": [
    "step_ins = jit(partial(step, loss_fn=train_apply_and_loss_fn, opt_update_fn=opt.update))"
   ]
  },
  {
   "cell_type": "code",
   "execution_count": 13,
   "metadata": {
    "ExecuteTime": {
     "end_time": "2020-09-02T02:04:38.910220Z",
     "start_time": "2020-09-02T01:58:14.368668Z"
    },
    "scrolled": true
   },
   "outputs": [
    {
     "data": {
      "application/vnd.jupyter.widget-view+json": {
       "model_id": "a34f1f1177334ee8ba751b1560340b7c",
       "version_major": 2,
       "version_minor": 0
      },
      "text/plain": [
       "HBox(children=(FloatProgress(value=0.0, max=6200.0), HTML(value='')))"
      ]
     },
     "metadata": {},
     "output_type": "display_data"
    },
    {
     "name": "stderr",
     "output_type": "stream",
     "text": [
      "/home/samenabar/storage/.pyenv/versions/3.8.5/envs/385/lib/python3.8/site-packages/jax/numpy/lax_numpy.py:1621: FutureWarning: jax.numpy reductions won't accept lists and tuples in future versions, only scalars and ndarrays\n",
      "  warnings.warn(msg, category=FutureWarning)\n"
     ]
    }
   ],
   "source": [
    "cfg.epochs = 50\n",
    "curr_step = 0\n",
    "pbar = tqdmn(range(1), total=(((sup_train_images.shape[0] // cfg.batch_size) - 1) * cfg.epochs))\n",
    "for epoch in range(1, cfg.epochs + 1):\n",
    "    # sampler = batch_sampler(rng, train_images, train_labels, cfg.batch_size)\n",
    "    pbar.set_description(f\"E:{epoch}\")\n",
    "    for j, (X, y) in enumerate(train_sampler):\n",
    "        X = jax.device_put(X, device)\n",
    "        y = jax.device_put(y, device)\n",
    "        X = preprocess_fn(X)\n",
    "\n",
    "        opt_state[-1] = schedule_state\n",
    "        params, state, opt_state, loss, aux = step_ins(\n",
    "            rng, params, state, X, y, opt_state\n",
    "        )\n",
    "        opt_state[-1] = schedule_state # Before and after for checkpointing and safety\n",
    "\n",
    "        pbar.update()\n",
    "        curr_step += 1\n",
    "        \n",
    "        pbar.set_postfix(\n",
    "            loss=f\"{loss:.3f}\",\n",
    "            acc=f\"{aux[0]['acc'].mean():.2f}\",\n",
    "            lr=f\"{schedule(opt_state[-1].count):.4f}\",\n",
    "        )\n",
    "        \n",
    "    schedule_state = ox.ScaleByScheduleState(\n",
    "        count=schedule_state.count + 1,\n",
    "    )  # "
   ]
  },
  {
   "cell_type": "code",
   "execution_count": 14,
   "metadata": {
    "ExecuteTime": {
     "end_time": "2020-09-02T02:04:41.716511Z",
     "start_time": "2020-09-02T02:04:41.302839Z"
    }
   },
   "outputs": [],
   "source": [
    "from lib import xe_and_acc\n",
    "from test_utils import SupervisedStandardTester\n",
    "from test_utils import SupervisedCosineTester"
   ]
  },
  {
   "cell_type": "code",
   "execution_count": 15,
   "metadata": {
    "ExecuteTime": {
     "end_time": "2020-09-02T02:04:41.756753Z",
     "start_time": "2020-09-02T02:04:41.719704Z"
    }
   },
   "outputs": [],
   "source": [
    "def pred_fn(slow_params, fast_params, slow_state, fast_state, rng, inputs, is_training, slow_apply, fast_apply):\n",
    "    rng_slow, rng_fast = split(rng)\n",
    "    slow_outputs, _ = slow_apply(slow_params, slow_state, rng_slow, inputs, is_training)\n",
    "    fast_outputs, _ = fast_apply(fast_params, fast_state, rng_fast, *slow_outputs, is_training)\n",
    "    return fast_outputs\n",
    "\n",
    "def embeddings_fn(slow_params, slow_state, rng, inputs, is_training, slow_apply):\n",
    "    return slow_apply(slow_params, slow_state, rng, inputs, is_training)[0][0]"
   ]
  },
  {
   "cell_type": "code",
   "execution_count": 16,
   "metadata": {
    "ExecuteTime": {
     "end_time": "2020-09-02T02:04:43.721146Z",
     "start_time": "2020-09-02T02:04:43.150567Z"
    }
   },
   "outputs": [],
   "source": [
    "no_stats_body, no_stats_head = prepare_model(\n",
    "    cfg.dataset,\n",
    "    output_size,\n",
    "    cfg.model.hidden_size,\n",
    "    cfg.model.activation,\n",
    "    track_stats=False,\n",
    ")\n",
    "rng, rng_params = split(rng)\n",
    "(untrained_slow_params, untrained_fast_params, untrained_slow_state, untrained_fast_state,) = make_params(\n",
    "    rng, cfg.dataset, no_stats_body.init, no_stats_body.apply, no_stats_head.init, device,\n",
    ")\n",
    "# params = (slow_params, fast_params)\n",
    "# state = (slow_state, fast_state)"
   ]
  },
  {
   "cell_type": "code",
   "execution_count": 17,
   "metadata": {
    "ExecuteTime": {
     "end_time": "2020-09-02T02:04:43.778657Z",
     "start_time": "2020-09-02T02:04:43.729153Z"
    }
   },
   "outputs": [],
   "source": [
    "test_pred_fn = jit(partial(pred_fn, is_training=False, slow_apply=body.apply, fast_apply=head.apply))\n",
    "test_untrained_pred_fn = jit(partial(pred_fn, is_training=False, slow_apply=no_stats_body.apply, fast_apply=no_stats_head.apply))"
   ]
  },
  {
   "cell_type": "code",
   "execution_count": 18,
   "metadata": {
    "ExecuteTime": {
     "end_time": "2020-09-02T02:04:43.817726Z",
     "start_time": "2020-09-02T02:04:43.782147Z"
    }
   },
   "outputs": [],
   "source": [
    "test_embeddings_fn = jit(partial(embeddings_fn, is_training=False, slow_apply=body.apply))\n",
    "test_untrained_embeddings_fn = jit(partial(embeddings_fn, is_training=False, slow_apply=no_stats_body.apply))"
   ]
  },
  {
   "cell_type": "code",
   "execution_count": 19,
   "metadata": {
    "ExecuteTime": {
     "end_time": "2020-09-02T02:04:45.391906Z",
     "start_time": "2020-09-02T02:04:45.357796Z"
    }
   },
   "outputs": [],
   "source": [
    "supervised_std_tester = SupervisedStandardTester(\n",
    "    rng,\n",
    "    sup_val_images,\n",
    "    sup_val_labels,\n",
    "    cfg.val.sup.batch_size,\n",
    "    # pred_fn_test,\n",
    "    preprocess_fn,\n",
    "    device,\n",
    ")"
   ]
  },
  {
   "cell_type": "code",
   "execution_count": 20,
   "metadata": {
    "ExecuteTime": {
     "end_time": "2020-09-02T02:04:53.484306Z",
     "start_time": "2020-09-02T02:04:48.970264Z"
    }
   },
   "outputs": [
    {
     "name": "stdout",
     "output_type": "stream",
     "text": [
      "Trained loss acc:\n",
      "3.7621307 0.4028125\n"
     ]
    }
   ],
   "source": [
    "loss, acc = supervised_std_tester(partial(test_pred_fn, *params, *state, rng))\n",
    "print(\"Trained loss acc:\")\n",
    "print(loss, acc)"
   ]
  },
  {
   "cell_type": "code",
   "execution_count": 21,
   "metadata": {
    "ExecuteTime": {
     "end_time": "2020-09-02T02:04:57.191078Z",
     "start_time": "2020-09-02T02:04:53.487081Z"
    }
   },
   "outputs": [
    {
     "name": "stdout",
     "output_type": "stream",
     "text": [
      "Untrained loss acc:\n",
      "10.442042 0.0\n"
     ]
    }
   ],
   "source": [
    "loss, acc = supervised_std_tester(partial(test_untrained_pred_fn, untrained_slow_params, untrained_fast_params, untrained_slow_state, untrained_fast_state, rng))\n",
    "print(\"Untrained loss acc:\")\n",
    "print(loss, acc)"
   ]
  },
  {
   "cell_type": "code",
   "execution_count": 22,
   "metadata": {
    "ExecuteTime": {
     "end_time": "2020-09-02T02:05:21.310313Z",
     "start_time": "2020-09-02T02:05:21.269342Z"
    }
   },
   "outputs": [],
   "source": [
    "supervised_cosine_tester = SupervisedCosineTester(\n",
    "    rng,\n",
    "    sup_train_images,\n",
    "    sup_train_labels,\n",
    "    sup_val_images,\n",
    "    sup_val_labels,\n",
    "    cfg.val.sup.batch_size,\n",
    "    preprocess_fn,\n",
    "    device,\n",
    ")"
   ]
  },
  {
   "cell_type": "code",
   "execution_count": 23,
   "metadata": {
    "ExecuteTime": {
     "end_time": "2020-09-02T02:05:33.212683Z",
     "start_time": "2020-09-02T02:05:21.584938Z"
    }
   },
   "outputs": [
    {
     "data": {
      "text/plain": [
       "0.34953125"
      ]
     },
     "execution_count": 23,
     "metadata": {},
     "output_type": "execute_result"
    }
   ],
   "source": [
    "supervised_cosine_tester(partial(test_embeddings_fn, params[0], state[0], rng))"
   ]
  },
  {
   "cell_type": "code",
   "execution_count": 24,
   "metadata": {
    "ExecuteTime": {
     "end_time": "2020-09-02T02:05:45.063092Z",
     "start_time": "2020-09-02T02:05:33.216117Z"
    }
   },
   "outputs": [
    {
     "data": {
      "text/plain": [
       "0.18390625"
      ]
     },
     "execution_count": 24,
     "metadata": {},
     "output_type": "execute_result"
    }
   ],
   "source": [
    "supervised_cosine_tester(partial(test_untrained_embeddings_fn, untrained_slow_params, untrained_slow_state, rng))"
   ]
  },
  {
   "cell_type": "code",
   "execution_count": 25,
   "metadata": {
    "ExecuteTime": {
     "end_time": "2020-09-02T02:05:51.218443Z",
     "start_time": "2020-09-02T02:05:50.819100Z"
    }
   },
   "outputs": [],
   "source": [
    "from test_utils import FSLLRTester"
   ]
  },
  {
   "cell_type": "code",
   "execution_count": 26,
   "metadata": {
    "ExecuteTime": {
     "end_time": "2020-09-02T02:05:51.257613Z",
     "start_time": "2020-09-02T02:05:51.221239Z"
    }
   },
   "outputs": [],
   "source": [
    "fsllr_tester = FSLLRTester(\n",
    "    val_images,\n",
    "    val_labels,\n",
    "    25,\n",
    "    250,\n",
    "    5,\n",
    "    5,\n",
    "    15,\n",
    "    preprocess_fn,\n",
    "    device,\n",
    ")"
   ]
  },
  {
   "cell_type": "code",
   "execution_count": 27,
   "metadata": {
    "ExecuteTime": {
     "end_time": "2020-09-02T02:06:19.757907Z",
     "start_time": "2020-09-02T02:05:51.669265Z"
    }
   },
   "outputs": [
    {
     "data": {
      "text/plain": [
       "0.556"
      ]
     },
     "execution_count": 27,
     "metadata": {},
     "output_type": "execute_result"
    }
   ],
   "source": [
    "fsllr_tester(partial(test_embeddings_fn, params[0], state[0], rng), rng)"
   ]
  },
  {
   "cell_type": "code",
   "execution_count": 28,
   "metadata": {
    "ExecuteTime": {
     "end_time": "2020-09-02T02:06:41.168491Z",
     "start_time": "2020-09-02T02:06:19.762305Z"
    }
   },
   "outputs": [
    {
     "data": {
      "text/plain": [
       "0.39770666666666665"
      ]
     },
     "execution_count": 28,
     "metadata": {},
     "output_type": "execute_result"
    }
   ],
   "source": [
    "fsllr_tester(partial(test_untrained_embeddings_fn, untrained_slow_params, untrained_slow_state, rng), rng)"
   ]
  },
  {
   "cell_type": "code",
   "execution_count": 29,
   "metadata": {
    "ExecuteTime": {
     "end_time": "2020-09-02T02:06:41.244281Z",
     "start_time": "2020-09-02T02:06:41.174469Z"
    }
   },
   "outputs": [],
   "source": [
    "from lib import cl_inner_loop"
   ]
  },
  {
   "cell_type": "code",
   "execution_count": 30,
   "metadata": {
    "ExecuteTime": {
     "end_time": "2020-09-02T02:06:41.293180Z",
     "start_time": "2020-09-02T02:06:41.249501Z"
    }
   },
   "outputs": [],
   "source": [
    "from test_utils import lr_fit_eval"
   ]
  },
  {
   "cell_type": "code",
   "execution_count": 31,
   "metadata": {
    "ExecuteTime": {
     "end_time": "2020-09-02T02:06:41.330814Z",
     "start_time": "2020-09-02T02:06:41.295442Z"
    }
   },
   "outputs": [],
   "source": [
    "import numpy as onp"
   ]
  },
  {
   "cell_type": "code",
   "execution_count": 32,
   "metadata": {
    "ExecuteTime": {
     "end_time": "2020-09-02T02:06:41.380808Z",
     "start_time": "2020-09-02T02:06:41.333262Z"
    }
   },
   "outputs": [],
   "source": [
    "class ContinualLearnerTester:\n",
    "    def __init__(\n",
    "        self,\n",
    "        spt_images,\n",
    "        spt_labels,\n",
    "        qry_images,\n",
    "        qry_labels,\n",
    "        device,\n",
    "        preprocess_fn,\n",
    "        n_jobs=4,\n",
    "    ):\n",
    "        self.spt_images = spt_images\n",
    "        self.spt_labels = spt_labels\n",
    "        self.qry_images = qry_images\n",
    "        self.qry_labels = qry_labels\n",
    "\n",
    "        self.device = device\n",
    "        self.preprocess_fn = preprocess_fn\n",
    "        self.n_jobs = n_jobs\n",
    "\n",
    "    def __call__(\n",
    "        self,\n",
    "        length,\n",
    "        slow_params,\n",
    "        fast_params,\n",
    "        slow_state,\n",
    "        fast_state,\n",
    "        rng,\n",
    "        slow_apply,\n",
    "        fast_apply,\n",
    "        loss_fn,\n",
    "        opt,\n",
    "    ):\n",
    "        def apply_fn(slow_params, fast_params, slow_state, fast_state, inputs):\n",
    "            slow_outputs, _ = slow_apply(slow_params, slow_state, rng, inputs, False)\n",
    "            return fast_apply(fast_params, fast_state, rng, *slow_outputs, False)[0]\n",
    "\n",
    "        spt_images = flatten(\n",
    "            preprocess_fn(jax.device_put(self.spt_images[:length], device)), 1\n",
    "        )\n",
    "        spt_labels = flatten((jax.device_put(self.spt_labels[:length], device)), 1)\n",
    "        qry_images = flatten(\n",
    "            preprocess_fn(jax.device_put(self.qry_images[:length], device)), 1\n",
    "        )\n",
    "        qry_labels = flatten((jax.device_put(self.qry_labels[:length], device)), 1)\n",
    "\n",
    "        adapted_fast_params, _, _, _, info = cl_inner_loop(\n",
    "            slow_params,\n",
    "            fast_params,\n",
    "            slow_state,\n",
    "            fast_state,\n",
    "            opt.init(fast_params),\n",
    "            rng,\n",
    "            spt_images,\n",
    "            spt_labels,\n",
    "            False,\n",
    "            slow_apply,\n",
    "            fast_apply,\n",
    "            loss_fn,\n",
    "            opt.update,\n",
    "        )\n",
    "\n",
    "        spt_slow_outputs, _ = slow_apply(\n",
    "            slow_params, slow_state, rng, spt_images, False\n",
    "        )\n",
    "        qry_slow_outputs, _ = slow_apply(\n",
    "            slow_params, slow_state, rng, qry_images, False\n",
    "        )\n",
    "\n",
    "        spt_outputs = fast_apply(\n",
    "            adapted_fast_params, fast_state, rng, *spt_slow_outputs, False\n",
    "        )[0]\n",
    "        qry_outputs = fast_apply(\n",
    "            adapted_fast_params, fast_state, rng, *qry_slow_outputs, False\n",
    "        )[0]\n",
    "\n",
    "        lr_spt_preds, lr_qry_preds = lr_fit_eval(\n",
    "            onp.array(flatten(spt_slow_outputs[0], (1, 3))),\n",
    "            onp.array(spt_labels),\n",
    "            onp.array(flatten(qry_slow_outputs[0], (1, 3))),\n",
    "            n_jobs=self.n_jobs,\n",
    "            predict_train=True,\n",
    "        )\n",
    "        lr_spt_acc = (lr_spt_preds == spt_labels).astype(jnp.float32).mean()\n",
    "        lr_qry_acc = (lr_qry_preds == qry_labels).astype(jnp.float32).mean()\n",
    "\n",
    "        spt_acc = (spt_outputs.argmax(-1) == spt_labels).astype(jnp.float32).mean()\n",
    "        qry_acc = (qry_outputs.argmax(-1) == qry_labels).astype(jnp.float32).mean()\n",
    "\n",
    "        return spt_acc, qry_acc, lr_spt_acc, lr_qry_acc"
   ]
  },
  {
   "cell_type": "code",
   "execution_count": 33,
   "metadata": {
    "ExecuteTime": {
     "end_time": "2020-09-02T02:06:52.825506Z",
     "start_time": "2020-09-02T02:06:52.144187Z"
    }
   },
   "outputs": [],
   "source": [
    "cl_tester = ContinualLearnerTester(val_images[:, :10], val_labels[:, :10], val_images[:, 10:60], val_labels[:, 10:60], device, preprocess_fn)"
   ]
  },
  {
   "cell_type": "code",
   "execution_count": 39,
   "metadata": {
    "ExecuteTime": {
     "end_time": "2020-09-02T02:08:08.060193Z",
     "start_time": "2020-09-02T02:08:04.090346Z"
    }
   },
   "outputs": [
    {
     "data": {
      "text/plain": [
       "(DeviceArray(0.2125, dtype=float32),\n",
       " DeviceArray(0.09875, dtype=float32),\n",
       " DeviceArray(1., dtype=float32),\n",
       " DeviceArray(0.345, dtype=float32))"
      ]
     },
     "execution_count": 39,
     "metadata": {},
     "output_type": "execute_result"
    }
   ],
   "source": [
    "inner_opt = ox.sgd(1e-1)\n",
    "cl_tester(16, params[0], params[1], *state, rng, body.apply, head.apply, mean_xe_and_acc_dict, inner_opt)"
   ]
  },
  {
   "cell_type": "code",
   "execution_count": 40,
   "metadata": {
    "ExecuteTime": {
     "end_time": "2020-09-02T02:08:14.873819Z",
     "start_time": "2020-09-02T02:08:10.890419Z"
    }
   },
   "outputs": [
    {
     "data": {
      "text/plain": [
       "(DeviceArray(0.9125, dtype=float32),\n",
       " DeviceArray(0.32625, dtype=float32),\n",
       " DeviceArray(1., dtype=float32),\n",
       " DeviceArray(0.345, dtype=float32))"
      ]
     },
     "execution_count": 40,
     "metadata": {},
     "output_type": "execute_result"
    }
   ],
   "source": [
    "inner_opt = ox.sgd(1e-3)\n",
    "cl_tester(16, params[0], jax.tree_map(lambda x: jnp.zeros(x.shape), params[1]), *state, rng, body.apply, head.apply, mean_xe_and_acc_dict, inner_opt)"
   ]
  },
  {
   "cell_type": "code",
   "execution_count": 48,
   "metadata": {
    "ExecuteTime": {
     "end_time": "2020-09-02T02:10:34.322143Z",
     "start_time": "2020-09-02T02:10:30.005920Z"
    }
   },
   "outputs": [
    {
     "data": {
      "text/plain": [
       "(DeviceArray(0.2, dtype=float32),\n",
       " DeviceArray(0.09625, dtype=float32),\n",
       " DeviceArray(1., dtype=float32),\n",
       " DeviceArray(0.20375, dtype=float32))"
      ]
     },
     "execution_count": 48,
     "metadata": {},
     "output_type": "execute_result"
    }
   ],
   "source": [
    "inner_opt = ox.sgd(1e-3)\n",
    "cl_tester(16, untrained_slow_params, untrained_fast_params, untrained_slow_state, untrained_fast_state, rng, no_stats_body.apply, no_stats_head.apply, mean_xe_and_acc_dict, inner_opt)"
   ]
  },
  {
   "cell_type": "code",
   "execution_count": 54,
   "metadata": {
    "ExecuteTime": {
     "end_time": "2020-09-02T02:11:19.612796Z",
     "start_time": "2020-09-02T02:11:15.342396Z"
    }
   },
   "outputs": [
    {
     "data": {
      "text/plain": [
       "(DeviceArray(0.2375, dtype=float32),\n",
       " DeviceArray(0.10875, dtype=float32),\n",
       " DeviceArray(1., dtype=float32),\n",
       " DeviceArray(0.20375, dtype=float32))"
      ]
     },
     "execution_count": 54,
     "metadata": {},
     "output_type": "execute_result"
    }
   ],
   "source": [
    "inner_opt = ox.sgd(1e-3)\n",
    "cl_tester(16, untrained_slow_params, jax.tree_map(lambda x: jnp.zeros(x.shape), params[1]), untrained_slow_state, untrained_fast_state, rng, no_stats_body.apply, no_stats_head.apply, mean_xe_and_acc_dict, inner_opt)"
   ]
  },
  {
   "cell_type": "code",
   "execution_count": 58,
   "metadata": {
    "ExecuteTime": {
     "end_time": "2020-09-02T02:12:56.365130Z",
     "start_time": "2020-09-02T02:12:56.270411Z"
    }
   },
   "outputs": [],
   "source": [
    "transfer_cosine_tester = SupervisedCosineTester(\n",
    "    rng,\n",
    "    flatten(transfer_spt_images, 1),\n",
    "    flatten(transfer_spt_labels, 1),\n",
    "    flatten(transfer_qry_images, 1),\n",
    "    flatten(transfer_qry_labels, 1),\n",
    "    cfg.val.sup.batch_size,\n",
    "    preprocess_fn,\n",
    "    device,\n",
    ")"
   ]
  },
  {
   "cell_type": "code",
   "execution_count": 59,
   "metadata": {
    "ExecuteTime": {
     "end_time": "2020-09-02T02:13:00.075318Z",
     "start_time": "2020-09-02T02:12:56.696878Z"
    }
   },
   "outputs": [
    {
     "data": {
      "text/plain": [
       "0.478125"
      ]
     },
     "execution_count": 59,
     "metadata": {},
     "output_type": "execute_result"
    }
   ],
   "source": [
    "transfer_cosine_tester(partial(test_embeddings_fn, params[0], state[0], rng))"
   ]
  },
  {
   "cell_type": "code",
   "execution_count": 60,
   "metadata": {
    "ExecuteTime": {
     "end_time": "2020-09-02T02:13:05.971774Z",
     "start_time": "2020-09-02T02:13:03.709617Z"
    }
   },
   "outputs": [
    {
     "data": {
      "text/plain": [
       "0.295625"
      ]
     },
     "execution_count": 60,
     "metadata": {},
     "output_type": "execute_result"
    }
   ],
   "source": [
    "transfer_cosine_tester(partial(test_untrained_embeddings_fn, untrained_slow_params, untrained_slow_state, rng))"
   ]
  },
  {
   "cell_type": "code",
   "execution_count": null,
   "metadata": {},
   "outputs": [],
   "source": []
  }
 ],
 "metadata": {
  "kernelspec": {
   "display_name": "385",
   "language": "python",
   "name": "385"
  },
  "language_info": {
   "codemirror_mode": {
    "name": "ipython",
    "version": 3
   },
   "file_extension": ".py",
   "mimetype": "text/x-python",
   "name": "python",
   "nbconvert_exporter": "python",
   "pygments_lexer": "ipython3",
   "version": "3.8.5"
  },
  "toc": {
   "base_numbering": 1,
   "nav_menu": {},
   "number_sections": true,
   "sideBar": true,
   "skip_h1_title": false,
   "title_cell": "Table of Contents",
   "title_sidebar": "Contents",
   "toc_cell": false,
   "toc_position": {},
   "toc_section_display": true,
   "toc_window_display": false
  }
 },
 "nbformat": 4,
 "nbformat_minor": 2
}
