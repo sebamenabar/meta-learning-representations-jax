{
 "cells": [
  {
   "cell_type": "code",
   "execution_count": 1,
   "metadata": {
    "ExecuteTime": {
     "end_time": "2020-09-02T01:15:58.252338Z",
     "start_time": "2020-09-02T01:15:58.229899Z"
    },
    "init_cell": true
   },
   "outputs": [],
   "source": [
    "%load_ext autoreload\n",
    "%autoreload 2"
   ]
  },
  {
   "cell_type": "code",
   "execution_count": 2,
   "metadata": {
    "ExecuteTime": {
     "end_time": "2020-09-02T01:15:58.273123Z",
     "start_time": "2020-09-02T01:15:58.255146Z"
    },
    "init_cell": true
   },
   "outputs": [],
   "source": [
    "import os\n",
    "import sys\n",
    "\n",
    "sys.path.insert(0, \"../src\")"
   ]
  },
  {
   "cell_type": "code",
   "execution_count": 3,
   "metadata": {
    "ExecuteTime": {
     "end_time": "2020-09-02T01:15:59.425665Z",
     "start_time": "2020-09-02T01:15:58.276993Z"
    },
    "init_cell": true
   },
   "outputs": [],
   "source": [
    "from tqdm.notebook import tqdm as tqdmn\n",
    "from easydict import EasyDict as edict\n",
    "\n",
    "import numpy as onp\n",
    "\n",
    "import jax\n",
    "from jax.random import split\n",
    "from jax import random, numpy as jnp, jit, value_and_grad, partial, vmap, tree_multimap, ops\n",
    "\n",
    "import haiku as hk\n",
    "import optax as ox\n",
    "\n",
    "# from test_sup import test_su\n",
    "from data.sampling import BatchSampler\n",
    "\n",
    "from data.sampling import fsl_sample_transfer_build, continual_learning_sample_build_transfer, continual_learning_sample\n",
    "from models.maml_conv import prepare_model, make_params\n",
    "from data import prepare_data\n",
    "from lib import setup_device, make_fsl_inner_outer_loop, mean_xe_and_acc_dict, make_batched_outer_loop, fast_apply_and_loss_fn, flatten"
   ]
  },
  {
   "cell_type": "code",
   "execution_count": 4,
   "metadata": {
    "ExecuteTime": {
     "end_time": "2020-09-02T01:15:59.455336Z",
     "start_time": "2020-09-02T01:15:59.428443Z"
    },
    "init_cell": true
   },
   "outputs": [],
   "source": [
    "cfg = edict()"
   ]
  },
  {
   "cell_type": "code",
   "execution_count": 5,
   "metadata": {
    "ExecuteTime": {
     "end_time": "2020-09-02T01:15:59.488324Z",
     "start_time": "2020-09-02T01:15:59.457666Z"
    },
    "init_cell": true
   },
   "outputs": [],
   "source": [
    "cfg.hidden_size = 32\n",
    "cfg.activation = \"relu\"\n",
    "cfg.way = 5\n",
    "cfg.shot = 5\n",
    "cfg.qry_shot = 10\n",
    "cfg.batch_size = 5\n",
    "cfg.inner_lr = 1e-2\n",
    "cfg.outer_lr = 1e-3\n",
    "cfg.num_outer_steps = 10000\n",
    "# cfg.num_inner_steps = 5\n",
    "cfg.disjoint_tasks = False\n",
    "cfg.disable_jit = False\n",
    "cfg.dataset = \"miniimagenet\"\n",
    "# cfg.data_dir = \"/home/samenabar/storage/data/FSL/mini-imagenet/\"\n",
    "cfg.progress_bar_refresh_rate = 50\n",
    "cfg.train_method = \"continual-learning\"\n",
    "cfg.track_bn_stats = False\n",
    "cfg.prefetch_data_gpu = False\n",
    "cfg.meta_batch_size = 5\n",
    "cfg.data_dir = \"/home/samenabar/storage/data/FSL/mini-imagenet/\"\n",
    "\n",
    "# test\n",
    "# cfg.num_inner_steps_test = 10\n",
    "cfg.meta_batch_size_test = 25\n",
    "cfg.num_tasks_test = 1000\n",
    "\n",
    "\n",
    "cfg.gpus = 1\n",
    "\n",
    "jit_enabled = not cfg.disable_jit"
   ]
  },
  {
   "cell_type": "code",
   "execution_count": 6,
   "metadata": {
    "ExecuteTime": {
     "end_time": "2020-09-02T01:16:00.033358Z",
     "start_time": "2020-09-02T01:15:59.490740Z"
    },
    "init_cell": true
   },
   "outputs": [
    {
     "data": {
      "text/plain": [
       "GpuDevice(id=0)"
      ]
     },
     "execution_count": 6,
     "metadata": {},
     "output_type": "execute_result"
    }
   ],
   "source": [
    "cpu, device = setup_device(cfg.gpus, default_platform=\"cpu\")\n",
    "rng = random.PRNGKey(0)\n",
    "device"
   ]
  },
  {
   "cell_type": "code",
   "execution_count": null,
   "metadata": {
    "ExecuteTime": {
     "start_time": "2020-09-02T00:16:34.027Z"
    },
    "init_cell": true
   },
   "outputs": [],
   "source": [
    "train_images, train_labels, val_images, val_labels, preprocess_fn = prepare_data(\n",
    "    cfg.dataset, cfg.data_dir, device,\n",
    ")"
   ]
  },
  {
   "cell_type": "code",
   "execution_count": null,
   "metadata": {
    "ExecuteTime": {
     "start_time": "2020-09-02T00:16:34.032Z"
    },
    "init_cell": true
   },
   "outputs": [],
   "source": [
    "TRAIN_SIZE = 500\n",
    "\n",
    "sup_train_images = train_images[:, :TRAIN_SIZE]\n",
    "sup_train_labels = train_labels[:, :TRAIN_SIZE]\n",
    "# These are for supervised learning validation\n",
    "sup_val_images = train_images[:, TRAIN_SIZE:]\n",
    "sup_val_labels = train_labels[:, TRAIN_SIZE:]"
   ]
  },
  {
   "cell_type": "code",
   "execution_count": null,
   "metadata": {
    "ExecuteTime": {
     "start_time": "2020-09-02T00:16:34.036Z"
    },
    "init_cell": true
   },
   "outputs": [],
   "source": [
    "test_sup_spt_sampler = BatchSampler(rng, flatten(sup_train_images, 1), flatten(sup_train_labels), 512, shuffle=False, keep_last=True)\n",
    "test_sup_qry_sampler = BatchSampler(rng, flatten(sup_val_images, 1), flatten(sup_val_labels), 512, shuffle=False, keep_last=True)"
   ]
  },
  {
   "cell_type": "code",
   "execution_count": null,
   "metadata": {
    "ExecuteTime": {
     "start_time": "2020-09-02T00:16:34.041Z"
    },
    "init_cell": true
   },
   "outputs": [],
   "source": [
    "print(\"Train data:\", sup_train_images.shape, sup_train_labels.shape)\n",
    "print(\"Sup val data:\", sup_val_images.shape, sup_val_labels.shape)\n",
    "print(\"Val data:\", val_images.shape, val_labels.shape)"
   ]
  },
  {
   "cell_type": "code",
   "execution_count": 33,
   "metadata": {
    "ExecuteTime": {
     "end_time": "2020-09-01T20:09:10.243717Z",
     "start_time": "2020-09-01T20:09:10.040168Z"
    },
    "cell_style": "center"
   },
   "outputs": [],
   "source": [
    "def cl_inner_loop(\n",
    "    slow_params,\n",
    "    fast_params,\n",
    "    slow_state,\n",
    "    fast_state,\n",
    "    opt_state,\n",
    "    rng,\n",
    "    inputs,\n",
    "    targets,\n",
    "    is_training,\n",
    "    slow_apply,\n",
    "    fast_apply,\n",
    "    loss_fn,\n",
    "    opt_update_fn,\n",
    "    num_steps=None,\n",
    "    update_state=False,\n",
    "    return_history=True,\n",
    "):\n",
    "    _fast_apply_and_loss_fn = partial(\n",
    "        fast_apply_and_loss_fn, fast_apply=fast_apply, loss_fn=loss_fn\n",
    "    )\n",
    "    rng_slow, rng_fast, *rngs = split(rng, inputs.shape[0] + 2)\n",
    "    slow_outputs, slow_state = slow_apply(\n",
    "        slow_params, slow_state, rng_slow, inputs, is_training,\n",
    "    )\n",
    "    \n",
    "    initial_loss, (_, *initial_aux) = _fast_apply_and_loss_fn(\n",
    "        fast_params, fast_state, rng_fast, slow_outputs, is_training, targets,\n",
    "    )\n",
    "    \n",
    "    losses = []\n",
    "    auxs = []\n",
    "\n",
    "    for i in range(inputs.shape[0]):\n",
    "        (loss, (new_fast_state, *aux)), grads = value_and_grad(\n",
    "            _fast_apply_and_loss_fn, has_aux=True\n",
    "        )(fast_params, fast_state, rngs[i], [so[[i]] for so in slow_outputs], is_training, targets[[i]])\n",
    "        if update_state:\n",
    "            fast_state = new_fast_state\n",
    "        if return_history:\n",
    "            losses.append(loss)\n",
    "            auxs.append(aux)\n",
    "            \n",
    "        updates, opt_state = opt_update_fn(grads, opt_state, fast_params)\n",
    "        fast_params = ox.apply_updates(fast_params, updates)\n",
    "\n",
    "    final_loss, (final_fast_state, *final_aux) = _fast_apply_and_loss_fn(\n",
    "        fast_params, fast_state, rng_fast, slow_outputs, is_training, targets,\n",
    "    )\n",
    "    if return_history:\n",
    "        # losses.append(final_loss)\n",
    "        # auxs.append(final_aux)\n",
    "        info = {\n",
    "            \"losses\": jnp.stack(losses),\n",
    "            \"auxs\": tree_multimap(lambda x, *xs: jnp.stack(xs), auxs[0], *auxs),\n",
    "            \"initial\": {\"loss\": initial_loss, \"aux\": initial_aux},\n",
    "            \"final\": {\"loss\": final_loss, \"aux\": final_aux},\n",
    "        }\n",
    "    else:\n",
    "        info = {\n",
    "            \"losses\": {\"initial\": initial_loss, \"final\": final_loss},\n",
    "            \"auxs\": {\"initial\": initial_aux, \"final\": final_aux},\n",
    "        },\n",
    "\n",
    "    return (\n",
    "        fast_params,\n",
    "        slow_state,\n",
    "        fast_state,\n",
    "        opt_state,\n",
    "        info,\n",
    "    )"
   ]
  },
  {
   "cell_type": "code",
   "execution_count": null,
   "metadata": {
    "ExecuteTime": {
     "start_time": "2020-09-02T00:16:34.049Z"
    },
    "cell_style": "split",
    "init_cell": true
   },
   "outputs": [],
   "source": [
    "def fsl_inner_loop(\n",
    "    slow_params,\n",
    "    fast_params,\n",
    "    slow_state,\n",
    "    fast_state,\n",
    "    opt_state,\n",
    "    rng,\n",
    "    inputs,\n",
    "    targets,\n",
    "    is_training,\n",
    "    num_steps,\n",
    "    slow_apply,\n",
    "    fast_apply,\n",
    "    loss_fn,\n",
    "    opt_update_fn,\n",
    "    update_state=False,\n",
    "    return_history=True,\n",
    "):\n",
    "    _fast_apply_and_loss_fn = partial(\n",
    "        fast_apply_and_loss_fn, fast_apply=fast_apply, loss_fn=loss_fn\n",
    "    )\n",
    "    rng_slow, *rngs = split(rng, num_steps + 2)\n",
    "    slow_outputs, slow_state = slow_apply(\n",
    "        slow_params, slow_state, rng_slow, inputs, is_training,\n",
    "    )\n",
    "    \n",
    "    losses = []\n",
    "    auxs = []\n",
    "\n",
    "    for i in range(num_steps):\n",
    "        (loss, (new_fast_state, *aux)), grads = value_and_grad(\n",
    "            _fast_apply_and_loss_fn, has_aux=True\n",
    "        )(fast_params, fast_state, rngs[i], slow_outputs, is_training, targets)\n",
    "        if update_state:\n",
    "            fast_state = new_fast_state\n",
    "        if i == 0:\n",
    "            initial_loss = loss\n",
    "            initial_aux = aux\n",
    "            \n",
    "        if return_history:\n",
    "            losses.append(loss)\n",
    "            auxs.append(aux)\n",
    "            \n",
    "        updates, opt_state = opt_update_fn(grads, opt_state, fast_params)\n",
    "        fast_params = ox.apply_updates(fast_params, updates)\n",
    "\n",
    "    final_loss, (final_fast_state, *final_aux) = _fast_apply_and_loss_fn(\n",
    "        fast_params, fast_state, rngs[i + 1], slow_outputs, is_training, targets,\n",
    "    )\n",
    "    if return_history:\n",
    "        losses.append(final_loss)\n",
    "        auxs.append(final_aux)\n",
    "        info = {\"losses\": jnp.stack(losses), \"auxs\": tree_multimap(lambda x, *xs: jnp.stack(xs), auxs[0], *auxs)}\n",
    "    else:\n",
    "        info = {\n",
    "            \"losses\": {\"initial\": initial_loss, \"final\": final_loss},\n",
    "            \"auxs\": {\"initial\": initial_aux, \"final\": final_aux},\n",
    "        },\n",
    "\n",
    "    return (\n",
    "        fast_params,\n",
    "        slow_state,\n",
    "        fast_state,\n",
    "        opt_state,\n",
    "        info,\n",
    "    )"
   ]
  },
  {
   "cell_type": "code",
   "execution_count": null,
   "metadata": {
    "ExecuteTime": {
     "start_time": "2020-09-02T00:16:34.057Z"
    },
    "cell_style": "split",
    "init_cell": true
   },
   "outputs": [],
   "source": [
    "def outer_loop(\n",
    "    slow_params,\n",
    "    fast_params,\n",
    "    slow_state,\n",
    "    fast_state,\n",
    "    inner_opt_state,\n",
    "    rng,\n",
    "    x_spt,\n",
    "    y_spt,\n",
    "    x_qry,\n",
    "    y_qry,\n",
    "    spt_classes,\n",
    "    is_training,\n",
    "    inner_loop,  # instantiated inner_loop\n",
    "    slow_apply,\n",
    "    fast_apply,\n",
    "    loss_fn,\n",
    "    train_method=None,\n",
    "):\n",
    "    if train_method == \"fsl-reset-per-task\":\n",
    "        print(\"reseting fast_params\")\n",
    "        # uniques = jnp.unique(y_spt)\n",
    "        fast_params = hk.data_structures.merge(\n",
    "            {\n",
    "                \"mini_imagenet_cnn_head/linear\": {\n",
    "                    \"w\": ops.index_update(\n",
    "                        fast_params[\"mini_imagenet_cnn_head/linear\"][\"w\"],\n",
    "                        ops.index[:, spt_classes],\n",
    "                        jnp.zeros(\n",
    "                            (\n",
    "                                fast_params[\"mini_imagenet_cnn_head/linear\"][\"w\"].shape[\n",
    "                                    0\n",
    "                                ],\n",
    "                                spt_classes.shape[0],\n",
    "                            )\n",
    "                        ),\n",
    "                    )\n",
    "                }\n",
    "            }\n",
    "        )\n",
    "    _fast_apply_and_loss_fn = partial(\n",
    "        fast_apply_and_loss_fn, fast_apply=fast_apply, loss_fn=loss_fn\n",
    "    )\n",
    "    rng_outer_slow, rng_outer_fast, rng_inner = split(rng, 3)\n",
    "    slow_outputs, initial_slow_state = slow_apply(\n",
    "        slow_params, slow_state, rng_outer_slow, x_qry, is_training,\n",
    "    )\n",
    "    initial_loss, (_, *initial_aux) = _fast_apply_and_loss_fn(\n",
    "        fast_params, fast_state, rng_outer_fast, slow_outputs, False, y_qry,\n",
    "    )\n",
    "\n",
    "    fast_params, inner_slow_state, fast_state, inner_opt_state, inner_auxs = inner_loop(\n",
    "        slow_params,\n",
    "        fast_params,\n",
    "        slow_state,\n",
    "        fast_state,\n",
    "        inner_opt_state,\n",
    "        rng_inner,\n",
    "        x_spt,\n",
    "        y_spt,\n",
    "    )\n",
    "    final_loss, (final_fast_state, *final_aux) = _fast_apply_and_loss_fn(\n",
    "        fast_params, fast_state, rng_outer_fast, slow_outputs, is_training, y_qry,\n",
    "    )\n",
    "    return (\n",
    "        final_loss,\n",
    "        (\n",
    "            initial_slow_state,\n",
    "            fast_state,\n",
    "            {\n",
    "                \"inner\": inner_auxs,\n",
    "                \"outer\": {\n",
    "                    \"initial\": {\"aux\": initial_aux, \"loss\": initial_loss},\n",
    "                    \"final\": {\"aux\": final_aux, \"loss\": final_loss},\n",
    "                },\n",
    "            },\n",
    "        ),\n",
    "    )"
   ]
  },
  {
   "cell_type": "code",
   "execution_count": null,
   "metadata": {
    "ExecuteTime": {
     "start_time": "2020-09-02T00:16:34.064Z"
    },
    "cell_style": "split",
    "init_cell": true
   },
   "outputs": [],
   "source": [
    "def batched_outer_loop(slow_params, fast_params, slow_state, fast_state, inner_opt_state, brng, bx_spt, by_spt, bx_qry, by_qry, spt_classes, outer_loop):\n",
    "    losses, aux = vmap(partial(outer_loop, slow_params, fast_params, slow_state, fast_state, inner_opt_state))(brng, bx_spt, by_spt, bx_qry, by_qry, spt_classes)\n",
    "    return losses.mean(), aux"
   ]
  },
  {
   "cell_type": "code",
   "execution_count": null,
   "metadata": {
    "ExecuteTime": {
     "start_time": "2020-09-02T00:16:34.067Z"
    },
    "init_cell": true
   },
   "outputs": [],
   "source": [
    "def step(\n",
    "    rng,\n",
    "    step_num,\n",
    "    outer_opt_state,\n",
    "    slow_params,\n",
    "    fast_params,\n",
    "    slow_state,\n",
    "    fast_state,\n",
    "    x_spt,\n",
    "    y_spt,\n",
    "    x_qry,\n",
    "    y_qry,\n",
    "    spt_classes,\n",
    "    inner_opt_init,\n",
    "    outer_opt_update,\n",
    "    batched_outer_loop_ins,\n",
    "    train_method=None,\n",
    "):\n",
    "    inner_opt_state = inner_opt_init(fast_params)\n",
    "\n",
    "    (outer_loss, (slow_state, fast_state, info)), grads = value_and_grad(\n",
    "        batched_outer_loop_ins, (0, 1), has_aux=True\n",
    "    )(\n",
    "        slow_params,\n",
    "        fast_params,\n",
    "        slow_state,\n",
    "        fast_state,\n",
    "        inner_opt_state,\n",
    "        split(rng, x_spt.shape[0]),\n",
    "        x_spt,\n",
    "        y_spt,\n",
    "        x_qry,\n",
    "        y_qry,\n",
    "        spt_classes,\n",
    "    )\n",
    "    updates, outer_opt_state = outer_opt_update(\n",
    "        grads, outer_opt_state, (slow_params, fast_params)\n",
    "    )\n",
    "    slow_params, fast_params = ox.apply_updates(\n",
    "        (slow_params, fast_params), updates\n",
    "    )\n",
    "\n",
    "    return outer_opt_state, slow_params, fast_params, slow_state, fast_state, info"
   ]
  },
  {
   "cell_type": "code",
   "execution_count": 40,
   "metadata": {
    "ExecuteTime": {
     "end_time": "2020-09-01T20:09:26.493212Z",
     "start_time": "2020-09-01T20:09:26.347452Z"
    }
   },
   "outputs": [],
   "source": [
    "from data.sampling import fsl_sample"
   ]
  },
  {
   "cell_type": "code",
   "execution_count": 41,
   "metadata": {
    "ExecuteTime": {
     "end_time": "2020-09-01T20:09:27.806037Z",
     "start_time": "2020-09-01T20:09:27.667909Z"
    }
   },
   "outputs": [],
   "source": [
    "def test_continual_learning_sample(rng, images, labels, num_tasks, way, spt_shot, qry_shot, disjoint=False, shuffle_labels=False):\n",
    "    x, y = fsl_sample(rng, images, labels, num_tasks, way, spt_shot, qry_shot, disjoint, shuffle_labels)\n",
    "    return x, y\n",
    "\n",
    "def test_continual_learning_sample_build_transfer(rng, images, labels, num_tasks, way, spt_shot, qry_shot, preprocess_fn, device=None, disjoint=False, shuffle_labels=False):\n",
    "    x, y = test_continual_learning_sample(rng, images, labels, num_tasks, way, spt_shot, qry_shot, disjoint=False, shuffle_labels=False)\n",
    "    x, y = jax.device_put(x, device), jax.device_put(y, device)\n",
    "    x = preprocess_fn(x)\n",
    "    x_spt, y_spt = x[:, :, :spt_shot], y[:, :, :spt_shot]\n",
    "    x_qry, y_qry = x[:, :, spt_shot:], y[:, :, spt_shot:]\n",
    "    return tuple(flatten(t, (1, 2)) for t in (x_spt, y_spt, x_qry, y_qry))"
   ]
  },
  {
   "cell_type": "code",
   "execution_count": 47,
   "metadata": {
    "ExecuteTime": {
     "end_time": "2020-09-01T20:10:09.898321Z",
     "start_time": "2020-09-01T20:09:56.394048Z"
    }
   },
   "outputs": [],
   "source": [
    "x_spt, y_spt, x_qry, y_qry = test_continual_learning_sample_build_transfer(rng, val_images, val_labels, 2, 16, 10, 15, preprocess_fn, device)"
   ]
  },
  {
   "cell_type": "code",
   "execution_count": 48,
   "metadata": {
    "ExecuteTime": {
     "end_time": "2020-09-01T20:10:11.405968Z",
     "start_time": "2020-09-01T20:10:11.201245Z"
    }
   },
   "outputs": [
    {
     "data": {
      "text/plain": [
       "((2, 160, 84, 84, 3), (2, 160), (2, 240, 84, 84, 3), (2, 240))"
      ]
     },
     "execution_count": 48,
     "metadata": {},
     "output_type": "execute_result"
    }
   ],
   "source": [
    "x_spt.shape, y_spt.shape, x_qry.shape, y_qry.shape"
   ]
  },
  {
   "cell_type": "code",
   "execution_count": 49,
   "metadata": {
    "ExecuteTime": {
     "end_time": "2020-09-01T20:10:12.305337Z",
     "start_time": "2020-09-01T20:10:12.167200Z"
    }
   },
   "outputs": [],
   "source": [
    "from lib import batched_outer_loop"
   ]
  },
  {
   "cell_type": "code",
   "execution_count": 53,
   "metadata": {
    "ExecuteTime": {
     "end_time": "2020-09-01T20:12:30.965551Z",
     "start_time": "2020-09-01T20:12:30.219523Z"
    }
   },
   "outputs": [],
   "source": [
    "test_inner_opt = ox.sgd(1e-2)\n",
    "loss_fn = mean_xe_and_acc_dict\n",
    "test_cl_inner_loop_ins = partial(\n",
    "    cl_inner_loop,\n",
    "    is_training=False,\n",
    "    # num_steps=5,\n",
    "    slow_apply=body.apply,\n",
    "    fast_apply=head.apply,\n",
    "    loss_fn=loss_fn,\n",
    "    opt_update_fn=test_inner_opt.update,\n",
    ")\n",
    "\n",
    "outer_loop_ins = partial(\n",
    "    outer_loop,\n",
    "    is_training=False,\n",
    "    inner_loop=test_cl_inner_loop_ins,\n",
    "    slow_apply=body.apply,\n",
    "    fast_apply=head.apply,\n",
    "    loss_fn=loss_fn,\n",
    "    # train_method=\"fsl-reset-per-task\",\n",
    ")\n",
    "batched_outer_loop_ins = partial(batched_outer_loop, outer_loop=outer_loop_ins)\n"
   ]
  },
  {
   "cell_type": "code",
   "execution_count": 54,
   "metadata": {
    "ExecuteTime": {
     "end_time": "2020-09-01T20:12:47.757705Z",
     "start_time": "2020-09-01T20:12:31.603092Z"
    }
   },
   "outputs": [
    {
     "data": {
      "text/plain": [
       "(DeviceArray(8.702764, dtype=float32),\n",
       " (FlatMapping({}),\n",
       "  FlatMapping({}),\n",
       "  {'inner': {'auxs': [{'acc': DeviceArray([[0., 1., 1., 1., 1., 1., 1., 1., 1., 1., 0., 0., 1., 1., 1.,\n",
       "                    1., 1., 1., 1., 1., 0., 0., 1., 1., 1., 1., 1., 1., 1., 1.,\n",
       "                    0., 1., 1., 1., 1., 1., 1., 1., 1., 1., 0., 1., 1., 1., 1.,\n",
       "                    1., 1., 1., 1., 1., 0., 1., 1., 1., 1., 1., 1., 1., 1., 1.,\n",
       "                    0., 0., 1., 1., 1., 1., 1., 1., 1., 1., 0., 1., 1., 1., 1.,\n",
       "                    1., 1., 1., 1., 1., 0., 0., 1., 1., 1., 1., 1., 1., 1., 1.,\n",
       "                    0., 1., 1., 1., 1., 1., 1., 1., 1., 1., 0., 1., 1., 1., 1.,\n",
       "                    1., 1., 1., 1., 1., 0., 0., 1., 1., 1., 1., 1., 1., 1., 1.,\n",
       "                    0., 1., 1., 1., 1., 1., 1., 1., 1., 1., 0., 0., 1., 1., 1.,\n",
       "                    1., 1., 1., 1., 1., 0., 0., 1., 1., 1., 1., 1., 1., 1., 1.,\n",
       "                    0., 0., 1., 1., 1., 1., 1., 1., 1., 1.],\n",
       "                   [0., 1., 1., 1., 1., 1., 1., 1., 1., 1., 0., 1., 1., 1., 1.,\n",
       "                    1., 1., 1., 1., 1., 0., 1., 1., 1., 1., 1., 1., 1., 1., 1.,\n",
       "                    0., 1., 1., 1., 1., 1., 1., 1., 1., 1., 0., 1., 1., 1., 1.,\n",
       "                    1., 1., 1., 1., 1., 0., 0., 1., 1., 1., 1., 1., 1., 1., 1.,\n",
       "                    0., 1., 1., 1., 1., 1., 1., 1., 1., 1., 0., 1., 1., 1., 1.,\n",
       "                    1., 1., 1., 1., 1., 0., 1., 1., 1., 1., 1., 1., 1., 1., 1.,\n",
       "                    0., 0., 1., 1., 1., 1., 1., 1., 1., 1., 0., 1., 1., 1., 1.,\n",
       "                    1., 1., 1., 1., 1., 0., 1., 1., 1., 1., 1., 1., 1., 1., 1.,\n",
       "                    0., 1., 1., 1., 1., 1., 1., 1., 1., 1., 0., 1., 1., 1., 1.,\n",
       "                    1., 1., 1., 1., 1., 0., 1., 1., 1., 1., 1., 1., 1., 1., 1.,\n",
       "                    0., 1., 1., 1., 1., 1., 1., 1., 1., 1.]], dtype=float32)}],\n",
       "    'final': {'aux': [{'acc': DeviceArray([0.0625, 0.0625], dtype=float32)}],\n",
       "     'loss': DeviceArray([8.976499, 7.5378  ], dtype=float32)},\n",
       "    'initial': {'aux': [{'acc': DeviceArray([0.00625, 0.00625], dtype=float32)}],\n",
       "     'loss': DeviceArray([5.4771805, 5.511214 ], dtype=float32)},\n",
       "    'losses': DeviceArray([[6.34253502e+00, 7.41031542e-02, 4.17408377e-01,\n",
       "                  4.55177538e-02, 6.39385805e-02, 4.34371782e-03,\n",
       "                  4.65650149e-02, 4.02735220e-03, 7.76664494e-03,\n",
       "                  4.98430319e-02, 9.06590748e+00, 2.07757020e+00,\n",
       "                  6.22555497e-04, 3.77929420e-03, 3.38814221e-03,\n",
       "                  1.19828875e-03, 1.31210987e-03, 1.34032511e-03,\n",
       "                  5.08894864e-03, 9.11297277e-04, 9.78148270e+00,\n",
       "                  8.70181203e-01, 3.31257866e-03, 1.27714807e-02,\n",
       "                  1.40922219e-02, 2.06935732e-03, 6.98860502e-03,\n",
       "                  2.63522239e-03, 1.36834476e-02, 4.53206524e-03,\n",
       "                  5.87315226e+00, 2.13671386e-01, 1.54667750e-01,\n",
       "                  7.07732290e-02, 2.53231376e-01, 9.74937901e-02,\n",
       "                  3.71155627e-02, 3.40026035e-03, 2.56364467e-03,\n",
       "                  1.38270587e-03, 1.70240498e+01, 2.37529144e-01,\n",
       "                  1.17705727e+00, 6.02302316e-04, 9.53524560e-03,\n",
       "                  2.78760456e-02, 6.25057321e-04, 9.87477973e-03,\n",
       "                  1.75857800e-03, 4.55532456e-03, 9.13259602e+00,\n",
       "                  1.00354858e-01, 1.38025135e-01, 5.88316238e-03,\n",
       "                  1.48285031e-01, 3.48873734e-01, 1.25948712e-03,\n",
       "                  2.19528414e-02, 6.33396732e-04, 3.22885840e-04,\n",
       "                  8.42999077e+00, 1.29628301e+00, 2.67388999e-01,\n",
       "                  1.67824980e-03, 1.58970291e-03, 7.96477601e-04,\n",
       "                  2.60836370e-02, 1.07659539e-03, 2.12985016e-02,\n",
       "                  1.86665542e-02, 1.07305107e+01, 6.41462445e-01,\n",
       "                  9.84656811e-03, 1.22556016e-02, 6.87755924e-03,\n",
       "                  6.12694323e-02, 1.00562185e-01, 8.18150956e-03,\n",
       "                  8.52459809e-04, 1.43794098e-03, 9.94233036e+00,\n",
       "                  2.67414808e+00, 6.11475902e-04, 7.06247101e-03,\n",
       "                  5.27525833e-03, 3.99509736e-04, 1.85591519e-01,\n",
       "                  1.23775311e-01, 2.41619279e-03, 1.47689410e-04,\n",
       "                  1.05203133e+01, 2.35577882e-03, 6.73186616e-04,\n",
       "                  4.01217900e-02, 1.05375460e-04, 6.10937225e-03,\n",
       "                  1.01909535e-02, 6.67569793e-06, 4.99121379e-03,\n",
       "                  3.08747294e-05, 9.20160580e+00, 4.31454599e-01,\n",
       "                  1.67292163e-01, 5.44518307e-02, 4.14310722e-03,\n",
       "                  3.79440933e-02, 5.90657778e-02, 2.14480944e-02,\n",
       "                  2.10064393e-03, 1.49597693e-02, 9.74402428e+00,\n",
       "                  2.51393175e+00, 2.31760181e-03, 1.12417862e-02,\n",
       "                  1.19656408e-02, 4.17860458e-04, 3.03937501e-04,\n",
       "                  6.28115842e-03, 2.10825726e-03, 1.77998748e-02,\n",
       "                  1.29069786e+01, 6.75070584e-01, 1.46461174e-01,\n",
       "                  1.87737009e-04, 6.93886280e-02, 5.72040968e-04,\n",
       "                  2.59365770e-04, 3.78653849e-03, 2.69888882e-02,\n",
       "                  2.49776966e-03, 7.56636286e+00, 1.73515332e+00,\n",
       "                  4.18133335e-03, 7.93447997e-03, 2.09672600e-02,\n",
       "                  9.67421383e-03, 1.71642546e-02, 2.78525730e-03,\n",
       "                  3.69548115e-06, 7.34332437e-03, 1.07643995e+01,\n",
       "                  4.64157629e+00, 1.49358078e-04, 8.04056041e-03,\n",
       "                  1.12517923e-03, 1.06945052e-03, 1.82093191e-03,\n",
       "                  2.69409356e-05, 1.45901533e-04, 2.07045101e-04,\n",
       "                  9.16557789e+00, 1.91511798e+00, 2.40177877e-04,\n",
       "                  1.11812064e-04, 4.01320979e-02, 6.85648527e-03,\n",
       "                  5.17754210e-03, 8.63536785e-04, 1.31461001e-03,\n",
       "                  2.06079194e-03],\n",
       "                 [4.46186209e+00, 4.96722199e-02, 4.27764133e-02,\n",
       "                  2.81890243e-04, 1.87547710e-02, 6.72979513e-03,\n",
       "                  8.27429816e-02, 3.89163452e-03, 5.10745076e-03,\n",
       "                  6.22547930e-03, 2.04415131e+01, 2.47110739e-01,\n",
       "                  4.09994386e-02, 9.30225011e-03, 9.55602713e-03,\n",
       "                  1.44575387e-01, 6.10798150e-02, 9.21778090e-04,\n",
       "                  1.66968117e-03, 6.17194397e-04, 1.91808128e+01,\n",
       "                  4.69271809e-01, 3.44945677e-02, 2.04103906e-02,\n",
       "                  2.42998754e-03, 9.66205262e-03, 1.04126520e-02,\n",
       "                  1.55794405e-04, 3.19981691e-03, 4.06481065e-02,\n",
       "                  1.09843721e+01, 7.82851949e-02, 6.02045804e-02,\n",
       "                  3.17009725e-02, 1.09127544e-01, 7.70154968e-02,\n",
       "                  7.14178532e-02, 1.38970846e-02, 1.73049362e-03,\n",
       "                  9.33248457e-03, 6.68274164e+00, 5.98979473e-01,\n",
       "                  4.07916307e-02, 3.68497297e-02, 1.76195148e-02,\n",
       "                  5.23879603e-02, 3.81184146e-02, 6.97071105e-02,\n",
       "                  2.45519821e-03, 1.59184530e-03, 1.13762350e+01,\n",
       "                  1.83844495e+00, 4.65657003e-02, 2.73400638e-02,\n",
       "                  1.17090310e-03, 7.15953065e-04, 4.74588620e-03,\n",
       "                  2.61370209e-03, 2.77172066e-02, 5.04897814e-03,\n",
       "                  1.24410076e+01, 1.00736059e-01, 1.52200490e-01,\n",
       "                  5.90093853e-03, 6.56569898e-02, 1.46657109e-01,\n",
       "                  6.87813954e-05, 6.94279140e-03, 3.63998901e-04,\n",
       "                  6.95820898e-04, 1.11815615e+01, 2.42122665e-01,\n",
       "                  5.05533144e-02, 1.32782478e-03, 9.74953361e-03,\n",
       "                  7.21038878e-02, 3.50933746e-02, 2.61536660e-03,\n",
       "                  1.94588285e-02, 7.30369240e-02, 9.38156891e+00,\n",
       "                  2.06597641e-01, 6.16176665e-01, 1.38958231e-01,\n",
       "                  3.19893099e-02, 2.20792498e-02, 4.21900749e-02,\n",
       "                  8.69346689e-03, 7.65367458e-03, 7.96680972e-02,\n",
       "                  8.17658043e+00, 3.35328150e+00, 4.65403951e-04,\n",
       "                  2.03350370e-04, 5.65036062e-05, 5.72202953e-06,\n",
       "                  3.97841446e-04, 1.64980616e-03, 7.96286331e-05,\n",
       "                  1.80772366e-03, 1.90561790e+01, 9.68395695e-02,\n",
       "                  2.19854247e-03, 5.31889556e-04, 5.81691333e-04,\n",
       "                  8.02636985e-03, 2.15166092e-01, 1.86018478e-02,\n",
       "                  5.37251122e-04, 4.56109905e-04, 1.02601585e+01,\n",
       "                  1.04576910e+00, 1.61760345e-01, 8.09921231e-03,\n",
       "                  1.96662098e-02, 2.14403942e-02, 1.39491642e-02,\n",
       "                  1.69468615e-02, 1.74750872e-02, 1.69714745e-02,\n",
       "                  1.19036980e+01, 2.66845077e-01, 5.97581975e-02,\n",
       "                  3.15912515e-02, 1.65396392e-01, 1.76495090e-01,\n",
       "                  4.14168276e-03, 7.81013072e-02, 1.08904876e-01,\n",
       "                  2.90947559e-04, 1.42441416e+01, 8.68241489e-01,\n",
       "                  5.75954886e-03, 9.27650277e-03, 6.59882510e-03,\n",
       "                  1.78856542e-03, 3.67746986e-02, 3.63629730e-03,\n",
       "                  4.05046754e-02, 3.64833075e-04, 9.73110867e+00,\n",
       "                  2.87230223e-01, 1.27598867e-01, 6.42860755e-02,\n",
       "                  7.86369964e-02, 2.87194438e-02, 3.63499089e-03,\n",
       "                  1.30044261e-03, 9.65284258e-02, 6.12501195e-03,\n",
       "                  1.35559998e+01, 1.17856681e-01, 1.51233569e-01,\n",
       "                  4.39621992e-02, 4.26501930e-02, 2.72985935e-01,\n",
       "                  2.89335977e-02, 3.81432753e-03, 1.04153052e-01,\n",
       "                  2.43093888e-03]], dtype=float32)},\n",
       "   'outer': {'final': {'aux': [{'acc': DeviceArray([0.0625, 0.0625], dtype=float32)}],\n",
       "     'loss': DeviceArray([9.451945 , 7.9535823], dtype=float32)},\n",
       "    'initial': {'aux': [{'acc': DeviceArray([0.        , 0.00833333], dtype=float32)}],\n",
       "     'loss': DeviceArray([5.4932795, 5.5135818], dtype=float32)}}}))"
      ]
     },
     "execution_count": 54,
     "metadata": {},
     "output_type": "execute_result"
    }
   ],
   "source": [
    "batched_outer_loop_ins(slow_params, fast_params, slow_state, fast_state, test_inner_opt.init(fast_params), split(rng, x_spt.shape[0]), x_spt, y_spt, x_qry, y_qry, jnp.zeros(x_spt.shape[0]))"
   ]
  },
  {
   "cell_type": "code",
   "execution_count": 271,
   "metadata": {
    "ExecuteTime": {
     "end_time": "2020-09-01T20:00:29.807446Z",
     "start_time": "2020-09-01T20:00:26.105240Z"
    }
   },
   "outputs": [
    {
     "data": {
      "text/plain": [
       "(FlatMapping({\n",
       "   'mini_imagenet_cnn_head/linear': FlatMapping({\n",
       "                                      'w': DeviceArray([[ 4.3427167e-07,  1.3737676e-06, -5.0718722e-07, ...,\n",
       "                                                         -5.0628262e-07, -5.0628262e-07, -5.0628262e-07],\n",
       "                                                        [ 5.1206190e-08,  1.1213683e-06,  4.6514092e-06, ...,\n",
       "                                                         -1.2044611e-06, -1.2044611e-06, -1.2044611e-06],\n",
       "                                                        [ 2.2674105e-06,  4.6662276e-06,  4.4428316e-06, ...,\n",
       "                                                         -1.3054758e-06, -1.3054758e-06, -1.3054758e-06],\n",
       "                                                        ...,\n",
       "                                                        [ 1.0681804e-06,  5.4417719e-06,  2.8324150e-06, ...,\n",
       "                                                         -1.7285606e-06, -1.7285606e-06, -1.7285606e-06],\n",
       "                                                        [ 1.5140409e-06,  3.2010914e-06,  6.4873757e-06, ...,\n",
       "                                                         -9.7496866e-07, -9.7496866e-07, -9.7496866e-07],\n",
       "                                                        [ 3.9702860e-07,  1.3074877e-06,  3.6891554e-06, ...,\n",
       "                                                         -1.1061212e-06, -1.1061212e-06, -1.1061212e-06]],            dtype=float32),\n",
       "                                    }),\n",
       " }),\n",
       " FlatMapping({}),\n",
       " FlatMapping({}),\n",
       " [TraceState(trace=FlatMapping({\n",
       "    'mini_imagenet_cnn_head/linear': FlatMapping({\n",
       "                                       'w': DeviceArray([[0.        , 0.        , 0.        , ..., 0.        ,\n",
       "                                                          0.        , 0.        ],\n",
       "                                                         [0.        , 0.        , 0.        , ..., 0.        ,\n",
       "                                                          0.        , 0.        ],\n",
       "                                                         [0.01074375, 0.01074739, 0.01075091, ..., 0.01072912,\n",
       "                                                          0.01072912, 0.01072912],\n",
       "                                                         ...,\n",
       "                                                         [0.01209301, 0.01209711, 0.01210106, ..., 0.01207654,\n",
       "                                                          0.01207654, 0.01207654],\n",
       "                                                         [0.        , 0.        , 0.        , ..., 0.        ,\n",
       "                                                          0.        , 0.        ],\n",
       "                                                         [0.        , 0.        , 0.        , ..., 0.        ,\n",
       "                                                          0.        , 0.        ]], dtype=float32),\n",
       "                                     }),\n",
       "  })),\n",
       "  ScaleState()],\n",
       " {'losses': DeviceArray([4.158883 , 4.1586747, 4.1585083, 4.158315 , 4.1581035,\n",
       "               4.157855 , 4.157533 , 4.157581 , 4.157232 , 4.156531 ,\n",
       "               4.1589174, 4.1587434, 4.158422 , 4.1583614, 4.157888 ,\n",
       "               4.157776 , 4.1575723, 4.1575956, 4.1571236, 4.1567893,\n",
       "               4.1589375, 4.1587043, 4.1583867, 4.1581235, 4.1579366,\n",
       "               4.1577544, 4.1575556, 4.1567326, 4.1572795, 4.156648 ,\n",
       "               4.158977 , 4.158753 , 4.158443 , 4.1582003, 4.1581078,\n",
       "               4.157373 , 4.157313 , 4.15746  , 4.1571407, 4.1569343,\n",
       "               4.1590023, 4.1587963, 4.158543 , 4.1582756, 4.1581106,\n",
       "               4.157691 , 4.1571674, 4.15734  , 4.156543 , 4.1563916,\n",
       "               4.1589985, 4.158934 , 4.158571 , 4.158335 , 4.1580367,\n",
       "               4.1578145, 4.156993 , 4.1572104, 4.157479 , 4.157066 ,\n",
       "               4.159071 , 4.158765 , 4.1586595, 4.1583743, 4.1582866,\n",
       "               4.157476 , 4.1572957, 4.1578403, 4.157025 , 4.1570754,\n",
       "               4.1591377, 4.158899 , 4.158725 , 4.158334 , 4.158051 ,\n",
       "               4.157829 , 4.158018 , 4.1574097, 4.157468 , 4.1569543,\n",
       "               4.1591268, 4.1587667, 4.1588535, 4.1585283, 4.1583586,\n",
       "               4.1580243, 4.158157 , 4.1576285, 4.157962 , 4.1578255,\n",
       "               4.1591177, 4.1589575, 4.158815 , 4.158536 , 4.1583557,\n",
       "               4.1581845, 4.15807  , 4.1575804, 4.157634 , 4.1573114,\n",
       "               4.159165 , 4.1590376, 4.1588144, 4.1586843, 4.158443 ,\n",
       "               4.158281 , 4.1578417, 4.158034 , 4.1577396, 4.157483 ,\n",
       "               4.159247 , 4.158985 , 4.158678 , 4.1586742, 4.158376 ,\n",
       "               4.1581607, 4.157985 , 4.1580386, 4.1575418, 4.157076 ,\n",
       "               4.1592784, 4.1589727, 4.158766 , 4.1585107, 4.158358 ,\n",
       "               4.158282 , 4.1579638, 4.15805  , 4.157602 , 4.1575336,\n",
       "               4.1592417, 4.159158 , 4.158724 , 4.1583734, 4.158561 ,\n",
       "               4.158092 , 4.1579714, 4.157844 , 4.157044 , 4.1561084,\n",
       "               4.1593437, 4.1590166, 4.1587667, 4.1586065, 4.1584525,\n",
       "               4.158206 , 4.157883 , 4.157543 , 4.1569805, 4.1573067,\n",
       "               4.1592946, 4.1592174, 4.158863 , 4.1586103, 4.1584044,\n",
       "               4.1583624, 4.1581025, 4.1575933, 4.157489 , 4.157972 ],            dtype=float32),\n",
       "  'auxs': [{'acc': DeviceArray([0., 1., 1., 1., 1., 1., 1., 1., 1., 1., 0., 0., 0., 0., 0.,\n",
       "                 0., 0., 0., 0., 1., 0., 0., 0., 0., 0., 0., 0., 0., 1., 1.,\n",
       "                 0., 0., 0., 0., 0., 0., 0., 0., 0., 0., 0., 0., 0., 0., 0.,\n",
       "                 0., 0., 0., 0., 1., 0., 0., 0., 0., 0., 0., 0., 0., 0., 0.,\n",
       "                 0., 0., 0., 0., 0., 0., 0., 0., 0., 0., 0., 0., 0., 0., 0.,\n",
       "                 0., 0., 0., 0., 0., 0., 0., 0., 0., 0., 0., 0., 0., 0., 0.,\n",
       "                 0., 0., 0., 0., 0., 0., 0., 0., 0., 0., 0., 0., 0., 0., 0.,\n",
       "                 0., 0., 0., 0., 0., 0., 0., 0., 0., 0., 0., 0., 0., 0., 0.,\n",
       "                 0., 0., 0., 0., 0., 0., 0., 0., 0., 0., 0., 0., 0., 0., 0.,\n",
       "                 0., 0., 0., 0., 1., 0., 0., 0., 0., 0., 0., 0., 0., 0., 0.,\n",
       "                 0., 0., 0., 0., 0., 0., 0., 0., 0., 0.], dtype=float32)}],\n",
       "  'initial': {'loss': DeviceArray(4.158883, dtype=float32),\n",
       "   'aux': [{'acc': DeviceArray(0.0625, dtype=float32)}]},\n",
       "  'final': {'loss': DeviceArray(4.156527, dtype=float32),\n",
       "   'aux': [{'acc': DeviceArray(0.90625, dtype=float32)}]}})"
      ]
     },
     "execution_count": 271,
     "metadata": {},
     "output_type": "execute_result"
    }
   ],
   "source": [
    "test_cl_inner_loop_ins(slow_params, zero_fast_params, slow_state, fast_state, test_inner_opt.init(zero_fast_params), rng, x_spt[0], y_spt[0])"
   ]
  },
  {
   "cell_type": "code",
   "execution_count": 230,
   "metadata": {
    "ExecuteTime": {
     "end_time": "2020-09-01T18:58:30.787309Z",
     "start_time": "2020-09-01T18:58:30.755221Z"
    }
   },
   "outputs": [],
   "source": [
    "train_sample_fn_kwargs = {\n",
    "    \"images\": sup_train_images,\n",
    "    \"labels\": sup_train_labels,\n",
    "    \"batch_size\": cfg.meta_batch_size,\n",
    "    \"way\": 3,\n",
    "    \"shot\": 5,\n",
    "    \"qry_shot\": 128,\n",
    "    \"preprocess_fn\": preprocess_fn,\n",
    "    \"device\": device,\n",
    "    \"shuffled_labels\": False,\n",
    "}\n",
    "# train_sample_fn = partial(\n",
    "#     fsl_sample_transfer_build, **train_sample_fn_kwargs,\n",
    "# )\n",
    "\n",
    "train_sample_fn = partial(continual_learning_sample_build_transfer, **train_sample_fn_kwargs)"
   ]
  },
  {
   "cell_type": "code",
   "execution_count": 132,
   "metadata": {
    "ExecuteTime": {
     "end_time": "2020-09-01T16:14:53.105454Z",
     "start_time": "2020-09-01T16:14:52.947241Z"
    }
   },
   "outputs": [],
   "source": [
    "cfg.inner_lr = 0.01\n",
    "cfg.outer_lr = 0.01\n",
    "cfg.num_outer_steps = 20000\n",
    "\n",
    "slow_params, fast_params, slow_state, fast_state = make_params(\n",
    "    rng,\n",
    "    cfg.dataset,\n",
    "    body.init,\n",
    "    body.apply,\n",
    "    head.init,\n",
    "    device,\n",
    ")\n",
    "slow_params, fast_params, slow_state, fast_state = map(lambda x: jax.device_put(x, device), (slow_params, fast_params, slow_state, fast_state))\n",
    "\n",
    "inner_opt = ox.chain(ox.clip(10), ox.sgd(cfg.inner_lr))\n",
    "lr_schedule = ox.cosine_decay_schedule(-cfg.outer_lr, cfg.num_outer_steps, 0.1)\n",
    "outer_opt = ox.chain(\n",
    "    ox.clip(10),\n",
    "    ox.scale_by_adam(),\n",
    "    ox.scale_by_schedule(lr_schedule),\n",
    ")\n",
    "outer_opt_state = outer_opt.init((slow_params, fast_params))\n",
    "\n",
    "loss_fn = mean_xe_and_acc_dict\n",
    "inner_loop_ins = partial(\n",
    "    cl_inner_loop,\n",
    "    is_training=True,\n",
    "    # num_steps=5,\n",
    "    slow_apply=body.apply,\n",
    "    fast_apply=head.apply,\n",
    "    loss_fn=loss_fn,\n",
    "    opt_update_fn=inner_opt.update,\n",
    ")\n",
    "outer_loop_ins = partial(\n",
    "    outer_loop,\n",
    "    is_training=True,\n",
    "    inner_loop=inner_loop_ins,\n",
    "    slow_apply=body.apply,\n",
    "    fast_apply=head.apply,\n",
    "    loss_fn=loss_fn,\n",
    "    train_method=\"fsl-reset-per-task\",\n",
    ")\n",
    "batched_outer_loop_ins = partial(batched_outer_loop, outer_loop=outer_loop_ins)\n",
    "\n",
    "step_ins = jit(\n",
    "    partial(\n",
    "        step,\n",
    "        inner_opt_init=inner_opt.init,\n",
    "        outer_opt_update=outer_opt.update,\n",
    "        batched_outer_loop_ins=batched_outer_loop_ins,\n",
    "    ),\n",
    "    # static_argnums=(11, 12, 13),\n",
    ")"
   ]
  },
  {
   "cell_type": "code",
   "execution_count": 133,
   "metadata": {
    "ExecuteTime": {
     "end_time": "2020-09-01T17:03:52.911812Z",
     "start_time": "2020-09-01T16:14:55.393544Z"
    }
   },
   "outputs": [
    {
     "data": {
      "application/vnd.jupyter.widget-view+json": {
       "model_id": "7cfe07415dfe41188cf31a497c62f639",
       "version_major": 2,
       "version_minor": 0
      },
      "text/plain": [
       "HBox(children=(FloatProgress(value=0.0, max=20000.0), HTML(value='')))"
      ]
     },
     "metadata": {},
     "output_type": "display_data"
    },
    {
     "name": "stdout",
     "output_type": "stream",
     "text": [
      "reseting fast_params\n",
      "reseting fast_params\n",
      "\n"
     ]
    }
   ],
   "source": [
    "pbar = tqdmn(\n",
    "    range(cfg.num_outer_steps),\n",
    ")\n",
    "\n",
    "for i in pbar:\n",
    "    rng, rng_sample, rng_step = split(rng, 3)\n",
    "    x_spt, y_spt, x_qry, y_qry = train_sample_fn(rng_sample)\n",
    "    spt_classes = jax.device_put(onp.unique(y_spt, axis=1), device)\n",
    "\n",
    "    outer_opt_state, slow_params, fast_params, slow_state, fast_state, info = step_ins(\n",
    "        rng_step,\n",
    "        i,\n",
    "        outer_opt_state,\n",
    "        slow_params,\n",
    "        fast_params,\n",
    "        slow_state,\n",
    "        fast_state,\n",
    "        x_spt,\n",
    "        y_spt,\n",
    "        x_qry,\n",
    "        y_qry,\n",
    "        spt_classes,\n",
    "        # trainer.inner_opt.init,\n",
    "        # trainer.outer_opt.update\n",
    "    )\n",
    "\n",
    "    if (((i + 1) % 25) == 0) or (i == 0):\n",
    "        current_lr = lr_schedule(outer_opt_state[-1].count)\n",
    "        pbar.set_postfix(\n",
    "            lr=f\"{current_lr:.4f}\",\n",
    "            # vfol=f\"{vfol:.3f}\",\n",
    "            # vioa=f\"{vioa:.3f}\",\n",
    "            # vfoa=f\"{vfoa:.3f}\",\n",
    "            loss=f\"{info['outer']['final']['loss'].mean():.3f}\",\n",
    "            foa=f\"{info['outer']['final']['aux'][0]['acc'].mean():.3f}\",\n",
    "            # bfoa=f\"{best_val_acc:.3f}\",\n",
    "            fia=f\"{info['inner']['final']['aux'][0]['acc'].mean():.3f}\",\n",
    "            iia=f\"{info['inner']['initial']['aux'][0]['acc'].mean():.3f}\",\n",
    "            iil=f\"{info['inner']['initial']['loss'].mean():.3f}\",\n",
    "            fil=f\"{info['inner']['final']['loss'].mean():.3f}\",\n",
    "        )\n"
   ]
  },
  {
   "cell_type": "code",
   "execution_count": 165,
   "metadata": {
    "ExecuteTime": {
     "end_time": "2020-09-01T17:14:19.998567Z",
     "start_time": "2020-09-01T17:14:19.967849Z"
    }
   },
   "outputs": [],
   "source": [
    "from test_sup import test_sup_cosine, test_sup\n",
    "from test_utils import test_fsl_maml, test_fsl_embeddings"
   ]
  },
  {
   "cell_type": "code",
   "execution_count": 154,
   "metadata": {
    "ExecuteTime": {
     "end_time": "2020-09-01T17:10:27.734465Z",
     "start_time": "2020-09-01T17:10:27.694832Z"
    }
   },
   "outputs": [],
   "source": [
    "cfg.sup_batch_size_test = 256"
   ]
  },
  {
   "cell_type": "code",
   "execution_count": 157,
   "metadata": {
    "ExecuteTime": {
     "end_time": "2020-09-01T17:10:49.752354Z",
     "start_time": "2020-09-01T17:10:48.355892Z"
    }
   },
   "outputs": [],
   "source": [
    "transfer_spt_images = val_images[:, :TRAIN_SIZE]\n",
    "transfer_spt_labels = val_labels[:, :TRAIN_SIZE]\n",
    "transfer_qry_images = val_images[:, TRAIN_SIZE:]\n",
    "transfer_qry_labels = val_labels[:, TRAIN_SIZE:]"
   ]
  },
  {
   "cell_type": "code",
   "execution_count": 216,
   "metadata": {
    "ExecuteTime": {
     "end_time": "2020-09-01T17:50:20.453947Z",
     "start_time": "2020-09-01T17:50:20.336413Z"
    }
   },
   "outputs": [],
   "source": [
    "test_fsl_sample_fn_kwargs = {\n",
    "    \"images\": val_images,\n",
    "    \"labels\": val_labels,\n",
    "    \"batch_size\": cfg.meta_batch_size_test,\n",
    "    \"way\": cfg.way,\n",
    "    \"shot\": cfg.shot,\n",
    "    \"qry_shot\": 15,  # Standard\n",
    "    \"preprocess_fn\": preprocess_fn,\n",
    "    \"device\": device,\n",
    "}\n",
    "test_fsl_sample_fn = partial(\n",
    "    fsl_sample_transfer_build, **test_fsl_sample_fn_kwargs,\n",
    ")\n",
    "rng, *rngs_samplers = split(rng, 5)\n",
    "test_sup_spt_sampler = BatchSampler(\n",
    "    rngs_samplers[0],\n",
    "    flatten(sup_train_images, 1),\n",
    "    flatten(sup_train_labels),\n",
    "    cfg.sup_batch_size_test,\n",
    "    shuffle=True,\n",
    "    keep_last=True,\n",
    ")\n",
    "test_sup_qry_sampler = BatchSampler(\n",
    "    rngs_samplers[1],\n",
    "    flatten(sup_val_images, 1),\n",
    "    flatten(sup_val_labels),\n",
    "    cfg.sup_batch_size_test,\n",
    "    shuffle=True,\n",
    "    keep_last=True,\n",
    ")\n",
    "test_transfer_spt_sampler = BatchSampler(\n",
    "    rngs_samplers[2],\n",
    "    flatten(transfer_spt_images, 1),\n",
    "    flatten(transfer_spt_labels),\n",
    "    cfg.sup_batch_size_test,\n",
    "    shuffle=True,\n",
    "    keep_last=True,\n",
    ")\n",
    "test_transfer_qry_sampler = BatchSampler(\n",
    "    rngs_samplers[3],\n",
    "    flatten(transfer_qry_images, 1),\n",
    "    flatten(transfer_qry_labels),\n",
    "    cfg.sup_batch_size_test,\n",
    "    shuffle=True,\n",
    "    keep_last=True,\n",
    ")\n",
    "\n",
    "embeddings_fn = lambda slow_params, slow_state, inputs: body.apply(\n",
    "    slow_params, slow_state, None, inputs, False\n",
    ")[0][0]\n",
    "embeddings_fn = jit(embeddings_fn)"
   ]
  },
  {
   "cell_type": "code",
   "execution_count": null,
   "metadata": {},
   "outputs": [],
   "source": [
    "def test_continual_learning()"
   ]
  },
  {
   "cell_type": "code",
   "execution_count": 173,
   "metadata": {
    "ExecuteTime": {
     "end_time": "2020-09-01T17:21:27.865725Z",
     "start_time": "2020-09-01T17:21:27.833552Z"
    }
   },
   "outputs": [],
   "source": [
    "def sup_test_pred_fn(slow_params, fast_params, slow_state, fast_state, inputs):\n",
    "    slow_outputs, _ = body.apply(slow_params, slow_state, None, inputs, False)\n",
    "    return head.apply(fast_params, fast_state, None, *slow_outputs, False)[0]"
   ]
  },
  {
   "cell_type": "code",
   "execution_count": 218,
   "metadata": {
    "ExecuteTime": {
     "end_time": "2020-09-01T17:50:29.746889Z",
     "start_time": "2020-09-01T17:50:28.549343Z"
    }
   },
   "outputs": [
    {
     "data": {
      "text/plain": [
       "0.329375"
      ]
     },
     "execution_count": 218,
     "metadata": {},
     "output_type": "execute_result"
    }
   ],
   "source": [
    "sup_preds, sup_targets = test_sup(\n",
    "    partial(sup_test_pred_fn, slow_params, fast_params, slow_state, fast_state), test_sup_qry_sampler, device, preprocess_fn,\n",
    ")\n",
    "sup_acc = (sup_preds == sup_targets).astype(onp.float).mean()\n",
    "sup_acc"
   ]
  },
  {
   "cell_type": "code",
   "execution_count": 163,
   "metadata": {
    "ExecuteTime": {
     "end_time": "2020-09-01T17:13:38.060269Z",
     "start_time": "2020-09-01T17:13:24.061159Z"
    }
   },
   "outputs": [
    {
     "data": {
      "text/plain": [
       "0.21984375"
      ]
     },
     "execution_count": 163,
     "metadata": {},
     "output_type": "execute_result"
    }
   ],
   "source": [
    "sup_preds_cosine, sup_targets_cosine = test_sup_cosine(\n",
    "    partial(embeddings_fn, slow_params, slow_state),\n",
    "    test_sup_spt_sampler,\n",
    "    test_sup_qry_sampler,\n",
    "    device,\n",
    "    preprocess_fn,\n",
    ")\n",
    "sup_acc_cosine = (sup_preds_cosine == sup_targets_cosine).astype(onp.float).mean()\n",
    "sup_acc_cosine"
   ]
  },
  {
   "cell_type": "code",
   "execution_count": 184,
   "metadata": {
    "ExecuteTime": {
     "end_time": "2020-09-01T17:36:20.354405Z",
     "start_time": "2020-09-01T17:36:20.036201Z"
    }
   },
   "outputs": [],
   "source": [
    "zero_fast_params = hk.data_structures.merge(\n",
    "            {\n",
    "                \"mini_imagenet_cnn_head/linear\": {\n",
    "                    \"w\": jax.device_put(jnp.zeros((800, 64)), device),\n",
    "                }\n",
    "            }\n",
    "        )"
   ]
  },
  {
   "cell_type": "code",
   "execution_count": 208,
   "metadata": {
    "ExecuteTime": {
     "end_time": "2020-09-01T17:45:38.772143Z",
     "start_time": "2020-09-01T17:45:31.004264Z"
    }
   },
   "outputs": [
    {
     "data": {
      "text/plain": [
       "(DeviceArray(1.8134462, dtype=float32), DeviceArray(0.5618667, dtype=float32))"
      ]
     },
     "execution_count": 208,
     "metadata": {},
     "output_type": "execute_result"
    }
   ],
   "source": [
    "test_inner_opt = ox.sgd(0.01)\n",
    "\n",
    "test_inner_loop_ins = partial(\n",
    "    fsl_inner_loop,\n",
    "    is_training=False,\n",
    "    num_steps=cfg.num_inner_steps_test,\n",
    "    slow_apply=body.apply,\n",
    "    fast_apply=head.apply,\n",
    "    loss_fn=mean_xe_and_acc_dict,\n",
    "    opt_update_fn=test_inner_opt.update,\n",
    ")\n",
    "test_outer_loop_ins = partial(\n",
    "    outer_loop,\n",
    "    is_training=False,\n",
    "    inner_loop=test_inner_loop_ins,\n",
    "    slow_apply=body.apply,\n",
    "    fast_apply=head.apply,\n",
    "    loss_fn=mean_xe_and_acc_dict,\n",
    ")\n",
    "test_batched_outer_loop_ins = partial(\n",
    "    batched_outer_loop, outer_loop=test_outer_loop_ins, spt_classes=None,\n",
    ")\n",
    "test_batched_outer_loop_ins = jit(test_batched_outer_loop_ins)\n",
    "\n",
    "fsl_maml_results = test_fsl_maml(\n",
    "    rng,\n",
    "    slow_params,\n",
    "    zero_fast_params,\n",
    "    slow_state,\n",
    "    fast_state,\n",
    "    200 // cfg.meta_batch_size_test,\n",
    "    test_inner_opt.init,\n",
    "    test_fsl_sample_fn,\n",
    "    test_batched_outer_loop_ins,\n",
    ")\n",
    "\n",
    "fsl_maml_loss = fsl_maml_results[0].mean()\n",
    "fsl_maml_acc = fsl_maml_results[1][\"outer\"][\"final\"][\"aux\"][0][\"acc\"].mean()\n",
    "fsl_maml_loss, fsl_maml_acc"
   ]
  },
  {
   "cell_type": "code",
   "execution_count": 209,
   "metadata": {
    "ExecuteTime": {
     "end_time": "2020-09-01T17:46:14.094763Z",
     "start_time": "2020-09-01T17:45:55.276689Z"
    }
   },
   "outputs": [
    {
     "data": {
      "text/plain": [
       "0.5582666666666667"
      ]
     },
     "execution_count": 209,
     "metadata": {},
     "output_type": "execute_result"
    }
   ],
   "source": [
    "fsl_embeddings_preds, fsl_embeddings_targets = test_fsl_embeddings(\n",
    "    rng,\n",
    "    partial(embeddings_fn, slow_params, slow_state),\n",
    "    test_fsl_sample_fn,\n",
    "    200 // cfg.meta_batch_size_test,\n",
    "    device=device,\n",
    "    pool=0,\n",
    ")\n",
    "fsl_embeddings_acc = (\n",
    "    (fsl_embeddings_preds == fsl_embeddings_targets)\n",
    "    .astype(onp.float)\n",
    "    .mean()\n",
    ")\n",
    "fsl_embeddings_acc"
   ]
  },
  {
   "cell_type": "code",
   "execution_count": null,
   "metadata": {},
   "outputs": [],
   "source": []
  }
 ],
 "metadata": {
  "celltoolbar": "Initialization Cell",
  "kernelspec": {
   "display_name": "385",
   "language": "python",
   "name": "385"
  },
  "language_info": {
   "codemirror_mode": {
    "name": "ipython",
    "version": 3
   },
   "file_extension": ".py",
   "mimetype": "text/x-python",
   "name": "python",
   "nbconvert_exporter": "python",
   "pygments_lexer": "ipython3",
   "version": "3.8.5"
  },
  "toc": {
   "base_numbering": 1,
   "nav_menu": {},
   "number_sections": true,
   "sideBar": true,
   "skip_h1_title": false,
   "title_cell": "Table of Contents",
   "title_sidebar": "Contents",
   "toc_cell": false,
   "toc_position": {},
   "toc_section_display": true,
   "toc_window_display": false
  }
 },
 "nbformat": 4,
 "nbformat_minor": 2
}
