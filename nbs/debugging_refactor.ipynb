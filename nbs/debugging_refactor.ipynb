{
 "cells": [
  {
   "cell_type": "code",
   "execution_count": 1,
   "metadata": {
    "ExecuteTime": {
     "end_time": "2020-08-30T21:14:28.618791Z",
     "start_time": "2020-08-30T21:14:28.594557Z"
    }
   },
   "outputs": [],
   "source": [
    "%load_ext autoreload\n",
    "%autoreload 2"
   ]
  },
  {
   "cell_type": "code",
   "execution_count": 2,
   "metadata": {
    "ExecuteTime": {
     "end_time": "2020-08-30T21:14:28.638843Z",
     "start_time": "2020-08-30T21:14:28.621316Z"
    }
   },
   "outputs": [],
   "source": [
    "import os\n",
    "import sys\n",
    "\n",
    "sys.path.insert(0, \"../src\")"
   ]
  },
  {
   "cell_type": "code",
   "execution_count": 27,
   "metadata": {
    "ExecuteTime": {
     "end_time": "2020-08-30T21:18:30.286523Z",
     "start_time": "2020-08-30T21:18:30.253629Z"
    }
   },
   "outputs": [],
   "source": [
    "from tqdm.notebook import tqdm as tqdmn\n",
    "from easydict import EasyDict as edict\n",
    "\n",
    "import jax\n",
    "from jax.random import split\n",
    "from jax import random, numpy as jnp, jit, value_and_grad\n",
    "\n",
    "import optax as ox\n",
    "\n",
    "from data.sampling import fsl_sample_and_build\n",
    "from models.maml_conv import prepare_model, make_params\n",
    "from data import prepare_data\n",
    "from lib import setup_device, make_fsl_inner_outer_loop, mean_xe_and_acc_dict, make_batched_outer_loop"
   ]
  },
  {
   "cell_type": "code",
   "execution_count": 4,
   "metadata": {
    "ExecuteTime": {
     "end_time": "2020-08-30T21:14:30.147274Z",
     "start_time": "2020-08-30T21:14:30.120355Z"
    }
   },
   "outputs": [],
   "source": [
    "cfg = edict()"
   ]
  },
  {
   "cell_type": "code",
   "execution_count": 60,
   "metadata": {
    "ExecuteTime": {
     "end_time": "2020-08-30T21:27:06.774309Z",
     "start_time": "2020-08-30T21:27:06.541024Z"
    }
   },
   "outputs": [],
   "source": [
    "cfg.hidden_size = 32\n",
    "cfg.activation = \"relu\"\n",
    "cfg.way = 5\n",
    "cfg.shot = 5\n",
    "cfg.qry_shot = 10\n",
    "cfg.batch_size = 5\n",
    "cfg.val_num_tasks = 1000\n",
    "cfg.inner_lr = 1e-1\n",
    "cfg.outer_lr = 1e-2\n",
    "cfg.num_outer_steps = 10000\n",
    "cfg.num_inner_steps = 5\n",
    "cfg.disjoint_tasks = False\n",
    "cfg.disable_jit = False\n",
    "cfg.dataset = \"miniimagenet\"\n",
    "cfg.data_dir = \"/home/samenabar/storage/data/FSL/mini-imagenet/\"\n",
    "cfg.progress_bar_refresh_rate = 50\n",
    "\n",
    "cfg.gpus = 1\n",
    "\n",
    "jit_enabled = not cfg.disable_jit"
   ]
  },
  {
   "cell_type": "code",
   "execution_count": 6,
   "metadata": {
    "ExecuteTime": {
     "end_time": "2020-08-30T21:14:42.066384Z",
     "start_time": "2020-08-30T21:14:41.643001Z"
    }
   },
   "outputs": [
    {
     "data": {
      "text/plain": [
       "GpuDevice(id=0)"
      ]
     },
     "execution_count": 6,
     "metadata": {},
     "output_type": "execute_result"
    }
   ],
   "source": [
    "cpu, device = setup_device(cfg.gpus, default_platform=\"cpu\")\n",
    "rng = random.PRNGKey(0)\n",
    "device"
   ]
  },
  {
   "cell_type": "code",
   "execution_count": 8,
   "metadata": {
    "ExecuteTime": {
     "end_time": "2020-08-30T21:15:46.478525Z",
     "start_time": "2020-08-30T21:14:46.092158Z"
    }
   },
   "outputs": [],
   "source": [
    "train_images, train_labels, val_images, val_labels, preprocess_fn = prepare_data(\n",
    "    cfg.dataset, cfg.data_dir, device,\n",
    ")"
   ]
  },
  {
   "cell_type": "code",
   "execution_count": 9,
   "metadata": {
    "ExecuteTime": {
     "end_time": "2020-08-30T21:15:51.361621Z",
     "start_time": "2020-08-30T21:15:51.067012Z"
    }
   },
   "outputs": [
    {
     "name": "stdout",
     "output_type": "stream",
     "text": [
      "Train data: (64, 600, 84, 84, 3) (64, 600)\n",
      "Val data: (16, 600, 84, 84, 3) (16, 600)\n"
     ]
    }
   ],
   "source": [
    "print(\"Train data:\", train_images.shape, train_labels.shape)\n",
    "print(\"Val data:\", val_images.shape, val_labels.shape)"
   ]
  },
  {
   "cell_type": "code",
   "execution_count": 17,
   "metadata": {
    "ExecuteTime": {
     "end_time": "2020-08-30T21:17:05.082776Z",
     "start_time": "2020-08-30T21:17:05.051255Z"
    }
   },
   "outputs": [],
   "source": [
    "body, head = prepare_model(cfg.dataset, cfg.way, cfg.hidden_size, cfg.activation)"
   ]
  },
  {
   "cell_type": "code",
   "execution_count": 32,
   "metadata": {
    "ExecuteTime": {
     "end_time": "2020-08-30T21:19:06.987378Z",
     "start_time": "2020-08-30T21:19:06.954158Z"
    }
   },
   "outputs": [],
   "source": [
    "loss_fn = mean_xe_and_acc_dict\n",
    "\n",
    "def slow_apply(rng, slow_params, slow_state, is_training, inputs):\n",
    "    return body.apply(slow_params, slow_state, rng, inputs, is_training)\n",
    "\n",
    "def fast_apply_and_loss_fn(\n",
    "    rng, fast_params, fast_state, is_training, inputs, targets\n",
    "):\n",
    "    # params = hk.data_structures.merge(slow_params, fast_params)\n",
    "    logits, state = head.apply(\n",
    "        fast_params, fast_state, rng, inputs, is_training\n",
    "    )\n",
    "    loss, *aux = loss_fn(logits, targets)\n",
    "    return loss, (state, *aux)\n",
    "\n",
    "    return logits, state"
   ]
  },
  {
   "cell_type": "code",
   "execution_count": 33,
   "metadata": {
    "ExecuteTime": {
     "end_time": "2020-08-30T21:19:10.547121Z",
     "start_time": "2020-08-30T21:19:10.512704Z"
    }
   },
   "outputs": [],
   "source": [
    "def step(\n",
    "    step_num,\n",
    "    outer_opt_state,\n",
    "    slow_params,\n",
    "    fast_params,\n",
    "    slow_state,\n",
    "    fast_state,\n",
    "    x_spt,\n",
    "    y_spt,\n",
    "    x_qry,\n",
    "    y_qry,\n",
    "    inner_opt_init,\n",
    "    outer_opt_update,\n",
    "):\n",
    "    inner_opt_state = inner_opt_init(fast_params)\n",
    "\n",
    "    (outer_loss, (slow_state, fast_state, info)), grads = value_and_grad(\n",
    "        batched_outer_loop, (1, 2), has_aux=True\n",
    "    )(\n",
    "        None,  # rng\n",
    "        slow_params,\n",
    "        fast_params,\n",
    "        slow_state,\n",
    "        fast_state,\n",
    "        True,  # is_training\n",
    "        inner_opt_state,\n",
    "        x_spt,\n",
    "        y_spt,\n",
    "        x_qry,\n",
    "        y_qry,\n",
    "        cfg.num_inner_steps,\n",
    "    )\n",
    "    updates, outer_opt_state = outer_opt_update(\n",
    "        grads, outer_opt_state, (slow_params, fast_params)\n",
    "    )\n",
    "    slow_params, fast_params = ox.apply_updates(\n",
    "        (slow_params, fast_params), updates\n",
    "    )\n",
    "\n",
    "    return outer_opt_state, slow_params, fast_params, slow_state, fast_state, info"
   ]
  },
  {
   "cell_type": "code",
   "execution_count": 61,
   "metadata": {
    "ExecuteTime": {
     "end_time": "2020-08-30T21:27:13.752217Z",
     "start_time": "2020-08-30T21:27:13.719786Z"
    }
   },
   "outputs": [],
   "source": [
    "inner_opt = ox.sgd(cfg.inner_lr)\n",
    "inner_loop, outer_loop = make_fsl_inner_outer_loop(\n",
    "    slow_apply,\n",
    "    fast_apply_and_loss_fn,\n",
    "    inner_opt.update,\n",
    "    cfg.num_inner_steps,\n",
    "    update_state=False,\n",
    ")\n",
    "batched_outer_loop = make_batched_outer_loop(outer_loop)"
   ]
  },
  {
   "cell_type": "code",
   "execution_count": 62,
   "metadata": {
    "ExecuteTime": {
     "end_time": "2020-08-30T21:27:14.249170Z",
     "start_time": "2020-08-30T21:27:14.096395Z"
    }
   },
   "outputs": [],
   "source": [
    "slow_params, fast_params, slow_state, fast_state = make_params(\n",
    "    rng,\n",
    "    cfg.dataset,\n",
    "    body.init,\n",
    "    body.apply,\n",
    "    head.init,\n",
    "    device,\n",
    ")\n",
    "slow_params, fast_params, slow_state, fast_state = map(lambda x: jax.device_put(x, device), (slow_params, fast_params, slow_state, fast_state))"
   ]
  },
  {
   "cell_type": "code",
   "execution_count": 63,
   "metadata": {
    "ExecuteTime": {
     "end_time": "2020-08-30T21:27:15.568704Z",
     "start_time": "2020-08-30T21:27:15.523002Z"
    }
   },
   "outputs": [],
   "source": [
    "lr_schedule = ox.cosine_decay_schedule(-cfg.outer_lr, cfg.num_outer_steps, 0.1)\n",
    "outer_opt = ox.chain(\n",
    "    ox.clip(10),\n",
    "    ox.scale_by_adam(),\n",
    "    ox.scale_by_schedule(lr_schedule),\n",
    ")\n",
    "outer_opt_state = outer_opt.init((slow_params, fast_params))"
   ]
  },
  {
   "cell_type": "code",
   "execution_count": 64,
   "metadata": {
    "ExecuteTime": {
     "end_time": "2020-08-30T21:27:20.439604Z",
     "start_time": "2020-08-30T21:27:20.408720Z"
    }
   },
   "outputs": [],
   "source": [
    "if jit_enabled:\n",
    "    step = jit(step, static_argnums=(10, 11))\n",
    "    # validate = jit(validate, static_argnums=(2, 3, 4))\n",
    "    # validation_loss_acc_fn = jit(validation_loss_acc_fn)"
   ]
  },
  {
   "cell_type": "code",
   "execution_count": null,
   "metadata": {
    "ExecuteTime": {
     "start_time": "2020-08-30T20:27:52.426Z"
    }
   },
   "outputs": [
    {
     "data": {
      "application/vnd.jupyter.widget-view+json": {
       "model_id": "b5db1e8a648641e8a48819898c7cfffd",
       "version_major": 2,
       "version_minor": 0
      },
      "text/plain": [
       "HBox(children=(FloatProgress(value=0.0, max=10000.0), HTML(value='')))"
      ]
     },
     "metadata": {},
     "output_type": "display_data"
    }
   ],
   "source": [
    "pbar = tqdmn(\n",
    "    range(cfg.num_outer_steps),\n",
    "    # file=sys.stdout,\n",
    "    # miniters=25,\n",
    "    # mininterval=10,\n",
    "    # maxinterval=30,\n",
    ")\n",
    "\n",
    "for i in pbar:\n",
    "        rng, rng_sample = split(rng)\n",
    "        x, y = fsl_sample_and_build(\n",
    "            rng_sample,\n",
    "            train_images,\n",
    "            train_labels,\n",
    "            cfg.batch_size,\n",
    "            cfg.way,\n",
    "            cfg.shot,\n",
    "            cfg.qry_shot,\n",
    "            cfg.disjoint_tasks,\n",
    "        )\n",
    "        x = preprocess_fn(jax.device_put(x, device))\n",
    "        y = jax.device_put(y, device)\n",
    "        \n",
    "        image_shape = x.shape[-3:]\n",
    "        x_spt, x_qry = jnp.split(x, (cfg.shot,), 2)\n",
    "        x_spt = x_spt.reshape(cfg.batch_size, cfg.way * cfg.shot, *image_shape)\n",
    "        x_qry = x_qry.reshape(cfg.batch_size, cfg.way * cfg.qry_shot, *image_shape)\n",
    "        y_spt, y_qry = jnp.split(y, (cfg.shot,), 2)\n",
    "        y_spt = y_spt.reshape(cfg.batch_size, cfg.way * cfg.shot)\n",
    "        y_qry = y_qry.reshape(cfg.batch_size, cfg.way * cfg.qry_shot)\n",
    "\n",
    "        outer_opt_state, slow_params, fast_params, slow_state, fast_state, info = step(\n",
    "            i,\n",
    "            outer_opt_state,\n",
    "            slow_params,\n",
    "            fast_params,\n",
    "            slow_state,\n",
    "            fast_state,\n",
    "            x_spt,\n",
    "            y_spt,\n",
    "            x_qry,\n",
    "            y_qry,\n",
    "            inner_opt.init,\n",
    "            outer_opt.update\n",
    "        )\n",
    "\n",
    "        if (((i + 1) % cfg.progress_bar_refresh_rate) == 0) or (i == 0):\n",
    "            current_lr = lr_schedule(outer_opt_state[-1].count)\n",
    "            pbar.set_postfix(\n",
    "                lr=f\"{current_lr:.4f}\",\n",
    "                # vfol=f\"{vfol:.3f}\",\n",
    "                # vioa=f\"{vioa:.3f}\",\n",
    "                # vfoa=f\"{vfoa:.3f}\",\n",
    "                loss=f\"{info['outer']['final_loss'].mean():.3f}\",\n",
    "                foa=f\"{info['outer']['final_aux'][0]['acc'].mean():.3f}\",\n",
    "                # bfoa=f\"{best_val_acc:.3f}\",\n",
    "                fia=f\"{info['inner']['final_aux'][0]['acc'].mean():.3f}\",\n",
    "                iil=f\"{info['inner']['initial_loss'].mean():.3f}\",\n",
    "                fil=f\"{info['inner']['final_loss'].mean():.3f}\",\n",
    "            )\n"
   ]
  },
  {
   "cell_type": "code",
   "execution_count": null,
   "metadata": {},
   "outputs": [],
   "source": []
  }
 ],
 "metadata": {
  "kernelspec": {
   "display_name": "385",
   "language": "python",
   "name": "385"
  },
  "language_info": {
   "codemirror_mode": {
    "name": "ipython",
    "version": 3
   },
   "file_extension": ".py",
   "mimetype": "text/x-python",
   "name": "python",
   "nbconvert_exporter": "python",
   "pygments_lexer": "ipython3",
   "version": "3.8.5"
  },
  "toc": {
   "base_numbering": 1,
   "nav_menu": {},
   "number_sections": true,
   "sideBar": true,
   "skip_h1_title": false,
   "title_cell": "Table of Contents",
   "title_sidebar": "Contents",
   "toc_cell": false,
   "toc_position": {},
   "toc_section_display": true,
   "toc_window_display": false
  }
 },
 "nbformat": 4,
 "nbformat_minor": 2
}
