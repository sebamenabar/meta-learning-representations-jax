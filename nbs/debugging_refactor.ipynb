{
 "cells": [
  {
   "cell_type": "code",
   "execution_count": 1,
   "metadata": {
    "ExecuteTime": {
     "end_time": "2020-08-30T21:14:28.618791Z",
     "start_time": "2020-08-30T21:14:28.594557Z"
    }
   },
   "outputs": [],
   "source": [
    "%load_ext autoreload\n",
    "%autoreload 2"
   ]
  },
  {
   "cell_type": "code",
   "execution_count": 97,
   "metadata": {
    "ExecuteTime": {
     "end_time": "2020-08-30T22:09:50.330913Z",
     "start_time": "2020-08-30T22:09:50.063192Z"
    }
   },
   "outputs": [],
   "source": [
    "from trainers.meta_trainer import MetaTrainer"
   ]
  },
  {
   "cell_type": "code",
   "execution_count": 98,
   "metadata": {
    "ExecuteTime": {
     "end_time": "2020-08-30T22:09:50.545464Z",
     "start_time": "2020-08-30T22:09:50.513749Z"
    }
   },
   "outputs": [],
   "source": [
    "import os\n",
    "import sys\n",
    "\n",
    "sys.path.insert(0, \"../src\")"
   ]
  },
  {
   "cell_type": "code",
   "execution_count": 162,
   "metadata": {
    "ExecuteTime": {
     "end_time": "2020-08-30T23:06:36.388839Z",
     "start_time": "2020-08-30T23:06:36.354101Z"
    }
   },
   "outputs": [],
   "source": [
    "from tqdm.notebook import tqdm as tqdmn\n",
    "from easydict import EasyDict as edict\n",
    "\n",
    "import jax\n",
    "from jax.random import split\n",
    "from jax import random, numpy as jnp, jit, value_and_grad, partial, vmap, tree_multimap\n",
    "\n",
    "import optax as ox\n",
    "\n",
    "from data.sampling import fsl_sample_and_build\n",
    "from models.maml_conv import prepare_model, make_params\n",
    "from data import prepare_data\n",
    "from lib import setup_device, make_fsl_inner_outer_loop, mean_xe_and_acc_dict, make_batched_outer_loop"
   ]
  },
  {
   "cell_type": "code",
   "execution_count": 100,
   "metadata": {
    "ExecuteTime": {
     "end_time": "2020-08-30T22:09:52.797787Z",
     "start_time": "2020-08-30T22:09:52.766498Z"
    }
   },
   "outputs": [],
   "source": [
    "cfg = edict()"
   ]
  },
  {
   "cell_type": "code",
   "execution_count": 125,
   "metadata": {
    "ExecuteTime": {
     "end_time": "2020-08-30T22:55:49.380722Z",
     "start_time": "2020-08-30T22:55:49.344135Z"
    }
   },
   "outputs": [],
   "source": [
    "cfg.hidden_size = 32\n",
    "cfg.activation = \"relu\"\n",
    "cfg.way = 5\n",
    "cfg.shot = 5\n",
    "cfg.qry_shot = 10\n",
    "cfg.batch_size = 5\n",
    "cfg.val_num_tasks = 1000\n",
    "cfg.inner_lr = 1e-2\n",
    "cfg.outer_lr = 1e-3\n",
    "cfg.num_outer_steps = 10000\n",
    "cfg.num_inner_steps = 5\n",
    "cfg.disjoint_tasks = False\n",
    "cfg.disable_jit = False\n",
    "cfg.dataset = \"miniimagenet\"\n",
    "# cfg.data_dir = \"/home/samenabar/storage/data/FSL/mini-imagenet/\"\n",
    "cfg.progress_bar_refresh_rate = 50\n",
    "cfg.train_method = \"fsl\"\n",
    "cfg.track_bn_stats = False\n",
    "cfg.prefetch_data_gpu = False\n",
    "cfg.meta_batch_size = 5\n",
    "cfg.data_dir = \"/workspace1/samenabar/data/mini-imagenet/\"\n",
    "\n",
    "cfg.gpus = 1\n",
    "\n",
    "jit_enabled = not cfg.disable_jit"
   ]
  },
  {
   "cell_type": "code",
   "execution_count": 102,
   "metadata": {
    "ExecuteTime": {
     "end_time": "2020-08-30T22:09:58.122317Z",
     "start_time": "2020-08-30T22:09:58.087756Z"
    }
   },
   "outputs": [
    {
     "data": {
      "text/plain": [
       "GpuDevice(id=0)"
      ]
     },
     "execution_count": 102,
     "metadata": {},
     "output_type": "execute_result"
    }
   ],
   "source": [
    "cpu, device = setup_device(cfg.gpus, default_platform=\"cpu\")\n",
    "rng = random.PRNGKey(0)\n",
    "device"
   ]
  },
  {
   "cell_type": "code",
   "execution_count": 103,
   "metadata": {
    "ExecuteTime": {
     "end_time": "2020-08-30T22:19:17.467755Z",
     "start_time": "2020-08-30T22:09:58.558961Z"
    }
   },
   "outputs": [],
   "source": [
    "train_images, train_labels, val_images, val_labels, preprocess_fn = prepare_data(\n",
    "    cfg.dataset, cfg.data_dir, device,\n",
    ")"
   ]
  },
  {
   "cell_type": "code",
   "execution_count": 9,
   "metadata": {
    "ExecuteTime": {
     "end_time": "2020-08-30T21:15:51.361621Z",
     "start_time": "2020-08-30T21:15:51.067012Z"
    }
   },
   "outputs": [
    {
     "name": "stdout",
     "output_type": "stream",
     "text": [
      "Train data: (64, 600, 84, 84, 3) (64, 600)\n",
      "Val data: (16, 600, 84, 84, 3) (16, 600)\n"
     ]
    }
   ],
   "source": [
    "print(\"Train data:\", train_images.shape, train_labels.shape)\n",
    "print(\"Val data:\", val_images.shape, val_labels.shape)"
   ]
  },
  {
   "cell_type": "code",
   "execution_count": 104,
   "metadata": {
    "ExecuteTime": {
     "end_time": "2020-08-30T22:23:29.028750Z",
     "start_time": "2020-08-30T22:23:28.754835Z"
    }
   },
   "outputs": [],
   "source": [
    "loss_fn = mean_xe_and_acc_dict"
   ]
  },
  {
   "cell_type": "code",
   "execution_count": 126,
   "metadata": {
    "ExecuteTime": {
     "end_time": "2020-08-30T22:55:54.607918Z",
     "start_time": "2020-08-30T22:55:54.574278Z"
    }
   },
   "outputs": [],
   "source": [
    "trainer = MetaTrainer(rng, cfg, device=device)"
   ]
  },
  {
   "cell_type": "code",
   "execution_count": 127,
   "metadata": {
    "ExecuteTime": {
     "end_time": "2020-08-30T22:55:55.060671Z",
     "start_time": "2020-08-30T22:55:55.027150Z"
    }
   },
   "outputs": [],
   "source": [
    "body, head = prepare_model(cfg.dataset, cfg.way, cfg.hidden_size, cfg.activation)"
   ]
  },
  {
   "cell_type": "code",
   "execution_count": 128,
   "metadata": {
    "ExecuteTime": {
     "end_time": "2020-08-30T22:55:55.583784Z",
     "start_time": "2020-08-30T22:55:55.438323Z"
    },
    "cell_style": "split"
   },
   "outputs": [],
   "source": [
    "(\n",
    "    slow_params,\n",
    "    fast_params,\n",
    "    slow_state,\n",
    "    fast_state,\n",
    ") = make_params(\n",
    "    rng,\n",
    "    cfg.dataset,\n",
    "    body.init,\n",
    "    body.apply,\n",
    "    head.init,\n",
    "    device,\n",
    ")"
   ]
  },
  {
   "cell_type": "code",
   "execution_count": 129,
   "metadata": {
    "ExecuteTime": {
     "end_time": "2020-08-30T22:55:57.017036Z",
     "start_time": "2020-08-30T22:55:56.919004Z"
    },
    "cell_style": "split"
   },
   "outputs": [],
   "source": [
    "x, y = fsl_sample_and_build(\n",
    "    rng_sample,\n",
    "    train_images,\n",
    "    train_labels,\n",
    "    cfg.batch_size,\n",
    "    cfg.way,\n",
    "    cfg.shot,\n",
    "    cfg.qry_shot,\n",
    "    cfg.disjoint_tasks,\n",
    ")\n",
    "x = preprocess_fn(jax.device_put(x, device))\n",
    "y = jax.device_put(y, device)\n",
    "\n",
    "image_shape = x.shape[-3:]\n",
    "x_spt, x_qry = jnp.split(x, (cfg.shot,), 2)\n",
    "x_spt = x_spt.reshape(cfg.batch_size, cfg.way * cfg.shot, *image_shape)\n",
    "x_qry = x_qry.reshape(cfg.batch_size, cfg.way * cfg.qry_shot, *image_shape)\n",
    "y_spt, y_qry = jnp.split(y, (cfg.shot,), 2)\n",
    "y_spt = y_spt.reshape(cfg.batch_size, cfg.way * cfg.shot)\n",
    "y_qry = y_qry.reshape(cfg.batch_size, cfg.way * cfg.qry_shot)"
   ]
  },
  {
   "cell_type": "code",
   "execution_count": 118,
   "metadata": {
    "ExecuteTime": {
     "end_time": "2020-08-30T22:53:08.772496Z",
     "start_time": "2020-08-30T22:53:08.498677Z"
    }
   },
   "outputs": [
    {
     "data": {
      "text/plain": [
       "(5, 25, 84, 84, 3)"
      ]
     },
     "execution_count": 118,
     "metadata": {},
     "output_type": "execute_result"
    }
   ],
   "source": [
    "x_spt.shape"
   ]
  },
  {
   "cell_type": "code",
   "execution_count": 169,
   "metadata": {
    "ExecuteTime": {
     "end_time": "2020-08-30T23:08:14.672268Z",
     "start_time": "2020-08-30T23:08:14.631202Z"
    },
    "cell_style": "split"
   },
   "outputs": [],
   "source": [
    "def fsl_inner_loop(\n",
    "    slow_params,\n",
    "    fast_params,\n",
    "    slow_state,\n",
    "    fast_state,\n",
    "    opt_state,\n",
    "    rng,\n",
    "    inputs,\n",
    "    targets,\n",
    "    is_training,\n",
    "    num_steps,\n",
    "    slow_apply,\n",
    "    fast_apply,\n",
    "    loss_fn,\n",
    "    opt_update_fn,\n",
    "    update_state=False,\n",
    "    return_history=True,\n",
    "):\n",
    "    _fast_apply_and_loss_fn = partial(\n",
    "        fast_apply_and_loss_fn, fast_apply=fast_apply, loss_fn=loss_fn\n",
    "    )\n",
    "    rng_slow, *rngs = split(rng, num_steps + 2)\n",
    "    slow_outputs, slow_state = slow_apply(\n",
    "        slow_params, slow_state, rng_slow, inputs, is_training,\n",
    "    )\n",
    "    \n",
    "    losses = []\n",
    "    auxs = []\n",
    "\n",
    "    for i in range(num_steps):\n",
    "        (loss, (new_fast_state, *aux)), grads = value_and_grad(\n",
    "            _fast_apply_and_loss_fn, has_aux=True\n",
    "        )(fast_params, fast_state, rngs[i], slow_outputs, is_training, targets)\n",
    "        if update_state:\n",
    "            fast_state = new_fast_state\n",
    "        if i == 0:\n",
    "            initial_loss = loss\n",
    "            initial_aux = aux\n",
    "            \n",
    "        if return_history:\n",
    "            losses.append(loss)\n",
    "            auxs.append(aux)\n",
    "            \n",
    "        updates, opt_state = opt_update_fn(grads, opt_state, fast_params)\n",
    "        fast_params = ox.apply_updates(fast_params, updates)\n",
    "\n",
    "    final_loss, (final_fast_state, *final_aux) = _fast_apply_and_loss_fn(\n",
    "        fast_params, fast_state, rngs[i + 1], slow_outputs, is_training, targets,\n",
    "    )\n",
    "    if return_history:\n",
    "        losses.append(final_loss)\n",
    "        auxs.append(final_aux)\n",
    "        info = {\"losses\": jnp.stack(losses), \"auxs\": tree_multimap(lambda x, *xs: jnp.stack(xs), auxs[0], *auxs)}\n",
    "    else:\n",
    "        info = {\n",
    "            \"losses\": {\"initial\": initial_loss, \"final\": final_loss},\n",
    "            \"auxs\": {\"initial\": initial_aux, \"final\": final_aux},\n",
    "        },\n",
    "\n",
    "    return (\n",
    "        fast_params,\n",
    "        slow_state,\n",
    "        fast_state,\n",
    "        opt_state,\n",
    "        info,\n",
    "    )"
   ]
  },
  {
   "cell_type": "code",
   "execution_count": 170,
   "metadata": {
    "ExecuteTime": {
     "end_time": "2020-08-30T23:08:15.803790Z",
     "start_time": "2020-08-30T23:08:15.771234Z"
    },
    "cell_style": "split",
    "scrolled": true
   },
   "outputs": [],
   "source": [
    "inner_loop_ins = partial(fsl_inner_loop, is_training=True, num_steps=10, slow_apply=body.apply, fast_apply=head.apply, loss_fn=loss_fn, opt_update_fn=trainer.inner_opt.update)\n",
    "\n",
    "inner_loop_ins = jit(inner_loop_ins)"
   ]
  },
  {
   "cell_type": "code",
   "execution_count": 176,
   "metadata": {
    "ExecuteTime": {
     "end_time": "2020-08-30T23:08:32.355439Z",
     "start_time": "2020-08-30T23:08:32.299908Z"
    },
    "cell_style": "split",
    "scrolled": true
   },
   "outputs": [
    {
     "data": {
      "text/plain": [
       "(FlatMapping({\n",
       "   'mini_imagenet_cnn_head/linear': FlatMapping({\n",
       "                                      'b': DeviceArray([ 0.0013707 , -0.0032852 , -0.00303768,  0.00307852,\n",
       "                                                         0.00187366], dtype=float32),\n",
       "                                      'w': DeviceArray([[-0.02074367,  0.0250273 , -0.04737075,  0.07665098,\n",
       "                                                         -0.05147767],\n",
       "                                                        [ 0.01456404,  0.01268667,  0.08201264,  0.07178478,\n",
       "                                                         -0.03569538],\n",
       "                                                        [-0.00321351, -0.03089465,  0.00315202, -0.04079141,\n",
       "                                                         -0.03144538],\n",
       "                                                        ...,\n",
       "                                                        [ 0.08402209,  0.06583858,  0.07225818, -0.07058419,\n",
       "                                                          0.03408027],\n",
       "                                                        [-0.05203676, -0.08178643, -0.07578073, -0.02001482,\n",
       "                                                         -0.06850053],\n",
       "                                                        [ 0.01544126,  0.01891083,  0.03491909, -0.06889495,\n",
       "                                                         -0.07925305]], dtype=float32),\n",
       "                                    }),\n",
       " }),\n",
       " FlatMapping({}),\n",
       " FlatMapping({}),\n",
       " [TraceState(trace=FlatMapping({\n",
       "    'mini_imagenet_cnn_head/linear': FlatMapping({\n",
       "                                       'b': DeviceArray([-0.00182582,  0.00901107, -0.00346465,  0.00653532,\n",
       "                                                         -0.01025594], dtype=float32),\n",
       "                                       'w': DeviceArray([[ 0.01864885, -0.01308725, -0.05442966,  0.03860664,\n",
       "                                                           0.01026142],\n",
       "                                                         [-0.04404846,  0.00817467, -0.02188436,  0.02565811,\n",
       "                                                           0.03210003],\n",
       "                                                         [ 0.00898104, -0.0188775 ,  0.01067021,  0.01387421,\n",
       "                                                          -0.01464797],\n",
       "                                                         ...,\n",
       "                                                         [ 0.01667734,  0.05137257, -0.05915915,  0.0125038 ,\n",
       "                                                          -0.02139454],\n",
       "                                                         [-0.00656985,  0.01613198, -0.00370522,  0.05108834,\n",
       "                                                          -0.05694525],\n",
       "                                                         [ 0.06755592, -0.0078003 , -0.03877607, -0.03017184,\n",
       "                                                           0.00919229]], dtype=float32),\n",
       "                                     }),\n",
       "  })),\n",
       "  ScaleState()],\n",
       " {'auxs': [{'acc': DeviceArray([0.19999999, 0.16      , 0.32      , 0.32      , 0.39999998,\n",
       "                 0.48      , 0.59999996, 0.68      , 0.68      , 0.68      ,\n",
       "                 0.71999997], dtype=float32)}],\n",
       "  'losses': DeviceArray([3.1672387 , 2.0957403 , 1.6780812 , 1.5082574 , 1.3795259 ,\n",
       "               1.2639143 , 1.1598555 , 1.0664943 , 0.98295456, 0.9083204 ,\n",
       "               0.8416745 ], dtype=float32)})"
      ]
     },
     "execution_count": 176,
     "metadata": {},
     "output_type": "execute_result"
    }
   ],
   "source": [
    "inner_loop_ins(slow_params, fast_params, slow_state, fast_state, trainer.inner_opt.init(fast_params), rng, x_spt[0], y_spt[0])"
   ]
  },
  {
   "cell_type": "code",
   "execution_count": null,
   "metadata": {},
   "outputs": [],
   "source": []
  },
  {
   "cell_type": "code",
   "execution_count": 179,
   "metadata": {
    "ExecuteTime": {
     "end_time": "2020-08-30T23:10:15.852984Z",
     "start_time": "2020-08-30T23:10:15.814662Z"
    },
    "cell_style": "split"
   },
   "outputs": [],
   "source": [
    "def outer_loop(\n",
    "    slow_params,\n",
    "    fast_params,\n",
    "    slow_state,\n",
    "    fast_state,\n",
    "    inner_opt_state,\n",
    "    rng,\n",
    "    x_spt,\n",
    "    y_spt,\n",
    "    x_qry,\n",
    "    y_qry,\n",
    "    is_training,\n",
    "    inner_loop, # instantiated inner_loop\n",
    "    slow_apply,\n",
    "    fast_apply,\n",
    "    loss_fn,\n",
    "):\n",
    "    _fast_apply_and_loss_fn = partial(\n",
    "        fast_apply_and_loss_fn, fast_apply=fast_apply, loss_fn=loss_fn\n",
    "    )\n",
    "    rng_outer_slow, rng_outer_fast, rng_inner = split(rng, 3)\n",
    "    slow_outputs, initial_slow_state = slow_apply(\n",
    "        slow_params, slow_state, rng_outer_slow, x_qry, is_training,\n",
    "    )\n",
    "    initial_loss, (_, *initial_aux) = _fast_apply_and_loss_fn(\n",
    "        fast_params, fast_state, rng_outer_fast, slow_outputs, False, y_qry,\n",
    "    )\n",
    "    \n",
    "    fast_params, inner_slow_state, fast_state, inner_opt_state, inner_auxs = inner_loop(\n",
    "        slow_params,\n",
    "        fast_params,\n",
    "        slow_state,\n",
    "        fast_state,\n",
    "        inner_opt_state,\n",
    "        rng_inner,\n",
    "        x_spt,\n",
    "        y_spt,\n",
    "    )\n",
    "    final_loss, (final_fast_state, *final_aux) = _fast_apply_and_loss_fn(\n",
    "        fast_params, fast_state, rng_outer_fast, slow_outputs, is_training, y_qry, \n",
    "    )\n",
    "    return (\n",
    "        final_loss,\n",
    "        (\n",
    "            initial_slow_state,\n",
    "            fast_state,\n",
    "            {\n",
    "                \"inner\": inner_auxs,\n",
    "                \"outer\": {\n",
    "                    \"initial\": {\"aux\": initial_aux, \"loss\": initial_loss},\n",
    "                    \"final\": {\"aux\": final_aux, \"loss\": final_loss},\n",
    "                },\n",
    "            },\n",
    "        ),\n",
    "    )"
   ]
  },
  {
   "cell_type": "code",
   "execution_count": 184,
   "metadata": {
    "ExecuteTime": {
     "end_time": "2020-08-30T23:10:55.843511Z",
     "start_time": "2020-08-30T23:10:55.573623Z"
    },
    "cell_style": "split"
   },
   "outputs": [],
   "source": [
    "outer_loop_ins = partial(outer_loop, is_training=True, inner_loop=inner_loop_ins, slow_apply=body.apply, fast_apply=head.apply, loss_fn=loss_fn)\n",
    "\n",
    "outer_loop_ins = jit(outer_loop_ins)"
   ]
  },
  {
   "cell_type": "code",
   "execution_count": 200,
   "metadata": {
    "ExecuteTime": {
     "end_time": "2020-08-30T23:11:53.381773Z",
     "start_time": "2020-08-30T23:11:53.329896Z"
    },
    "cell_style": "split"
   },
   "outputs": [
    {
     "data": {
      "text/plain": [
       "(DeviceArray(1.5807741, dtype=float32),\n",
       " (FlatMapping({}),\n",
       "  FlatMapping({}),\n",
       "  {'inner': {'auxs': [{'acc': DeviceArray([0.19999999, 0.16      , 0.32      , 0.32      , 0.39999998,\n",
       "                   0.48      , 0.59999996, 0.68      , 0.68      , 0.68      ,\n",
       "                   0.71999997], dtype=float32)}],\n",
       "    'losses': DeviceArray([3.1672387 , 2.0957406 , 1.6780807 , 1.5082569 , 1.3795255 ,\n",
       "                 1.263914  , 1.159855  , 1.0664941 , 0.982954  , 0.90832037,\n",
       "                 0.8416744 ], dtype=float32)},\n",
       "   'outer': {'final': {'aux': [{'acc': DeviceArray(0.22, dtype=float32)}],\n",
       "     'loss': DeviceArray(1.5807741, dtype=float32)},\n",
       "    'initial': {'aux': [{'acc': DeviceArray(0.14, dtype=float32)}],\n",
       "     'loss': DeviceArray(3.3284416, dtype=float32)}}}))"
      ]
     },
     "execution_count": 200,
     "metadata": {},
     "output_type": "execute_result"
    }
   ],
   "source": [
    "outer_loop_ins(\n",
    "    slow_params, fast_params,\n",
    "    slow_state, fast_state,\n",
    "    trainer.inner_opt.init(fast_params),\n",
    "    rng,\n",
    "    x_spt[0], y_spt[0],\n",
    "    x_qry[0], y_qry[0],\n",
    ")"
   ]
  },
  {
   "cell_type": "code",
   "execution_count": 204,
   "metadata": {
    "ExecuteTime": {
     "end_time": "2020-08-30T23:15:01.934392Z",
     "start_time": "2020-08-30T23:15:01.595952Z"
    },
    "cell_style": "split"
   },
   "outputs": [],
   "source": [
    "def batched_outer_loop(slow_params, fast_params, slow_state, fast_state, inner_opt_state, brng, bx_spt, by_spt, bx_qry, by_qry, outer_loop):\n",
    "    losses, aux = vmap(partial(outer_loop, slow_params, fast_params, slow_state, fast_state, inner_opt_state))(brng, bx_spt, by_spt, bx_qry, by_qry)\n",
    "    return losses.mean(), aux"
   ]
  },
  {
   "cell_type": "code",
   "execution_count": 208,
   "metadata": {
    "ExecuteTime": {
     "end_time": "2020-08-30T23:15:54.377973Z",
     "start_time": "2020-08-30T23:15:54.343420Z"
    },
    "cell_style": "split"
   },
   "outputs": [],
   "source": [
    "batched_outer_loop_ins = partial(batched_outer_loop, outer_loop=outer_loop_ins)\n",
    "batched_outer_loop_ins = jit(batched_outer_loop_ins)"
   ]
  },
  {
   "cell_type": "code",
   "execution_count": 220,
   "metadata": {
    "ExecuteTime": {
     "end_time": "2020-08-30T23:16:45.663113Z",
     "start_time": "2020-08-30T23:16:45.609976Z"
    },
    "cell_style": "split"
   },
   "outputs": [],
   "source": [
    "loss, (_, _, info) = batched_outer_loop_ins(slow_params, fast_params, slow_state, fast_state, trainer.inner_opt.init(fast_params), split(rng, x_spt.shape[0]), x_spt, y_spt, x_qry, y_qry)"
   ]
  },
  {
   "cell_type": "code",
   "execution_count": 241,
   "metadata": {
    "ExecuteTime": {
     "end_time": "2020-08-30T23:46:49.355920Z",
     "start_time": "2020-08-30T23:46:49.084359Z"
    }
   },
   "outputs": [],
   "source": [
    "def step(\n",
    "    rng,\n",
    "    step_num,\n",
    "    outer_opt_state,\n",
    "    slow_params,\n",
    "    fast_params,\n",
    "    slow_state,\n",
    "    fast_state,\n",
    "    x_spt,\n",
    "    y_spt,\n",
    "    x_qry,\n",
    "    y_qry,\n",
    "    inner_opt_init,\n",
    "    outer_opt_update,\n",
    "    batched_outer_loop_ins,\n",
    "):\n",
    "    inner_opt_state = inner_opt_init(fast_params)\n",
    "\n",
    "    (outer_loss, (slow_state, fast_state, info)), grads = value_and_grad(\n",
    "        batched_outer_loop_ins, (0, 1), has_aux=True\n",
    "    )(\n",
    "        slow_params,\n",
    "        fast_params,\n",
    "        slow_state,\n",
    "        fast_state,\n",
    "        inner_opt_state,\n",
    "        split(rng, x_spt.shape[0]),\n",
    "        x_spt,\n",
    "        y_spt,\n",
    "        x_qry,\n",
    "        y_qry,\n",
    "    )\n",
    "    updates, outer_opt_state = outer_opt_update(\n",
    "        grads, outer_opt_state, (slow_params, fast_params)\n",
    "    )\n",
    "    slow_params, fast_params = ox.apply_updates(\n",
    "        (slow_params, fast_params), updates\n",
    "    )\n",
    "\n",
    "    return outer_opt_state, slow_params, fast_params, slow_state, fast_state, info\n",
    "\n"
   ]
  },
  {
   "cell_type": "code",
   "execution_count": 242,
   "metadata": {
    "ExecuteTime": {
     "end_time": "2020-08-30T23:46:53.342815Z",
     "start_time": "2020-08-30T23:46:53.184232Z"
    }
   },
   "outputs": [],
   "source": [
    "slow_params, fast_params, slow_state, fast_state = make_params(\n",
    "    rng,\n",
    "    cfg.dataset,\n",
    "    body.init,\n",
    "    body.apply,\n",
    "    head.init,\n",
    "    device,\n",
    ")\n",
    "slow_params, fast_params, slow_state, fast_state = map(lambda x: jax.device_put(x, device), (slow_params, fast_params, slow_state, fast_state))\n",
    "\n",
    "inner_opt = ox.sgd(cfg.inner_lr)\n",
    "lr_schedule = ox.cosine_decay_schedule(-cfg.outer_lr, cfg.num_outer_steps, 0.1)\n",
    "outer_opt = ox.chain(\n",
    "    ox.clip(10),\n",
    "    ox.scale_by_adam(),\n",
    "    ox.scale_by_schedule(lr_schedule),\n",
    ")\n",
    "outer_opt_state = outer_opt.init((slow_params, fast_params))\n",
    "\n",
    "inner_loop_ins = partial(\n",
    "    fsl_inner_loop,\n",
    "    is_training=True,\n",
    "    num_steps=10,\n",
    "    slow_apply=body.apply,\n",
    "    fast_apply=head.apply,\n",
    "    loss_fn=loss_fn,\n",
    "    opt_update_fn=inner_opt.update,\n",
    ")\n",
    "outer_loop_ins = partial(\n",
    "    outer_loop,\n",
    "    is_training=True,\n",
    "    inner_loop=inner_loop_ins,\n",
    "    slow_apply=body.apply,\n",
    "    fast_apply=head.apply,\n",
    "    loss_fn=loss_fn,\n",
    ")\n",
    "batched_outer_loop_ins = partial(batched_outer_loop, outer_loop=outer_loop_ins)\n",
    "\n",
    "step_ins = jit(\n",
    "    partial(\n",
    "        step,\n",
    "        inner_opt_init=inner_opt.init,\n",
    "        outer_opt_update=trainer.outer_opt.update,\n",
    "        batched_outer_loop_ins=batched_outer_loop_ins,\n",
    "    ),\n",
    "    # static_argnums=(11, 12, 13),\n",
    ")"
   ]
  },
  {
   "cell_type": "code",
   "execution_count": 260,
   "metadata": {
    "ExecuteTime": {
     "end_time": "2020-08-31T00:00:26.404191Z",
     "start_time": "2020-08-30T23:50:31.186910Z"
    }
   },
   "outputs": [
    {
     "data": {
      "application/vnd.jupyter.widget-view+json": {
       "model_id": "13f4d986046f47279f753bfc6d6474a7",
       "version_major": 2,
       "version_minor": 0
      },
      "text/plain": [
       "HBox(children=(FloatProgress(value=0.0, max=10000.0), HTML(value='')))"
      ]
     },
     "metadata": {},
     "output_type": "display_data"
    },
    {
     "name": "stdout",
     "output_type": "stream",
     "text": [
      "\n"
     ]
    }
   ],
   "source": [
    "pbar = tqdmn(\n",
    "    range(10000),\n",
    ")\n",
    "\n",
    "for i in pbar:\n",
    "        rng, rng_sample, rng_step = split(rng, 3)\n",
    "        x, y = fsl_sample_and_build(\n",
    "            rng_sample,\n",
    "            train_images,\n",
    "            train_labels,\n",
    "            cfg.batch_size,\n",
    "            cfg.way,\n",
    "            cfg.shot,\n",
    "            cfg.qry_shot,\n",
    "            cfg.disjoint_tasks,\n",
    "        )\n",
    "        x = preprocess_fn(jax.device_put(x, device))\n",
    "        y = jax.device_put(y, device)\n",
    "        \n",
    "        image_shape = x.shape[-3:]\n",
    "        x_spt, x_qry = jnp.split(x, (cfg.shot,), 2)\n",
    "        x_spt = x_spt.reshape(cfg.batch_size, cfg.way * cfg.shot, *image_shape)\n",
    "        x_qry = x_qry.reshape(cfg.batch_size, cfg.way * cfg.qry_shot, *image_shape)\n",
    "        y_spt, y_qry = jnp.split(y, (cfg.shot,), 2)\n",
    "        y_spt = y_spt.reshape(cfg.batch_size, cfg.way * cfg.shot)\n",
    "        y_qry = y_qry.reshape(cfg.batch_size, cfg.way * cfg.qry_shot)\n",
    "\n",
    "        outer_opt_state, slow_params, fast_params, slow_state, fast_state, info = step_ins(\n",
    "            rng_step,\n",
    "            i,\n",
    "            outer_opt_state,\n",
    "            slow_params,\n",
    "            fast_params,\n",
    "            slow_state,\n",
    "            fast_state,\n",
    "            x_spt,\n",
    "            y_spt,\n",
    "            x_qry,\n",
    "            y_qry,\n",
    "            # trainer.inner_opt.init,\n",
    "            # trainer.outer_opt.update\n",
    "        )\n",
    "\n",
    "        if (((i + 1) % cfg.progress_bar_refresh_rate) == 0) or (i == 0):\n",
    "            current_lr = lr_schedule(outer_opt_state[-1].count)\n",
    "            pbar.set_postfix(\n",
    "                lr=f\"{current_lr:.4f}\",\n",
    "                # vfol=f\"{vfol:.3f}\",\n",
    "                # vioa=f\"{vioa:.3f}\",\n",
    "                # vfoa=f\"{vfoa:.3f}\",\n",
    "                loss=f\"{info['outer']['final']['loss'].mean():.3f}\",\n",
    "                foa=f\"{info['outer']['final']['aux'][0]['acc'].mean():.3f}\",\n",
    "                # bfoa=f\"{best_val_acc:.3f}\",\n",
    "                fia=f\"{info['inner']['auxs'][0]['acc'][:, -1].mean():.3f}\",\n",
    "                iil=f\"{info['inner']['losses'][:, 0].mean():.3f}\",\n",
    "                fil=f\"{info['inner']['losses'][:, -1].mean():.3f}\",\n",
    "            )\n"
   ]
  },
  {
   "cell_type": "code",
   "execution_count": 265,
   "metadata": {
    "ExecuteTime": {
     "end_time": "2020-08-31T00:49:02.226830Z",
     "start_time": "2020-08-31T00:49:01.936191Z"
    }
   },
   "outputs": [],
   "source": [
    "cfg.num_inner_steps_test = 10\n",
    "cfg.meta_batch_size_test = 25"
   ]
  },
  {
   "cell_type": "code",
   "execution_count": 267,
   "metadata": {
    "ExecuteTime": {
     "end_time": "2020-08-31T00:49:22.915314Z",
     "start_time": "2020-08-31T00:49:22.883299Z"
    }
   },
   "outputs": [],
   "source": [
    "from data.sampling import fsl_sample_transfer_build"
   ]
  },
  {
   "cell_type": "code",
   "execution_count": 268,
   "metadata": {
    "ExecuteTime": {
     "end_time": "2020-08-31T00:49:23.411614Z",
     "start_time": "2020-08-31T00:49:23.378141Z"
    }
   },
   "outputs": [],
   "source": [
    "test_sample_fn_kwargs = {\n",
    "    \"images\": val_images,\n",
    "    \"labels\": val_labels,\n",
    "    \"batch_size\": cfg.meta_batch_size_test,\n",
    "    \"way\": cfg.way,\n",
    "    \"shot\": cfg.shot,\n",
    "    \"qry_shot\": 15,\n",
    "    \"preprocess_fn\": preprocess_fn,\n",
    "    \"device\": device,\n",
    "}\n",
    "test_sample_fn = partial(\n",
    "    fsl_sample_transfer_build, **test_sample_fn_kwargs,\n",
    ")"
   ]
  },
  {
   "cell_type": "code",
   "execution_count": 272,
   "metadata": {
    "ExecuteTime": {
     "end_time": "2020-08-31T00:50:40.476591Z",
     "start_time": "2020-08-31T00:50:40.437564Z"
    }
   },
   "outputs": [],
   "source": [
    "test_inner_loop_ins = partial(\n",
    "    fsl_inner_loop,\n",
    "    is_training=False,\n",
    "    num_steps=cfg.num_inner_steps_test,\n",
    "    slow_apply=body.apply,\n",
    "    fast_apply=head.apply,\n",
    "    loss_fn=mean_xe_and_acc_dict,\n",
    "    opt_update_fn=inner_opt.update,\n",
    ")\n",
    "test_outer_loop_ins = partial(\n",
    "    outer_loop,\n",
    "    is_training=False,\n",
    "    inner_loop=test_inner_loop_ins,\n",
    "    slow_apply=body.apply,\n",
    "    fast_apply=head.apply,\n",
    "    loss_fn=mean_xe_and_acc_dict,\n",
    ")\n",
    "test_batched_outer_loop_ins = partial(\n",
    "    batched_outer_loop, outer_loop=test_outer_loop_ins\n",
    ")\n",
    "test_batched_outer_loop_ins = jit(test_batched_outer_loop_ins)"
   ]
  },
  {
   "cell_type": "code",
   "execution_count": 270,
   "metadata": {
    "ExecuteTime": {
     "end_time": "2020-08-31T00:50:21.461399Z",
     "start_time": "2020-08-31T00:50:21.023558Z"
    }
   },
   "outputs": [],
   "source": [
    "x_spt_test, y_spt_test, x_qry_test, y_qry_test = test_sample_fn(rng)"
   ]
  },
  {
   "cell_type": "code",
   "execution_count": 275,
   "metadata": {
    "ExecuteTime": {
     "end_time": "2020-08-31T00:52:43.373790Z",
     "start_time": "2020-08-31T00:52:43.318637Z"
    }
   },
   "outputs": [],
   "source": [
    "mean_loss, (_, _, test_info) = test_batched_outer_loop_ins(\n",
    "    slow_params, fast_params, slow_state, fast_state, inner_opt.init(fast_params), split(rng, x_spt_test.shape[0]), x_spt_test, y_spt_test, x_qry_test, y_qry_test,\n",
    ")"
   ]
  },
  {
   "cell_type": "code",
   "execution_count": 280,
   "metadata": {
    "ExecuteTime": {
     "end_time": "2020-08-31T00:53:10.437413Z",
     "start_time": "2020-08-31T00:53:10.387850Z"
    }
   },
   "outputs": [
    {
     "data": {
      "text/plain": [
       "DeviceArray(0.61973345, dtype=float32)"
      ]
     },
     "execution_count": 280,
     "metadata": {},
     "output_type": "execute_result"
    }
   ],
   "source": [
    "test_info[\"outer\"][\"final\"][\"aux\"][0][\"acc\"].mean()"
   ]
  },
  {
   "cell_type": "code",
   "execution_count": null,
   "metadata": {},
   "outputs": [],
   "source": []
  }
 ],
 "metadata": {
  "kernelspec": {
   "display_name": "385",
   "language": "python",
   "name": "385"
  },
  "language_info": {
   "codemirror_mode": {
    "name": "ipython",
    "version": 3
   },
   "file_extension": ".py",
   "mimetype": "text/x-python",
   "name": "python",
   "nbconvert_exporter": "python",
   "pygments_lexer": "ipython3",
   "version": "3.8.5"
  },
  "toc": {
   "base_numbering": 1,
   "nav_menu": {},
   "number_sections": true,
   "sideBar": true,
   "skip_h1_title": false,
   "title_cell": "Table of Contents",
   "title_sidebar": "Contents",
   "toc_cell": false,
   "toc_position": {},
   "toc_section_display": true,
   "toc_window_display": false
  }
 },
 "nbformat": 4,
 "nbformat_minor": 2
}
