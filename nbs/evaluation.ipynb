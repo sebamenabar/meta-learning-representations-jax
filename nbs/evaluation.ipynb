{
 "cells": [
  {
   "cell_type": "code",
   "execution_count": 1,
   "metadata": {
    "ExecuteTime": {
     "end_time": "2020-09-06T00:10:52.217081Z",
     "start_time": "2020-09-06T00:10:52.089977Z"
    }
   },
   "outputs": [],
   "source": [
    "%load_ext autoreload\n",
    "%autoreload 2"
   ]
  },
  {
   "cell_type": "code",
   "execution_count": 2,
   "metadata": {
    "ExecuteTime": {
     "end_time": "2020-09-06T00:10:53.030764Z",
     "start_time": "2020-09-06T00:10:53.009585Z"
    }
   },
   "outputs": [],
   "source": [
    "import os\n",
    "import sys\n",
    "\n",
    "sys.path.insert(0, \"../src\")"
   ]
  },
  {
   "cell_type": "code",
   "execution_count": 6,
   "metadata": {
    "ExecuteTime": {
     "end_time": "2020-09-06T00:15:00.247299Z",
     "start_time": "2020-09-06T00:14:59.905081Z"
    }
   },
   "outputs": [],
   "source": [
    "os.environ[\"XLA_PYTHON_CLIENT_ALLOCATOR\"] = \"platform\""
   ]
  },
  {
   "cell_type": "code",
   "execution_count": 7,
   "metadata": {
    "ExecuteTime": {
     "end_time": "2020-09-06T00:15:01.973511Z",
     "start_time": "2020-09-06T00:15:01.931831Z"
    }
   },
   "outputs": [],
   "source": [
    "import os\n",
    "import sys\n",
    "import os.path as osp\n",
    "\n",
    "import dill\n",
    "import time\n",
    "from tqdm.notebook import tqdm as tqdmn\n",
    "from argparse import ArgumentParser\n",
    "from easydict import EasyDict as edict\n",
    "\n",
    "import numpy as onp\n",
    "\n",
    "import jax\n",
    "from jax.random import split\n",
    "from jax import (\n",
    "    jit,\n",
    "    vmap,\n",
    "    random,\n",
    "    partial,\n",
    "    tree_map,\n",
    "    numpy as jnp,\n",
    "    value_and_grad,\n",
    ")\n",
    "\n",
    "import optax as ox\n",
    "import haiku as hk\n",
    "\n",
    "from lib import (\n",
    "    apply_and_loss_fn,\n",
    "    \n",
    "    flatten,\n",
    "    outer_loop,\n",
    "    setup_device,\n",
    "    fsl_inner_loop,\n",
    "    batched_outer_loop,\n",
    "    parse_and_build_cfg,\n",
    "    mean_xe_and_acc_dict,\n",
    "    # outer_loop_reset_per_task,\n",
    ")\n",
    "from data import prepare_data\n",
    "from experiment import Experiment, Logger\n",
    "from data.sampling import fsl_sample_transfer_build, BatchSampler\n",
    "from models.maml_conv import miniimagenet_cnn_argparse, prepare_model, make_params\n",
    "\n",
    "from test_sup import test_sup_cosine\n",
    "from test_utils import test_fsl_embeddings\n",
    "\n",
    "TRAIN_SIZE = 500"
   ]
  },
  {
   "cell_type": "code",
   "execution_count": 8,
   "metadata": {
    "ExecuteTime": {
     "end_time": "2020-09-06T00:15:05.014416Z",
     "start_time": "2020-09-06T00:15:04.975218Z"
    }
   },
   "outputs": [],
   "source": [
    "cfg = edict()"
   ]
  },
  {
   "cell_type": "code",
   "execution_count": 9,
   "metadata": {
    "ExecuteTime": {
     "end_time": "2020-09-06T00:15:07.163621Z",
     "start_time": "2020-09-06T00:15:07.123356Z"
    }
   },
   "outputs": [],
   "source": [
    "cfg.seed = 0\n",
    "cfg.gpus = 1\n",
    "cfg.data_dir = \"/home/samenabar/storage/data/FSL/mini-imagenet/\"\n",
    "cfg.dataset = \"miniimagenet\"\n",
    "\n",
    "cfg.model = edict()\n",
    "cfg.model.hidden_size = 32\n",
    "cfg.model.activation = \"relu\"\n",
    "cfg.model.no_track_bn_stats = False"
   ]
  },
  {
   "cell_type": "code",
   "execution_count": 10,
   "metadata": {
    "ExecuteTime": {
     "end_time": "2020-09-06T00:15:07.844641Z",
     "start_time": "2020-09-06T00:15:07.386628Z"
    }
   },
   "outputs": [
    {
     "name": "stdout",
     "output_type": "stream",
     "text": [
      "Running on gpu:0 with seed: 0\n"
     ]
    }
   ],
   "source": [
    "cpu, device = setup_device(cfg.gpus, default_platform=\"cpu\")\n",
    "rng = random.PRNGKey(cfg.seed)  # Default seed is 0\n",
    "print(f\"Running on {device} with seed: {cfg.seed}\")"
   ]
  },
  {
   "cell_type": "code",
   "execution_count": 267,
   "metadata": {
    "ExecuteTime": {
     "end_time": "2020-09-03T00:32:19.193902Z",
     "start_time": "2020-09-03T00:32:17.128482Z"
    }
   },
   "outputs": [
    {
     "name": "stdout",
     "output_type": "stream",
     "text": [
      "Supervised train data: (64, 500, 84, 84, 3) (64, 500)\n",
      "Supervised validation data: (6400, 84, 84, 3) (6400,)\n",
      "FSL and Transfer learning data: (16, 600, 84, 84, 3) (16, 600)\n",
      "Transfer (8000, 84, 84, 3) (8000,) (1600, 84, 84, 3) (1600,)\n"
     ]
    }
   ],
   "source": [
    "train_images, train_labels, val_images, val_labels, preprocess_fn = prepare_data(\n",
    "    cfg.dataset, cfg.data_dir, device,\n",
    ")\n",
    "fsl_train_images = train_images[:, :TRAIN_SIZE]\n",
    "fsl_train_labels = train_labels[:, :TRAIN_SIZE]\n",
    "# These are for supervised learning validation\n",
    "sup_val_images = flatten(train_images[:, TRAIN_SIZE:], 1)\n",
    "sup_val_labels = flatten(train_labels[:, TRAIN_SIZE:], 1)\n",
    "\n",
    "transfer_spt_images = flatten(val_images[:, :TRAIN_SIZE], (0, 1))\n",
    "transfer_spt_labels = flatten(val_labels[:, :TRAIN_SIZE], (0, 1))\n",
    "transfer_qry_images = flatten(val_images[:, TRAIN_SIZE:], (0, 1))\n",
    "transfer_qry_labels = flatten(val_labels[:, TRAIN_SIZE:], (0, 1))\n",
    "\n",
    "print(\"Supervised train data:\", fsl_train_images.shape, fsl_train_labels.shape)\n",
    "print(\n",
    "    \"Supervised validation data:\", sup_val_images.shape, sup_val_labels.shape,\n",
    ")\n",
    "print(\n",
    "    \"FSL and Transfer learning data:\", val_images.shape, val_labels.shape,\n",
    ")\n",
    "print(\"Transfer\", transfer_spt_images.shape, transfer_spt_labels.shape, transfer_qry_images.shape, transfer_qry_labels.shape)"
   ]
  },
  {
   "cell_type": "code",
   "execution_count": 106,
   "metadata": {
    "ExecuteTime": {
     "end_time": "2020-09-02T22:22:34.356924Z",
     "start_time": "2020-09-02T22:22:34.017435Z"
    }
   },
   "outputs": [],
   "source": [
    "from data.sampling import shuffle_along_axis"
   ]
  },
  {
   "cell_type": "code",
   "execution_count": 110,
   "metadata": {
    "ExecuteTime": {
     "end_time": "2020-09-02T22:24:37.382016Z",
     "start_time": "2020-09-02T22:24:37.329569Z"
    }
   },
   "outputs": [
    {
     "data": {
      "text/plain": [
       "DeviceArray([[10,  6,  1, 13, 11, 15,  9,  8,  0,  4,  5, 12,  3,  2, 14,\n",
       "               7],\n",
       "             [ 8,  6,  2, 12, 13, 14, 11,  9, 15,  4,  5, 10,  7,  0,  3,\n",
       "               1],\n",
       "             [14, 12,  5,  6, 15,  8,  3,  9,  2,  0,  1, 11, 10, 13,  7,\n",
       "               4],\n",
       "             [ 8,  6,  9,  0, 15,  2,  7, 12,  3, 14, 13, 11,  5, 10,  4,\n",
       "               1]], dtype=int32)"
      ]
     },
     "execution_count": 110,
     "metadata": {},
     "output_type": "execute_result"
    }
   ],
   "source": [
    "num_tasks = 4\n",
    "shuffle_along_axis(\n",
    "    rng, jnp.arange(val_images.shape[0])[None, :].repeat(num_tasks, 0), 1\n",
    ")[:, :val_images.shape[0]]"
   ]
  },
  {
   "cell_type": "code",
   "execution_count": 257,
   "metadata": {
    "ExecuteTime": {
     "end_time": "2020-09-03T00:13:42.236833Z",
     "start_time": "2020-09-03T00:13:42.199311Z"
    }
   },
   "outputs": [],
   "source": [
    "import time\n",
    "from data.sampling import BatchSampler\n",
    "from test_utils import forward_loader, lr_fit_eval\n",
    "from lib import cl_inner_loop, outer_loop, batched_outer_loop, apply_and_loss_fn"
   ]
  },
  {
   "cell_type": "code",
   "execution_count": 269,
   "metadata": {
    "ExecuteTime": {
     "end_time": "2020-09-03T00:33:06.559665Z",
     "start_time": "2020-09-03T00:33:06.492322Z"
    },
    "code_folding": [
     33,
     50,
     51
    ]
   },
   "outputs": [],
   "source": [
    "class MultiTester:\n",
    "    def __init__(\n",
    "        self,\n",
    "        train_train_images,  # (num_classes, samples_per_class, *image_shape)\n",
    "        train_train_labels,  # (num_classes, samples_per_class)\n",
    "        train_val_images,\n",
    "        train_val_labels,\n",
    "        val_images,  # (num_classes, samples_per_class, *image_shape)\n",
    "        val_labels,  # (num_classes, samples_per_class)\n",
    "        transfer_spt_size=500,\n",
    "    ):\n",
    "        self.train_train_images = train_train_images\n",
    "        self.train_train_labels = train_train_labels\n",
    "        self.train_val_images = train_val_images\n",
    "        self.train_val_labels = train_val_labels\n",
    "        self.val_images = val_images\n",
    "        self.val_labels = val_labels\n",
    "        self.transfer_spt_size = transfer_spt_size\n",
    "\n",
    "    @staticmethod\n",
    "    def lr_test(spt_sampler, qry_sampler, embeddings_fn, preprocess_fn, device):\n",
    "        spt_embeddings, spt_targets = forward_loader(embeddings_fn, spt_sampler, device, is_norm=True, preprocess_fn=preprocess_fn)\n",
    "        qry_embeddings, qry_targets = forward_loader(embeddings_fn, qry_sampler, device, is_norm=True, preprocess_fn=preprocess_fn)\n",
    "        now = time.time()\n",
    "        qry_preds = lr_fit_eval(spt_embeddings, spt_targets, qry_embeddings, n_jobs=4)\n",
    "        return (qry_preds == qry_targets).astype(onp.float).mean(), time.time() - now\n",
    "        \n",
    "    @staticmethod\n",
    "    def batch_and_lr_test(rng, x_spt, y_spt, x_qry, y_qry, slow_params, slow_state, slow_apply, preprocess_fn, device, batch_size=512):\n",
    "        rng, rng_spt, rng_qry = split(rng, 3)\n",
    "        spt_sampler = BatchSampler(rng_spt, x_spt, y_spt, batch_size, shuffle=True, keep_last=True)\n",
    "        qry_sampler = BatchSampler(rng_qry, x_qry, y_qry, batch_size, shuffle=True, keep_last=True)\n",
    "        \n",
    "        def extract_embeddings(inputs):\n",
    "            return slow_apply(slow_params, slow_state, rng, inputs, False)[0][0]\n",
    "        \n",
    "        return MultiTester.lr_test(spt_sampler, qry_sampler, extract_embeddings, preprocess_fn, device)\n",
    "        \n",
    "    def run_sup_lr_test(self, rng, slow_params, slow_state, slow_apply, preprocess_fn, device=None, batch_size=512):\n",
    "        return self.batch_and_lr_test(rng, self.train_train_images, train_train_labels, train_val_images, train_val_labels, slow_params, slow_state, slow_apply, preprocess_fn, device, batch_size)\n",
    "        \n",
    "        \n",
    "    def run_cl_test(\n",
    "        self,\n",
    "        rng,\n",
    "        slow_params,\n",
    "        fast_params,\n",
    "        slow_state,\n",
    "        fast_state,\n",
    "        slow_apply,\n",
    "        fast_apply,\n",
    "        loss_fn,\n",
    "        opt,\n",
    "        preprocess_fn,\n",
    "        device=None,\n",
    "        batch_size=1,\n",
    "        way=None,\n",
    "        spt_shot=10,\n",
    "        qry_shot=-1,\n",
    "    ):\n",
    "        def forward_fn(fast_params, fast_state, inputs, targets):\n",
    "            return apply_and_loss_fn(slow_params, fast_params, slow_state, fast_state, rng_outer, inputs, targets, False, slow_apply, fast_apply, loss_fn)\n",
    "        \n",
    "        infos = []\n",
    "        results = []\n",
    "        for _ in range(batch_size):\n",
    "            rng, rng_spt_qry, rng_order, rng_inner, rng_outer = split(rng, 5)\n",
    "            if way is None:\n",
    "                way = self.val_images.shape[0]  # Use all classes\n",
    "            assert way <= self.val_images.shape[0]\n",
    "\n",
    "            classes_order = shuffle_along_axis(\n",
    "                rng_order,\n",
    "                jnp.arange(self.val_images.shape[0])[None, :].repeat(1, 0),\n",
    "                1,\n",
    "            )[:, :way]\n",
    "            classes_order = classes_order.reshape(1 * way, 1)\n",
    "            # classes_order = classes_order.repeat(spt_shot, 1)\n",
    "\n",
    "            idxs = shuffle_along_axis(\n",
    "                rng_spt_qry, jnp.arange(self.val_images.shape[1])[None].repeat(1 * way, 0), 1\n",
    "            )\n",
    "            spt_idxs = idxs[:, :spt_shot]\n",
    "            if qry_shot == -1:\n",
    "                qry_shot = self.val_images.shape[1] - spt_shot\n",
    "                qry_idxs = idxs[:, spt_shot:]\n",
    "            elif spt_shot + qry_shot <= self.val_images.shape[1]:\n",
    "                qry_idxs = idxs[:, spt_shot:spt_shot + qry_shot]\n",
    "\n",
    "            spt_order = classes_order.repeat(spt_shot, 1)\n",
    "            qry_order = classes_order.repeat(qry_shot, 1)\n",
    "            spt_images, spt_labels = self.val_images[spt_order, spt_idxs], self.val_labels[spt_order, spt_idxs]\n",
    "            qry_images, qry_labels = self.val_images[qry_order, qry_idxs], self.val_labels[qry_order, qry_idxs]\n",
    "            image_shape = self.val_images.shape[-3:]\n",
    "            spt_images = spt_images.reshape(way * spt_shot, *image_shape)\n",
    "            spt_labels = spt_labels.reshape(way * spt_shot)\n",
    "            qry_images = qry_images.reshape(way * qry_shot, *image_shape)\n",
    "            qry_labels = qry_labels.reshape(way * qry_shot)\n",
    "\n",
    "            spt_images = preprocess_fn(jax.device_put(spt_images, device))\n",
    "            spt_labels = jax.device_put(spt_labels, device)\n",
    "            qry_images = preprocess_fn(jax.device_put(qry_images, device))\n",
    "            qry_labels = jax.device_put(qry_labels, device)\n",
    "\n",
    "            new_fast_params, new_slow_state, new_fast_states, new_opt_stats, info = cl_inner_loop(slow_params, fast_params, slow_state, fast_state, opt.init(fast_params), rng_inner, spt_images, spt_labels, is_training=False, slow_apply=slow_apply, fast_apply=fast_apply, loss_fn=loss_fn, opt_update_fn=opt.update)\n",
    "\n",
    "            infos.append(info)\n",
    "            results.append(forward_fn(new_fast_params, new_fast_states, qry_images, qry_labels))\n",
    "        \n",
    "        return jax.tree_multimap(lambda x, *xs: jnp.stack(xs), results[0], *results), jax.tree_multimap(lambda x, *xs: jnp.stack(xs), infos[0], *infos)"
   ]
  },
  {
   "cell_type": "code",
   "execution_count": 262,
   "metadata": {
    "ExecuteTime": {
     "end_time": "2020-09-03T00:30:39.947140Z",
     "start_time": "2020-09-03T00:30:39.600370Z"
    }
   },
   "outputs": [
    {
     "name": "stdout",
     "output_type": "stream",
     "text": [
      "16\n"
     ]
    }
   ],
   "source": [
    "output_size = 16\n",
    "print(output_size)\n",
    "body, head = prepare_model(\n",
    "    cfg.dataset,\n",
    "    output_size,\n",
    "    cfg.model.hidden_size,\n",
    "    cfg.model.activation,\n",
    "    # track_stats=not cfg.model.no_track_bn_stats,\n",
    ")"
   ]
  },
  {
   "cell_type": "code",
   "execution_count": 270,
   "metadata": {
    "ExecuteTime": {
     "end_time": "2020-09-03T00:33:53.485292Z",
     "start_time": "2020-09-03T00:33:09.784999Z"
    }
   },
   "outputs": [
    {
     "data": {
      "text/plain": [
       "(0.604375, 31.886035442352295)"
      ]
     },
     "execution_count": 270,
     "metadata": {},
     "output_type": "execute_result"
    }
   ],
   "source": [
    "multi_tester = MultiTester(flatten(fsl_train_images, 1), flatten(fsl_train_labels, 1), sup_val_images, sup_val_labels, val_images, val_labels)\n",
    "multi_tester.batch_and_lr_test(rng,  transfer_spt_images, transfer_spt_labels, transfer_qry_images, transfer_qry_labels, slow_params, slow_state, body.apply, preprocess_fn, device)"
   ]
  },
  {
   "cell_type": "code",
   "execution_count": null,
   "metadata": {},
   "outputs": [],
   "source": [
    "outs = multi_tester.run_cl_test(\n",
    "    random.PRNGKey(0),\n",
    "    slow_params,\n",
    "    jax.tree_map(lambda x: jnp.zeros((800, output_size)), fast_params),\n",
    "    slow_state,\n",
    "    fast_state,\n",
    "    slow_apply=body.apply,\n",
    "    fast_apply=head.apply,\n",
    "    loss_fn=mean_xe_and_acc_dict,\n",
    "    opt=ox.sgd(1e-6),\n",
    "    preprocess_fn=preprocess_fn,\n",
    "    device=device,\n",
    "    batch_size=2,\n",
    "    way=None,\n",
    "    spt_shot=5,\n",
    "    qry_shot=100,\n",
    ")"
   ]
  },
  {
   "cell_type": "code",
   "execution_count": 167,
   "metadata": {
    "ExecuteTime": {
     "end_time": "2020-09-02T23:09:53.633940Z",
     "start_time": "2020-09-02T23:09:53.589153Z"
    }
   },
   "outputs": [],
   "source": [
    "with open(\"/home/samenabar/storage/code/continual_learning/meta-learning-representations-jax/experiments/Sep02-2020/MAML-std/bsz-8/checkpoints/best.ckpt\", \"rb\") as f:\n",
    "    ckpt = dill.load(f)\n",
    "    slow_params = jax.tree_map(lambda x: jax.device_put(x, device), ckpt[\"slow_params\"])\n",
    "    fast_params = jax.tree_map(lambda x: jax.device_put(x, device), ckpt[\"fast_params\"])\n",
    "    slow_state = jax.tree_map(lambda x: jax.device_put(x, device), ckpt[\"slow_state\"])\n",
    "    fast_state = jax.tree_map(lambda x: jax.device_put(x, device), ckpt[\"fast_state\"])"
   ]
  },
  {
   "cell_type": "code",
   "execution_count": 166,
   "metadata": {
    "ExecuteTime": {
     "end_time": "2020-09-02T23:09:49.292105Z",
     "start_time": "2020-09-02T23:09:48.839910Z"
    }
   },
   "outputs": [
    {
     "name": "stdout",
     "output_type": "stream",
     "text": [
      "64\n"
     ]
    }
   ],
   "source": [
    "output_size = fsl_train_images.shape[0]\n",
    "print(output_size)\n",
    "body, head = prepare_model(\n",
    "    cfg.dataset,\n",
    "    output_size,\n",
    "    cfg.model.hidden_size,\n",
    "    cfg.model.activation,\n",
    "    # track_stats=not cfg.model.no_track_bn_stats,\n",
    ")\n",
    "\n",
    "def pred_fn(slow_params, fast_params, slow_state, fast_state, rng, inputs, is_training, slow_apply, fast_apply):\n",
    "    rng_slow, rng_fast = split(rng)\n",
    "    slow_outputs, _ = slow_apply(slow_params, slow_state, rng_slow, inputs, is_training)\n",
    "    fast_outputs, _ = fast_apply(fast_params, fast_state, rng_fast, *slow_outputs, is_training)\n",
    "    return fast_outputs\n",
    "\n",
    "def embeddings_fn(slow_params, slow_state, rng, inputs, is_training, slow_apply):\n",
    "    return slow_apply(slow_params, slow_state, rng, inputs, is_training)[0][0]\n",
    "\n",
    "no_stats_body, no_stats_head = prepare_model(\n",
    "    cfg.dataset,\n",
    "    output_size,\n",
    "    cfg.model.hidden_size,\n",
    "    cfg.model.activation,\n",
    "    track_stats=False,\n",
    ")\n",
    "rng, rng_params = split(rng)\n",
    "(untrained_slow_params, untrained_fast_params, untrained_slow_state, untrained_fast_state,) = make_params(\n",
    "    rng, cfg.dataset, no_stats_body.init, no_stats_body.apply, no_stats_head.init, device,\n",
    ")\n",
    "\n",
    "test_pred_fn = jit(partial(pred_fn, is_training=False, slow_apply=body.apply, fast_apply=head.apply))\n",
    "test_untrained_pred_fn = jit(partial(pred_fn, is_training=False, slow_apply=no_stats_body.apply, fast_apply=no_stats_head.apply))\n",
    "test_no_stats_pred_fn = jit(partial(pred_fn, is_training=False, slow_apply=no_stats_body.apply, fast_apply=no_stats_head.apply))\n",
    "\n",
    "test_embeddings_fn = jit(partial(embeddings_fn, is_training=False, slow_apply=body.apply))\n",
    "test_untrained_embeddings_fn = jit(partial(embeddings_fn, is_training=False, slow_apply=no_stats_body.apply))\n",
    "test_no_stats_embeddings_fn = jit(partial(embeddings_fn, is_training=False, slow_apply=no_stats_body.apply))"
   ]
  },
  {
   "cell_type": "code",
   "execution_count": 10,
   "metadata": {
    "ExecuteTime": {
     "end_time": "2020-09-02T18:07:28.473422Z",
     "start_time": "2020-09-02T18:07:28.439743Z"
    }
   },
   "outputs": [],
   "source": [
    "from lib import xe_and_acc, cl_inner_loop\n",
    "from test_utils import SupervisedStandardTester, FSLLRTester, SupervisedCosineTester, lr_fit_eval"
   ]
  },
  {
   "cell_type": "code",
   "execution_count": 90,
   "metadata": {
    "ExecuteTime": {
     "end_time": "2020-09-02T18:43:06.487089Z",
     "start_time": "2020-09-02T18:43:06.451669Z"
    }
   },
   "outputs": [],
   "source": []
  },
  {
   "cell_type": "code",
   "execution_count": 92,
   "metadata": {
    "ExecuteTime": {
     "end_time": "2020-09-02T18:43:32.588346Z",
     "start_time": "2020-09-02T18:43:32.277892Z"
    }
   },
   "outputs": [],
   "source": []
  },
  {
   "cell_type": "code",
   "execution_count": 86,
   "metadata": {
    "ExecuteTime": {
     "end_time": "2020-09-02T18:42:20.749072Z",
     "start_time": "2020-09-02T18:42:20.412012Z"
    }
   },
   "outputs": [],
   "source": [
    "with open(\"/home/samenabar/storage/code/continual_learning/meta-learning-representations-jax/experiments/Sep02-2020/MAML-std/bsz-8/checkpoints/best.ckpt\", \"rb\") as f:\n",
    "    ckpt = dill.load(f)\n",
    "    slow_params = jax.tree_map(lambda x: jax.device_put(x, device), ckpt[\"slow_params\"])\n",
    "    fast_params = jax.tree_map(lambda x: jax.device_put(x, device), ckpt[\"fast_params\"])\n",
    "    slow_state = jax.tree_map(lambda x: jax.device_put(x, device), ckpt[\"slow_state\"])\n",
    "    fast_state = jax.tree_map(lambda x: jax.device_put(x, device), ckpt[\"fast_state\"])"
   ]
  },
  {
   "cell_type": "code",
   "execution_count": 8,
   "metadata": {
    "ExecuteTime": {
     "end_time": "2020-09-02T18:07:26.308801Z",
     "start_time": "2020-09-02T18:07:26.022973Z"
    },
    "code_folding": []
   },
   "outputs": [],
   "source": [
    "class ContinualLearnerTester:\n",
    "    def __init__(\n",
    "        self,\n",
    "        spt_images,\n",
    "        spt_labels,\n",
    "        qry_images,\n",
    "        qry_labels,\n",
    "        device,\n",
    "        preprocess_fn,\n",
    "        n_jobs=4,\n",
    "    ):\n",
    "        self.spt_images = spt_images\n",
    "        self.spt_labels = spt_labels\n",
    "        self.qry_images = qry_images\n",
    "        self.qry_labels = qry_labels\n",
    "\n",
    "        self.device = device\n",
    "        self.preprocess_fn = preprocess_fn\n",
    "        self.n_jobs = n_jobs\n",
    "\n",
    "    def __call__(\n",
    "        self,\n",
    "        length,\n",
    "        slow_params,\n",
    "        fast_params,\n",
    "        slow_state,\n",
    "        fast_state,\n",
    "        rng,\n",
    "        slow_apply,\n",
    "        fast_apply,\n",
    "        loss_fn,\n",
    "        opt,\n",
    "    ):\n",
    "        def apply_fn(slow_params, fast_params, slow_state, fast_state, inputs):\n",
    "            slow_outputs, _ = slow_apply(slow_params, slow_state, rng, inputs, False)\n",
    "            return fast_apply(fast_params, fast_state, rng, *slow_outputs, False)[0]\n",
    "\n",
    "        spt_images = flatten(\n",
    "            preprocess_fn(jax.device_put(self.spt_images[:length], device)), 1\n",
    "        )\n",
    "        spt_labels = flatten((jax.device_put(self.spt_labels[:length], device)), 1)\n",
    "        qry_images = flatten(\n",
    "            preprocess_fn(jax.device_put(self.qry_images[:length], device)), 1\n",
    "        )\n",
    "        qry_labels = flatten((jax.device_put(self.qry_labels[:length], device)), 1)\n",
    "\n",
    "        adapted_fast_params, _, _, _, info = cl_inner_loop(\n",
    "            slow_params,\n",
    "            fast_params,\n",
    "            slow_state,\n",
    "            fast_state,\n",
    "            opt.init(fast_params),\n",
    "            rng,\n",
    "            spt_images,\n",
    "            spt_labels,\n",
    "            False,\n",
    "            slow_apply,\n",
    "            fast_apply,\n",
    "            loss_fn,\n",
    "            opt.update,\n",
    "        )\n",
    "\n",
    "        spt_slow_outputs, _ = slow_apply(\n",
    "            slow_params, slow_state, rng, spt_images, False\n",
    "        )\n",
    "        qry_slow_outputs, _ = slow_apply(\n",
    "            slow_params, slow_state, rng, qry_images, False\n",
    "        )\n",
    "\n",
    "        spt_outputs = fast_apply(\n",
    "            adapted_fast_params, fast_state, rng, *spt_slow_outputs, False\n",
    "        )[0]\n",
    "        qry_outputs = fast_apply(\n",
    "            adapted_fast_params, fast_state, rng, *qry_slow_outputs, False\n",
    "        )[0]\n",
    "\n",
    "        lr_spt_preds, lr_qry_preds = lr_fit_eval(\n",
    "            onp.array(flatten(spt_slow_outputs[0], (1, 3))),\n",
    "            onp.array(spt_labels),\n",
    "            onp.array(flatten(qry_slow_outputs[0], (1, 3))),\n",
    "            n_jobs=self.n_jobs,\n",
    "            predict_train=True,\n",
    "        )\n",
    "        lr_spt_acc = (lr_spt_preds == spt_labels).astype(jnp.float32).mean()\n",
    "        lr_qry_acc = (lr_qry_preds == qry_labels).astype(jnp.float32).mean()\n",
    "\n",
    "        spt_acc = (spt_outputs.argmax(-1) == spt_labels).astype(jnp.float32).mean()\n",
    "        qry_acc = (qry_outputs.argmax(-1) == qry_labels).astype(jnp.float32).mean()\n",
    "\n",
    "        return spt_acc, qry_acc, lr_spt_acc, lr_qry_acc"
   ]
  },
  {
   "cell_type": "markdown",
   "metadata": {},
   "source": [
    "# Supervised Learning"
   ]
  },
  {
   "cell_type": "code",
   "execution_count": 21,
   "metadata": {
    "ExecuteTime": {
     "end_time": "2020-09-02T18:07:53.408622Z",
     "start_time": "2020-09-02T18:07:53.369238Z"
    }
   },
   "outputs": [],
   "source": [
    "supervised_std_tester = SupervisedStandardTester(\n",
    "    rng,\n",
    "    sup_val_images,\n",
    "    sup_val_labels,\n",
    "    512,\n",
    "    # pred_fn_test,\n",
    "    preprocess_fn,\n",
    "    device,\n",
    ")"
   ]
  },
  {
   "cell_type": "code",
   "execution_count": 91,
   "metadata": {
    "ExecuteTime": {
     "end_time": "2020-09-02T18:43:09.721679Z",
     "start_time": "2020-09-02T18:43:09.564433Z"
    }
   },
   "outputs": [
    {
     "ename": "AssertionError",
     "evalue": "'mini_imagenet_cnn_head/linear/w' with shape (800, 5) does not match shape=[800, 64] dtype=dtype('float32')",
     "output_type": "error",
     "traceback": [
      "\u001b[0;31m---------------------------------------------------------------------------\u001b[0m",
      "\u001b[0;31mAssertionError\u001b[0m                            Traceback (most recent call last)",
      "\u001b[0;32m<ipython-input-91-efd8f2529a07>\u001b[0m in \u001b[0;36m<module>\u001b[0;34m\u001b[0m\n\u001b[0;32m----> 1\u001b[0;31m \u001b[0mloss\u001b[0m\u001b[0;34m,\u001b[0m \u001b[0macc\u001b[0m \u001b[0;34m=\u001b[0m \u001b[0msupervised_std_tester\u001b[0m\u001b[0;34m(\u001b[0m\u001b[0mpartial\u001b[0m\u001b[0;34m(\u001b[0m\u001b[0mtest_no_stats_pred_fn\u001b[0m\u001b[0;34m,\u001b[0m \u001b[0mslow_params\u001b[0m\u001b[0;34m,\u001b[0m \u001b[0mfast_params\u001b[0m\u001b[0;34m,\u001b[0m \u001b[0mslow_state\u001b[0m\u001b[0;34m,\u001b[0m \u001b[0mfast_state\u001b[0m\u001b[0;34m,\u001b[0m \u001b[0mrng\u001b[0m\u001b[0;34m)\u001b[0m\u001b[0;34m)\u001b[0m\u001b[0;34m\u001b[0m\u001b[0;34m\u001b[0m\u001b[0m\n\u001b[0m\u001b[1;32m      2\u001b[0m \u001b[0mprint\u001b[0m\u001b[0;34m(\u001b[0m\u001b[0;34m\"Trained loss acc:\"\u001b[0m\u001b[0;34m)\u001b[0m\u001b[0;34m\u001b[0m\u001b[0;34m\u001b[0m\u001b[0m\n\u001b[1;32m      3\u001b[0m \u001b[0mprint\u001b[0m\u001b[0;34m(\u001b[0m\u001b[0mloss\u001b[0m\u001b[0;34m,\u001b[0m \u001b[0macc\u001b[0m\u001b[0;34m)\u001b[0m\u001b[0;34m\u001b[0m\u001b[0;34m\u001b[0m\u001b[0m\n",
      "\u001b[0;32m/mnt/ialabnas/homes/samenabar/code/continual_learning/meta-learning-representations-jax/src/test_utils.py\u001b[0m in \u001b[0;36m__call__\u001b[0;34m(self, forward_fn)\u001b[0m\n\u001b[1;32m    279\u001b[0m         \u001b[0;31m#     forward_fn, slow_params, fast_params, slow_state, fast_state, rng,\u001b[0m\u001b[0;34m\u001b[0m\u001b[0;34m\u001b[0m\u001b[0;34m\u001b[0m\u001b[0m\n\u001b[1;32m    280\u001b[0m         \u001b[0;31m# )\u001b[0m\u001b[0;34m\u001b[0m\u001b[0;34m\u001b[0m\u001b[0;34m\u001b[0m\u001b[0m\n\u001b[0;32m--> 281\u001b[0;31m         preds, targets = forward_loader(\n\u001b[0m\u001b[1;32m    282\u001b[0m             \u001b[0mforward_fn\u001b[0m\u001b[0;34m,\u001b[0m \u001b[0mself\u001b[0m\u001b[0;34m.\u001b[0m\u001b[0mloader\u001b[0m\u001b[0;34m,\u001b[0m \u001b[0mself\u001b[0m\u001b[0;34m.\u001b[0m\u001b[0mdevice\u001b[0m\u001b[0;34m,\u001b[0m \u001b[0mpreprocess_fn\u001b[0m\u001b[0;34m=\u001b[0m\u001b[0mself\u001b[0m\u001b[0;34m.\u001b[0m\u001b[0mpreprocess_fn\u001b[0m\u001b[0;34m,\u001b[0m\u001b[0;34m\u001b[0m\u001b[0;34m\u001b[0m\u001b[0m\n\u001b[1;32m    283\u001b[0m         )\n",
      "\u001b[0;32m/mnt/ialabnas/homes/samenabar/code/continual_learning/meta-learning-representations-jax/src/test_utils.py\u001b[0m in \u001b[0;36mforward_loader\u001b[0;34m(pred_fn, loader, device, is_norm, preprocess_fn)\u001b[0m\n\u001b[1;32m    144\u001b[0m         \u001b[0;32mif\u001b[0m \u001b[0mpreprocess_fn\u001b[0m\u001b[0;34m:\u001b[0m\u001b[0;34m\u001b[0m\u001b[0;34m\u001b[0m\u001b[0m\n\u001b[1;32m    145\u001b[0m             \u001b[0mX\u001b[0m \u001b[0;34m=\u001b[0m \u001b[0mpreprocess_fn\u001b[0m\u001b[0;34m(\u001b[0m\u001b[0mX\u001b[0m\u001b[0;34m)\u001b[0m\u001b[0;34m\u001b[0m\u001b[0;34m\u001b[0m\u001b[0m\n\u001b[0;32m--> 146\u001b[0;31m         \u001b[0mpreds\u001b[0m \u001b[0;34m=\u001b[0m \u001b[0mpred_fn\u001b[0m\u001b[0;34m(\u001b[0m\u001b[0mX\u001b[0m\u001b[0;34m)\u001b[0m\u001b[0;34m\u001b[0m\u001b[0;34m\u001b[0m\u001b[0m\n\u001b[0m\u001b[1;32m    147\u001b[0m         \u001b[0;32mif\u001b[0m \u001b[0mis_norm\u001b[0m\u001b[0;34m:\u001b[0m\u001b[0;34m\u001b[0m\u001b[0;34m\u001b[0m\u001b[0m\n\u001b[1;32m    148\u001b[0m             \u001b[0mpreds\u001b[0m \u001b[0;34m=\u001b[0m \u001b[0mnormalize\u001b[0m\u001b[0;34m(\u001b[0m\u001b[0mpreds\u001b[0m\u001b[0;34m.\u001b[0m\u001b[0mreshape\u001b[0m\u001b[0;34m(\u001b[0m\u001b[0mpreds\u001b[0m\u001b[0;34m.\u001b[0m\u001b[0mshape\u001b[0m\u001b[0;34m[\u001b[0m\u001b[0;36m0\u001b[0m\u001b[0;34m]\u001b[0m\u001b[0;34m,\u001b[0m \u001b[0;34m-\u001b[0m\u001b[0;36m1\u001b[0m\u001b[0;34m)\u001b[0m\u001b[0;34m)\u001b[0m\u001b[0;34m\u001b[0m\u001b[0;34m\u001b[0m\u001b[0m\n",
      "\u001b[0;32m~/storage/.pyenv/versions/3.8.5/envs/385/lib/python3.8/site-packages/jax/api.py\u001b[0m in \u001b[0;36mf_jitted\u001b[0;34m(*args, **kwargs)\u001b[0m\n\u001b[1;32m    168\u001b[0m     \u001b[0;32mfor\u001b[0m \u001b[0marg\u001b[0m \u001b[0;32min\u001b[0m \u001b[0margs_flat\u001b[0m\u001b[0;34m:\u001b[0m \u001b[0m_check_arg\u001b[0m\u001b[0;34m(\u001b[0m\u001b[0marg\u001b[0m\u001b[0;34m)\u001b[0m\u001b[0;34m\u001b[0m\u001b[0;34m\u001b[0m\u001b[0m\n\u001b[1;32m    169\u001b[0m     \u001b[0mflat_fun\u001b[0m\u001b[0;34m,\u001b[0m \u001b[0mout_tree\u001b[0m \u001b[0;34m=\u001b[0m \u001b[0mflatten_fun\u001b[0m\u001b[0;34m(\u001b[0m\u001b[0mf\u001b[0m\u001b[0;34m,\u001b[0m \u001b[0min_tree\u001b[0m\u001b[0;34m)\u001b[0m\u001b[0;34m\u001b[0m\u001b[0;34m\u001b[0m\u001b[0m\n\u001b[0;32m--> 170\u001b[0;31m     out = xla.xla_call(flat_fun, *args_flat, device=device, backend=backend,\n\u001b[0m\u001b[1;32m    171\u001b[0m                        name=flat_fun.__name__, donated_invars=donated_invars)\n\u001b[1;32m    172\u001b[0m     \u001b[0;32mreturn\u001b[0m \u001b[0mtree_unflatten\u001b[0m\u001b[0;34m(\u001b[0m\u001b[0mout_tree\u001b[0m\u001b[0;34m(\u001b[0m\u001b[0;34m)\u001b[0m\u001b[0;34m,\u001b[0m \u001b[0mout\u001b[0m\u001b[0;34m)\u001b[0m\u001b[0;34m\u001b[0m\u001b[0;34m\u001b[0m\u001b[0m\n",
      "\u001b[0;32m~/storage/.pyenv/versions/3.8.5/envs/385/lib/python3.8/site-packages/jax/core.py\u001b[0m in \u001b[0;36mbind\u001b[0;34m(self, fun, *args, **params)\u001b[0m\n\u001b[1;32m   1132\u001b[0m \u001b[0;34m\u001b[0m\u001b[0m\n\u001b[1;32m   1133\u001b[0m   \u001b[0;32mdef\u001b[0m \u001b[0mbind\u001b[0m\u001b[0;34m(\u001b[0m\u001b[0mself\u001b[0m\u001b[0;34m,\u001b[0m \u001b[0mfun\u001b[0m\u001b[0;34m,\u001b[0m \u001b[0;34m*\u001b[0m\u001b[0margs\u001b[0m\u001b[0;34m,\u001b[0m \u001b[0;34m**\u001b[0m\u001b[0mparams\u001b[0m\u001b[0;34m)\u001b[0m\u001b[0;34m:\u001b[0m\u001b[0;34m\u001b[0m\u001b[0;34m\u001b[0m\u001b[0m\n\u001b[0;32m-> 1134\u001b[0;31m     \u001b[0;32mreturn\u001b[0m \u001b[0mcall_bind\u001b[0m\u001b[0;34m(\u001b[0m\u001b[0mself\u001b[0m\u001b[0;34m,\u001b[0m \u001b[0mfun\u001b[0m\u001b[0;34m,\u001b[0m \u001b[0;34m*\u001b[0m\u001b[0margs\u001b[0m\u001b[0;34m,\u001b[0m \u001b[0;34m**\u001b[0m\u001b[0mparams\u001b[0m\u001b[0;34m)\u001b[0m\u001b[0;34m\u001b[0m\u001b[0;34m\u001b[0m\u001b[0m\n\u001b[0m\u001b[1;32m   1135\u001b[0m \u001b[0;34m\u001b[0m\u001b[0m\n\u001b[1;32m   1136\u001b[0m   \u001b[0;32mdef\u001b[0m \u001b[0mprocess\u001b[0m\u001b[0;34m(\u001b[0m\u001b[0mself\u001b[0m\u001b[0;34m,\u001b[0m \u001b[0mtrace\u001b[0m\u001b[0;34m,\u001b[0m \u001b[0mfun\u001b[0m\u001b[0;34m,\u001b[0m \u001b[0mtracers\u001b[0m\u001b[0;34m,\u001b[0m \u001b[0mparams\u001b[0m\u001b[0;34m)\u001b[0m\u001b[0;34m:\u001b[0m\u001b[0;34m\u001b[0m\u001b[0;34m\u001b[0m\u001b[0m\n",
      "\u001b[0;32m~/storage/.pyenv/versions/3.8.5/envs/385/lib/python3.8/site-packages/jax/core.py\u001b[0m in \u001b[0;36mcall_bind\u001b[0;34m(primitive, fun, *args, **params)\u001b[0m\n\u001b[1;32m   1121\u001b[0m   \u001b[0;32mif\u001b[0m \u001b[0mtop_trace\u001b[0m \u001b[0;32mis\u001b[0m \u001b[0;32mNone\u001b[0m\u001b[0;34m:\u001b[0m\u001b[0;34m\u001b[0m\u001b[0;34m\u001b[0m\u001b[0m\n\u001b[1;32m   1122\u001b[0m     \u001b[0;32mwith\u001b[0m \u001b[0mnew_sublevel\u001b[0m\u001b[0;34m(\u001b[0m\u001b[0;34m)\u001b[0m\u001b[0;34m:\u001b[0m\u001b[0;34m\u001b[0m\u001b[0;34m\u001b[0m\u001b[0m\n\u001b[0;32m-> 1123\u001b[0;31m       \u001b[0mouts\u001b[0m \u001b[0;34m=\u001b[0m \u001b[0mprimitive\u001b[0m\u001b[0;34m.\u001b[0m\u001b[0mimpl\u001b[0m\u001b[0;34m(\u001b[0m\u001b[0mfun\u001b[0m\u001b[0;34m,\u001b[0m \u001b[0;34m*\u001b[0m\u001b[0margs\u001b[0m\u001b[0;34m,\u001b[0m \u001b[0;34m**\u001b[0m\u001b[0mparams\u001b[0m\u001b[0;34m)\u001b[0m\u001b[0;34m\u001b[0m\u001b[0;34m\u001b[0m\u001b[0m\n\u001b[0m\u001b[1;32m   1124\u001b[0m   \u001b[0;32melse\u001b[0m\u001b[0;34m:\u001b[0m\u001b[0;34m\u001b[0m\u001b[0;34m\u001b[0m\u001b[0m\n\u001b[1;32m   1125\u001b[0m     \u001b[0mtracers\u001b[0m \u001b[0;34m=\u001b[0m \u001b[0mmap\u001b[0m\u001b[0;34m(\u001b[0m\u001b[0mtop_trace\u001b[0m\u001b[0;34m.\u001b[0m\u001b[0mfull_raise\u001b[0m\u001b[0;34m,\u001b[0m \u001b[0margs\u001b[0m\u001b[0;34m)\u001b[0m\u001b[0;34m\u001b[0m\u001b[0;34m\u001b[0m\u001b[0m\n",
      "\u001b[0;32m~/storage/.pyenv/versions/3.8.5/envs/385/lib/python3.8/site-packages/jax/interpreters/xla.py\u001b[0m in \u001b[0;36m_xla_call_impl\u001b[0;34m(fun, device, backend, name, donated_invars, *args)\u001b[0m\n\u001b[1;32m    524\u001b[0m \u001b[0;34m\u001b[0m\u001b[0m\n\u001b[1;32m    525\u001b[0m \u001b[0;32mdef\u001b[0m \u001b[0m_xla_call_impl\u001b[0m\u001b[0;34m(\u001b[0m\u001b[0mfun\u001b[0m\u001b[0;34m:\u001b[0m \u001b[0mlu\u001b[0m\u001b[0;34m.\u001b[0m\u001b[0mWrappedFun\u001b[0m\u001b[0;34m,\u001b[0m \u001b[0;34m*\u001b[0m\u001b[0margs\u001b[0m\u001b[0;34m,\u001b[0m \u001b[0mdevice\u001b[0m\u001b[0;34m,\u001b[0m \u001b[0mbackend\u001b[0m\u001b[0;34m,\u001b[0m \u001b[0mname\u001b[0m\u001b[0;34m,\u001b[0m \u001b[0mdonated_invars\u001b[0m\u001b[0;34m)\u001b[0m\u001b[0;34m:\u001b[0m\u001b[0;34m\u001b[0m\u001b[0;34m\u001b[0m\u001b[0m\n\u001b[0;32m--> 526\u001b[0;31m   compiled_fun = _xla_callable(fun, device, backend, name, donated_invars,\n\u001b[0m\u001b[1;32m    527\u001b[0m                                *unsafe_map(arg_spec, args))\n\u001b[1;32m    528\u001b[0m   \u001b[0;32mtry\u001b[0m\u001b[0;34m:\u001b[0m\u001b[0;34m\u001b[0m\u001b[0;34m\u001b[0m\u001b[0m\n",
      "\u001b[0;32m~/storage/.pyenv/versions/3.8.5/envs/385/lib/python3.8/site-packages/jax/linear_util.py\u001b[0m in \u001b[0;36mmemoized_fun\u001b[0;34m(fun, *args)\u001b[0m\n\u001b[1;32m    222\u001b[0m       \u001b[0mfun\u001b[0m\u001b[0;34m.\u001b[0m\u001b[0mpopulate_stores\u001b[0m\u001b[0;34m(\u001b[0m\u001b[0mstores\u001b[0m\u001b[0;34m)\u001b[0m\u001b[0;34m\u001b[0m\u001b[0;34m\u001b[0m\u001b[0m\n\u001b[1;32m    223\u001b[0m     \u001b[0;32melse\u001b[0m\u001b[0;34m:\u001b[0m\u001b[0;34m\u001b[0m\u001b[0;34m\u001b[0m\u001b[0m\n\u001b[0;32m--> 224\u001b[0;31m       \u001b[0mans\u001b[0m \u001b[0;34m=\u001b[0m \u001b[0mcall\u001b[0m\u001b[0;34m(\u001b[0m\u001b[0mfun\u001b[0m\u001b[0;34m,\u001b[0m \u001b[0;34m*\u001b[0m\u001b[0margs\u001b[0m\u001b[0;34m)\u001b[0m\u001b[0;34m\u001b[0m\u001b[0;34m\u001b[0m\u001b[0m\n\u001b[0m\u001b[1;32m    225\u001b[0m       \u001b[0mcache\u001b[0m\u001b[0;34m[\u001b[0m\u001b[0mkey\u001b[0m\u001b[0;34m]\u001b[0m \u001b[0;34m=\u001b[0m \u001b[0;34m(\u001b[0m\u001b[0mans\u001b[0m\u001b[0;34m,\u001b[0m \u001b[0mfun\u001b[0m\u001b[0;34m.\u001b[0m\u001b[0mstores\u001b[0m\u001b[0;34m)\u001b[0m\u001b[0;34m\u001b[0m\u001b[0;34m\u001b[0m\u001b[0m\n\u001b[1;32m    226\u001b[0m     \u001b[0;32mreturn\u001b[0m \u001b[0mans\u001b[0m\u001b[0;34m\u001b[0m\u001b[0;34m\u001b[0m\u001b[0m\n",
      "\u001b[0;32m~/storage/.pyenv/versions/3.8.5/envs/385/lib/python3.8/site-packages/jax/interpreters/xla.py\u001b[0m in \u001b[0;36m_xla_callable\u001b[0;34m(fun, device, backend, name, donated_invars, *arg_specs)\u001b[0m\n\u001b[1;32m    595\u001b[0m   \u001b[0;32melse\u001b[0m\u001b[0;34m:\u001b[0m\u001b[0;34m\u001b[0m\u001b[0;34m\u001b[0m\u001b[0m\n\u001b[1;32m    596\u001b[0m     \u001b[0mpvals\u001b[0m\u001b[0;34m:\u001b[0m \u001b[0mSequence\u001b[0m\u001b[0;34m[\u001b[0m\u001b[0mpe\u001b[0m\u001b[0;34m.\u001b[0m\u001b[0mPartialVal\u001b[0m\u001b[0;34m]\u001b[0m \u001b[0;34m=\u001b[0m \u001b[0;34m[\u001b[0m\u001b[0mpe\u001b[0m\u001b[0;34m.\u001b[0m\u001b[0mPartialVal\u001b[0m\u001b[0;34m.\u001b[0m\u001b[0munknown\u001b[0m\u001b[0;34m(\u001b[0m\u001b[0maval\u001b[0m\u001b[0;34m)\u001b[0m \u001b[0;32mfor\u001b[0m \u001b[0maval\u001b[0m \u001b[0;32min\u001b[0m \u001b[0mabstract_args\u001b[0m\u001b[0;34m]\u001b[0m\u001b[0;34m\u001b[0m\u001b[0;34m\u001b[0m\u001b[0m\n\u001b[0;32m--> 597\u001b[0;31m     jaxpr, pvals, consts = pe.trace_to_jaxpr(\n\u001b[0m\u001b[1;32m    598\u001b[0m         fun, pvals, instantiate=False, stage_out=True, bottom=True)\n\u001b[1;32m    599\u001b[0m   \u001b[0mmap\u001b[0m\u001b[0;34m(\u001b[0m\u001b[0mprefetch\u001b[0m\u001b[0;34m,\u001b[0m \u001b[0mit\u001b[0m\u001b[0;34m.\u001b[0m\u001b[0mchain\u001b[0m\u001b[0;34m(\u001b[0m\u001b[0mconsts\u001b[0m\u001b[0;34m,\u001b[0m \u001b[0mjaxpr_literals\u001b[0m\u001b[0;34m(\u001b[0m\u001b[0mjaxpr\u001b[0m\u001b[0;34m)\u001b[0m\u001b[0;34m)\u001b[0m\u001b[0;34m)\u001b[0m\u001b[0;34m\u001b[0m\u001b[0;34m\u001b[0m\u001b[0m\n",
      "\u001b[0;32m~/storage/.pyenv/versions/3.8.5/envs/385/lib/python3.8/site-packages/jax/interpreters/partial_eval.py\u001b[0m in \u001b[0;36mtrace_to_jaxpr\u001b[0;34m(fun, pvals, instantiate, stage_out, bottom, trace_type)\u001b[0m\n\u001b[1;32m    421\u001b[0m   \u001b[0;32mwith\u001b[0m \u001b[0mcore\u001b[0m\u001b[0;34m.\u001b[0m\u001b[0mnew_master\u001b[0m\u001b[0;34m(\u001b[0m\u001b[0mtrace_type\u001b[0m\u001b[0;34m,\u001b[0m \u001b[0mbottom\u001b[0m\u001b[0;34m=\u001b[0m\u001b[0mbottom\u001b[0m\u001b[0;34m)\u001b[0m \u001b[0;32mas\u001b[0m \u001b[0mmaster\u001b[0m\u001b[0;34m:\u001b[0m\u001b[0;34m\u001b[0m\u001b[0;34m\u001b[0m\u001b[0m\n\u001b[1;32m    422\u001b[0m     \u001b[0mfun\u001b[0m \u001b[0;34m=\u001b[0m \u001b[0mtrace_to_subjaxpr\u001b[0m\u001b[0;34m(\u001b[0m\u001b[0mfun\u001b[0m\u001b[0;34m,\u001b[0m \u001b[0mmaster\u001b[0m\u001b[0;34m,\u001b[0m \u001b[0minstantiate\u001b[0m\u001b[0;34m)\u001b[0m\u001b[0;34m\u001b[0m\u001b[0;34m\u001b[0m\u001b[0m\n\u001b[0;32m--> 423\u001b[0;31m     \u001b[0mjaxpr\u001b[0m\u001b[0;34m,\u001b[0m \u001b[0;34m(\u001b[0m\u001b[0mout_pvals\u001b[0m\u001b[0;34m,\u001b[0m \u001b[0mconsts\u001b[0m\u001b[0;34m,\u001b[0m \u001b[0menv\u001b[0m\u001b[0;34m)\u001b[0m \u001b[0;34m=\u001b[0m \u001b[0mfun\u001b[0m\u001b[0;34m.\u001b[0m\u001b[0mcall_wrapped\u001b[0m\u001b[0;34m(\u001b[0m\u001b[0mpvals\u001b[0m\u001b[0;34m)\u001b[0m\u001b[0;34m\u001b[0m\u001b[0;34m\u001b[0m\u001b[0m\n\u001b[0m\u001b[1;32m    424\u001b[0m     \u001b[0;32massert\u001b[0m \u001b[0;32mnot\u001b[0m \u001b[0menv\u001b[0m\u001b[0;34m\u001b[0m\u001b[0;34m\u001b[0m\u001b[0m\n\u001b[1;32m    425\u001b[0m     \u001b[0;32mdel\u001b[0m \u001b[0mmaster\u001b[0m\u001b[0;34m\u001b[0m\u001b[0;34m\u001b[0m\u001b[0m\n",
      "\u001b[0;32m~/storage/.pyenv/versions/3.8.5/envs/385/lib/python3.8/site-packages/jax/linear_util.py\u001b[0m in \u001b[0;36mcall_wrapped\u001b[0;34m(self, *args, **kwargs)\u001b[0m\n\u001b[1;32m    148\u001b[0m     \u001b[0mgen\u001b[0m \u001b[0;34m=\u001b[0m \u001b[0;32mNone\u001b[0m\u001b[0;34m\u001b[0m\u001b[0;34m\u001b[0m\u001b[0m\n\u001b[1;32m    149\u001b[0m \u001b[0;34m\u001b[0m\u001b[0m\n\u001b[0;32m--> 150\u001b[0;31m     \u001b[0mans\u001b[0m \u001b[0;34m=\u001b[0m \u001b[0mself\u001b[0m\u001b[0;34m.\u001b[0m\u001b[0mf\u001b[0m\u001b[0;34m(\u001b[0m\u001b[0;34m*\u001b[0m\u001b[0margs\u001b[0m\u001b[0;34m,\u001b[0m \u001b[0;34m**\u001b[0m\u001b[0mdict\u001b[0m\u001b[0;34m(\u001b[0m\u001b[0mself\u001b[0m\u001b[0;34m.\u001b[0m\u001b[0mparams\u001b[0m\u001b[0;34m,\u001b[0m \u001b[0;34m**\u001b[0m\u001b[0mkwargs\u001b[0m\u001b[0;34m)\u001b[0m\u001b[0;34m)\u001b[0m\u001b[0;34m\u001b[0m\u001b[0;34m\u001b[0m\u001b[0m\n\u001b[0m\u001b[1;32m    151\u001b[0m     \u001b[0;32mdel\u001b[0m \u001b[0margs\u001b[0m\u001b[0;34m\u001b[0m\u001b[0;34m\u001b[0m\u001b[0m\n\u001b[1;32m    152\u001b[0m     \u001b[0;32mwhile\u001b[0m \u001b[0mstack\u001b[0m\u001b[0;34m:\u001b[0m\u001b[0;34m\u001b[0m\u001b[0;34m\u001b[0m\u001b[0m\n",
      "\u001b[0;32m<ipython-input-11-9c9a6838d155>\u001b[0m in \u001b[0;36mpred_fn\u001b[0;34m(slow_params, fast_params, slow_state, fast_state, rng, inputs, is_training, slow_apply, fast_apply)\u001b[0m\n\u001b[1;32m      2\u001b[0m     \u001b[0mrng_slow\u001b[0m\u001b[0;34m,\u001b[0m \u001b[0mrng_fast\u001b[0m \u001b[0;34m=\u001b[0m \u001b[0msplit\u001b[0m\u001b[0;34m(\u001b[0m\u001b[0mrng\u001b[0m\u001b[0;34m)\u001b[0m\u001b[0;34m\u001b[0m\u001b[0;34m\u001b[0m\u001b[0m\n\u001b[1;32m      3\u001b[0m     \u001b[0mslow_outputs\u001b[0m\u001b[0;34m,\u001b[0m \u001b[0m_\u001b[0m \u001b[0;34m=\u001b[0m \u001b[0mslow_apply\u001b[0m\u001b[0;34m(\u001b[0m\u001b[0mslow_params\u001b[0m\u001b[0;34m,\u001b[0m \u001b[0mslow_state\u001b[0m\u001b[0;34m,\u001b[0m \u001b[0mrng_slow\u001b[0m\u001b[0;34m,\u001b[0m \u001b[0minputs\u001b[0m\u001b[0;34m,\u001b[0m \u001b[0mis_training\u001b[0m\u001b[0;34m)\u001b[0m\u001b[0;34m\u001b[0m\u001b[0;34m\u001b[0m\u001b[0m\n\u001b[0;32m----> 4\u001b[0;31m     \u001b[0mfast_outputs\u001b[0m\u001b[0;34m,\u001b[0m \u001b[0m_\u001b[0m \u001b[0;34m=\u001b[0m \u001b[0mfast_apply\u001b[0m\u001b[0;34m(\u001b[0m\u001b[0mfast_params\u001b[0m\u001b[0;34m,\u001b[0m \u001b[0mfast_state\u001b[0m\u001b[0;34m,\u001b[0m \u001b[0mrng_fast\u001b[0m\u001b[0;34m,\u001b[0m \u001b[0;34m*\u001b[0m\u001b[0mslow_outputs\u001b[0m\u001b[0;34m,\u001b[0m \u001b[0mis_training\u001b[0m\u001b[0;34m)\u001b[0m\u001b[0;34m\u001b[0m\u001b[0;34m\u001b[0m\u001b[0m\n\u001b[0m\u001b[1;32m      5\u001b[0m     \u001b[0;32mreturn\u001b[0m \u001b[0mfast_outputs\u001b[0m\u001b[0;34m\u001b[0m\u001b[0;34m\u001b[0m\u001b[0m\n\u001b[1;32m      6\u001b[0m \u001b[0;34m\u001b[0m\u001b[0m\n",
      "\u001b[0;32m~/storage/.pyenv/versions/3.8.5/envs/385/lib/python3.8/site-packages/haiku/_src/transform.py\u001b[0m in \u001b[0;36mapply_fn\u001b[0;34m(params, state, rng, *args, **kwargs)\u001b[0m\n\u001b[1;32m    291\u001b[0m         rng, err_msg=(APPLY_RNG_STATE_ERROR if state else APPLY_RNG_ERROR))\n\u001b[1;32m    292\u001b[0m     \u001b[0;32mwith\u001b[0m \u001b[0mbase\u001b[0m\u001b[0;34m.\u001b[0m\u001b[0mnew_context\u001b[0m\u001b[0;34m(\u001b[0m\u001b[0mparams\u001b[0m\u001b[0;34m=\u001b[0m\u001b[0mparams\u001b[0m\u001b[0;34m,\u001b[0m \u001b[0mstate\u001b[0m\u001b[0;34m=\u001b[0m\u001b[0mstate\u001b[0m\u001b[0;34m,\u001b[0m \u001b[0mrng\u001b[0m\u001b[0;34m=\u001b[0m\u001b[0mrng\u001b[0m\u001b[0;34m)\u001b[0m \u001b[0;32mas\u001b[0m \u001b[0mctx\u001b[0m\u001b[0;34m:\u001b[0m\u001b[0;34m\u001b[0m\u001b[0;34m\u001b[0m\u001b[0m\n\u001b[0;32m--> 293\u001b[0;31m       \u001b[0mout\u001b[0m \u001b[0;34m=\u001b[0m \u001b[0mf\u001b[0m\u001b[0;34m(\u001b[0m\u001b[0;34m*\u001b[0m\u001b[0margs\u001b[0m\u001b[0;34m,\u001b[0m \u001b[0;34m**\u001b[0m\u001b[0mkwargs\u001b[0m\u001b[0;34m)\u001b[0m\u001b[0;34m\u001b[0m\u001b[0;34m\u001b[0m\u001b[0m\n\u001b[0m\u001b[1;32m    294\u001b[0m     \u001b[0;32mreturn\u001b[0m \u001b[0mout\u001b[0m\u001b[0;34m,\u001b[0m \u001b[0mctx\u001b[0m\u001b[0;34m.\u001b[0m\u001b[0mcollect_state\u001b[0m\u001b[0;34m(\u001b[0m\u001b[0;34m)\u001b[0m\u001b[0;34m\u001b[0m\u001b[0;34m\u001b[0m\u001b[0m\n\u001b[1;32m    295\u001b[0m \u001b[0;34m\u001b[0m\u001b[0m\n",
      "\u001b[0;32m/mnt/ialabnas/homes/samenabar/code/continual_learning/meta-learning-representations-jax/src/models/maml_conv.py\u001b[0m in \u001b[0;36m<lambda>\u001b[0;34m(x, is_training)\u001b[0m\n\u001b[1;32m    182\u001b[0m     )\n\u001b[1;32m    183\u001b[0m     MiniImagenetCNNHead_t = hk.transform_with_state(\n\u001b[0;32m--> 184\u001b[0;31m         lambda x, is_training: MiniImagenetCNNHead(\n\u001b[0m\u001b[1;32m    185\u001b[0m             \u001b[0moutput_size\u001b[0m\u001b[0;34m=\u001b[0m\u001b[0moutput_size\u001b[0m\u001b[0;34m,\u001b[0m \u001b[0mhidden_size\u001b[0m\u001b[0;34m=\u001b[0m\u001b[0mhidden_size\u001b[0m\u001b[0;34m,\u001b[0m \u001b[0mspatial_dims\u001b[0m\u001b[0;34m=\u001b[0m\u001b[0mspatial_dims\u001b[0m\u001b[0;34m\u001b[0m\u001b[0;34m\u001b[0m\u001b[0m\n\u001b[1;32m    186\u001b[0m         \u001b[0;34m)\u001b[0m\u001b[0;34m(\u001b[0m\u001b[0;34m\u001b[0m\u001b[0;34m\u001b[0m\u001b[0m\n",
      "\u001b[0;32m~/storage/.pyenv/versions/3.8.5/envs/385/lib/python3.8/site-packages/haiku/_src/module.py\u001b[0m in \u001b[0;36mwrapped\u001b[0;34m(module, *args, **kwargs)\u001b[0m\n\u001b[1;32m    301\u001b[0m         \u001b[0mf\u001b[0m \u001b[0;34m=\u001b[0m \u001b[0mnamed_call\u001b[0m\u001b[0;34m.\u001b[0m\u001b[0mstateful_named_call\u001b[0m\u001b[0;34m(\u001b[0m\u001b[0mf\u001b[0m\u001b[0;34m,\u001b[0m \u001b[0mname\u001b[0m\u001b[0;34m=\u001b[0m\u001b[0mlocal_name\u001b[0m\u001b[0;34m)\u001b[0m\u001b[0;34m\u001b[0m\u001b[0;34m\u001b[0m\u001b[0m\n\u001b[1;32m    302\u001b[0m \u001b[0;34m\u001b[0m\u001b[0m\n\u001b[0;32m--> 303\u001b[0;31m       \u001b[0mout\u001b[0m \u001b[0;34m=\u001b[0m \u001b[0mf\u001b[0m\u001b[0;34m(\u001b[0m\u001b[0;34m*\u001b[0m\u001b[0margs\u001b[0m\u001b[0;34m,\u001b[0m \u001b[0;34m**\u001b[0m\u001b[0mkwargs\u001b[0m\u001b[0;34m)\u001b[0m\u001b[0;34m\u001b[0m\u001b[0;34m\u001b[0m\u001b[0m\n\u001b[0m\u001b[1;32m    304\u001b[0m \u001b[0;34m\u001b[0m\u001b[0m\n\u001b[1;32m    305\u001b[0m       \u001b[0;31m# Notify parent modules about our existence.\u001b[0m\u001b[0;34m\u001b[0m\u001b[0;34m\u001b[0m\u001b[0;34m\u001b[0m\u001b[0m\n",
      "\u001b[0;32m~/storage/.pyenv/versions/3.8.5/envs/385/lib/python3.8/site-packages/haiku/_src/module.py\u001b[0m in \u001b[0;36mrun_interceptors\u001b[0;34m(bound_method, method_name, module, *args, **kwargs)\u001b[0m\n\u001b[1;32m    250\u001b[0m   \u001b[0;34m\"\"\"Runs any method interceptors or the original method.\"\"\"\u001b[0m\u001b[0;34m\u001b[0m\u001b[0;34m\u001b[0m\u001b[0m\n\u001b[1;32m    251\u001b[0m   \u001b[0;32mif\u001b[0m \u001b[0;32mnot\u001b[0m \u001b[0minterceptor_stack\u001b[0m\u001b[0;34m:\u001b[0m\u001b[0;34m\u001b[0m\u001b[0;34m\u001b[0m\u001b[0m\n\u001b[0;32m--> 252\u001b[0;31m     \u001b[0;32mreturn\u001b[0m \u001b[0mbound_method\u001b[0m\u001b[0;34m(\u001b[0m\u001b[0;34m*\u001b[0m\u001b[0margs\u001b[0m\u001b[0;34m,\u001b[0m \u001b[0;34m**\u001b[0m\u001b[0mkwargs\u001b[0m\u001b[0;34m)\u001b[0m\u001b[0;34m\u001b[0m\u001b[0;34m\u001b[0m\u001b[0m\n\u001b[0m\u001b[1;32m    253\u001b[0m \u001b[0;34m\u001b[0m\u001b[0m\n\u001b[1;32m    254\u001b[0m   ctx = MethodContext(module=module,\n",
      "\u001b[0;32m/mnt/ialabnas/homes/samenabar/code/continual_learning/meta-learning-representations-jax/src/models/maml_conv.py\u001b[0m in \u001b[0;36m__call__\u001b[0;34m(self, x, is_training)\u001b[0m\n\u001b[1;32m    154\u001b[0m     \u001b[0;32mdef\u001b[0m \u001b[0m__call__\u001b[0m\u001b[0;34m(\u001b[0m\u001b[0mself\u001b[0m\u001b[0;34m,\u001b[0m \u001b[0mx\u001b[0m\u001b[0;34m,\u001b[0m \u001b[0mis_training\u001b[0m\u001b[0;34m)\u001b[0m\u001b[0;34m:\u001b[0m\u001b[0;34m\u001b[0m\u001b[0;34m\u001b[0m\u001b[0m\n\u001b[1;32m    155\u001b[0m         \u001b[0mx\u001b[0m \u001b[0;34m=\u001b[0m \u001b[0mhk\u001b[0m\u001b[0;34m.\u001b[0m\u001b[0mReshape\u001b[0m\u001b[0;34m(\u001b[0m\u001b[0;34m(\u001b[0m\u001b[0mself\u001b[0m\u001b[0;34m.\u001b[0m\u001b[0mspatial_dims\u001b[0m \u001b[0;34m*\u001b[0m \u001b[0mself\u001b[0m\u001b[0;34m.\u001b[0m\u001b[0mhidden_size\u001b[0m\u001b[0;34m,\u001b[0m\u001b[0;34m)\u001b[0m\u001b[0;34m)\u001b[0m\u001b[0;34m(\u001b[0m\u001b[0mx\u001b[0m\u001b[0;34m)\u001b[0m\u001b[0;34m\u001b[0m\u001b[0;34m\u001b[0m\u001b[0m\n\u001b[0;32m--> 156\u001b[0;31m         x = hk.Linear(\n\u001b[0m\u001b[1;32m    157\u001b[0m             \u001b[0mself\u001b[0m\u001b[0;34m.\u001b[0m\u001b[0moutput_size\u001b[0m\u001b[0;34m,\u001b[0m\u001b[0;34m\u001b[0m\u001b[0;34m\u001b[0m\u001b[0m\n\u001b[1;32m    158\u001b[0m             \u001b[0mwith_bias\u001b[0m\u001b[0;34m=\u001b[0m\u001b[0;32mFalse\u001b[0m\u001b[0;34m,\u001b[0m\u001b[0;34m\u001b[0m\u001b[0;34m\u001b[0m\u001b[0m\n",
      "\u001b[0;32m~/storage/.pyenv/versions/3.8.5/envs/385/lib/python3.8/site-packages/haiku/_src/module.py\u001b[0m in \u001b[0;36mwrapped\u001b[0;34m(module, *args, **kwargs)\u001b[0m\n\u001b[1;32m    301\u001b[0m         \u001b[0mf\u001b[0m \u001b[0;34m=\u001b[0m \u001b[0mnamed_call\u001b[0m\u001b[0;34m.\u001b[0m\u001b[0mstateful_named_call\u001b[0m\u001b[0;34m(\u001b[0m\u001b[0mf\u001b[0m\u001b[0;34m,\u001b[0m \u001b[0mname\u001b[0m\u001b[0;34m=\u001b[0m\u001b[0mlocal_name\u001b[0m\u001b[0;34m)\u001b[0m\u001b[0;34m\u001b[0m\u001b[0;34m\u001b[0m\u001b[0m\n\u001b[1;32m    302\u001b[0m \u001b[0;34m\u001b[0m\u001b[0m\n\u001b[0;32m--> 303\u001b[0;31m       \u001b[0mout\u001b[0m \u001b[0;34m=\u001b[0m \u001b[0mf\u001b[0m\u001b[0;34m(\u001b[0m\u001b[0;34m*\u001b[0m\u001b[0margs\u001b[0m\u001b[0;34m,\u001b[0m \u001b[0;34m**\u001b[0m\u001b[0mkwargs\u001b[0m\u001b[0;34m)\u001b[0m\u001b[0;34m\u001b[0m\u001b[0;34m\u001b[0m\u001b[0m\n\u001b[0m\u001b[1;32m    304\u001b[0m \u001b[0;34m\u001b[0m\u001b[0m\n\u001b[1;32m    305\u001b[0m       \u001b[0;31m# Notify parent modules about our existence.\u001b[0m\u001b[0;34m\u001b[0m\u001b[0;34m\u001b[0m\u001b[0;34m\u001b[0m\u001b[0m\n",
      "\u001b[0;32m~/storage/.pyenv/versions/3.8.5/envs/385/lib/python3.8/site-packages/haiku/_src/module.py\u001b[0m in \u001b[0;36mrun_interceptors\u001b[0;34m(bound_method, method_name, module, *args, **kwargs)\u001b[0m\n\u001b[1;32m    250\u001b[0m   \u001b[0;34m\"\"\"Runs any method interceptors or the original method.\"\"\"\u001b[0m\u001b[0;34m\u001b[0m\u001b[0;34m\u001b[0m\u001b[0m\n\u001b[1;32m    251\u001b[0m   \u001b[0;32mif\u001b[0m \u001b[0;32mnot\u001b[0m \u001b[0minterceptor_stack\u001b[0m\u001b[0;34m:\u001b[0m\u001b[0;34m\u001b[0m\u001b[0;34m\u001b[0m\u001b[0m\n\u001b[0;32m--> 252\u001b[0;31m     \u001b[0;32mreturn\u001b[0m \u001b[0mbound_method\u001b[0m\u001b[0;34m(\u001b[0m\u001b[0;34m*\u001b[0m\u001b[0margs\u001b[0m\u001b[0;34m,\u001b[0m \u001b[0;34m**\u001b[0m\u001b[0mkwargs\u001b[0m\u001b[0;34m)\u001b[0m\u001b[0;34m\u001b[0m\u001b[0;34m\u001b[0m\u001b[0m\n\u001b[0m\u001b[1;32m    253\u001b[0m \u001b[0;34m\u001b[0m\u001b[0m\n\u001b[1;32m    254\u001b[0m   ctx = MethodContext(module=module,\n",
      "\u001b[0;32m~/storage/.pyenv/versions/3.8.5/envs/385/lib/python3.8/site-packages/haiku/_src/basic.py\u001b[0m in \u001b[0;36m__call__\u001b[0;34m(self, inputs)\u001b[0m\n\u001b[1;32m    170\u001b[0m       \u001b[0mstddev\u001b[0m \u001b[0;34m=\u001b[0m \u001b[0;36m1.\u001b[0m \u001b[0;34m/\u001b[0m \u001b[0mnp\u001b[0m\u001b[0;34m.\u001b[0m\u001b[0msqrt\u001b[0m\u001b[0;34m(\u001b[0m\u001b[0mself\u001b[0m\u001b[0;34m.\u001b[0m\u001b[0minput_size\u001b[0m\u001b[0;34m)\u001b[0m\u001b[0;34m\u001b[0m\u001b[0;34m\u001b[0m\u001b[0m\n\u001b[1;32m    171\u001b[0m       \u001b[0mw_init\u001b[0m \u001b[0;34m=\u001b[0m \u001b[0mhk\u001b[0m\u001b[0;34m.\u001b[0m\u001b[0minitializers\u001b[0m\u001b[0;34m.\u001b[0m\u001b[0mTruncatedNormal\u001b[0m\u001b[0;34m(\u001b[0m\u001b[0mstddev\u001b[0m\u001b[0;34m=\u001b[0m\u001b[0mstddev\u001b[0m\u001b[0;34m)\u001b[0m\u001b[0;34m\u001b[0m\u001b[0;34m\u001b[0m\u001b[0m\n\u001b[0;32m--> 172\u001b[0;31m     \u001b[0mw\u001b[0m \u001b[0;34m=\u001b[0m \u001b[0mhk\u001b[0m\u001b[0;34m.\u001b[0m\u001b[0mget_parameter\u001b[0m\u001b[0;34m(\u001b[0m\u001b[0;34m\"w\"\u001b[0m\u001b[0;34m,\u001b[0m \u001b[0;34m[\u001b[0m\u001b[0minput_size\u001b[0m\u001b[0;34m,\u001b[0m \u001b[0moutput_size\u001b[0m\u001b[0;34m]\u001b[0m\u001b[0;34m,\u001b[0m \u001b[0mdtype\u001b[0m\u001b[0;34m,\u001b[0m \u001b[0minit\u001b[0m\u001b[0;34m=\u001b[0m\u001b[0mw_init\u001b[0m\u001b[0;34m)\u001b[0m\u001b[0;34m\u001b[0m\u001b[0;34m\u001b[0m\u001b[0m\n\u001b[0m\u001b[1;32m    173\u001b[0m \u001b[0;34m\u001b[0m\u001b[0m\n\u001b[1;32m    174\u001b[0m     \u001b[0mout\u001b[0m \u001b[0;34m=\u001b[0m \u001b[0mjnp\u001b[0m\u001b[0;34m.\u001b[0m\u001b[0mdot\u001b[0m\u001b[0;34m(\u001b[0m\u001b[0minputs\u001b[0m\u001b[0;34m,\u001b[0m \u001b[0mw\u001b[0m\u001b[0;34m)\u001b[0m\u001b[0;34m\u001b[0m\u001b[0;34m\u001b[0m\u001b[0m\n",
      "\u001b[0;32m~/storage/.pyenv/versions/3.8.5/envs/385/lib/python3.8/site-packages/haiku/_src/base.py\u001b[0m in \u001b[0;36mget_parameter\u001b[0;34m(name, shape, dtype, init)\u001b[0m\n\u001b[1;32m    291\u001b[0m   \u001b[0mparam\u001b[0m \u001b[0;34m=\u001b[0m \u001b[0mrun_custom_getters\u001b[0m\u001b[0;34m(\u001b[0m\u001b[0mcontext\u001b[0m\u001b[0;34m,\u001b[0m \u001b[0mparam\u001b[0m\u001b[0;34m)\u001b[0m\u001b[0;34m\u001b[0m\u001b[0;34m\u001b[0m\u001b[0m\n\u001b[1;32m    292\u001b[0m \u001b[0;34m\u001b[0m\u001b[0m\n\u001b[0;32m--> 293\u001b[0;31m   assert param.shape == tuple(shape), (\n\u001b[0m\u001b[1;32m    294\u001b[0m       \"{!r} with shape {!r} does not match shape={!r} dtype={!r}\".format(\n\u001b[1;32m    295\u001b[0m           fq_name, param.shape, shape, dtype))\n",
      "\u001b[0;31mAssertionError\u001b[0m: 'mini_imagenet_cnn_head/linear/w' with shape (800, 5) does not match shape=[800, 64] dtype=dtype('float32')"
     ]
    }
   ],
   "source": [
    "loss, acc = supervised_std_tester(partial(test_no_stats_pred_fn, slow_params, fast_params, slow_state, fast_state, rng))\n",
    "print(\"Trained loss acc:\")\n",
    "print(loss, acc)"
   ]
  },
  {
   "cell_type": "code",
   "execution_count": 23,
   "metadata": {
    "ExecuteTime": {
     "end_time": "2020-09-02T18:08:10.296748Z",
     "start_time": "2020-09-02T18:08:08.155645Z"
    }
   },
   "outputs": [
    {
     "name": "stdout",
     "output_type": "stream",
     "text": [
      "Untrained loss acc:\n",
      "5.271284 0.01109375\n"
     ]
    }
   ],
   "source": [
    "loss, acc = supervised_std_tester(partial(test_untrained_pred_fn, untrained_slow_params, untrained_fast_params, untrained_slow_state, untrained_fast_state, rng))\n",
    "print(\"Untrained loss acc:\")\n",
    "print(loss, acc)"
   ]
  },
  {
   "cell_type": "code",
   "execution_count": 25,
   "metadata": {
    "ExecuteTime": {
     "end_time": "2020-09-02T18:09:32.671541Z",
     "start_time": "2020-09-02T18:09:32.635547Z"
    }
   },
   "outputs": [
    {
     "data": {
      "text/plain": [
       "(64, 500, 84, 84, 3)"
      ]
     },
     "execution_count": 25,
     "metadata": {},
     "output_type": "execute_result"
    }
   ],
   "source": [
    "fsl_train_images.shape"
   ]
  },
  {
   "cell_type": "code",
   "execution_count": 27,
   "metadata": {
    "ExecuteTime": {
     "end_time": "2020-09-02T18:09:51.439033Z",
     "start_time": "2020-09-02T18:09:50.888814Z"
    }
   },
   "outputs": [],
   "source": [
    "supervised_cosine_tester = SupervisedCosineTester(\n",
    "    rng,\n",
    "    flatten(fsl_train_images, 1),\n",
    "    flatten(fsl_train_labels, 1),\n",
    "    sup_val_images,\n",
    "    sup_val_labels,\n",
    "    512,\n",
    "    preprocess_fn,\n",
    "    device,\n",
    ")"
   ]
  },
  {
   "cell_type": "code",
   "execution_count": 93,
   "metadata": {
    "ExecuteTime": {
     "end_time": "2020-09-02T18:43:50.676621Z",
     "start_time": "2020-09-02T18:43:39.567103Z"
    }
   },
   "outputs": [
    {
     "data": {
      "text/plain": [
       "0.3815625"
      ]
     },
     "execution_count": 93,
     "metadata": {},
     "output_type": "execute_result"
    }
   ],
   "source": [
    "supervised_cosine_tester(partial(test_no_stats_embeddings_fn, slow_params, slow_state, rng))"
   ]
  },
  {
   "cell_type": "code",
   "execution_count": 29,
   "metadata": {
    "ExecuteTime": {
     "end_time": "2020-09-02T18:11:39.133481Z",
     "start_time": "2020-09-02T18:11:26.929839Z"
    }
   },
   "outputs": [
    {
     "data": {
      "text/plain": [
       "0.17953125"
      ]
     },
     "execution_count": 29,
     "metadata": {},
     "output_type": "execute_result"
    }
   ],
   "source": [
    "supervised_cosine_tester(partial(test_untrained_embeddings_fn, untrained_slow_params, untrained_slow_state, rng))"
   ]
  },
  {
   "cell_type": "markdown",
   "metadata": {},
   "source": [
    "# Few shot learning"
   ]
  },
  {
   "cell_type": "code",
   "execution_count": 30,
   "metadata": {
    "ExecuteTime": {
     "end_time": "2020-09-02T18:11:56.407421Z",
     "start_time": "2020-09-02T18:11:56.367006Z"
    }
   },
   "outputs": [],
   "source": [
    "fsllr_tester = FSLLRTester(\n",
    "    val_images,\n",
    "    val_labels,\n",
    "    25,\n",
    "    1000,\n",
    "    5,\n",
    "    5,\n",
    "    15,\n",
    "    preprocess_fn,\n",
    "    device,\n",
    ")"
   ]
  },
  {
   "cell_type": "code",
   "execution_count": 94,
   "metadata": {
    "ExecuteTime": {
     "end_time": "2020-09-02T18:46:01.914662Z",
     "start_time": "2020-09-02T18:44:54.895223Z"
    }
   },
   "outputs": [
    {
     "data": {
      "text/plain": [
       "0.63268"
      ]
     },
     "execution_count": 94,
     "metadata": {},
     "output_type": "execute_result"
    }
   ],
   "source": [
    "fsllr_tester(partial(test_no_stats_embeddings_fn, slow_params, slow_state, rng), rng)"
   ]
  },
  {
   "cell_type": "code",
   "execution_count": 32,
   "metadata": {
    "ExecuteTime": {
     "end_time": "2020-09-02T18:14:47.781053Z",
     "start_time": "2020-09-02T18:13:27.440104Z"
    }
   },
   "outputs": [
    {
     "data": {
      "text/plain": [
       "0.40872"
      ]
     },
     "execution_count": 32,
     "metadata": {},
     "output_type": "execute_result"
    }
   ],
   "source": [
    "fsllr_tester(partial(test_untrained_embeddings_fn, untrained_slow_params, untrained_slow_state, rng), rng)"
   ]
  },
  {
   "cell_type": "markdown",
   "metadata": {},
   "source": [
    "# Continual Learning"
   ]
  },
  {
   "cell_type": "code",
   "execution_count": 33,
   "metadata": {
    "ExecuteTime": {
     "end_time": "2020-09-02T18:14:56.295489Z",
     "start_time": "2020-09-02T18:14:55.396342Z"
    }
   },
   "outputs": [],
   "source": [
    "cl_tester = ContinualLearnerTester(val_images[:, :10], val_labels[:, :10], val_images[:, 10:210], val_labels[:, 10:210], device, preprocess_fn)"
   ]
  },
  {
   "cell_type": "code",
   "execution_count": 96,
   "metadata": {
    "ExecuteTime": {
     "end_time": "2020-09-02T18:46:25.564597Z",
     "start_time": "2020-09-02T18:46:25.390160Z"
    },
    "scrolled": true
   },
   "outputs": [
    {
     "ename": "AssertionError",
     "evalue": "'mini_imagenet_cnn_head/linear/w' with shape (800, 5) does not match shape=[800, 64] dtype=dtype('float32')",
     "output_type": "error",
     "traceback": [
      "\u001b[0;31m---------------------------------------------------------------------------\u001b[0m",
      "\u001b[0;31mAssertionError\u001b[0m                            Traceback (most recent call last)",
      "\u001b[0;32m<ipython-input-96-851e39be4619>\u001b[0m in \u001b[0;36m<module>\u001b[0;34m\u001b[0m\n\u001b[1;32m      1\u001b[0m \u001b[0minner_opt\u001b[0m \u001b[0;34m=\u001b[0m \u001b[0mox\u001b[0m\u001b[0;34m.\u001b[0m\u001b[0msgd\u001b[0m\u001b[0;34m(\u001b[0m\u001b[0;36m1e-2\u001b[0m\u001b[0;34m)\u001b[0m\u001b[0;34m\u001b[0m\u001b[0;34m\u001b[0m\u001b[0m\n\u001b[0;32m----> 2\u001b[0;31m \u001b[0mcl_tester\u001b[0m\u001b[0;34m(\u001b[0m\u001b[0;36m16\u001b[0m\u001b[0;34m,\u001b[0m \u001b[0mslow_params\u001b[0m\u001b[0;34m,\u001b[0m \u001b[0mfast_params\u001b[0m\u001b[0;34m,\u001b[0m \u001b[0mslow_state\u001b[0m\u001b[0;34m,\u001b[0m \u001b[0mfast_state\u001b[0m\u001b[0;34m,\u001b[0m \u001b[0mrng\u001b[0m\u001b[0;34m,\u001b[0m \u001b[0mno_stats_body\u001b[0m\u001b[0;34m.\u001b[0m\u001b[0mapply\u001b[0m\u001b[0;34m,\u001b[0m \u001b[0mno_stats_head\u001b[0m\u001b[0;34m.\u001b[0m\u001b[0mapply\u001b[0m\u001b[0;34m,\u001b[0m \u001b[0mmean_xe_and_acc_dict\u001b[0m\u001b[0;34m,\u001b[0m \u001b[0minner_opt\u001b[0m\u001b[0;34m)\u001b[0m\u001b[0;34m\u001b[0m\u001b[0;34m\u001b[0m\u001b[0m\n\u001b[0m",
      "\u001b[0;32m<ipython-input-8-53bf17d2a22d>\u001b[0m in \u001b[0;36m__call__\u001b[0;34m(self, length, slow_params, fast_params, slow_state, fast_state, rng, slow_apply, fast_apply, loss_fn, opt)\u001b[0m\n\u001b[1;32m     45\u001b[0m         \u001b[0mqry_labels\u001b[0m \u001b[0;34m=\u001b[0m \u001b[0mflatten\u001b[0m\u001b[0;34m(\u001b[0m\u001b[0;34m(\u001b[0m\u001b[0mjax\u001b[0m\u001b[0;34m.\u001b[0m\u001b[0mdevice_put\u001b[0m\u001b[0;34m(\u001b[0m\u001b[0mself\u001b[0m\u001b[0;34m.\u001b[0m\u001b[0mqry_labels\u001b[0m\u001b[0;34m[\u001b[0m\u001b[0;34m:\u001b[0m\u001b[0mlength\u001b[0m\u001b[0;34m]\u001b[0m\u001b[0;34m,\u001b[0m \u001b[0mdevice\u001b[0m\u001b[0;34m)\u001b[0m\u001b[0;34m)\u001b[0m\u001b[0;34m,\u001b[0m \u001b[0;36m1\u001b[0m\u001b[0;34m)\u001b[0m\u001b[0;34m\u001b[0m\u001b[0;34m\u001b[0m\u001b[0m\n\u001b[1;32m     46\u001b[0m \u001b[0;34m\u001b[0m\u001b[0m\n\u001b[0;32m---> 47\u001b[0;31m         adapted_fast_params, _, _, _, info = cl_inner_loop(\n\u001b[0m\u001b[1;32m     48\u001b[0m             \u001b[0mslow_params\u001b[0m\u001b[0;34m,\u001b[0m\u001b[0;34m\u001b[0m\u001b[0;34m\u001b[0m\u001b[0m\n\u001b[1;32m     49\u001b[0m             \u001b[0mfast_params\u001b[0m\u001b[0;34m,\u001b[0m\u001b[0;34m\u001b[0m\u001b[0;34m\u001b[0m\u001b[0m\n",
      "\u001b[0;32m/mnt/ialabnas/homes/samenabar/code/continual_learning/meta-learning-representations-jax/src/lib.py\u001b[0m in \u001b[0;36mcl_inner_loop\u001b[0;34m(slow_params, fast_params, slow_state, fast_state, opt_state, rng, inputs, targets, is_training, slow_apply, fast_apply, loss_fn, opt_update_fn, num_steps, update_state, return_history)\u001b[0m\n\u001b[1;32m    338\u001b[0m     )\n\u001b[1;32m    339\u001b[0m \u001b[0;34m\u001b[0m\u001b[0m\n\u001b[0;32m--> 340\u001b[0;31m     initial_loss, (_, *initial_aux) = _fast_apply_and_loss_fn(\n\u001b[0m\u001b[1;32m    341\u001b[0m         \u001b[0mfast_params\u001b[0m\u001b[0;34m,\u001b[0m \u001b[0mfast_state\u001b[0m\u001b[0;34m,\u001b[0m \u001b[0mrng_fast\u001b[0m\u001b[0;34m,\u001b[0m \u001b[0mslow_outputs\u001b[0m\u001b[0;34m,\u001b[0m \u001b[0mis_training\u001b[0m\u001b[0;34m,\u001b[0m \u001b[0mtargets\u001b[0m\u001b[0;34m,\u001b[0m\u001b[0;34m\u001b[0m\u001b[0;34m\u001b[0m\u001b[0m\n\u001b[1;32m    342\u001b[0m     )\n",
      "\u001b[0;32m/mnt/ialabnas/homes/samenabar/code/continual_learning/meta-learning-representations-jax/src/lib.py\u001b[0m in \u001b[0;36mfast_apply_and_loss_fn\u001b[0;34m(fast_params, fast_state, rng, slow_outputs, is_training, targets, fast_apply, loss_fn)\u001b[0m\n\u001b[1;32m    126\u001b[0m     \u001b[0mloss_fn\u001b[0m\u001b[0;34m,\u001b[0m\u001b[0;34m\u001b[0m\u001b[0;34m\u001b[0m\u001b[0m\n\u001b[1;32m    127\u001b[0m ):\n\u001b[0;32m--> 128\u001b[0;31m     outputs, state = fast_apply(\n\u001b[0m\u001b[1;32m    129\u001b[0m         \u001b[0mfast_params\u001b[0m\u001b[0;34m,\u001b[0m \u001b[0mfast_state\u001b[0m\u001b[0;34m,\u001b[0m \u001b[0mrng\u001b[0m\u001b[0;34m,\u001b[0m \u001b[0;34m*\u001b[0m\u001b[0mslow_outputs\u001b[0m\u001b[0;34m,\u001b[0m \u001b[0mis_training\u001b[0m\u001b[0;34m\u001b[0m\u001b[0;34m\u001b[0m\u001b[0m\n\u001b[1;32m    130\u001b[0m     )\n",
      "\u001b[0;32m~/storage/.pyenv/versions/3.8.5/envs/385/lib/python3.8/site-packages/haiku/_src/transform.py\u001b[0m in \u001b[0;36mapply_fn\u001b[0;34m(params, state, rng, *args, **kwargs)\u001b[0m\n\u001b[1;32m    291\u001b[0m         rng, err_msg=(APPLY_RNG_STATE_ERROR if state else APPLY_RNG_ERROR))\n\u001b[1;32m    292\u001b[0m     \u001b[0;32mwith\u001b[0m \u001b[0mbase\u001b[0m\u001b[0;34m.\u001b[0m\u001b[0mnew_context\u001b[0m\u001b[0;34m(\u001b[0m\u001b[0mparams\u001b[0m\u001b[0;34m=\u001b[0m\u001b[0mparams\u001b[0m\u001b[0;34m,\u001b[0m \u001b[0mstate\u001b[0m\u001b[0;34m=\u001b[0m\u001b[0mstate\u001b[0m\u001b[0;34m,\u001b[0m \u001b[0mrng\u001b[0m\u001b[0;34m=\u001b[0m\u001b[0mrng\u001b[0m\u001b[0;34m)\u001b[0m \u001b[0;32mas\u001b[0m \u001b[0mctx\u001b[0m\u001b[0;34m:\u001b[0m\u001b[0;34m\u001b[0m\u001b[0;34m\u001b[0m\u001b[0m\n\u001b[0;32m--> 293\u001b[0;31m       \u001b[0mout\u001b[0m \u001b[0;34m=\u001b[0m \u001b[0mf\u001b[0m\u001b[0;34m(\u001b[0m\u001b[0;34m*\u001b[0m\u001b[0margs\u001b[0m\u001b[0;34m,\u001b[0m \u001b[0;34m**\u001b[0m\u001b[0mkwargs\u001b[0m\u001b[0;34m)\u001b[0m\u001b[0;34m\u001b[0m\u001b[0;34m\u001b[0m\u001b[0m\n\u001b[0m\u001b[1;32m    294\u001b[0m     \u001b[0;32mreturn\u001b[0m \u001b[0mout\u001b[0m\u001b[0;34m,\u001b[0m \u001b[0mctx\u001b[0m\u001b[0;34m.\u001b[0m\u001b[0mcollect_state\u001b[0m\u001b[0;34m(\u001b[0m\u001b[0;34m)\u001b[0m\u001b[0;34m\u001b[0m\u001b[0;34m\u001b[0m\u001b[0m\n\u001b[1;32m    295\u001b[0m \u001b[0;34m\u001b[0m\u001b[0m\n",
      "\u001b[0;32m/mnt/ialabnas/homes/samenabar/code/continual_learning/meta-learning-representations-jax/src/models/maml_conv.py\u001b[0m in \u001b[0;36m<lambda>\u001b[0;34m(x, is_training)\u001b[0m\n\u001b[1;32m    182\u001b[0m     )\n\u001b[1;32m    183\u001b[0m     MiniImagenetCNNHead_t = hk.transform_with_state(\n\u001b[0;32m--> 184\u001b[0;31m         lambda x, is_training: MiniImagenetCNNHead(\n\u001b[0m\u001b[1;32m    185\u001b[0m             \u001b[0moutput_size\u001b[0m\u001b[0;34m=\u001b[0m\u001b[0moutput_size\u001b[0m\u001b[0;34m,\u001b[0m \u001b[0mhidden_size\u001b[0m\u001b[0;34m=\u001b[0m\u001b[0mhidden_size\u001b[0m\u001b[0;34m,\u001b[0m \u001b[0mspatial_dims\u001b[0m\u001b[0;34m=\u001b[0m\u001b[0mspatial_dims\u001b[0m\u001b[0;34m\u001b[0m\u001b[0;34m\u001b[0m\u001b[0m\n\u001b[1;32m    186\u001b[0m         \u001b[0;34m)\u001b[0m\u001b[0;34m(\u001b[0m\u001b[0;34m\u001b[0m\u001b[0;34m\u001b[0m\u001b[0m\n",
      "\u001b[0;32m~/storage/.pyenv/versions/3.8.5/envs/385/lib/python3.8/site-packages/haiku/_src/module.py\u001b[0m in \u001b[0;36mwrapped\u001b[0;34m(module, *args, **kwargs)\u001b[0m\n\u001b[1;32m    301\u001b[0m         \u001b[0mf\u001b[0m \u001b[0;34m=\u001b[0m \u001b[0mnamed_call\u001b[0m\u001b[0;34m.\u001b[0m\u001b[0mstateful_named_call\u001b[0m\u001b[0;34m(\u001b[0m\u001b[0mf\u001b[0m\u001b[0;34m,\u001b[0m \u001b[0mname\u001b[0m\u001b[0;34m=\u001b[0m\u001b[0mlocal_name\u001b[0m\u001b[0;34m)\u001b[0m\u001b[0;34m\u001b[0m\u001b[0;34m\u001b[0m\u001b[0m\n\u001b[1;32m    302\u001b[0m \u001b[0;34m\u001b[0m\u001b[0m\n\u001b[0;32m--> 303\u001b[0;31m       \u001b[0mout\u001b[0m \u001b[0;34m=\u001b[0m \u001b[0mf\u001b[0m\u001b[0;34m(\u001b[0m\u001b[0;34m*\u001b[0m\u001b[0margs\u001b[0m\u001b[0;34m,\u001b[0m \u001b[0;34m**\u001b[0m\u001b[0mkwargs\u001b[0m\u001b[0;34m)\u001b[0m\u001b[0;34m\u001b[0m\u001b[0;34m\u001b[0m\u001b[0m\n\u001b[0m\u001b[1;32m    304\u001b[0m \u001b[0;34m\u001b[0m\u001b[0m\n\u001b[1;32m    305\u001b[0m       \u001b[0;31m# Notify parent modules about our existence.\u001b[0m\u001b[0;34m\u001b[0m\u001b[0;34m\u001b[0m\u001b[0;34m\u001b[0m\u001b[0m\n",
      "\u001b[0;32m~/storage/.pyenv/versions/3.8.5/envs/385/lib/python3.8/site-packages/haiku/_src/module.py\u001b[0m in \u001b[0;36mrun_interceptors\u001b[0;34m(bound_method, method_name, module, *args, **kwargs)\u001b[0m\n\u001b[1;32m    250\u001b[0m   \u001b[0;34m\"\"\"Runs any method interceptors or the original method.\"\"\"\u001b[0m\u001b[0;34m\u001b[0m\u001b[0;34m\u001b[0m\u001b[0m\n\u001b[1;32m    251\u001b[0m   \u001b[0;32mif\u001b[0m \u001b[0;32mnot\u001b[0m \u001b[0minterceptor_stack\u001b[0m\u001b[0;34m:\u001b[0m\u001b[0;34m\u001b[0m\u001b[0;34m\u001b[0m\u001b[0m\n\u001b[0;32m--> 252\u001b[0;31m     \u001b[0;32mreturn\u001b[0m \u001b[0mbound_method\u001b[0m\u001b[0;34m(\u001b[0m\u001b[0;34m*\u001b[0m\u001b[0margs\u001b[0m\u001b[0;34m,\u001b[0m \u001b[0;34m**\u001b[0m\u001b[0mkwargs\u001b[0m\u001b[0;34m)\u001b[0m\u001b[0;34m\u001b[0m\u001b[0;34m\u001b[0m\u001b[0m\n\u001b[0m\u001b[1;32m    253\u001b[0m \u001b[0;34m\u001b[0m\u001b[0m\n\u001b[1;32m    254\u001b[0m   ctx = MethodContext(module=module,\n",
      "\u001b[0;32m/mnt/ialabnas/homes/samenabar/code/continual_learning/meta-learning-representations-jax/src/models/maml_conv.py\u001b[0m in \u001b[0;36m__call__\u001b[0;34m(self, x, is_training)\u001b[0m\n\u001b[1;32m    154\u001b[0m     \u001b[0;32mdef\u001b[0m \u001b[0m__call__\u001b[0m\u001b[0;34m(\u001b[0m\u001b[0mself\u001b[0m\u001b[0;34m,\u001b[0m \u001b[0mx\u001b[0m\u001b[0;34m,\u001b[0m \u001b[0mis_training\u001b[0m\u001b[0;34m)\u001b[0m\u001b[0;34m:\u001b[0m\u001b[0;34m\u001b[0m\u001b[0;34m\u001b[0m\u001b[0m\n\u001b[1;32m    155\u001b[0m         \u001b[0mx\u001b[0m \u001b[0;34m=\u001b[0m \u001b[0mhk\u001b[0m\u001b[0;34m.\u001b[0m\u001b[0mReshape\u001b[0m\u001b[0;34m(\u001b[0m\u001b[0;34m(\u001b[0m\u001b[0mself\u001b[0m\u001b[0;34m.\u001b[0m\u001b[0mspatial_dims\u001b[0m \u001b[0;34m*\u001b[0m \u001b[0mself\u001b[0m\u001b[0;34m.\u001b[0m\u001b[0mhidden_size\u001b[0m\u001b[0;34m,\u001b[0m\u001b[0;34m)\u001b[0m\u001b[0;34m)\u001b[0m\u001b[0;34m(\u001b[0m\u001b[0mx\u001b[0m\u001b[0;34m)\u001b[0m\u001b[0;34m\u001b[0m\u001b[0;34m\u001b[0m\u001b[0m\n\u001b[0;32m--> 156\u001b[0;31m         x = hk.Linear(\n\u001b[0m\u001b[1;32m    157\u001b[0m             \u001b[0mself\u001b[0m\u001b[0;34m.\u001b[0m\u001b[0moutput_size\u001b[0m\u001b[0;34m,\u001b[0m\u001b[0;34m\u001b[0m\u001b[0;34m\u001b[0m\u001b[0m\n\u001b[1;32m    158\u001b[0m             \u001b[0mwith_bias\u001b[0m\u001b[0;34m=\u001b[0m\u001b[0;32mFalse\u001b[0m\u001b[0;34m,\u001b[0m\u001b[0;34m\u001b[0m\u001b[0;34m\u001b[0m\u001b[0m\n",
      "\u001b[0;32m~/storage/.pyenv/versions/3.8.5/envs/385/lib/python3.8/site-packages/haiku/_src/module.py\u001b[0m in \u001b[0;36mwrapped\u001b[0;34m(module, *args, **kwargs)\u001b[0m\n\u001b[1;32m    301\u001b[0m         \u001b[0mf\u001b[0m \u001b[0;34m=\u001b[0m \u001b[0mnamed_call\u001b[0m\u001b[0;34m.\u001b[0m\u001b[0mstateful_named_call\u001b[0m\u001b[0;34m(\u001b[0m\u001b[0mf\u001b[0m\u001b[0;34m,\u001b[0m \u001b[0mname\u001b[0m\u001b[0;34m=\u001b[0m\u001b[0mlocal_name\u001b[0m\u001b[0;34m)\u001b[0m\u001b[0;34m\u001b[0m\u001b[0;34m\u001b[0m\u001b[0m\n\u001b[1;32m    302\u001b[0m \u001b[0;34m\u001b[0m\u001b[0m\n\u001b[0;32m--> 303\u001b[0;31m       \u001b[0mout\u001b[0m \u001b[0;34m=\u001b[0m \u001b[0mf\u001b[0m\u001b[0;34m(\u001b[0m\u001b[0;34m*\u001b[0m\u001b[0margs\u001b[0m\u001b[0;34m,\u001b[0m \u001b[0;34m**\u001b[0m\u001b[0mkwargs\u001b[0m\u001b[0;34m)\u001b[0m\u001b[0;34m\u001b[0m\u001b[0;34m\u001b[0m\u001b[0m\n\u001b[0m\u001b[1;32m    304\u001b[0m \u001b[0;34m\u001b[0m\u001b[0m\n\u001b[1;32m    305\u001b[0m       \u001b[0;31m# Notify parent modules about our existence.\u001b[0m\u001b[0;34m\u001b[0m\u001b[0;34m\u001b[0m\u001b[0;34m\u001b[0m\u001b[0m\n",
      "\u001b[0;32m~/storage/.pyenv/versions/3.8.5/envs/385/lib/python3.8/site-packages/haiku/_src/module.py\u001b[0m in \u001b[0;36mrun_interceptors\u001b[0;34m(bound_method, method_name, module, *args, **kwargs)\u001b[0m\n\u001b[1;32m    250\u001b[0m   \u001b[0;34m\"\"\"Runs any method interceptors or the original method.\"\"\"\u001b[0m\u001b[0;34m\u001b[0m\u001b[0;34m\u001b[0m\u001b[0m\n\u001b[1;32m    251\u001b[0m   \u001b[0;32mif\u001b[0m \u001b[0;32mnot\u001b[0m \u001b[0minterceptor_stack\u001b[0m\u001b[0;34m:\u001b[0m\u001b[0;34m\u001b[0m\u001b[0;34m\u001b[0m\u001b[0m\n\u001b[0;32m--> 252\u001b[0;31m     \u001b[0;32mreturn\u001b[0m \u001b[0mbound_method\u001b[0m\u001b[0;34m(\u001b[0m\u001b[0;34m*\u001b[0m\u001b[0margs\u001b[0m\u001b[0;34m,\u001b[0m \u001b[0;34m**\u001b[0m\u001b[0mkwargs\u001b[0m\u001b[0;34m)\u001b[0m\u001b[0;34m\u001b[0m\u001b[0;34m\u001b[0m\u001b[0m\n\u001b[0m\u001b[1;32m    253\u001b[0m \u001b[0;34m\u001b[0m\u001b[0m\n\u001b[1;32m    254\u001b[0m   ctx = MethodContext(module=module,\n",
      "\u001b[0;32m~/storage/.pyenv/versions/3.8.5/envs/385/lib/python3.8/site-packages/haiku/_src/basic.py\u001b[0m in \u001b[0;36m__call__\u001b[0;34m(self, inputs)\u001b[0m\n\u001b[1;32m    170\u001b[0m       \u001b[0mstddev\u001b[0m \u001b[0;34m=\u001b[0m \u001b[0;36m1.\u001b[0m \u001b[0;34m/\u001b[0m \u001b[0mnp\u001b[0m\u001b[0;34m.\u001b[0m\u001b[0msqrt\u001b[0m\u001b[0;34m(\u001b[0m\u001b[0mself\u001b[0m\u001b[0;34m.\u001b[0m\u001b[0minput_size\u001b[0m\u001b[0;34m)\u001b[0m\u001b[0;34m\u001b[0m\u001b[0;34m\u001b[0m\u001b[0m\n\u001b[1;32m    171\u001b[0m       \u001b[0mw_init\u001b[0m \u001b[0;34m=\u001b[0m \u001b[0mhk\u001b[0m\u001b[0;34m.\u001b[0m\u001b[0minitializers\u001b[0m\u001b[0;34m.\u001b[0m\u001b[0mTruncatedNormal\u001b[0m\u001b[0;34m(\u001b[0m\u001b[0mstddev\u001b[0m\u001b[0;34m=\u001b[0m\u001b[0mstddev\u001b[0m\u001b[0;34m)\u001b[0m\u001b[0;34m\u001b[0m\u001b[0;34m\u001b[0m\u001b[0m\n\u001b[0;32m--> 172\u001b[0;31m     \u001b[0mw\u001b[0m \u001b[0;34m=\u001b[0m \u001b[0mhk\u001b[0m\u001b[0;34m.\u001b[0m\u001b[0mget_parameter\u001b[0m\u001b[0;34m(\u001b[0m\u001b[0;34m\"w\"\u001b[0m\u001b[0;34m,\u001b[0m \u001b[0;34m[\u001b[0m\u001b[0minput_size\u001b[0m\u001b[0;34m,\u001b[0m \u001b[0moutput_size\u001b[0m\u001b[0;34m]\u001b[0m\u001b[0;34m,\u001b[0m \u001b[0mdtype\u001b[0m\u001b[0;34m,\u001b[0m \u001b[0minit\u001b[0m\u001b[0;34m=\u001b[0m\u001b[0mw_init\u001b[0m\u001b[0;34m)\u001b[0m\u001b[0;34m\u001b[0m\u001b[0;34m\u001b[0m\u001b[0m\n\u001b[0m\u001b[1;32m    173\u001b[0m \u001b[0;34m\u001b[0m\u001b[0m\n\u001b[1;32m    174\u001b[0m     \u001b[0mout\u001b[0m \u001b[0;34m=\u001b[0m \u001b[0mjnp\u001b[0m\u001b[0;34m.\u001b[0m\u001b[0mdot\u001b[0m\u001b[0;34m(\u001b[0m\u001b[0minputs\u001b[0m\u001b[0;34m,\u001b[0m \u001b[0mw\u001b[0m\u001b[0;34m)\u001b[0m\u001b[0;34m\u001b[0m\u001b[0;34m\u001b[0m\u001b[0m\n",
      "\u001b[0;32m~/storage/.pyenv/versions/3.8.5/envs/385/lib/python3.8/site-packages/haiku/_src/base.py\u001b[0m in \u001b[0;36mget_parameter\u001b[0;34m(name, shape, dtype, init)\u001b[0m\n\u001b[1;32m    291\u001b[0m   \u001b[0mparam\u001b[0m \u001b[0;34m=\u001b[0m \u001b[0mrun_custom_getters\u001b[0m\u001b[0;34m(\u001b[0m\u001b[0mcontext\u001b[0m\u001b[0;34m,\u001b[0m \u001b[0mparam\u001b[0m\u001b[0;34m)\u001b[0m\u001b[0;34m\u001b[0m\u001b[0;34m\u001b[0m\u001b[0m\n\u001b[1;32m    292\u001b[0m \u001b[0;34m\u001b[0m\u001b[0m\n\u001b[0;32m--> 293\u001b[0;31m   assert param.shape == tuple(shape), (\n\u001b[0m\u001b[1;32m    294\u001b[0m       \"{!r} with shape {!r} does not match shape={!r} dtype={!r}\".format(\n\u001b[1;32m    295\u001b[0m           fq_name, param.shape, shape, dtype))\n",
      "\u001b[0;31mAssertionError\u001b[0m: 'mini_imagenet_cnn_head/linear/w' with shape (800, 5) does not match shape=[800, 64] dtype=dtype('float32')"
     ]
    }
   ],
   "source": [
    "inner_opt = ox.sgd(1e-2)\n",
    "cl_tester(16, slow_params, fast_params, slow_state, fast_state, rng, no_stats_body.apply, no_stats_head.apply, mean_xe_and_acc_dict, inner_opt)"
   ]
  },
  {
   "cell_type": "code",
   "execution_count": 104,
   "metadata": {
    "ExecuteTime": {
     "end_time": "2020-09-02T18:48:17.723605Z",
     "start_time": "2020-09-02T18:48:13.454915Z"
    }
   },
   "outputs": [
    {
     "data": {
      "text/plain": [
       "(DeviceArray(0.70625, dtype=float32),\n",
       " DeviceArray(0.37031248, dtype=float32),\n",
       " DeviceArray(1., dtype=float32),\n",
       " DeviceArray(0.386875, dtype=float32))"
      ]
     },
     "execution_count": 104,
     "metadata": {},
     "output_type": "execute_result"
    }
   ],
   "source": [
    "inner_opt = ox.sgd(1e-5)\n",
    "cl_tester(16, slow_params, jax.tree_map(lambda x: jnp.zeros((800, 64)), fast_params), slow_state, fast_state, rng, no_stats_body.apply, no_stats_head.apply, mean_xe_and_acc_dict, inner_opt)"
   ]
  },
  {
   "cell_type": "code",
   "execution_count": 54,
   "metadata": {
    "ExecuteTime": {
     "end_time": "2020-09-02T18:19:42.628429Z",
     "start_time": "2020-09-02T18:19:38.137135Z"
    }
   },
   "outputs": [
    {
     "data": {
      "text/plain": [
       "(DeviceArray(0.0875, dtype=float32),\n",
       " DeviceArray(0.07593749, dtype=float32),\n",
       " DeviceArray(1., dtype=float32),\n",
       " DeviceArray(0.2265625, dtype=float32))"
      ]
     },
     "execution_count": 54,
     "metadata": {},
     "output_type": "execute_result"
    }
   ],
   "source": [
    "inner_opt = ox.sgd(1e-3)\n",
    "cl_tester(16, untrained_slow_params, untrained_fast_params, untrained_slow_state, untrained_fast_state, rng, no_stats_body.apply, no_stats_head.apply, mean_xe_and_acc_dict, inner_opt)"
   ]
  },
  {
   "cell_type": "code",
   "execution_count": 63,
   "metadata": {
    "ExecuteTime": {
     "end_time": "2020-09-02T18:21:01.788130Z",
     "start_time": "2020-09-02T18:20:56.971360Z"
    }
   },
   "outputs": [
    {
     "data": {
      "text/plain": [
       "(DeviceArray(0.39375, dtype=float32),\n",
       " DeviceArray(0.1190625, dtype=float32),\n",
       " DeviceArray(1., dtype=float32),\n",
       " DeviceArray(0.2265625, dtype=float32))"
      ]
     },
     "execution_count": 63,
     "metadata": {},
     "output_type": "execute_result"
    }
   ],
   "source": [
    "inner_opt = ox.sgd(1e-7)\n",
    "cl_tester(16, untrained_slow_params, jax.tree_map(lambda x: jnp.zeros(x.shape), fast_params), untrained_slow_state, untrained_fast_state, rng, no_stats_body.apply, no_stats_head.apply, mean_xe_and_acc_dict, inner_opt)"
   ]
  },
  {
   "cell_type": "markdown",
   "metadata": {},
   "source": [
    "# Transfer learning"
   ]
  },
  {
   "cell_type": "code",
   "execution_count": 65,
   "metadata": {
    "ExecuteTime": {
     "end_time": "2020-09-02T18:21:29.842271Z",
     "start_time": "2020-09-02T18:21:29.653387Z"
    }
   },
   "outputs": [],
   "source": [
    "transfer_cosine_tester = SupervisedCosineTester(\n",
    "    rng,\n",
    "    flatten(transfer_spt_images, 1),\n",
    "    flatten(transfer_spt_labels, 1),\n",
    "    flatten(transfer_qry_images, 1),\n",
    "    flatten(transfer_qry_labels, 1),\n",
    "    512,\n",
    "    preprocess_fn,\n",
    "    device,\n",
    ")"
   ]
  },
  {
   "cell_type": "code",
   "execution_count": 105,
   "metadata": {
    "ExecuteTime": {
     "end_time": "2020-09-02T18:48:46.766140Z",
     "start_time": "2020-09-02T18:48:44.459000Z"
    }
   },
   "outputs": [
    {
     "data": {
      "text/plain": [
       "0.47625"
      ]
     },
     "execution_count": 105,
     "metadata": {},
     "output_type": "execute_result"
    }
   ],
   "source": [
    "transfer_cosine_tester(partial(test_no_stats_embeddings_fn, slow_params, slow_state, rng))"
   ]
  },
  {
   "cell_type": "code",
   "execution_count": 67,
   "metadata": {
    "ExecuteTime": {
     "end_time": "2020-09-02T18:21:49.640398Z",
     "start_time": "2020-09-02T18:21:46.924888Z"
    }
   },
   "outputs": [
    {
     "data": {
      "text/plain": [
       "0.319375"
      ]
     },
     "execution_count": 67,
     "metadata": {},
     "output_type": "execute_result"
    }
   ],
   "source": [
    "transfer_cosine_tester(partial(test_untrained_embeddings_fn, untrained_slow_params, untrained_slow_state, rng))"
   ]
  },
  {
   "cell_type": "code",
   "execution_count": null,
   "metadata": {},
   "outputs": [],
   "source": []
  }
 ],
 "metadata": {
  "kernelspec": {
   "display_name": "385",
   "language": "python",
   "name": "385"
  },
  "language_info": {
   "codemirror_mode": {
    "name": "ipython",
    "version": 3
   },
   "file_extension": ".py",
   "mimetype": "text/x-python",
   "name": "python",
   "nbconvert_exporter": "python",
   "pygments_lexer": "ipython3",
   "version": "3.8.5"
  },
  "toc": {
   "base_numbering": 1,
   "nav_menu": {},
   "number_sections": true,
   "sideBar": true,
   "skip_h1_title": false,
   "title_cell": "Table of Contents",
   "title_sidebar": "Contents",
   "toc_cell": false,
   "toc_position": {},
   "toc_section_display": true,
   "toc_window_display": false
  }
 },
 "nbformat": 4,
 "nbformat_minor": 2
}
